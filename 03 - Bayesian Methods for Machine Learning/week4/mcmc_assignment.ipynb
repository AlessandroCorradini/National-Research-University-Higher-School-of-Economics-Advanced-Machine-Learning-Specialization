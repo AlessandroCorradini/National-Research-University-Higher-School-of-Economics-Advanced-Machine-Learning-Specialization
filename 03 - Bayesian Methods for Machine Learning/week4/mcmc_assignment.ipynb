{
 "cells": [
  {
   "cell_type": "markdown",
   "metadata": {
    "colab_type": "text",
    "id": "LiKPE9RxUU8Z"
   },
   "source": [
    "# First things first\n",
    "Click **File -> Save a copy in Drive** and click **Open in new tab** in the pop-up window to save your progress in Google Drive."
   ]
  },
  {
   "cell_type": "markdown",
   "metadata": {
    "colab_type": "text",
    "id": "B1Ve3fpiUU8f"
   },
   "source": [
    "# Using PyMC3"
   ]
  },
  {
   "cell_type": "markdown",
   "metadata": {
    "colab_type": "text",
    "id": "htwL_Gm2UU8i"
   },
   "source": [
    "In this assignment, we will learn how to use a library for probabilistic programming and inference called <a href=\"http://docs.pymc.io/\">PyMC3</a>."
   ]
  },
  {
   "cell_type": "markdown",
   "metadata": {
    "colab_type": "text",
    "id": "-kJ_2E0tUU8n"
   },
   "source": [
    "### Setup\n",
    "Loading auxiliary files and importing the necessary libraries."
   ]
  },
  {
   "cell_type": "code",
   "execution_count": 1,
   "metadata": {
    "colab": {
     "base_uri": "https://localhost:8080/",
     "height": 256
    },
    "colab_type": "code",
    "id": "o3w1nMhtUU8p",
    "outputId": "54635c55-f3cf-4e24-ff7a-69b240a6c3c6"
   },
   "outputs": [
    {
     "name": "stdout",
     "output_type": "stream",
     "text": [
      "Downloading Colab files\n",
      "shred: setup_google_colab.py: failed to open for writing: No such file or directory\n",
      "--2019-03-17 16:46:25--  https://raw.githubusercontent.com/hse-aml/bayesian-methods-for-ml/master/setup_google_colab.py\n",
      "Resolving raw.githubusercontent.com (raw.githubusercontent.com)... 151.101.0.133, 151.101.64.133, 151.101.128.133, ...\n",
      "Connecting to raw.githubusercontent.com (raw.githubusercontent.com)|151.101.0.133|:443... connected.\n",
      "HTTP request sent, awaiting response... 200 OK\n",
      "Length: 1308 (1.3K) [text/plain]\n",
      "Saving to: ‘setup_google_colab.py’\n",
      "\n",
      "setup_google_colab. 100%[===================>]   1.28K  --.-KB/s    in 0s      \n",
      "\n",
      "2019-03-17 16:46:31 (171 MB/s) - ‘setup_google_colab.py’ saved [1308/1308]\n",
      "\n"
     ]
    }
   ],
   "source": [
    "try:\n",
    "    import google.colab\n",
    "    IN_COLAB = True\n",
    "except:\n",
    "    IN_COLAB = False\n",
    "if IN_COLAB:\n",
    "    print(\"Downloading Colab files\")\n",
    "    ! shred -u setup_google_colab.py\n",
    "    ! wget https://raw.githubusercontent.com/hse-aml/bayesian-methods-for-ml/master/setup_google_colab.py -O setup_google_colab.py\n",
    "    import setup_google_colab\n",
    "    setup_google_colab.load_data_week4()"
   ]
  },
  {
   "cell_type": "code",
   "execution_count": 2,
   "metadata": {
    "colab": {
     "base_uri": "https://localhost:8080/",
     "height": 35
    },
    "colab_type": "code",
    "id": "ks4hSuYsUU8w",
    "outputId": "954e3920-9381-4725-f079-ef5069c457fc"
   },
   "outputs": [
    {
     "name": "stdout",
     "output_type": "stream",
     "text": [
      "Populating the interactive namespace from numpy and matplotlib\n"
     ]
    }
   ],
   "source": [
    "import numpy as np\n",
    "import pandas as pd\n",
    "import numpy.random as rnd\n",
    "import seaborn as sns\n",
    "from matplotlib import animation\n",
    "import pymc3 as pm\n",
    "from w4_grader import MCMCGrader\n",
    "%pylab inline"
   ]
  },
  {
   "cell_type": "markdown",
   "metadata": {
    "colab_type": "text",
    "id": "w14YIUlLUU83"
   },
   "source": [
    "### Grading\n",
    "We will create a grader instance below and use it to collect your answers. Note that these outputs will be stored locally inside grader and will be uploaded to the platform only after running submitting function in the last part of this assignment. If you want to make a partial submission, you can run that cell anytime you want."
   ]
  },
  {
   "cell_type": "code",
   "execution_count": 0,
   "metadata": {
    "colab": {},
    "colab_type": "code",
    "id": "NUcFQCb0UU85"
   },
   "outputs": [],
   "source": [
    "grader = MCMCGrader()"
   ]
  },
  {
   "cell_type": "markdown",
   "metadata": {
    "colab_type": "text",
    "id": "cNOZfV9fUU8_"
   },
   "source": [
    "## Task 1. Alice and Bob\n",
    "\n",
    "Alice and Bob are trading on the market. Both of them are selling the Thing and want to get as high profit as possible.\n",
    "Every hour they check out with each other's prices and adjust their prices to compete on the market. Although they have different strategies for price setting.\n",
    "\n",
    "**Alice**: takes Bob's price during the **previous** hour, multiply by 0.6, add \\\\$90, add Gaussian noise from $N(0, 20^2)$.\n",
    "\n",
    "**Bob**: takes Alice's price during the **current** hour, multiply by 1.2 and subtract \\\\$20, add Gaussian noise from $N(0, 10^2)$.\n",
    "\n",
    "The problem is to find the joint distribution of Alice and Bob's prices after many hours of such an experiment."
   ]
  },
  {
   "cell_type": "markdown",
   "metadata": {
    "colab_type": "text",
    "id": "SL4UtuzNUU9C"
   },
   "source": [
    "### Task 1.1\n",
    "\n",
    "Implement the `run_simulation` function according to the description above. "
   ]
  },
  {
   "cell_type": "code",
   "execution_count": 0,
   "metadata": {
    "colab": {},
    "colab_type": "code",
    "id": "79O6vFa1UU9E"
   },
   "outputs": [],
   "source": [
    "def run_simulation(alice_start_price=300.0, bob_start_price=300.0, seed=42, num_hours=10000, burnin=1000):\n",
    "    \"\"\"Simulates an evolution of prices set by Bob and Alice.\n",
    "    \n",
    "    The function should simulate Alice and Bob behavior for `burnin' hours, then ignore the obtained\n",
    "    simulation results, and then simulate it for `num_hours' more.\n",
    "    The initial burnin (also sometimes called warmup) is done to make sure that the distribution stabilized.\n",
    "    \n",
    "    Please don't change the signature of the function.\n",
    "    \n",
    "    Returns:\n",
    "        two lists, with Alice and with Bob prices. Both lists should be of length num_hours.\n",
    "    \"\"\"\n",
    "    np.random.seed(seed)\n",
    "\n",
    "    alice_prices = [alice_start_price]\n",
    "    bob_prices = [bob_start_price]\n",
    "    \n",
    "    #### YOUR CODE HERE ####\n",
    "    for t in range(num_hours):\n",
    "      alice_prices.append(bob_prices[-1]*0.6 + 90 + np.random.normal(0, 20))\n",
    "      bob_prices.append(alice_prices[-1]*1.2 - 20 + np.random.normal(0, 10))\n",
    "    \n",
    "    ### END OF YOUR CODE ###\n",
    "    \n",
    "    return alice_prices[burnin:], bob_prices[burnin:]"
   ]
  },
  {
   "cell_type": "code",
   "execution_count": 0,
   "metadata": {
    "colab": {
     "base_uri": "https://localhost:8080/",
     "height": 54
    },
    "colab_type": "code",
    "id": "HMGyDBGeUU9K",
    "outputId": "2bcaf26d-eb08-45a5-8943-5301b80c8b44"
   },
   "outputs": [
    {
     "name": "stdout",
     "output_type": "stream",
     "text": [
      "Current answer for task 1.1 (Alice trajectory) is: 279.93428306022463  291.67686875834846\n",
      "Current answer for task 1.1 (Bob trajectory) is: 314.5384966605577  345.2425410740984\n"
     ]
    }
   ],
   "source": [
    "alice_prices, bob_prices = run_simulation(alice_start_price=300, bob_start_price=300, seed=42, num_hours=3, burnin=1)\n",
    "if len(alice_prices) != 3:\n",
    "    raise RuntimeError('Make sure that the function returns `num_hours` data points.')\n",
    "grader.submit_simulation_trajectory(alice_prices, bob_prices)"
   ]
  },
  {
   "cell_type": "markdown",
   "metadata": {
    "colab_type": "text",
    "id": "BWG7pXFWUU9V"
   },
   "source": [
    "### Task 1.2\n",
    "What is the average price for Alice and Bob after the burn-in period? Whose prices are higher?"
   ]
  },
  {
   "cell_type": "code",
   "execution_count": 0,
   "metadata": {
    "colab": {
     "base_uri": "https://localhost:8080/",
     "height": 54
    },
    "colab_type": "code",
    "id": "7_F_cwcGUU9Z",
    "outputId": "cde75ec7-6de5-4c7b-9ec2-721050e7246c"
   },
   "outputs": [
    {
     "name": "stdout",
     "output_type": "stream",
     "text": [
      "Current answer for task 1.2 (Alice mean) is: 278.62821295463834\n",
      "Current answer for task 1.2 (Bob mean) is: 314.37642287694996\n"
     ]
    }
   ],
   "source": [
    "#### YOUR CODE HERE ####\n",
    "alice_prices, bob_prices = run_simulation()\n",
    "average_alice_price = np.mean(alice_prices)\n",
    "average_bob_price = np.mean(bob_prices)\n",
    "### END OF YOUR CODE ###\n",
    "grader.submit_simulation_mean(average_alice_price, average_bob_price)"
   ]
  },
  {
   "cell_type": "markdown",
   "metadata": {
    "colab_type": "text",
    "id": "Sxp8rQQnUU9e"
   },
   "source": [
    "### Task 1.3\n",
    "\n",
    "Let's look at the 2-d histogram of prices, computed using kernel density estimation."
   ]
  },
  {
   "cell_type": "code",
   "execution_count": 0,
   "metadata": {
    "colab": {
     "base_uri": "https://localhost:8080/",
     "height": 459
    },
    "colab_type": "code",
    "id": "rVuRLQhoUU9i",
    "outputId": "f8c10d6e-cf8d-40d7-85b6-c0eec9471cce"
   },
   "outputs": [
    {
     "data": {
      "text/plain": [
       "<seaborn.axisgrid.JointGrid at 0x7f048733ed30>"
      ]
     },
     "execution_count": 8,
     "metadata": {
      "tags": []
     },
     "output_type": "execute_result"
    },
    {
     "data": {
      "image/png": "[encoded data removed]",
      "text/plain": [
       "<Figure size 432x432 with 3 Axes>"
      ]
     },
     "metadata": {
      "tags": []
     },
     "output_type": "display_data"
    }
   ],
   "source": [
    "data = np.array(run_simulation())\n",
    "sns.jointplot(data[0, :], data[1, :], stat_func=None, kind='kde')"
   ]
  },
  {
   "cell_type": "markdown",
   "metadata": {
    "colab_type": "text",
    "id": "3CCG2LzHUU9q"
   },
   "source": [
    "Clearly, the prices of Bob and Alce are highly correlated. What is the Pearson correlation coefficient of Alice and Bob prices?"
   ]
  },
  {
   "cell_type": "code",
   "execution_count": 0,
   "metadata": {
    "colab": {
     "base_uri": "https://localhost:8080/",
     "height": 35
    },
    "colab_type": "code",
    "id": "FNy6IvP4UU9r",
    "outputId": "97a526fa-a187-482a-da07-9497abb33891"
   },
   "outputs": [
    {
     "name": "stdout",
     "output_type": "stream",
     "text": [
      "Current answer for task 1.3 (Bob and Alice prices correlation) is: 0.9636340025161768\n"
     ]
    }
   ],
   "source": [
    "#### YOUR CODE HERE ####\n",
    "correlation = np.corrcoef(data[0,:], data[1,:])[0][1]\n",
    "### END OF YOUR CODE ###\n",
    "grader.submit_simulation_correlation(correlation)"
   ]
  },
  {
   "cell_type": "markdown",
   "metadata": {
    "colab_type": "text",
    "id": "cuJ5KN72UU9u"
   },
   "source": [
    "### Task 1.4"
   ]
  },
  {
   "cell_type": "markdown",
   "metadata": {
    "colab_type": "text",
    "id": "Cmh9UbP3UU9x"
   },
   "source": [
    "We observe an interesting effect here: seems like the bivariate distribution of Alice and Bob prices converges to a correlated bivariate Gaussian distribution.\n",
    "\n",
    "Let's check, whether the results change if we use different random seed and starting points."
   ]
  },
  {
   "cell_type": "code",
   "execution_count": 0,
   "metadata": {
    "colab": {
     "base_uri": "https://localhost:8080/",
     "height": 127
    },
    "colab_type": "code",
    "id": "zeiz3wf2YQf7",
    "outputId": "395b479d-cc29-4e2a-8bd0-2c2de0dc2bf4"
   },
   "outputs": [
    {
     "name": "stdout",
     "output_type": "stream",
     "text": [
      "alice start price: 10, bob start price: 10, seed: 42, correlation: 0.9636340025161768\n",
      "alice start price: 10, bob start price: 10, seed: 100, correlation: 0.9634696494504145\n",
      "alice start price: 100, bob start price: 100, seed: 42, correlation: 0.9636340025161768\n",
      "alice start price: 100, bob start price: 100, seed: 100, correlation: 0.9634696494504145\n",
      "alice start price: 1000, bob start price: 1000, seed: 42, correlation: 0.9636340025161768\n",
      "alice start price: 1000, bob start price: 1000, seed: 100, correlation: 0.9634696494504145\n"
     ]
    }
   ],
   "source": [
    "for (alice_price, bob_price, seed) in [ (10, 10, 42), (10, 10, 100), (100, 100, 42), (100, 100, 100), (1000, 1000, 42), (1000, 1000, 100)]:\n",
    "  data = np.array(run_simulation(alice_start_price = alice_price, bob_start_price = bob_price, seed = seed))\n",
    "  print ('alice start price: {}, bob start price: {}, seed: {}, correlation: {}'.format(alice_price, bob_price, seed, np.corrcoef(data[0,:], data[1, :])[0][1]))\n"
   ]
  },
  {
   "cell_type": "code",
   "execution_count": 0,
   "metadata": {
    "colab": {
     "base_uri": "https://localhost:8080/",
     "height": 35
    },
    "colab_type": "code",
    "id": "iD2f10Y5UU9z",
    "outputId": "9346c17d-4c3c-4f7e-d402-2fd89b00f50e"
   },
   "outputs": [
    {
     "name": "stdout",
     "output_type": "stream",
     "text": [
      "Current answer for task 1.4 (depends on the random data or not) is: Does not depend on random seed and starting prices\n"
     ]
    }
   ],
   "source": [
    "# Pick different starting prices, e.g 10, 1000, 10000 for Bob and Alice. \n",
    "# Does the joint distribution of the two prices depend on these parameters?\n",
    "POSSIBLE_ANSWERS = {\n",
    "    0: 'Depends on random seed and starting prices', \n",
    "    1: 'Depends only on random seed',\n",
    "    2: 'Depends only on starting prices',\n",
    "    3: 'Does not depend on random seed and starting prices'\n",
    "}\n",
    "\n",
    "idx = 3 ### TYPE THE INDEX OF THE CORRECT ANSWER HERE ###\n",
    "answer = POSSIBLE_ANSWERS[idx]\n",
    "grader.submit_simulation_depends(answer)"
   ]
  },
  {
   "cell_type": "markdown",
   "metadata": {
    "colab_type": "text",
    "collapsed": true,
    "id": "QESoeG0lUU93"
   },
   "source": [
    "## Task 2. Logistic regression with PyMC3\n",
    "\n",
    "Logistic regression is a powerful model that allows you to analyze how a set of features affects some binary target label. Posterior distribution over the weights gives us an estimation of the influence of each particular feature on the probability of the target being equal to one. But most importantly, posterior distribution gives us the interval estimates for each weight of the model. This is very important for data analysis when you want to not only provide a good model but also estimate the uncertainty of your conclusions.\n",
    "\n",
    "In this task, we will learn how to use PyMC3 library to perform approximate Bayesian inference for logistic regression.\n",
    "\n",
    "This part of the assignment is based on the logistic regression tutorial by Peadar Coyle and J. Benjamin Cook."
   ]
  },
  {
   "cell_type": "markdown",
   "metadata": {
    "colab_type": "text",
    "id": "CNVh6l-_UU97"
   },
   "source": [
    "### Logistic regression.\n",
    "\n",
    "The problem here is to model how the probability that a person has salary $\\geq$ \\\\$50K is affected by his/her age, education, sex and other features.\n",
    "\n",
    "Let $y_i = 1$ if i-th person's salary is $\\geq$ \\\\$50K and $y_i = 0$ otherwise. Let $x_{ij}$ be $j$-th feature of $i$-th person.\n",
    "\n",
    "Logistic regression models this probabilty in the following way:\n",
    "\n",
    "$$p(y_i = 1 \\mid \\beta) = \\sigma (\\beta_1 x_{i1} + \\beta_2 x_{i2} + \\dots + \\beta_k x_{ik} ), $$\n",
    "\n",
    "where $\\sigma(t) = \\frac1{1 + e^{-t}}$"
   ]
  },
  {
   "cell_type": "markdown",
   "metadata": {
    "colab_type": "text",
    "id": "OY4uhAA2UU99"
   },
   "source": [
    "#### Odds ratio.\n",
    "Let's try to answer the following question: does the gender of a person affects his or her salary? To do it we will use the concept of *odds*.\n",
    "\n",
    "If we have a binary random variable $y$ (which may indicate whether a person makes \\\\$50K) and if the probabilty of the positive outcome $p(y = 1)$ is for example 0.8, we will say that the *odds* are 4 to 1 (or just 4 for short), because succeding is 4 time more likely than failing $\\frac{p(y = 1)}{p(y = 0)} = \\frac{0.8}{0.2} = 4$.\n",
    "\n",
    "Now, let's return to the effect of gender on the salary. Let's compute the **ratio** between the odds of a male having salary $\\geq $ \\\\$50K and the odds of a female (with the same level of education, experience and everything else) having salary $\\geq$ \\\\$50K. The first feature of each person in the dataset is gender. Specifically, $x_{i1} = 0$ if the person is female and $x_{i1} = 1$ otherwise. Consider two people $i$ and $j$ having all but one features the same with the only difference in $x_{i1} \\neq x_{j1}$.\n",
    "\n",
    "If the logistic regression model above estimates the probabilities exactly, the odds for a male will be (check it!):\n",
    "$$\n",
    "\\frac{p(y_i = 1 \\mid x_{i1}=1, x_{i2}, \\ldots, x_{ik})}{p(y_i = 0 \\mid x_{i1}=1, x_{i2}, \\ldots, x_{ik})} = \\frac{\\sigma(\\beta_1 + \\beta_2 x_{i2} + \\ldots)}{1 - \\sigma(\\beta_1 + \\beta_2 x_{i2} + \\ldots)} = \\exp(\\beta_1 + \\beta_2 x_{i2} + \\ldots)\n",
    "$$\n",
    "\n",
    "Now the ratio of the male and female odds will be:\n",
    "$$\n",
    "\\frac{\\exp(\\beta_1 \\cdot 1 + \\beta_2 x_{i2} + \\ldots)}{\\exp(\\beta_1 \\cdot 0 + \\beta_2 x_{i2} + \\ldots)} = \\exp(\\beta_1)\n",
    "$$\n",
    "\n",
    "So given the correct logistic regression model, we can estimate odds ratio for some feature (gender in this example) by just looking at the corresponding coefficient. But of course, even if all the logistic regression assumptions are met we cannot estimate the coefficient exactly from real-world data, it's just too noisy. So it would be really nice to build an interval estimate, which would tell us something along the lines \"with probability 0.95 the odds ratio is greater than 0.8 and less than 1.2, so we cannot conclude that there is any gender discrimination in the salaries\" (or vice versa, that \"with probability 0.95 the odds ratio is greater than 1.5 and less than 1.9 and the discrimination takes place because a male has at least 1.5 higher probability to get >$50k than a female with the same level of education, age, etc.\"). In Bayesian statistics, this interval estimate is called *credible interval*.\n",
    "\n",
    "Unfortunately, it's impossible to compute this credible interval analytically. So let's use MCMC for that!\n",
    "\n",
    "#### Credible interval\n",
    "A credible interval for the value of $\\exp(\\beta_1)$ is an interval $[a, b]$ such that $p(a \\leq \\exp(\\beta_1) \\leq b \\mid X_{\\text{train}}, y_{\\text{train}})$ is $0.95$ (or some other predefined value). To compute the interval, we need access to the posterior distribution $p(\\exp(\\beta_1) \\mid X_{\\text{train}}, y_{\\text{train}})$.\n",
    "\n",
    "Lets for simplicity focus on the posterior on the parameters $p(\\beta_1 \\mid X_{\\text{train}}, y_{\\text{train}})$ since if we compute it, we can always find $[a, b]$ such that $p(\\log a \\leq \\beta_1 \\leq \\log b \\mid X_{\\text{train}}, y_{\\text{train}}) = p(a \\leq \\exp(\\beta_1) \\leq b \\mid X_{\\text{train}}, y_{\\text{train}}) = 0.95$\n"
   ]
  },
  {
   "cell_type": "markdown",
   "metadata": {
    "colab_type": "text",
    "id": "QtDNnAWyUU9-"
   },
   "source": [
    "### Task 2.1 MAP inference"
   ]
  },
  {
   "cell_type": "markdown",
   "metadata": {
    "colab_type": "text",
    "id": "4VhYajFNUU-A"
   },
   "source": [
    "Let's read the dataset. This is a post-processed version of the [UCI Adult dataset](http://archive.ics.uci.edu/ml/datasets/Adult)."
   ]
  },
  {
   "cell_type": "code",
   "execution_count": 4,
   "metadata": {
    "colab": {
     "base_uri": "https://localhost:8080/",
     "height": 206
    },
    "colab_type": "code",
    "id": "3YRJBXxDUU-C",
    "outputId": "2f469362-45fd-43a7-9bd1-d4bc044bd9ba"
   },
   "outputs": [
    {
     "data": {
      "text/html": [
       "<div>\n",
       "<style scoped>\n",
       "    .dataframe tbody tr th:only-of-type {\n",
       "        vertical-align: middle;\n",
       "    }\n",
       "\n",
       "    .dataframe tbody tr th {\n",
       "        vertical-align: top;\n",
       "    }\n",
       "\n",
       "    .dataframe thead th {\n",
       "        text-align: right;\n",
       "    }\n",
       "</style>\n",
       "<table border=\"1\" class=\"dataframe\">\n",
       "  <thead>\n",
       "    <tr style=\"text-align: right;\">\n",
       "      <th></th>\n",
       "      <th>sex</th>\n",
       "      <th>age</th>\n",
       "      <th>educ</th>\n",
       "      <th>hours</th>\n",
       "      <th>income_more_50K</th>\n",
       "    </tr>\n",
       "  </thead>\n",
       "  <tbody>\n",
       "    <tr>\n",
       "      <th>0</th>\n",
       "      <td>Male</td>\n",
       "      <td>39</td>\n",
       "      <td>13</td>\n",
       "      <td>40</td>\n",
       "      <td>0</td>\n",
       "    </tr>\n",
       "    <tr>\n",
       "      <th>1</th>\n",
       "      <td>Male</td>\n",
       "      <td>50</td>\n",
       "      <td>13</td>\n",
       "      <td>13</td>\n",
       "      <td>0</td>\n",
       "    </tr>\n",
       "    <tr>\n",
       "      <th>2</th>\n",
       "      <td>Male</td>\n",
       "      <td>38</td>\n",
       "      <td>9</td>\n",
       "      <td>40</td>\n",
       "      <td>0</td>\n",
       "    </tr>\n",
       "    <tr>\n",
       "      <th>3</th>\n",
       "      <td>Male</td>\n",
       "      <td>53</td>\n",
       "      <td>7</td>\n",
       "      <td>40</td>\n",
       "      <td>0</td>\n",
       "    </tr>\n",
       "    <tr>\n",
       "      <th>4</th>\n",
       "      <td>Female</td>\n",
       "      <td>28</td>\n",
       "      <td>13</td>\n",
       "      <td>40</td>\n",
       "      <td>0</td>\n",
       "    </tr>\n",
       "  </tbody>\n",
       "</table>\n",
       "</div>"
      ],
      "text/plain": [
       "       sex  age  educ  hours  income_more_50K\n",
       "0     Male   39    13     40                0\n",
       "1     Male   50    13     13                0\n",
       "2     Male   38     9     40                0\n",
       "3     Male   53     7     40                0\n",
       "4   Female   28    13     40                0"
      ]
     },
     "execution_count": 4,
     "metadata": {
      "tags": []
     },
     "output_type": "execute_result"
    }
   ],
   "source": [
    "data = pd.read_csv(\"adult_us_postprocessed.csv\")\n",
    "data.head()"
   ]
  },
  {
   "cell_type": "markdown",
   "metadata": {
    "colab_type": "text",
    "id": "M-zmpp91UU-E"
   },
   "source": [
    "Each row of the dataset is a person with his (her) features. The last column is the target variable $y$. One indicates that this person's annual salary is more than $50K.\n",
    "\n",
    "First of all let's set up a Bayesian logistic regression model (i.e. define priors on the parameters $\\alpha$ and $\\beta$ of the model) that predicts the value of \"income_more_50K\" based on person's age and education:\n",
    "\n",
    "$$\n",
    "p(y = 1 \\mid \\alpha, \\beta_1, \\beta_2) = \\sigma(\\alpha + \\beta_1 x_1 + \\beta_2 x_2) \\\\ \n",
    "\\alpha \\sim N(0, 100^2) \\\\\n",
    "\\beta_1 \\sim N(0, 100^2) \\\\\n",
    "\\beta_2 \\sim N(0, 100^2), \\\\\n",
    "$$\n",
    "\n",
    "where $x_1$ is a person's age, $x_2$ is his/her level of education, y indicates his/her level of income, $\\alpha$, $\\beta_1$ and $\\beta_2$ are paramters of the model."
   ]
  },
  {
   "cell_type": "code",
   "execution_count": 5,
   "metadata": {
    "colab": {
     "base_uri": "https://localhost:8080/",
     "height": 110
    },
    "colab_type": "code",
    "id": "QRh1OWQ6UU-F",
    "outputId": "04ce6ad0-eed2-4f0a-8d4b-7616079b786c"
   },
   "outputs": [
    {
     "name": "stderr",
     "output_type": "stream",
     "text": [
      "/usr/local/lib/python3.6/dist-packages/pymc3/tuning/starting.py:61: UserWarning: find_MAP should not be used to initialize the NUTS sampler, simply call pymc3.sample() and it will automatically initialize NUTS in a better way.\n",
      "  warnings.warn('find_MAP should not be used to initialize the NUTS sampler, simply call pymc3.sample() and it will automatically initialize NUTS in a better way.')\n",
      "logp = -18,857, ||grad|| = 57,293: 100%|██████████| 30/30 [00:00<00:00, 98.51it/s]  \n"
     ]
    },
    {
     "name": "stdout",
     "output_type": "stream",
     "text": [
      "{'alpha': array(-6.74812435), 'beta1': array(0.0434832), 'beta2': array(0.36210836)}\n"
     ]
    }
   ],
   "source": [
    "with pm.Model() as manual_logistic_model:\n",
    "    # Declare pymc random variables for logistic regression coefficients with uninformative \n",
    "    # prior distributions N(0, 100^2) on each weight using pm.Normal. \n",
    "    # Don't forget to give each variable a unique name.\n",
    "    \n",
    "    #### YOUR CODE HERE ####\n",
    "    alpha = pm.Normal(\"alpha\", mu = 0, sd = 100*100)\n",
    "    beta1 = pm.Normal(\"beta1\", mu = 0, sd = 100*100)\n",
    "    beta2 = pm.Normal(\"beta2\", mu = 0, sd = 100*100)\n",
    "    ### END OF YOUR CODE ###\n",
    "    \n",
    "    # Thansform these random variables into vector of probabilities p(y_i=1) using logistic regression model specified \n",
    "    # above. PyMC random variables are theano shared variables and support simple mathematical operations.\n",
    "    # For example:\n",
    "    # z = pm.Normal('x', 0, 1) * np.array([1, 2, 3]) + pm.Normal('y', 0, 1) * np.array([4, 5, 6])`\n",
    "    # is a correct PyMC expression.\n",
    "    # Use pm.invlogit for the sigmoid function.\n",
    "    \n",
    "    #### YOUR CODE HERE ####\n",
    "    p = pm.invlogit(alpha + beta1 * data.age + beta2 * data.educ)\n",
    "    ### END OF YOUR CODE ###\n",
    "    \n",
    "    # Declare PyMC Bernoulli random vector with probability of success equal to the corresponding value\n",
    "    # given by the sigmoid function.\n",
    "    # Supply target vector using \"observed\" argument in the constructor.\n",
    "\n",
    "    #### YOUR CODE HERE ####\n",
    "    random_vector = pm.Bernoulli('observed', p = p, observed = data.income_more_50K)\n",
    "    ### END OF YOUR CODE ###\n",
    "    \n",
    "    # Use pm.find_MAP() to find the maximum a-posteriori estimate for the vector of logistic regression weights.\n",
    "    map_estimate = pm.find_MAP()\n",
    "    print(map_estimate)\n",
    "\n"
   ]
  },
  {
   "cell_type": "markdown",
   "metadata": {
    "colab_type": "text",
    "id": "IOWgQY8-UU-O"
   },
   "source": [
    "Sumbit MAP estimations of corresponding coefficients:"
   ]
  },
  {
   "cell_type": "code",
   "execution_count": 6,
   "metadata": {
    "colab": {
     "base_uri": "https://localhost:8080/",
     "height": 147
    },
    "colab_type": "code",
    "id": "-gFN5GWIUU-Q",
    "outputId": "4a14617e-db9d-4d80-a1f8-3a86f8b07488"
   },
   "outputs": [
    {
     "name": "stderr",
     "output_type": "stream",
     "text": [
      "/usr/local/lib/python3.6/dist-packages/pymc3/tuning/starting.py:61: UserWarning: find_MAP should not be used to initialize the NUTS sampler, simply call pymc3.sample() and it will automatically initialize NUTS in a better way.\n",
      "  warnings.warn('find_MAP should not be used to initialize the NUTS sampler, simply call pymc3.sample() and it will automatically initialize NUTS in a better way.')\n",
      "WARNING (theano.tensor.blas): We did not find a dynamic library in the library_dir of the library we use for blas. If you use ATLAS, make sure to compile it with dynamics library.\n",
      "WARNING (theano.tensor.blas): We did not find a dynamic library in the library_dir of the library we use for blas. If you use ATLAS, make sure to compile it with dynamics library.\n",
      "logp = -15,131, ||grad|| = 0.024014: 100%|██████████| 32/32 [00:00<00:00, 109.84it/s]  \n"
     ]
    },
    {
     "name": "stdout",
     "output_type": "stream",
     "text": [
      "{'Intercept': array(-6.7480998), 'age': array(0.04348259), 'educ': array(0.36210894)}\n"
     ]
    }
   ],
   "source": [
    "with pm.Model() as logistic_model:\n",
    "    # There's a simpler interface for generalized linear models in pymc3. \n",
    "    # Try to train the same model using pm.glm.GLM.from_formula.\n",
    "    # Do not forget to specify that the target variable is binary (and hence follows Binomial distribution).\n",
    "    \n",
    "    #### YOUR CODE HERE ####\n",
    "    model = pm.glm.GLM.from_formula(\"income_more_50K ~ age + educ\", data = data, family = pm.glm.families.Binomial())\n",
    "    ### END OF YOUR CODE ###\n",
    "    map_estimate = pm.find_MAP()\n",
    "    print(map_estimate)"
   ]
  },
  {
   "cell_type": "code",
   "execution_count": 0,
   "metadata": {
    "colab": {
     "base_uri": "https://localhost:8080/",
     "height": 54
    },
    "colab_type": "code",
    "id": "NXzH7yhwUU-U",
    "outputId": "b89288c6-bf54-4b43-9bfd-36a9e8c4024a",
    "scrolled": true
   },
   "outputs": [
    {
     "name": "stdout",
     "output_type": "stream",
     "text": [
      "Current answer for task 2.1 (MAP for age coef) is: 0.04348258952614431\n",
      "Current answer for task 2.1 (MAP for aducation coef) is: 0.36210894169495006\n"
     ]
    }
   ],
   "source": [
    "beta_age_coefficient = map_estimate[\"age\"] ### TYPE MAP ESTIMATE OF THE AGE COEFFICIENT HERE ###\n",
    "beta_education_coefficient = map_estimate[\"educ\"] ### TYPE MAP ESTIMATE OF THE EDUCATION COEFFICIENT HERE ###\n",
    "grader.submit_pymc_map_estimates(beta_age_coefficient, beta_education_coefficient)"
   ]
  },
  {
   "cell_type": "markdown",
   "metadata": {
    "colab_type": "text",
    "id": "hSROG30jUU-Y"
   },
   "source": [
    "### Task 2.2 MCMC"
   ]
  },
  {
   "cell_type": "markdown",
   "metadata": {
    "colab_type": "text",
    "id": "kZ1RF76FUU-Z"
   },
   "source": [
    "To find credible regions let's perform MCMC inference."
   ]
  },
  {
   "cell_type": "code",
   "execution_count": 0,
   "metadata": {
    "colab": {},
    "colab_type": "code",
    "id": "u1yUaYT4UU-f"
   },
   "outputs": [],
   "source": [
    "# You will need the following function to visualize the sampling process.\n",
    "# You don't need to change it.\n",
    "def plot_traces(traces, burnin=200):\n",
    "    ''' \n",
    "    Convenience function:\n",
    "    Plot traces with overlaid means and values\n",
    "    '''\n",
    "    \n",
    "    ax = pm.traceplot(traces[burnin:], figsize=(12,len(traces.varnames)*1.5),\n",
    "        lines={k: v['mean'] for k, v in pm.summary(traces[burnin:]).iterrows()})\n",
    "\n",
    "    for i, mn in enumerate(pm.summary(traces[burnin:])['mean']):\n",
    "        ax[i,0].annotate('{:.2f}'.format(mn), xy=(mn,0), xycoords='data'\n",
    "                    ,xytext=(5,10), textcoords='offset points', rotation=90\n",
    "                    ,va='bottom', fontsize='large', color='#AA0022')"
   ]
  },
  {
   "cell_type": "markdown",
   "metadata": {
    "colab_type": "text",
    "id": "pazpAWI1UU-o"
   },
   "source": [
    "#### Metropolis-Hastings\n",
    "Let's use the Metropolis-Hastings algorithm for finding the samples from the posterior distribution.\n",
    "\n",
    "Once you wrote the code, explore the hyperparameters of Metropolis-Hastings such as the proposal distribution variance to speed up the convergence. You can use `plot_traces` function in the next cell to visually inspect the convergence.\n",
    "\n",
    "You may also use MAP-estimate to initialize the sampling scheme to speed things up. This will make the warmup (burn-in) period shorter since you will start from a probable point."
   ]
  },
  {
   "cell_type": "code",
   "execution_count": 0,
   "metadata": {
    "colab": {
     "base_uri": "https://localhost:8080/",
     "height": 313
    },
    "colab_type": "code",
    "id": "JV7bn_FAUU-p",
    "outputId": "60f5305f-71b1-48ff-a49a-b43c8cde72f6"
   },
   "outputs": [
    {
     "name": "stderr",
     "output_type": "stream",
     "text": [
      "/usr/local/lib/python3.6/dist-packages/pymc3/tuning/starting.py:61: UserWarning: find_MAP should not be used to initialize the NUTS sampler, simply call pymc3.sample() and it will automatically initialize NUTS in a better way.\n",
      "  warnings.warn('find_MAP should not be used to initialize the NUTS sampler, simply call pymc3.sample() and it will automatically initialize NUTS in a better way.')\n",
      "logp = -14,044, ||grad|| = 3,122: 100%|██████████| 48/48 [00:00<00:00, 105.10it/s]  \n",
      "Only 400 samples in chain.\n",
      "Sequential sampling (2 chains in 1 job)\n",
      "CompoundStep\n",
      ">Metropolis: [hours]\n",
      ">Metropolis: [educ]\n",
      ">Metropolis: [age]\n",
      ">Metropolis: [sex[T. Male]]\n",
      ">Metropolis: [Intercept]\n",
      "100%|██████████| 900/900 [00:57<00:00, 15.59it/s]\n",
      "100%|██████████| 900/900 [00:57<00:00, 15.58it/s]\n",
      "The gelman-rubin statistic is larger than 1.4 for some parameters. The sampler did not converge.\n",
      "The estimated number of effective samples is smaller than 200 for some parameters.\n"
     ]
    }
   ],
   "source": [
    "with pm.Model() as logistic_model:\n",
    "    # Since it is unlikely that the dependency between the age and salary is linear, we will include age squared\n",
    "    # into features so that we can model dependency that favors certain ages.\n",
    "    # Train Bayesian logistic regression model on the following features: sex, age, age^2, educ, hours\n",
    "    # Use pm.sample to run MCMC to train this model.\n",
    "    # To specify the particular sampler method (Metropolis-Hastings) to pm.sample,\n",
    "    # use `pm.Metropolis`.\n",
    "    # Train your model for 400 samples.\n",
    "    # Save the output of pm.sample to a variable: this is the trace of the sampling procedure and will be used\n",
    "    # to estimate the statistics of the posterior distribution.\n",
    "    \n",
    "    #### YOUR CODE HERE ####\n",
    "    model = pm.glm.GLM.from_formula(\"income_more_50K ~ sex + age +age*age + educ + hours\", data = data, family = pm.glm.families.Binomial())\n",
    "    start = pm.find_MAP()\n",
    "    trace = pm.sample(400, start = start, step = pm.Metropolis())\n",
    "    \n",
    "    ### END OF YOUR CODE ###"
   ]
  },
  {
   "cell_type": "code",
   "execution_count": 0,
   "metadata": {
    "colab": {
     "base_uri": "https://localhost:8080/",
     "height": 549
    },
    "colab_type": "code",
    "id": "7qwmNjP3UU-x",
    "outputId": "eadb7331-94f5-4158-a79e-1e1e7897bd12"
   },
   "outputs": [
    {
     "data": {
      "image/png": "[encoded data removed]",
      "text/plain": [
       "<Figure size 864x540 with 10 Axes>"
      ]
     },
     "metadata": {
      "tags": []
     },
     "output_type": "display_data"
    }
   ],
   "source": [
    "plot_traces(trace)"
   ]
  },
  {
   "cell_type": "markdown",
   "metadata": {
    "colab_type": "text",
    "id": "d8WQceBQUU-0"
   },
   "source": [
    "#### NUTS sampler\n",
    "Use pm.sample without specifying a particular sampling method (pymc3 will choose it automatically).\n",
    "The sampling algorithm that will be used in this case is NUTS, which is a form of Hamiltonian Monte Carlo, in which parameters are tuned automatically. This is an advanced method that we hadn't cover in the lectures, but it usually converges faster and gives less correlated samples compared to vanilla Metropolis-Hastings."
   ]
  },
  {
   "cell_type": "code",
   "execution_count": 0,
   "metadata": {
    "colab": {
     "base_uri": "https://localhost:8080/",
     "height": 127
    },
    "colab_type": "code",
    "id": "NB-woIvIUU-2",
    "outputId": "0311fd3b-2c1d-4490-d78a-53baba14e085"
   },
   "outputs": [
    {
     "name": "stderr",
     "output_type": "stream",
     "text": [
      "Auto-assigning NUTS sampler...\n",
      "Initializing NUTS using jitter+adapt_diag...\n",
      "Sequential sampling (2 chains in 1 job)\n",
      "NUTS: [hours, educ, age, sex[T. Male], Intercept]\n",
      "100%|██████████| 4500/4500 [16:54<00:00,  4.82it/s]\n",
      "100%|██████████| 4500/4500 [14:57<00:00,  5.47it/s]\n"
     ]
    }
   ],
   "source": [
    "with pm.Model() as logistic_model:\n",
    "    # Train Bayesian logistic regression model on the following features: sex, age, age_squared, educ, hours\n",
    "    # Use pm.sample to run MCMC to train this model.\n",
    "    # Train your model for 400 samples.\n",
    "    # Training can take a while, so relax and wait :)\n",
    "    \n",
    "    #### YOUR CODE HERE ####\n",
    "    model = pm.glm.GLM.from_formula(\"income_more_50K ~ sex + age + age*age + educ + hours\", data = data, family = pm.glm.families.Binomial())\n",
    "    trace = pm.sample(4000, start = start)\n",
    "    ### END OF YOUR CODE ###"
   ]
  },
  {
   "cell_type": "code",
   "execution_count": 0,
   "metadata": {
    "colab": {},
    "colab_type": "code",
    "id": "FKZFR8-3UU--"
   },
   "outputs": [],
   "source": [
    "plot_traces(trace)"
   ]
  },
  {
   "cell_type": "markdown",
   "metadata": {
    "colab_type": "text",
    "id": "fMhf9fqVUU_F"
   },
   "source": [
    "#### Estimating the odds ratio\n",
    "Now, let's build the posterior distribution on the odds ratio given the dataset (approximated by MCMC)."
   ]
  },
  {
   "cell_type": "code",
   "execution_count": 0,
   "metadata": {
    "colab": {
     "base_uri": "https://localhost:8080/",
     "height": 443
    },
    "colab_type": "code",
    "id": "-A2FhB1UUU_H",
    "outputId": "15539309-512b-4861-c60b-6e58605fc59b"
   },
   "outputs": [
    {
     "name": "stderr",
     "output_type": "stream",
     "text": [
      "/usr/local/lib/python3.6/dist-packages/matplotlib/axes/_axes.py:6521: MatplotlibDeprecationWarning: \n",
      "The 'normed' kwarg was deprecated in Matplotlib 2.1 and will be removed in 3.1. Use 'density' instead.\n",
      "  alternative=\"'density'\", removal=\"3.1\")\n"
     ]
    },
    {
     "data": {
      "image/png": "[encoded data removed]",
      "text/plain": [
       "<Figure size 432x432 with 1 Axes>"
      ]
     },
     "metadata": {
      "tags": []
     },
     "output_type": "display_data"
    }
   ],
   "source": [
    "# We don't need to use a large burn-in here, since we initialize sampling\n",
    "# from a good point (from our approximation of the most probable\n",
    "# point (MAP) to be more precise).\n",
    "burnin = 100\n",
    "b = trace['sex[T. Male]'][burnin:]\n",
    "plt.hist(np.exp(b), bins=20, normed=True)\n",
    "plt.xlabel(\"Odds Ratio\")\n",
    "plt.show()"
   ]
  },
  {
   "cell_type": "markdown",
   "metadata": {
    "colab_type": "text",
    "id": "X3fh8FssUU_K"
   },
   "source": [
    "\n",
    "Finally, we can find a credible interval  (recall that credible intervals are Bayesian and confidence intervals are frequentist) for this quantity. This may be the best part about Bayesian statistics: we get to interpret credibility intervals the way we've always wanted to interpret them. We are 95% confident that the odds ratio lies within our interval!"
   ]
  },
  {
   "cell_type": "code",
   "execution_count": 0,
   "metadata": {
    "colab": {
     "base_uri": "https://localhost:8080/",
     "height": 35
    },
    "colab_type": "code",
    "id": "orwCvcs3UU_M",
    "outputId": "4a301e24-c327-4551-9b0b-7911242ad39c"
   },
   "outputs": [
    {
     "name": "stdout",
     "output_type": "stream",
     "text": [
      "P(2.970 < Odds Ratio < 3.441) = 0.95\n"
     ]
    }
   ],
   "source": [
    "lb, ub = np.percentile(b, 2.5), np.percentile(b, 97.5)\n",
    "print(\"P(%.3f < Odds Ratio < %.3f) = 0.95\" % (np.exp(lb), np.exp(ub)))"
   ]
  },
  {
   "cell_type": "code",
   "execution_count": 0,
   "metadata": {
    "colab": {
     "base_uri": "https://localhost:8080/",
     "height": 54
    },
    "colab_type": "code",
    "id": "mKXWS-HZUU_O",
    "outputId": "256c23d5-6941-437b-abdf-a05b78c5c30a"
   },
   "outputs": [
    {
     "name": "stdout",
     "output_type": "stream",
     "text": [
      "Current answer for task 2.2 (credible interval lower bound) is: 2.9700461390694013\n",
      "Current answer for task 2.2 (credible interval upper bound) is: 3.441189110850399\n"
     ]
    }
   ],
   "source": [
    "# Submit the obtained credible interval.\n",
    "grader.submit_pymc_odds_ratio_interval(np.exp(lb), np.exp(ub))"
   ]
  },
  {
   "cell_type": "markdown",
   "metadata": {
    "colab_type": "text",
    "id": "aCow4dldUU_T"
   },
   "source": [
    "### Task 2.3 interpreting the results"
   ]
  },
  {
   "cell_type": "code",
   "execution_count": 0,
   "metadata": {
    "colab": {
     "base_uri": "https://localhost:8080/",
     "height": 55
    },
    "colab_type": "code",
    "id": "eHLM_iR3UU_W",
    "outputId": "8f6ce7ea-a5d4-41ee-906a-b9812bf68de5"
   },
   "outputs": [
    {
     "name": "stdout",
     "output_type": "stream",
     "text": [
      "Current answer for task 2.3 (does the data suggest gender discrimination?) is: Yes, we are 95% sure that a female is *less* likely to get >$50K than a male with the same age, level of education, etc.\n"
     ]
    }
   ],
   "source": [
    "# Does the gender affects salary in the provided dataset?\n",
    "# (Note that the data is from 1996 and maybe not representative\n",
    "# of the current situation in the world.)\n",
    "POSSIBLE_ANSWERS = {\n",
    "    0: 'No, there is certainly no discrimination',\n",
    "    1: 'We cannot say for sure',\n",
    "    2: 'Yes, we are 95% sure that a female is *less* likely to get >$50K than a male with the same age, level of education, etc.', \n",
    "    3: 'Yes, we are 95% sure that a female is *more* likely to get >$50K than a male with the same age, level of education, etc.', \n",
    "}\n",
    "\n",
    "idx = 2 ### TYPE THE INDEX OF THE CORRECT ANSWER HERE ###\n",
    "answer = POSSIBLE_ANSWERS[idx]\n",
    "grader.submit_is_there_discrimination(answer)"
   ]
  },
  {
   "cell_type": "markdown",
   "metadata": {
    "colab_type": "text",
    "id": "iS9ZUuzVUU_b"
   },
   "source": [
    "# Authorization & Submission\n",
    "To submit assignment parts to Cousera platform, please, enter your e-mail and token into variables below. You can generate a token on this programming assignment's page. <b>Note:</b> The token expires 30 minutes after generation."
   ]
  },
  {
   "cell_type": "code",
   "execution_count": 0,
   "metadata": {
    "colab": {
     "base_uri": "https://localhost:8080/",
     "height": 237
    },
    "colab_type": "code",
    "id": "lXja7llsUU_c",
    "outputId": "209e3957-c13f-4d95-8d85-9bd2f859afc4"
   },
   "outputs": [
    {
     "name": "stdout",
     "output_type": "stream",
     "text": [
      "You want to submit these numbers:\n",
      "Task 1.1 (Alice trajectory): 279.93428306022463  291.67686875834846\n",
      "Task 1.1 (Bob trajectory): 314.5384966605577  345.2425410740984\n",
      "Task 1.2 (Alice mean): 278.62821295463834\n",
      "Task 1.2 (Bob mean): 314.37642287694996\n",
      "Task 1.3 (Bob and Alice prices correlation): 0.9636340025161768\n",
      "Task 1.4 (depends on the random data or not): Does not depend on random seed and starting prices\n",
      "Task 2.1 (MAP for age coef): 0.04348258952614431\n",
      "Task 2.1 (MAP for aducation coef): 0.36210894169495006\n",
      "Task 2.2 (credible interval lower bound): 2.9700461390694013\n",
      "Task 2.2 (credible interval upper bound): 3.441189110850399\n",
      "Task 2.3 (does the data suggest gender discrimination?): Yes, we are 95% sure that a female is *less* likely to get >$50K than a male with the same age, level of education, etc.\n"
     ]
    }
   ],
   "source": [
    "STUDENT_EMAIL = ''\n",
    "STUDENT_TOKEN = ''\n",
    "grader.status()"
   ]
  },
  {
   "cell_type": "markdown",
   "metadata": {
    "colab_type": "text",
    "id": "fl-VyFIAUU_e"
   },
   "source": [
    "If you want to submit these answers, run cell below"
   ]
  },
  {
   "cell_type": "code",
   "execution_count": 0,
   "metadata": {
    "colab": {
     "base_uri": "https://localhost:8080/",
     "height": 35
    },
    "colab_type": "code",
    "id": "SX2F06jWUU_e",
    "outputId": "0a841e5f-666e-4c94-ea60-77d20af03b54"
   },
   "outputs": [
    {
     "name": "stdout",
     "output_type": "stream",
     "text": [
      "Submitted to Coursera platform. See results on assignment page!\n"
     ]
    }
   ],
   "source": [
    "grader.submit(STUDENT_EMAIL, STUDENT_TOKEN)"
   ]
  },
  {
   "cell_type": "markdown",
   "metadata": {
    "colab_type": "text",
    "id": "IcvYIlFOUU_g"
   },
   "source": [
    "# (Optional) generating videos of sampling process\n",
    "In this part you will generate videos showing the sampling process."
   ]
  },
  {
   "cell_type": "markdown",
   "metadata": {
    "colab_type": "text",
    "id": "jrPYnk6FUU_h"
   },
   "source": [
    "### Setting things up\n",
    "You don't need to modify the code below, it sets up the plotting functions. The code is based on [MCMC visualization tutorial](https://twiecki.github.io/blog/2014/01/02/visualizing-mcmc/)."
   ]
  },
  {
   "cell_type": "code",
   "execution_count": 9,
   "metadata": {
    "colab": {
     "base_uri": "https://localhost:8080/",
     "height": 392
    },
    "colab_type": "code",
    "id": "wzpn0PbeUU_i",
    "outputId": "e262ba57-4bb4-4b8a-e099-7d5c941be47d"
   },
   "outputs": [
    {
     "data": {
      "image/png": "[encoded data removed]",
      "text/plain": [
       "<Figure size 432x432 with 3 Axes>"
      ]
     },
     "metadata": {
      "tags": []
     },
     "output_type": "display_data"
    }
   ],
   "source": [
    "from IPython.display import HTML\n",
    "\n",
    "# Number of MCMC iteration to animate.\n",
    "samples = 400\n",
    "\n",
    "figsize(6, 6)\n",
    "fig = plt.figure()\n",
    "s_width = (0.81, 1.29)\n",
    "a_width = (0.11, 0.39)\n",
    "samples_width = (0, samples)\n",
    "ax1 = fig.add_subplot(221, xlim=s_width, ylim=samples_width)\n",
    "ax2 = fig.add_subplot(224, xlim=samples_width, ylim=a_width)\n",
    "ax3 = fig.add_subplot(223, xlim=s_width, ylim=a_width,\n",
    "                      xlabel='male coef',\n",
    "                      ylabel='educ coef')\n",
    "fig.subplots_adjust(wspace=0.0, hspace=0.0)\n",
    "line1, = ax1.plot([], [], lw=1)\n",
    "line2, = ax2.plot([], [], lw=1)\n",
    "line3, = ax3.plot([], [], 'o', lw=2, alpha=.1)\n",
    "line4, = ax3.plot([], [], lw=1, alpha=.3)\n",
    "line5, = ax3.plot([], [], 'k', lw=1)\n",
    "line6, = ax3.plot([], [], 'k', lw=1)\n",
    "ax1.set_xticklabels([])\n",
    "ax2.set_yticklabels([])\n",
    "lines = [line1, line2, line3, line4, line5, line6]\n",
    "\n",
    "def init():\n",
    "    for line in lines:\n",
    "        line.set_data([], [])\n",
    "    return lines\n",
    "\n",
    "def animate(i):\n",
    "    with logistic_model:\n",
    "        if i == 0:\n",
    "            # Burnin\n",
    "            for j in range(samples): iter_sample.__next__() \n",
    "        trace = iter_sample.__next__()\n",
    "    line1.set_data(trace['sex[T. Male]'][::-1], range(len(trace['sex[T. Male]'])))\n",
    "    line2.set_data(range(len(trace['educ'])), trace['educ'][::-1])\n",
    "    line3.set_data(trace['sex[T. Male]'], trace['educ'])\n",
    "    line4.set_data(trace['sex[T. Male]'], trace['educ'])\n",
    "    male = trace['sex[T. Male]'][-1]\n",
    "    educ = trace['educ'][-1]\n",
    "    line5.set_data([male, male], [educ, a_width[1]])\n",
    "    line6.set_data([male, s_width[1]], [educ, educ])\n",
    "    return lines"
   ]
  },
  {
   "cell_type": "markdown",
   "metadata": {
    "colab_type": "text",
    "id": "R3P3B755UU_l"
   },
   "source": [
    "## Animating Metropolis-Hastings"
   ]
  },
  {
   "cell_type": "code",
   "execution_count": 10,
   "metadata": {
    "colab": {
     "base_uri": "https://localhost:8080/",
     "height": 528
    },
    "colab_type": "code",
    "id": "BIYTA1SgUU_l",
    "outputId": "ad386b59-6446-408b-dd00-7c24d6ee3801"
   },
   "outputs": [
    {
     "name": "stderr",
     "output_type": "stream",
     "text": [
      "/usr/local/lib/python3.6/dist-packages/pymc3/tuning/starting.py:61: UserWarning: find_MAP should not be used to initialize the NUTS sampler, simply call pymc3.sample() and it will automatically initialize NUTS in a better way.\n",
      "  warnings.warn('find_MAP should not be used to initialize the NUTS sampler, simply call pymc3.sample() and it will automatically initialize NUTS in a better way.')\n",
      "logp = -14,044, ||grad|| = 3,122: 100%|██████████| 48/48 [00:00<00:00, 107.37it/s]  \n"
     ]
    },
    {
     "data": {
      "text/html": [
       "<video width=\"432\" height=\"432\" controls autoplay loop>\n",
       "  <source type=\"video/mp4\" src=\"data:video/mp4;base64,AAAAHGZ0eXBNNFYgAAACAGlzb21pc28yYXZjMQAAAAhmcmVlAAERym1kYXQAAAKuBgX//6rcRem9\n",
       "5tlIt5Ys2CDZI+7veDI2NCAtIGNvcmUgMTUyIHIyODU0IGU5YTU5MDMgLSBILjI2NC9NUEVHLTQg\n",
       "QVZDIGNvZGVjIC0gQ29weWxlZnQgMjAwMy0yMDE3IC0gaHR0cDovL3d3dy52aWRlb2xhbi5vcmcv\n",
       "eDI2NC5odG1sIC0gb3B0aW9uczogY2FiYWM9MSByZWY9MyBkZWJsb2NrPTE6MDowIGFuYWx5c2U9\n",
       "MHgzOjB4MTEzIG1lPWhleCBzdWJtZT03IHBzeT0xIHBzeV9yZD0xLjAwOjAuMDAgbWl4ZWRfcmVm\n",
       "PTEgbWVfcmFuZ2U9MTYgY2hyb21hX21lPTEgdHJlbGxpcz0xIDh4OGRjdD0xIGNxbT0wIGRlYWR6\n",
       "b25lPTIxLDExIGZhc3RfcHNraXA9MSBjaHJvbWFfcXBfb2Zmc2V0PS0yIHRocmVhZHM9MyBsb29r\n",
       "YWhlYWRfdGhyZWFkcz0xIHNsaWNlZF90aHJlYWRzPTAgbnI9MCBkZWNpbWF0ZT0xIGludGVybGFj\n",
       "ZWQ9MCBibHVyYXlfY29tcGF0PTAgY29uc3RyYWluZWRfaW50cmE9MCBiZnJhbWVzPTMgYl9weXJh\n",
       "bWlkPTIgYl9hZGFwdD0xIGJfYmlhcz0wIGRpcmVjdD0xIHdlaWdodGI9MSBvcGVuX2dvcD0wIHdl\n",
       "aWdodHA9MiBrZXlpbnQ9MjUwIGtleWludF9taW49MjUgc2NlbmVjdXQ9NDAgaW50cmFfcmVmcmVz\n",
       "aD0wIHJjX2xvb2thaGVhZD00MCByYz1jcmYgbWJ0cmVlPTEgY3JmPTIzLjAgcWNvbXA9MC42MCBx\n",
       "cG1pbj0wIHFwbWF4PTY5IHFwc3RlcD00IGlwX3JhdGlvPTEuNDAgYXE9MToxLjAwAIAAABQyZYiE\n",
       "ACf//vWxfApqyfOKDOgyLuGXJMmutiLibQDAAAADAAVQSrRfODf9+M4AAOqABHJ7wIN/iBcIwNSU\n",
       "G1MeSufZ0WzpI7fZMZONIONWAU593gXBRP00G1uljGLHlA6SFMwmLW2MVoYgnZqN1iioRx1XqmWc\n",
       "ZVjs/vVl001HTwDEGwBNKhTnTr9ii5WiTdODOco/J2n6TdfZe4mmMo3vXUZ+oiPJ/unr7MxUmWf4\n",
       "pKH7oxj4zmgroCDg4tBZJ8q9/5j8/mE5tiT3Mp3cRqdmp6cEbJpFb6CZgHiBwXfm68RrOaRxPFBZ\n",
       "7pZiC6zOajzgYrSNuOCuU1lIpzICXjqfC63ozMlW/b1ICCs2ZdcER6Ibo2++Nt0xCa2HEhoy1veA\n",
       "5dTLC7qd2AkdFH7vJg3bkA6rysOEW1hPkW1yrtvuUZ1kewCsQFJ6X2w13nBdKaNstBOJaQSPsbkT\n",
       "1ShwvSkdvyIyalpPLQYu2knnywQWO4vZEFTfm9OBFm0lJw9hVRO/SKRwt9EmPvfDGssauilQVIUc\n",
       "N8JZhY5kEDACwtNkan8fX5XyDU1X6ZAsej2N8VKa84M/MGjqTT8MRRzkkqRUQVPnZaN7ENjcXr2g\n",
       "NIfWCBzft3aabHffxExwsFdkqd6AFf8XusBlUZPiSlFzMlVY7/lRxsX6wWOatK5yVwFt6l1oaBnR\n",
       "9E5v5ez1BclOynDqvrU0scTF+W9DwrsXLJVsTSej0hKYPqI2nfNrQgbu1XqXIoXj3gQDSvVQds/2\n",
       "Ufu+KQMQb+C+hY2wfvnE8mip/xXV337fCVSIXzddmdtRMsZ3gCOr8/vOU7xKL8tAS0IN85R9wgKy\n",
       "CdtBUzAEhu2WsosfvH+N+3L2ZnMtKgDk3sEQC+Ig8NW0AaKt/Oya9wjCKJuLF1GEybxj2/hi6yOs\n",
       "g/IkOPrkr6srOFC19/HeuZdmfjYoxlkr1jeKjANmbeS2jlx0A4UTSpKfO+nbTdUpyxsKsdf9zUvr\n",
       "wlCAMTSJtTwh3OqUr2jzNzxzNdZaRZNFXUL9VAWzEhlv20tiaXr1SiOGqppq9g+nJ3R5T/6znM+7\n",
       "wUiuRf4VXvpDgQTrqkgOxKnGNeen8gDb2H6CYST/YQt9NiHs+GABU2Qgk7V8ycLhL5w7taZKUmnj\n",
       "YNmWz3H8cbmYI+jJiLU+Dp/ewZ06OX9nKLwAzaAR+as4mg+yqobqm5e+OZDlu55PdePYFClaSxaq\n",
       "hNLQlY/GRjMCE/BMZ1mi5gfr+DQ9y43IwRHAVZ0lbQRITTuSepA0EtXOycNuE2Hih21i/dwo0ITM\n",
       "i+KeMILqRerqmc2xZ56BekP/lMTYKMzB2iSiyoCA+2DN4fdGuE8f6X9grxaYMLK744uVAesezGMW\n",
       "4SjmMg05Z4JniHUFXPG+0Vb1juo+nKYP9b40AcxxXqD31JQuk+jRcOW8Ns5mCiqOfEOGfGShKUvt\n",
       "ejNraT92cKBmmQlzqlexD3F8jZ86TH3sAnI5U0Kl/gl+7+8uHjv56ekTLqKGds8TlAmgw6IQvrQT\n",
       "TwJ5MV82GzWUFIjLxN1LP9LJBBjBAGRKeFXGgqhTMNVoXS0MAJX8RAePa4WNr9B95st70RoJtGZj\n",
       "Qg2CIDQbOnsxE2GSJ3WPpaMYtHdqU2m0/z9fGBsAHMw7AZ72UjQnI1RWDNG7B56XzKTu26Px1b0O\n",
       "zMOiQP7DL8f7bqRED+pkzzgQQR5YCCpvsX3LBJ4P2XpgiiWza7jKYtbkZkqEsvnxnJlY2zVRCy+F\n",
       "e1GPoGka3CAxaTvGzZTK2NtCVtQnig8YNBsToNQt/3DXO+3IA8YfPNnk+JQ3ccenBAqN9QDkTwe/\n",
       "bNM6ZrJfil14AhmxDm/4R8KbPY0PZ8vsStg//B8oPdj5HVzIKQ2WcN2T5fjJNU0dm7gwgRFWUSZ0\n",
       "a5QVPctoFnbzPTTI76eUNSjHN7EoxkfnKVqsqMOZVIZlPJeHOLpPL7fgD061JwN8uICU5OGMd6ca\n",
       "EYZ55YoWOntbHA4ZLE1IodOvL3D1BKHb0hpDaaVUhrHMVQU+zIK4PvO0HoiZ9M69A3W56MEXdsQU\n",
       "e4WlE++JlQKgHgnxTyCgcq0t+/g/w3XuB2TzoKrsMeWR/YwJumJNMz/rDdFg1094wsfrIIr2bauG\n",
       "pnYBST7Hh0HASH0yt6oTU/8r+jF4VC4K2bvHIN9Y/aQrgzVvhO94BtF/yvuw019DYB8lenzFZZbm\n",
       "Dd/OLURKmDaC0ljNIh2r/W545RNCtW/bS6JSahZtwJLHCBBfdshgwNg1l4DDwoF5cSHYflZpMTMZ\n",
       "6cFsW+gv/5e3DvLEWNiKGq0J7CSgade7NKtR4AIjuvjqPMN3xcE8ecHZQjicNtm/q/Gm7SkYNm3S\n",
       "hSedoPX4p54tUr3QbeMjjRlVag1KJ/nJVg/uhmuK4AEKAVIWy1TQSkWWR8BLrvcA3e1+rz6J8gO4\n",
       "1qPGDc8wTNnmodeAl9yAfgN7EYUfWRuSoU54AQVb8xudT+Rkk/jnd6gryZBIslxSHbfy0WFj0GGa\n",
       "elyGozx3qkVueqyr8KK/Lxe6RAHbA2aT5jRCbIa5NxlTcF+d8WTq9syKTkzGEzD6m/UQByKu3yKO\n",
       "tvRLTd7fLBq3+dXRL6T7LIvitUAsd9N3FlkC8X9tqkgRQW2vrm9MvQObz6d4Oys0nNLXViTFstvh\n",
       "b/ijNNnmYfrQbHzH6++KlhbXPvbXk0MFNsZyhbAb1w7FjrGwxAnOMwlVHtNRfQQ7p8Kqzi1aIoC4\n",
       "SWEF69JxcT6Mvpz08Jwk/uFwjpGLY0Y7NqqTfZZ4Wi/pDYGFZv6J1fqU+dm9VEFF9w0VBy2bDDDV\n",
       "dJYUYHMWbz1/feUsbJVsIefjwMrmvL0LMP1mT1Q+AV6OAICuLKe1IRWoXNj2D/0ukUslwqKMhGCZ\n",
       "OeCmJyUYDHLzw/7eXiXROResKfMGKjBlWv26W1P2+1tv74ggYtGux2rhMdRnqa5gUzNwDOeDeLOI\n",
       "IK/VgM7PYkS7PwD7/6HXFrUtpumju3hhzOoT0qYUcWnPIkrXJ47rfL2rkGKX+g03445cpdNDor7Y\n",
       "BUk2a4BtLJXavUkPyVG5ewIoAW1MibnLBOcp5G5ftQXjgL8p7qsD/WQBMi8tYnHYYC0CLwyR7ZfM\n",
       "dMbezqF5k1O/WByzNFsgshjJ9r856brE/OQhh07tl1bnilZ3qYSHg0p/yUgKw/dYIStHZFBpBbwY\n",
       "thTP8Ju0GIsFmAdi+0zJO1I6JAdlEox7A0NbLbAyceGlSA9gGnMgYJ6Cx4i5A38V2k3hFhC26Qu2\n",
       "hRbSv1hZ16CDc2pvSqPU4S0l46gGiYYbSyv58w9ilZyxUmy5m0jhNZn46oSvzJAs5Dnl/vkz6lva\n",
       "8g5Zp8LBonKQAzMohMNR99Vp1pAaV0vqe5xdpPwXU7JQFW8/Idd2sBFAnFkGa4kriKGlbqC0XbOx\n",
       "DRWAn2ypPcwGOUR2TJTsi4JcOavz+Mr73JMqVFqhpEhQKNyzvOXFcokAcIevij4+rZR7n1afBAwp\n",
       "XqVQi6THAQB/ivRJOTnwEfqKyIaT5tgRV+G92a98Y4n79n7abeBeuP9pjqDuzM0AxPx2MzXD5J83\n",
       "xdGOVO0sVRJegefK4WptKniQ3kWW+BSGee+oLJt3iR+bun+pCMxXkLLpIKbu2JFIwHikkwpgap0K\n",
       "qIv+7hy/o7Ob2eD6DffIg80cYQp+sIperSFk97cEpZ7Iv6IIw+MJMNv5KfqDWH/hWnSgHcyDAQk/\n",
       "sFBPfhiKv29tf2D1LVqhlI5bGx8wZusvhufD2UqAXswniR3kpAL46VPXIK4GosXpZZ6TgvnRjbEa\n",
       "J43jbqwxmbkt+7eiagGYSTgdw/pO4IQDzEAvHaCsrDLdGvFkY1jXeieWYT+gM48i+jQhH2ya0Q/0\n",
       "ZsnV9Ivruk4e0NitvmKJE1K7hKVZ4wTYfadJPVksr1WJh6FwNr+5Wl/lF1SuKXbyZdO6bwSRQ06F\n",
       "CcEIkgHRYOCC+jj40rSvJKH1TAHlVvtOFrE26Y2xYkwwgf8Fmzjn1NGwfSqUwzl+8PTDHynhSGUv\n",
       "rHJ77l2IOKlKAH8zgge5tpcpR6QvkXTstVDk8lcKeYHkkmBTLlTbRft2+bV2fm/PzJNtYqVIJP6c\n",
       "J0z3KyA0iM4dlrmTCArbCLS4iIZAgMIvkshQI6P0D2jphQ01hEHXaEg6xDtiE7IMPboNo8aDioUE\n",
       "IavqoX1aTMZuJEvBxjCxg3099cID906YJXn9351oVxF5uLqDmV/QUY3QfRskiJYGqfm2i9nVaI7l\n",
       "WA3eZO9nBFw5559FJMdCfUie3cnmq7d4Sws8cmssjrJACgX/+WMG8GGN5ZDpegG951ngqJqDawma\n",
       "1CqhBuufIWMjoA//PpXaRGE6PhI2MnfZ6txJZLmxtERFk0NQVVGAeNFlIA4tKhJ3LghIVJK6RWmT\n",
       "ozSZ3wVnugQ4TwW9+uvMsAG73ydR62712ZZEEmJafUQ4aDBh/XuqEpWttht6T3Xq44VIzMN7GAug\n",
       "Wal9tU8XpI6K9Mk+EQKWFhZiVJa4t8cfNIy7g2xRUU9lCx33a57ehzllt/xLjyV8L4noxYP+rHlr\n",
       "D2J2mtKB4pY6be+f8XSpW2p//97ZzwLY9sfnUsPKwnaSgX7gA+ITxkbjEChbSJqaiXnoz0UEQHJk\n",
       "yjdnpSRdbe6ZQjEhL9kvMpnq6ojwWkFrCnx4/X9iNtkXEHMEg3rXdLh+5IAU5vSeGJew3SrjtV3L\n",
       "nviVRE2/Qg27c9KlMkxEMQEzLz65eYveWn6Nek+1Es5M/Yf2+GQucYeG48MfxO9MhXffYFXKq5Nf\n",
       "uxxMpcukqMIJZDJFIt+gDPkiraYxwFnsyqE99ASdhvdMp6AL83XcPbhywL2ydPvQb/Ean7XjSlux\n",
       "OwZmMC91cJTlPTaCD+UyL1RrO+CV9C9lNXHqDSV8dRRFHmDUsGjkzO2AESUQ3uoCHJNY5anyZdYF\n",
       "yQwSeuj+AiMQ3rky21aJ9opD2gs9UTxb6yksqbqCuFgGaSzQON3O7XX2beB0BI/xDB20DbvK1KVf\n",
       "N2CBr+6b2DD1Hw6VKMv60hyJ5bL85nE+SiLJfjkXeBgeorymHASQrpZmOuVYucBXZTu+SwlZ+YT0\n",
       "jFhP+JonmUDE/Pqh0lAszL1LhCPv6vE8N/ZignOYCLP9EeIh9Y+dpLbuHHsSE2UFw8VyuvGgQVMG\n",
       "//fgoI1vlsM55xJwcXHnn+W5u1w/lnpHBbJmdNFI9oKunJ1zEMZxi8HJa66BPzCwxztl4AVIDLM/\n",
       "yVbWJzq9CeVS4K0U0RJt7MZWWw56RjhiBFhWcka7+tNSx95O8uOVJdxlsyzZu+94lJUzua+1PL2M\n",
       "8+I5W/N4qwVf+hf0NYrYXxdP5B/ecvuIG99ZqzG2D6BC4pZcQZJ5VgwHeQTETw4ET9ZgK34wpMLg\n",
       "qI5EYb3UPNzsXzeyfKZvsr644dF2UWlQwvXUinUbpRvaOfWFNllKZjpbmmOus2dl1NVIw+e8HX82\n",
       "+kpkruJRk8qFGgx3krD/mKttZW/UNEoAAh9sJ8vuLks6ZYzWF6JuWwI3/ZbF9356EeRYVoo2SeXq\n",
       "QIUnwcHXNauPqJHL/Vf7y7cicQV+h5H3y0cTh7qy3aE2VXRmmLlgJyh4WJ/vY4DCPTDaeAOMp4gt\n",
       "XtS8msRoTd9vr9Ru0n7o+me2EJaCfpm0vaPUVaVCohtVRJOoRAwSAKVV9dgOa6b1qdGH0rPwmEpv\n",
       "hAlgIy+iq2XqhkRqlCLjy0Ju+BDgvd6EUxmyJBNxJBM1EmCW5ZkCv+0BYp9TLFEkMHYBzK2bYslL\n",
       "G1gRMewvN6w5XifEO4BCr4P//s6xfbL0QwjNk0aC5nQGsETEgWhlRIR0A0Rh6VYaQq7PGlmEQPIh\n",
       "5i/4KivPT6GdRnlwYtkqgXmoQZEb4kdEsMvkymqNmvjZDF51TUcQNrRo0TbAlAmQA/eI5qMyiYoO\n",
       "3vE4pDcZ3ijpcb9CNopAzwta5fOJFxfzq0X6RzjEckMTYLoCZ5dllz2YuIYCEOy6ylo12QhKTH8u\n",
       "G3SBthYxL+8FvVaqwaPKuwcV6h38SvWTIpGpTs+oXA4QaHwVdPOz1x5ZbfxiOCaS7bS958JXXPUL\n",
       "ENaoKc+P4O8JYJt+8JqKU5+shJRrcOm/bnoyS45IKxEQZJB5twYV+IUK8aqRvOWMiKjIH6Af/vEB\n",
       "yTl1RrSK7xamkUkiXe/ZjUZ6a0lbbmvHsj10YfjKGH9V/zaZn0OwvT7FIhtM/lEVZYC+dGiE7VXE\n",
       "OKDAD0RFt3sXZKVqAyaKPHvgWtxS6XTHiXCeRmRxWUh5D7/Ek9XjUzywaaqgkuIxutxdJZ2V8WW0\n",
       "m2fA72zzYYwvEf0yj2/q612sXd/uIW0UTU5A5lAbtf5Bbt7fIOquYEEH/oMoqvKVmlWbUIzVBKyl\n",
       "yLhMmglGASsBB2IAFvYkjo1EybjaYsfV4AWnyfcGH4rLdZ+vbRge1+QF2FJMtjS0Mbvw0z0K+ubi\n",
       "+KNFtCg61Lu5oX/NGBhRShz+NmCDCDGUVuvIqhxFU1QtjwGkL4cyfsvm/avwcMxiNll2hv9VgpMX\n",
       "u8QrnDIDHXtTjfIL6s41II3fibH9GB+HkMkeOBgAAk9HDHVG8SyjbCGWK1j92OrUAOatD2FfdZqs\n",
       "jcpVOi/nU9OS+lxc2bGa5xwD+ruHK5JVazbNtYJZLDZ5rVFY5Eu7ZXuAdPQW63hrMAqBzHWSDMDB\n",
       "8SHyUOmiSX5LzFOW/VbENq5XX8WVVE4RxeVM3Rd/f6ULBQdkN/nNaYfkTMvPTN0FctVussRUded6\n",
       "mUzhzRQqQm8knFmc9Uf9wCgJX7KffnIr7fy4jcXxwynsalFp7bG+hGQtKWUSGLPBpgd+A6G8tWwM\n",
       "Rz0aw07Vu2lv89KTDknWUZv6ikGbGV+juZHgABCwUMNAoZAC1wAAAXxBmiRsQn/98QAbCTOQgANj\n",
       "8bFUaD61zWGVwrBWFc4DJ3zgEcQrzsjOwmYauGqRg76qmZlK472hi5RCTerYNcJyYFZH3OmsDUcX\n",
       "FX5x/Dv7PP+8MLiW1ntgVt+7d+m/oYntVGop8RDWenhuZLDT5tKlUWq8lbP578LNVJANv10S8Mru\n",
       "tv8aKdWUoUlxQAG+IB9HaIerawHn98Y/HEvbN9UguCxmCsslgKvL04/mQ0r782a1ptWcBqoFMan7\n",
       "0Jw6s6LOUxe9nFYNPHTo6FiWH12ifmojIPPkIrArzi+b8oq6zkgFtUJqkEsS19OD1ZMG+VVYqd5s\n",
       "tVL5Bm/W1iFLM1T4Mz9i+fxGZep++23ePfdRXhBI8ZsDbrXEcx6n3nbRipb5TJsGnn/rINIyGjls\n",
       "R7xYGM1N3Y6/Y1jlVFT6Q4hIDcx7Y19RwRkebjuXedgLpMZ3X1Oh8gI7aU+Rno7nS1HqQb7d8Kbk\n",
       "J9Y4odcylJ55gbTpjM3vhASwSIdugAAAAF1BnkJ4jf8BzE/OOFFgdbc2XGNtXFDm1GBdcO0AVASg\n",
       "P+FZi6gMJ8yuPTbSe3bK3ALgrNNXafSR2WbZPE7XQn+CkT5LNYdcIg2vJIP60nStwm+II6nSn1rc\n",
       "+SCO+ekAAABBAZ5hdEX/AkqWIgAbgkJ3uDCOY+sBaxlYufjEVc2RZHrGaC/nXEr35pL+91UARo+M\n",
       "xpu5Lq28EvoJae1dlrK1fMAAAAA2AZ5jakX/AJMxK1n+0eS0AHEp7/8xw/fMjerxNXKRhU1bfGH1\n",
       "ez5+Mfzhe0uhDQfoHWUBJBNxAAABL0GaaEmoQWiZTAhP//3xABrdIqOMQegBHA/ws0oLT8ByHMwv\n",
       "/wPkIbPRPwrjCyrfkinBWd+k23RL+atEGQBwwadmLx1ZnUnX+APbyosBZ1yLIVU7I2Hyd6piWxLY\n",
       "pu/DWN4onn/YdqF8Zs+pMyHrVPTxNUh8QVEWCUJcMcFkctpA1sZDAhBVGx6uN0/TtCJCRqdPQICW\n",
       "+2wyrduWaGXDfquzBAn6ePoxxKobKj1FYbqU1mb9NI5YujsR/IGkInXJlhbFZdYV5ACaOWjNyzV8\n",
       "SRg9P9TIZpFSCUj+JgwcocFggz3e2DvqrVTX5ApN/iq4xLfCaZgq+xxsM72IieLdUxtouDBX2YYe\n",
       "gwwNymjoHW0VtuzQNreaEGlJF6XRho+vYvNMzqpBGyfXAxd3Rv1LGQAAAE9BnoZFESxvAcxDSbPT\n",
       "Qj84oudwEezMexHoQjOviQwi3C+G5jt4baABuwBpD/dezoYVyjYsEQfk/SzDOdgLIsUYxiB6UgZe\n",
       "5D4UBQQvkDAhAAAALwGepXRF/wCTMM/mAG5uyKAX4siyMH8/usKTmw/ySe6SzID+H+ADupJBpnnK\n",
       "OAUVAAAAIwGep2pF/wJDOhcxMTEdJRLHr91R3cALDg5cWL8WGi2swAb0AAAA/0GarEmoQWyZTAhP\n",
       "//3xABrzCFV8AIpXTpZme8tA/swWc7yXpO48dIUo2hHmB3ojXsXO+XxZk2NKPLASfa9avox4yTcJ\n",
       "7z88/tijs4o8Gqrn5ErwfYWiYgQjYR467nnmSNpRjgMRMeuoDcuz0XlY7kqEtNuYqYMtyrpi54+0\n",
       "YKYqdEskR5x0dHO9fCXpBFx+aWIWcdO3HwGWa0uWLd9Mj46Oio63h+Xllax7w+KwJuMF1G5zqsdT\n",
       "duZxSL9kBzQqjpaPa/2SuwvTVrhV66qPuoWALg8x3nC2dAOZSlTFzeyfCLdD7ufOPAe+WMdDmI49\n",
       "XP4Yl4TrvUpVD0ZFYmtOmgAAAD9BnspFFSxvA5jxTgUNTImt4DWKrnNixN/aSBMimxUI0jIVkFa0\n",
       "qdR/sl/h/eUO5iqFfty8xG9i4wX8mIZ8C4kAAAAkAZ7pdEX/BJh8/KCX1kwAhenDBo7Nf0UidQdt\n",
       "HQugXOwlgBlQAAAAJgGe62pF/wSZWvwMKAG5jltlsJDNtLGJ8bPPdc6vPCWo7TZMgBjQAAABMkGa\n",
       "8EmoQWyZTAhP//3xABr1dKlj8QBAtpKex7R/z0MJTIboTnn6TQKtCf/SBB2Jt3SQlrqb7IWGTOPE\n",
       "Etg51hfyblVz9Jc9XPmLPMGFoZYiSIrUHFIa6acilXkfSz1qReJ506fHpeYYeQAs3yfjH/Xc/C1C\n",
       "mYEA5PYsnUlzBoBAMAOos57SKSe+hjOf5rcGW2kjSINEgTsBOvbQXwkM3rwrKzLL8DxfU5EcyTtt\n",
       "aSnnELmwwaqfTANvkKJ/OR7v87MoKpRZ6oCUWLMJySgSWeNzfAM6kqsYsRgJu63sxmykRXzUp3gq\n",
       "GIQd5sC6PgW66f0jS6djgHBD9hM5qvqBti6qBHY7XmhWt3C6bYTdnY61NOluY6dXHmGZ4KN8/Qs+\n",
       "6XRX0uDRMh9tJlyiDWtEr+DC7wAAADpBnw5FFSxvAcweZwXZk5oRIqKDM3ohOBx/uQ5NMiIb3f3b\n",
       "Sgg6huGaL6v0NWHskDX/nZ+kBAIoAB6xAAAANAGfLXRF/wEmH5iTvHbEMwA1/BLlZdfjDLxAAQy+\n",
       "dyp28kgEMX89G0EhsHOEm4xDMioADUkAAAAvAZ8vakX/ASWfSbLi/ZCbNSwWyAAXAAoDMu0uNEfl\n",
       "z8ZXHYpz1eOUjNEGt4RgDRgAAAE5QZs0SahBbJlMCE///fEAGt7Lp/epm4A5MpOU9xIZhO5WTaWz\n",
       "tmKaFta5R8Gos/f5B6RCFYi1ToUr4G5wFNWK9FGJdTB0Ny2mdQXbOv86/XvcTIWz3YaaTl3zQrIy\n",
       "RUqjLYOXf9a7dlTLlPNqwtohSNSOu+QkPkOBCriOgRTophGowKMEgk+q0tA4V5xyxmHgaRRKaorW\n",
       "P30oQtPy6Kbc7E0Zq3O120XxZWwJymfyu64hOUFo6x/KxtHJd23IlOuDUSPtJqSPdZRIsIqOo+WU\n",
       "8xBIto6sOo7rgWkbRB665mT5CW+2wQ+NSv8Y/8apFztc0nOw5jtc7cn6cssg7QeDEc+iF6ghHMBK\n",
       "sDUMnPAXM2brmWpBtjeT8bnmV7RvuB190/d6y3fwdKvxZ0r4AYbLXjNSstvAM4gQ8AAAAEJBn1JF\n",
       "FSxvAc/LkAEQGqFzah1ChcoIMM00a0px9DvEPfmQOuuE5x6F4XxzsbUNTo85Bx/zw9UaNEA1aBXL\n",
       "vuqAOOEAAAAsAZ9xdEX/AJIc48DZ8lZmJz7Gw8ALbLHNSXTzxTFaEcWdlLdSQqiGXgZIFBAAAAAY\n",
       "AZ9zakX/Aks+ZIDX0x5BQ/oUJ7M4AEXAAAABDkGbeEmoQWyZTAhP//3xABrzCFV8ANuL3N+1T6G5\n",
       "GEGWuiCQZ8gGJQgeBO35yTxSVloGXZgQrRUh0i6hPc6QmHQG+3OB/f5T7sL3Z4fwzYtNH3yCKdlu\n",
       "7Yns+1S6qhT9pqi+Fl/xD0oKl5xO62DuRVndUTM5GuO9vsC0e/+IS+SdVT0xt5/wELCBEmTaAlH5\n",
       "xPD+yfmU+s6pprPIi07KQw1ZSJ+aWovrGG1nkdxzyvijg5G6vxzwP8bQGE6BVHdjWXiIsJpBLH/D\n",
       "MjxUZYxBCPbTwoBr0mFmTW608BKmJVfxiIh4OBk39PKrm93BWUkQuLive6h2gKsR92is69JSRC9v\n",
       "x8R2ciE1gCZSaRKBUwAAAEdBn5ZFFSxvAct/I5QohyKz/B6yR2QFM2NHiQLrbHPjs012gCHBnIVn\n",
       "IZI2OgJ/XtiHizVlSbOP1baXx7I+C6siXMqxVgBiwAAAAB8Bn7V0Rf8ABLmAN376RBACxsD5F8fL\n",
       "0A47OY59GkTdAAAAKAGft2pF/wEluQaIU2ymhM9UzAC1VnryvQnFuFvG/LxCrnzGNMG8Am8AAAEE\n",
       "QZu8SahBbJlMCE///fEAGw0vvCZVjAEKlS39zrGt0VB1ev+2DSUQ0ko0r0YEyITISOzWpwaZaZ8a\n",
       "7N0LuD+IEhOF+ashKS/CxOHeQOkOWoYl8VwbxIlu+3pbRgpSaHdu7RM9RWB4MbpUE1DfMB+4IVRk\n",
       "7vNCeKEFblUsvTrU19r9RRvHVsgof6LjlNNTC7RXu5k6NyUns3S3COU+n1///x8CZpOii3CKAslV\n",
       "fZA0DKozOQeuto+TZ/BXx5C5h8XlHGGBpLXPEecgDvbe5cStLuCvr3iO9iP49rSoxiETFeJd9eP5\n",
       "O525XIkcdybrL+BbommdN4nzEUkKqTnE2Lw8oSzsUUEAAAA+QZ/aRRUsbwHNmp/GAVGQEB1jcdSG\n",
       "B6ItPRw9JRWWy14mDFjnAADdiZahc9iyGWg12w8Ow4WsvwbykWAAF3EAAAAyAZ/5dEX/ASRUe56Y\n",
       "v6QAC0Yia+M/ehMH6KxqsASt8brd4Yry+s9cH+aW0oZlce+QB3QAAAA2AZ/7akX/ASW6MiAA3YCK\n",
       "3oZRkWeKKjaklcZEtXOserxCjv/S1HfTtL9s2GfgoXg+LmYgAHtBAAAA20Gb4EmoQWyZTAhP//3x\n",
       "AA13eLq+cPmV+gBTnDx42sIKolx/wwrF1YSHwYaM60oB6qarpS15bA/4oV/pwfpOL9p6o44jDVeO\n",
       "2rah9fsNfyxslLrdPNBxxvL2zbiAEWZxjpEvWQHa8xidNjmpLW+yca7p4udf6agN04XLRfIPOwgE\n",
       "mTsAXr1boG8RNICiltpapRZlA9q9AhEN6+9sUq4IbL+c/PNLY04G24Lrdq1Ogj8JZP4yYmsWz5fj\n",
       "zN/kNvNlKjDFGFJRZNFWKMH6kwg3NLh+D4apbQGLt2cleQAAADpBnh5FFSxvAOdufXIsBkKqEmTr\n",
       "Q5isVcaDABsyFkJPMJj5lJusgTI0wYzHaUukYgZnNKEZFh5ZWAV8AAAAGAGePXRF/wElSMrF1esQ\n",
       "BS6BG0MGfAACDgAAACEBnj9qRf8Aks+b2J2HdHAA3YABOyJ7XZlKwy5RdRxoweEAAAFuQZokSahB\n",
       "bJlMCE///fEADXbxBJUd6x5ZN14Ajx/JRoP8NxOkVpyNjxpbF2UxMRcfaDBY7PdnS73BR9oNHdSx\n",
       "Bvs4T7xVLc4nGyyaVibGjI2NvVFykLuG509sQ3Zt4qFsqomhZa3ydoNpDC2+RMFlIWtDBKPzfhvU\n",
       "NKYAWTzPn5AFvemqKjhdkchNFxHiVjqe/jxjiQ55A+2qVh50lQyLdiH6JQOeiWr5Ny2XXEZ6GPqm\n",
       "qskJ3wWqSrZiIJ5F1MCVotFd8C3hXySEte7cwGaaOPL80/Zg9iCaHscen8j0X6rN68zTdZ/GKBzL\n",
       "ZadydfxAUX8CgnpoDslGS1xU6/Yza/sq4bAWuEFnlurcWgJ84fIg759mN+5XJEdyGvDpIvsRiWbQ\n",
       "e59EL9+O87ugiqA6EMlwf/PXR8oVJnMJQQeU+0SYxlnJYRf2HVfjw7ZfeXPDKFZiClDg4R2c/6vj\n",
       "KdrLF4fso48A/YIQ1+NueQY4AAAAYUGeQkUVLG8A6FS2FhUPL801uR3pmEoA2rG5WgxHMV2e/0H3\n",
       "FCUhogIAFrOCpptpriGKcvJH/ucDJKf9knY+0YgFgZEEBnTnHOMuFWyEmTxxbLR/MdtFk1AAk6cL\n",
       "yJUA2YEAAAAmAZ5hdEX/ACTIpjz7ZCnxVq8snXKCCfft5Ro4yW6nRXvZFhIwHhAAAAAsAZ5jakX/\n",
       "ACWTFsrAA3BIBswaUDVvbr/ufC1dYDQhKWNGaq25D34Qqd/oF7EAAAD/QZpoSahBbJlMCE///fEA\n",
       "DXvSw0AEbdNpP01vvWnhtLwJNHMNNedaiQ3EKdpf5W5uCBbx2k9lLszK2saJiqvrbk/0gSSgb1n8\n",
       "K2gtWhddQdlYQmJZyWgscTfsqc3ZY0gds47dHqrKSxtB4QXNsTS2QnLoEI9lkMwNkPW1t8o8OFHi\n",
       "Nv1uT08z0Vxu7lGkW3ngSD0lwUEQoqnd2k/YValU7upx8TPnXDVQjn7dy/IPj6EDYI2UxqQra3Nr\n",
       "UPplaLGKBrWi6M8KEWzkxVmkO3yQpXeZkyGd5j6h6ErpIsZDyWoroROHqH+AMq5/YvM2tCebuO3r\n",
       "LKFVEyrzxQJ1CGLLAAAAO0GehkUVLG8A6FS4aJ73+vMCKW9VayXKC4oC6rya+NYSivwS8xMY17JA\n",
       "D/Z8HLOQ0Nlh5xPv7ZlIACyhAAAALAGepXRF/wEluF0IuArsID2c5sAGbgQ+5l6bodV4Jb+mX/DA\n",
       "h2ftdm0MAAZ9AAAAMQGep2pF/wEknW+nh4kpId/4ZO3Kes99AC2r4qmAtOag0v370RzDBXPnlHt4\n",
       "+bnQCggAAAD7QZqsSahBbJlMCE///fEAGwH4R/oAbb0HO7AAjxtf0u+BvJiMprSTHLN2tRm82zqt\n",
       "kEniIXQbqSmyWXFkUbkHi2kMhacNbfy7dJMiInQuUzkvbZk9MNWNmtd+1jCXNGm2rrz9OoZt8RKs\n",
       "OSco2nLKZZ+dIcDfNMqqUHORDy2PmFTiIRQRYisFsmB91WmwRekb3fEcnY7cZC3FW2uZyfxJ3qC+\n",
       "rUvuo1DbkeYpzeVhKKwKU4X0KmcDKXzOX4auAuNenkAx35GmTsPuHytq40du2n5QC1akOaQcn4ps\n",
       "8BlViEuC6cIafsvPBvyBXPg3IxBCzgNEZXdobmLwxYAAAABQQZ7KRRUsbwHOeDbtyKiCvN1bIRq1\n",
       "jdp5Rr/wAAG83JCZ05J4Zqno6kTEoKrD3ylEOZuKkiUQ1mhOXiBeXx2f+mTSKGXu5ItWKI6Y0Q8A\n",
       "GzEAAAAkAZ7pdEX/ASW4XSQC6hYaNcAgzSzEuA/tMZhowqmprK18ABvQAAAAKAGe62pF/wASSX6S\n",
       "w9B2/mFWiAJADYudNoW92XEuUNrdLm4qo0xwOmAAAADcQZrwSahBbJlMCE///fEAGwH4R/m00R8j\n",
       "vgboAttdsZPiu3ehEnWWa8JhcimGSeM8NkvNy/7FrskwQc7+HKAHaMtQMfjFdJy2ctbFiivuJTFL\n",
       "s58Xj3HuUhtw44EjDqynC40B/yy3QAQDhvtfrGDJuE1szg1Rd+NJ9XhZSbKaOS/fCTZc7GPyYwFv\n",
       "S5wG9OUm7brgVAcwOTAxuyySqYMa8PrCqKgO2DFUXFwsA9dlpydi4RlXXrzm5MgjJhPNSVpQBKoX\n",
       "b05CLwO+upHGsgg3ZuGdq89GTNYo7vAN6QAAADtBnw5FFSxvAOhUtick13gdkCRj+82BsGyyi3p5\n",
       "y6QVf6SPba3SGQigBRiMmRUAdBfbNpHq8Ks6fiAxYQAAACsBny10Rf8CSYVlk3cWeLdrMARIfxbe\n",
       "MEnciFMAEdymvT1I+crYMg04AAI/AAAAQgGfL2pF/wJKuKh/gjFLa1Kr/1gAC2prewGh0b9dn+4q\n",
       "Hh4EGO/mCeASxHoCB09OAb3dwQ+f+Odh5tkKtlqJg9YBQQAAAR5BmzRJqEFsmUwIT//98QAbAfeM\n",
       "yQBygsH+ElCvo82mjZnKcLtlDm3oToZ2WHfQ2kGgFqXC9O+qUy3PZPH6Z5HU5cq+Ed8o8gqMYsjU\n",
       "IuZDaoIrKSFthSJ32paGiyA/mNak1U0Lnewp90jerG387ymhqBrrbDtyJUCKDfRtNzfZZUpY9UMp\n",
       "fMSJTcrEkUS72LyG8T58vGVP3yv6hWRYAQ2+PmHPoz7azDbblsnszneWkt0G8m/H42Ob3dPWKupj\n",
       "igIuVv+BAp0qqKAwMwfxjdk/9hXNO02wlfDgk4/i8OYPd+32SDjrrvhTs7cV6Hcjm94lKOPI3IfT\n",
       "ofK3VkjZzdpx36YZyRchBtBCqDbTq9TGZQVrDdPzRfJ33sYI4LuAAAAASUGfUkUVLG8BzJEV3cRY\n",
       "U5+GxN8A4mPO0xWADLvGQ6QAVvTnR0QCmGAk2QjZNAWFOG7X+7oZq+C45Ac3nq/0lDyKtNOxfbwA\n",
       "M+EAAABBAZ9xdEX/AJEBQpVQGTDe9r9YABESB3CyOBe4FNI8mh9DUJ64/YSSraCltm/3UaEPFFkL\n",
       "vqK1leNIiQyGLZDIBlwAAAAoAZ9zakX/AASya8xn2sEAI8Hldro1pkUCbzyS8PFDbA1tY/+M22AY\n",
       "EAAAAP1Bm3hJqEFsmUwIT//98QAa3ND5isk6mVQc/oAIwqYkJRRWZrUiAEQ7a5KKVey5B4IQu1Vp\n",
       "m8v4bhrIIrp5kGIUkFPfQhQ19VsmcG4WfFq0htqDijwdSUzhqSqAUct0VnV7BsMABOrtvXY7N93N\n",
       "HKWwR/6yV23LlEqCeJNWoqQSR1M2o8jSNjinILx6kYGMye2bGvKujZE+JwHkpt4BdSUp+f71pJX8\n",
       "ySs+MLVBg9srL0NKLNfJbo9R/Odj/FBnLfYLwXBlnhuweAUDzeYOej78vh6d8xN2PfnaDWZ0Uzcz\n",
       "OMXbDBTPETZ+yPRf4D3m/Tk6JRGO1ftdAbD8OCJhAAAAQ0GflkUVLG8By/bt1NOBjJamgBsW7D9U\n",
       "aOejlz0RnB7gdm2YfskxyX1YGbY4C8+mNz6g2jHmLz8JlL9cPBQ9FgM8Ab0AAAAlAZ+1dEX/ABLk\n",
       "TfKAAZr4u6FT5+VkBlNsSBj5+tPoD6EafADpgQAAADIBn7dqRf8BJbkGdy2L9dsaoHwdHe3eVxh5\n",
       "/VAAtpA7hxUoWLSdkiiaTBn+kA22CugDKwAAAPlBm7xJqEFsmUwIT//98QAbAfhuOAEeSKjGzyxU\n",
       "SBl1G14QC2XOlfJIDOeF4s6qzQzvD3kcKgTftv0+OQD2dplCk6NwSrWpYtRBrQa/garzPLHn+Bg4\n",
       "3hglk7QVmZ4l5fzztcyY9DDX64QbuyI0QzpMY00sWhvpd30dh0CInHEdhzqSUi87LVNlTwug/ifA\n",
       "zSTv6k5llp/ahmq5GUIsdLa5l4bBYB93mIQaQQDhP4UQMRKBXHyjsVW2KGE+ld1wsj0S9wyqeSCl\n",
       "GGt5yX4fotGFEOofFCV1JP35sVTjrkfHZ+6glsREkZVfRkmwT3bk1/2jJSoxPJ5V5bQAAAA5QZ/a\n",
       "RRUsbwHMkS4HzqwgA/kxhOPGAEflgNADbFcxgZeMXK9yVZQYBjNg0anGsWrC4yQigWRNiDAhAAAA\n",
       "RwGf+XRF/wEmRR5YIABTTLN8qYhTuu2R9FdCBxlUPw+Q0U9jD4e5mMufLO3A2MeejSpGYbFf7H6A\n",
       "TAUEGqfGBeVVNnMJgAW0AAAAOAGf+2pF/wJDNl8xL024gaJPAz/RiMN7GJJwALdyAHrOOgeNM0IQ\n",
       "BG59U/z6XyWN80XhxmIqMAKnAAABDUGb/kmoQWyZTBRMJ//98QAa3NNYEvcAI2FHeT+OSgLEriQC\n",
       "JzDdg8JjpFTxzWrGK+F7MJHI/1tcBDLMFbiiFAT0AOBpu/biDsFW53LQ5ilJEzGXKC08UbfY6v7J\n",
       "jrnCNDY7D671fXEeSm3pnD4batBsLfQb430e3ryvJwdWfXSvdaxLZyGlXEQa8P66BWTOuRhbj259\n",
       "mNwe1ZvhZjoYKvH+k+DmwjID9gT58i8mf1RObGgxjOWxwd7fb6PnH838xTun7Fy9+ptk0LCGIkTf\n",
       "aZRbNMuVentE8MezExjprTF2vV2AcPuV725hY1Rp/igl6l8foq0Mu9DZG7gPS9ud0/nSLAgJf1Bq\n",
       "XVS2ANmBAAAALAGeHWpF/wCSz57BXABUXY9410AJYhw4RzVyylNk04aorWhdb6H7YllmwAD/AAAB\n",
       "GUGaAknhClJlMCE//fEAGty+IB03aADjB022nK1gx+Ok1gkYU5BKIk9vVOBzpQM+uIcgKIrx3kSs\n",
       "FAJmcDvDeNHgUgzEj7JO0mX3JgPY9mIxQZsd4XEwnm9w6HD9emPT0mMrYBiZtR5Dld3AFLcmDEzL\n",
       "S5Eqrpg/QtXuX5igt6aHgMFjBCpsT94MYNwh/Gbe+uhKGoMXKv0XvJ+rM3HLUdYpA0nK7KnNwk7Y\n",
       "CyqtQiBJCpl7KxKIDbzNSPVxB707qDh3xKgoi1jfPMFIra+jg2mj0IjPI3MFNhTpjLX3xb+rfjFc\n",
       "pWy72DtUPlKHjQetpSWB3wiPwRqIVWOCMWtSHqC76SGF71i6Jf4LS57eNI6cYnON9rcogLuAAAAA\n",
       "VkGeIEU0TG8Bx9qwWKE4pcl8PsdfgBFjVNvlHDihNLEQ+ASUdoBO5uihqd5dbCdlZL2jgrENIu8Y\n",
       "WGazAJ7IoWercjvSnJEUcqqWM1P5lD9Ode9AAImBAAAALQGeX3RF/wASb98wA22IsSj8qdNoKBYR\n",
       "n59YZ3AbNWt2BJHSJl/vCX44BsYMWAAAADcBnkFqRf8AEsgAVTQA3McqtmeR/s1xy8ckdPKNixH4\n",
       "7g6hLL84Sqy8g9UaPSW7jHZSIwOIEF3BAAABFkGaRkmoQWiZTAhP//3xABrcv4GbYu+AEVfGozLr\n",
       "9Ji2EJEe/E/xHwf7YAqFYAq0QEnJ3mBmbRhMF8WewRTuO04stjc/akMefd8aUaRFO0Mh+4EHjV5w\n",
       "BdQoIhpGyAAwn2MFIipGU4mGf3OmkUT9f0r8VNbIMA6Wf97chGKdLkoxryr4n41UqFkv5X8gINnW\n",
       "XRWgzpSHGABfgPLGy0bewh9CfJVGO4ZiyLi9Pfn1XUHeLn1UBAfS/zzVxiIkdEJPGI0C6UITwSba\n",
       "XJUdsNvc43oltUTikp2hA4OJq7MpiBTT2h97kzgUQTHn7+utuJZ0J8362WwpXj0KwRD4Wj7BEtz7\n",
       "c8OHwehK90Rjt2Jhr0xRq+edCCT+AAAASUGeZEURLG8BytxA0V1wrwKkWzHhhQGNXiRHgu4X+8gA\n",
       "iJBvZn68DI3+cRCXjMk56F7gOxmQOEXe1RKVWp+qwPH1LT7b1pIuxgUAAAAfAZ6DdEX/AEtuFl/j\n",
       "9aLDadNzFCqua4/QGRTmhQAKqQAAACgBnoVqRf8CS0olAAW0gdwyVK8Ohgo1APWIrN61RGFI46iw\n",
       "syF2gA45AAABAUGaikmoQWyZTAhP//3xABre3h+eTHnMEcjgCIluOaVmH33lBi/VU/+uk8BoyMwn\n",
       "HYjcUlpKf825Z0qm8AtCC4C1lltXc+OED2rJArnuZ/UCcPZBskyB4WnRRJjQWniqUvTxsli5w6v+\n",
       "JZjCbYE1RSO6JsxBbjzgPYz7VwwnibTCwGdvakzuisYcZheyHSmhQELrRx/MlcU/RBgyG4QOJAAl\n",
       "N9Hws/lQdzaA8bWKoL3M0BPqeeeqkHXcywdV2IHcCHAbVMdf4U8AuBT8lGd/csB5xtGWTgpDnNBc\n",
       "4WDndSzLMO5720iaK+4bwi1Lxz0FX6K0H/wxZz7xy7ZSMHU2CqPhAAAAVEGeqEUVLG8Bynxcp7kA\n",
       "EQd8Dv4K0d//sZbJb7fW0UCk+bI46I2ELowT3Y7W75s57NtAVG1Ishh/7+4dgQKZpd39XSgkMSa9\n",
       "EaocvXGJEvIiUgCpgAAAAEQBnsd0Rf8CTaJEANfwS6oVwRtPoJVXDm9LXk0k964hbwt7dmHRTCz/\n",
       "nrDr9jHJb307//608B/p7SyGmHWeoYBzJADAgAAAAC4BnslqRf8AEm/fMAMwgXdCHpzdLB3IeSUc\n",
       "Zm+vxm4Ldmo/SGoVLRyJ0qPPSHhBAAABJUGazkmoQWyZTAhP//3xABrdmCOP0ZA4AiGBUGrw7P1u\n",
       "pjcJO6WP2ZvGpssYObChhlYWCdNRgGJUG5kggBRW1/9nJ6rVH6xMc+vpvJKUTxwv2vjnZa5FxnA1\n",
       "C68uPLMGlhWf9ftdjj1YkpHY637o8DKQZ4AUcjgNWezJ393KIqdHPb6HVPl1Vc6ZsPEeF276ROAF\n",
       "nXmlJXSa9pLDyXU34scgXEjS865zajnrUqFdX3KnEEc4FadPXQKlZaqA6x8/wAuxuJwjtrYc23wC\n",
       "Y7w14L2uAnIartLhLtkzI3mxOhJxRzB37Fr3n3kZ5VFzCDVJPwVG3rMwokNP7tGDiDbVgGpx5MnZ\n",
       "1T7QBjxelJTlzTXjbqB+Ii3leWkIPnkXQOZAOUG67y8sAAAASEGe7EUVLG8DmPFgVf8gsRWu8eWR\n",
       "y/hcARg5SLHc1WX2tAKVykhTHN5HaGW6AB/fogLsDsC55o1rYSdjwc0j8FZxqWqbRsA2YAAAACYB\n",
       "nwt0Rf8AEm/fMAMwgRRCG3vFme4aZyXzUCSandPv9BOnnAAGzQAAADIBnw1qRf8ASYKxpHOi4Vxl\n",
       "8LpoAVICCSo/BZjjrQndYYVD/y6Lch7Zchh14uPOxiAl4QAAAV1BmxJJqEFsmUwIT//98QAa88FN\n",
       "bHA4Ag0+Sp0DKMEgX+3cNVvKcCNu8BLQ0V+0pN5W0pmh2hj1FF14sqXOAXPluXtY65B+qJTp2her\n",
       "aRbISrk/gXz1zIer0lFQDIuCBuukwB7mTBIzY+F5p3Oo5h3xqgidWFmP7t4cVztWcURVjRGHj9Lw\n",
       "VpTcFWN1blGbJVmWuseuzYRVJwvt0muakTlpCJmE4y2rLpPm4zOkWGADeXOSRw7TSOTToApmfnRU\n",
       "hIBJnMX4IAKkSbJLRF/mK/45QwiOX1A+y1Mq0sbIqCi2E4v0hIoNChSXNkNUYtzRWqDVbtHwRGmc\n",
       "iOlJ4JwxkU/J5BtXb16MPWk8UYOdopcUOur27B+G1bYh82WZaLtcC1bQpHpiAPB9QN4S2mrwRfHm\n",
       "1FeOO5UfAl9kw3ecj/eIJ72GZ/1L8eOesB8QCjrd4bORqjTGiSH2ejewOLaBAAAAXEGfMEUVLG8D\n",
       "jg8eESTmLiRzW/VV403kA1FTytaW0xuzOz1bcKm7JL2Fp+jJVLLLIcZInyj8D/NAAtGE0Ut15t1W\n",
       "EeSmphUbo6w9lWubev3xDAZ9J8EQ8qgS4CmgAAAAOQGfT3RF/wSUkmsIiFkCOA4Hm5MS0/8oAb8V\n",
       "Z34nevCp98W8m+Y+VSj5r+Yns8i5cVN+l3aczoAO6AAAADoBn1FqRf8El9CRsJABxKfCsJcZH92q\n",
       "3K4XWl5VEjCu10EaCKpiLNgY/wAUbHKUuTj42i/5j5cQACbhAAABJ0GbVkmoQWyZTAhP//3xABr3\n",
       "gREn9QASlvSxZf6DxeekGJmDVvCWMXRBwp/5lVmWnIvrRwYTqLK7r/mffG/G/IBJtNteeyMbofAA\n",
       "L5a1HFQq8Y4QD2ZHN66iR/4CqwBfKUtTjn1BEnVHtol4CigWyf37mXl12M9xjLJy9RGkFmIvo0wQ\n",
       "OVQ6xPn/iWYn8gPjHm3rQEuWVVJ2nwrBzvwiWS9/1GkFQIDG5sbGJPVp0m/3eUQxE8P15w5JxT9z\n",
       "xRMTn1+fJbef90E4sRqH+Yulfpu7jCft3T8EXSXveNM3YsBSazC59tiQnw41cvo5qQug7py/Aw5Z\n",
       "kQAHAolvnttofLrx33dJMojHtRshAZ5MHvn5Xh2LuQ6XNfd8mAySGoZFAIeP3dJYMcAAAABfQZ90\n",
       "RRUsbwOZ9oj5nzyVtqaAIWk6Fx8QPpmrU5SsJ4ZyJS+/Lgr5LOA94GE/ITvelhENHMXWeltyS6gP\n",
       "cgzMXbexX+JrO1iS4+slXcKzPvuonU8CEoiZE4klOT2WakAAAAAvAZ+TdEX/BJSSehhz//+qtbHL\n",
       "Tnw4wqkTj8XKEHjwAN53AIqyMjWht0n89d0QAVMAAAAtAZ+VakX/BJfRJDzLgAiv7iosbeOBqnqN\n",
       "iR2qy28ocXEQTj2XeGdDhtD2AAh4AAABM0GbmkmoQWyZTAhP//3xABr//4bN/pwAsC6mT1QCY1u5\n",
       "G+r+FtiYt8OWcjfMzEToP2MXi+l843WoCYgYhKldRYTO5MeSOipu+1U16ZrlCt6t3cuEaMoE31sU\n",
       "dzSlgA9JUJhRI8RJD6lWJrvCZP2yXBSFiF8KVDwPs3EvsIGMl38K8JL7rHpEoXE/iYVfWPXc2oCL\n",
       "0QjwEOMuuxw7SUM13xMsnpQ4/14KDt/16kyuqOGI7W6C/O9QqvbyNE4MqjgkZm1TMFwRv6Seln+o\n",
       "UaHyFtFTheEdWabZK3jiJpuoH9vr6QppHFpMeeLXWtioncFlc2zJ2Xi8QnVxs1ZDYJ6B/nYAvPau\n",
       "2qreKYCnkFmT49rxavA2y1p89jHDMw8OUTIUX40zikrERXnlZDCqXjIcm5F9J/EAAABHQZ+4RRUs\n",
       "bwHMkS3uDMX0AxikcYv8DADqqQ26lDOI20AI1dYfWm4JyItAHEJh68tPV02lEUAy00kVNp9cUo0X\n",
       "N7YuSBvYAW0AAAAfAZ/XdEX/AAkhyVUPLGVxaH7x2bL4lwpaLkmbBAAl4AAAACsBn9lqRf8BLV4w\n",
       "ihbmOllAksGDdtFeuwAiyBn9wjJ6vK0vfsqkyas8ABCxAAABAUGb3kmoQWyZTAhP//3xABr/Yek9\n",
       "f2ZkACNI+XntI0ZRaFjEA58wkR2kzy2aI0XRQMMCLv26EreKi3zbPYVRhsfp+6y3gHYoXrd/nZFy\n",
       "XKa8O0c0xSWHoagbrSAi/ANIZoPdxnTsMn/hwGcM3Y+p2Ns9C2Z2sZ7fufWHjLFPGoQpq7TOSN06\n",
       "VSj8muCkFhPMmL9vaRRVXksTcuuUVE5jmANsF66YaAv1LgRjTj7P7HA1YC2LV3KLgSAhTdrrKWHj\n",
       "AeAkzRdKO5HqUxqB03RdGjw/aC6KdhkO2OtPBd9VpgHMaQmtsqOBO1w73d4H+9UZ1zqQXVrVvyAt\n",
       "bCWcNvceGAj4AAAAPkGf/EUVLG8By/amJz6jBAzaEMloa9LyEHKqdMl4rfNACYNxVt2Dik/9Z73E\n",
       "4mitvJSx/ga3oobxBW7UAFlBAAAAJQGeG3RF/wEiAo0zB5BvDmXFlRYMPAzmdM93oCOgUfu85gIA\n",
       "fkEAAAAjAZ4dakX/ASSBwzBkCJdWeA7E+j/uBHgeyxfWfYuYxJYgAZUAAAESQZoCSahBbJlMCE//\n",
       "/fEAGwDRZ67oAR7x7m99p05shevn/XtFnoH/yICM1RHNqYhQN3LmuyPqFbXh8JBRwSdr+QGT0uAz\n",
       "XfJ3I0tF1TF+mGclJxMAWNlXQK2QFsjWAtsJs93Yn2MT8zL8cyBrnx8FBVoi4M1dEDmbIppKMo1A\n",
       "J0YY9WR4fy2RoGNnvSZRJQf9CUdfPpCPZ0zNs2F3KymEGcunSMMeXdNMSqzTbvu7tUHRVQXQjc6j\n",
       "rNRmZ5F7BOTboWvJNuHWigx5s96x/9n3rA8vdweHwyTG1RM9wqn3+sSIYo4RLWwCvjtlZk9jdwDv\n",
       "1YgveQjPNoU1yZIm59gwH9G0EAlgjoxw0b2dz7VWJqAgYAAAAE5BniBFFSxvAOZUpxysIXtL6g9Z\n",
       "p/wbGTH05C+neaQA2LA7ZIdsPZXZYj+31oeTZsODt3642OigD5VHDLYAI3DpFmObZODBLMYcGXtg\n",
       "BF0AAAAqAZ5fdEX/ACXIm+UAAzXxFDdEx0minVLI1qhDqCH4F7ApzdZ1LcPAAOOAAAAAJQGeQWpF\n",
       "/wAS5iVX6esP28ndQbK05iXWoAShzdH0Pu0FJQ/bETEAAAEVQZpGSahBbJlMCE///fEAGtyyPzro\n",
       "AX1qGm8ipFHSxhS11s1JahEAfggzF8tdMxZu3jWN15jRsu5rQX2KiqUON/Vvy+R6+1NXjVCwvgQk\n",
       "csFTQv1tG/FiyrFIiEg4R/ebxFMAwoEImbFbc99TXK2yVsstfBUBCVeS5VS3XSRprRqbZGSXZU5e\n",
       "OcKom7RrHd932RUBTCvpMBgQIevDfRKNdTc7gPLv27lfxJOJS5jkOfLP2Kscjzsc5brlW7b9w9VD\n",
       "6idvHFXEIGoaMoz7qoOm/BOAJjL9TBpe8fAymf8cGlbKIbGlGTpid2kv6+V5ezo7mP2GqghUIer8\n",
       "34MhNyk6jF37FpAPICnflbEyXti5ulWS3JfMgAAAAElBnmRFFSxvAcowwG6QPgPIJSgemSk/01K1\n",
       "7wFdtUiV2eHJQ1LSvVA5GL3Oac8MZo+AkbdYn7UVydkAK7hAIlZWfuYm7wLYAGfBAAAAKwGeg3RF\n",
       "/wEuHzdmFSGeA7fv+CEtsMMIAbm7JMfgFF3baFHHO/A977wAb0EAAAA1AZ6FakX/AS1aQwvgA4J+\n",
       "Lr1YfQ11vzh40Jw4TygVqoayAILuyB1fijdgmGsgv93TDj8ABgUAAAE/QZqKSahBbJlMCE///fEA\n",
       "GuboqYA5QkINYLG/Xu0fy7ydhA8oCVsuvktu196ll6RNueeoMpdHZIbpaqpve+Ox+fCZDQ1cvU4Q\n",
       "XWbuq+U57CHKswf2JH7RyF0NqmTaWCJ1xZGyWm6iSm7URiCGaz2xbLzY7wLJsQpxVPSbWyTl0WOE\n",
       "svJSXRcJfGzCGQy0fsos8QfvLDfYkqBMnHa1nn1YOdSujMl/pwVGB/2riWljOm1mNnJcJDLjkrbN\n",
       "QJZ+ip3Z90ozaK+pfAnkB5825HX/SAGBc3UFTO17y4i+SHhMEi2UxYtbGAFmrlE8zicMWYdDvo5n\n",
       "zUzChA4vubF6IyBlm9Xdp9tFLYcHQafZyLNRG/u2Xjo7NA3si/zIt8LRHO8m3VqB7OorwFB5RGx5\n",
       "AezNMuuYkrlK9rKHD2ierrED/QAAAEJBnqhFFSxvAOdLvoItWB/KqYAMP/zHhF7C3v2nnntCyZSA\n",
       "FjYJurF80r34FwAWHSM3RZG/kubBOr+fNwxSGEAAR8AAAAA9AZ7HdEX/ASSdqm6j5YopsoAWklyd\n",
       "G/dvKFben5bg4WEQS0aFCFnYhWei9/UAqddu8cBY7NhkUAnAsQAZ8AAAADMBnslqRf8CSrr3g6nw\n",
       "KAA4J+IlSfpnuo0g7wJyFzKqPP8SnQePf3192ST/PTK4tCgAKSEAAAD0QZrOSahBbJlMCE///fEA\n",
       "Gv+VPh04AV5bLKaiho49V9Mi/V7j6hVqBZM7QdjXuRQSoRagO6GtbjW7T8I78G/S/v25BF2/kjBS\n",
       "a4l6a9U4IXCG95uZjnAox0QiliF4nFifV9kCbg8hFGc8uECZ/thNvwtTbvCVnCHk6CGv8AjBKDgr\n",
       "MXLWtfBmBp27CJv9DB8ozSoIcvXlDN2W6/zXsuRheXifkQau28s45iBfuRm9JKo25FwXw1BSbFZy\n",
       "YZUWMpF3oU5GSjXe9W+I4CCnjTAGoaHRC2rLLVLMGgORM2D+BIMupdlTCXsLzdHwNnFQLIRHXWgK\n",
       "PgAAADtBnuxFFSxvAcv2pjIBnfVLUx935RHsGSO6O22Qo/OvlgvbqxofuBd1U08rISTUqd81PpeJ\n",
       "1daJDQACkgAAAB0Bnwt0Rf8AJcimJwGAQAsnmB48cKJ1NN0tcNCbgQAAACoBnw1qRf8AJcGvWAA3\n",
       "YCBEZELeEFDJvYhRZ+zeQcwHCHp4zr8IyhAAtoEAAAFHQZsSSahBbJlMCE///fEAGwH3dc6BRrnl\n",
       "VQBfRLRR+K01eo7dNk7cQWXJlp8UHP77CW3DBC+d9jEBiHBwHyDOZkg2+Y62ooWPj4lVpSixRTsQ\n",
       "r7XQzfCCJ0+l+myF1sZ2B/TqRlss5yRJBTkOUeMuRVXzZEwUJdM97YNPnY7IWfO9KmHhxUgYFdjh\n",
       "Q2MMxmEwTTwUGwxchVQCiuRZ98tWKVLDX8QOgqVC9d4Aho7Id6n5ei3Ak25peBkbuyweT+eZ3BxV\n",
       "rfs5bKWd8HvpMiOHGuy+d3BoZXYC2OJyB24x/mwyWnyCkdiTVHpCiCasGypBIXi2RQrlTmFEMqtr\n",
       "8gCvxNcxq1rlBlh9JMTqSTWW2u6PFE+1m9T66QM4E+g0IcgBGtfVFxBsD2f4n7R9UPhJoyi2wRBt\n",
       "eNFzt1Ev/AYX6Bdv+bXQEJ/BAAAATUGfMEUVLG8By/btyokAnJdAEKFONriZrU/vS3Re9V7trsiL\n",
       "+muQ2vtVb+8F28sQlfioF7SSYRRXJbt3W6nNMHBOiZORrISRjd2gYAFbAAAAOgGfT3RF/wCXXrgA\n",
       "bk9Jz4jRgwWchz5sIP5ulvT9pRm1Obav5yV22+9gelS5GGbmh7mfB42NAqtQDUgAAAA5AZ9RakX/\n",
       "ASSbP4sAKbORefDodM+h0BWaKRfixF6yhjGTB0uhSKZSTfzGtMt/F0UDK2zrbehv4AGjAAABKUGb\n",
       "VkmoQWyZTAhP//3xABuFKfANXywQr841quipsaJO61fFpyNMERr+BJc3rKt6bqhe+gzsLmEgCqiI\n",
       "1R+/VyVvoB4sj96CAFEpjEojmfmz79V+Y2LptXzYOevG6PmUvu1olm+d1pKypnuyyfuR6OD+blXq\n",
       "YRXZ1zVr1JY7nVOWyMSxm+ApUwoVod+DBerhK4ANGWmSWL/EDXI8xMVFiwmhxk//xsDy4VcA3630\n",
       "us7fdBNic5FFg5grAtiDVgukS93d5fnovYnd7LLiGpHH41Kzae9H3Qm7PjzUsvVW3RRFh3a+qXnB\n",
       "QTgCNzjknmTPVWz+/7RPRDkxKxcxf6WArm/5gGipeMAH6wV6KIbb+bMN2lgcqsN0JohQeLaOvdrT\n",
       "DFtDL47BXXnppAAAAD1Bn3RFFSxvAdl0rn3f3OwWlAf+dR+9/30q2vg9fUTMcMedMfls+r8Oaur+\n",
       "jXhN3MQR0D3TISnFLH7Z2AKaAAAAIwGfk3RF/wJMPzE0A8NKnrh+0wDgAloR72qjqOVLG9fZrAEn\n",
       "AAAAHgGflWpF/wBJRzJQvX+GsLD+x8ybDVaNg4KD62AEnAAAAS9Bm5pJqEFsmUwIT//98QAbofhD\n",
       "ib6IAg6QIS+y3GjpfG4eov4wjlsGWOaAd1aTw0sBxecZX2HbiZSYLnPLDpHKr60DibEBtVaQjmkm\n",
       "ret6t/bJjQRunqA9Uv0Kg6YahNF/IVnRji5cMfVEjqBTfsyj9SXt3w+0pcZNGsFTVpgglCiB2iXz\n",
       "66AwDEniX626oHqictzY+i/RPo/Xwu445V0RCDMCt3gM2JSN+x3w7TJNQ17ZwQK3ma2cFTOvYHyi\n",
       "/mSPuPEjU/rPF1u6b5HLc3jWxJXGhFz9CrzPxbpuyYenc+HYtlpa/KhK7ewjqYujoPSZIwM727mn\n",
       "qfb8hexrdsh7ICFZs3WbjRIhlcb8UFpdOm9mJ1JeoHyxkkZPZEw2mF6Xv2jaQahAzmQnBXXCRf8A\n",
       "AABPQZ+4RRUsbwHIDg/99ECd3m/6IzmCQLGu8MGlJJfiiI/IAVVrr9rGOBuTVM9jolgBJIZBCuF8\n",
       "HH9lfuRmBFcs9QbWasv/vX2n0y1fFABHwQAAACUBn9d0Rf8AS5f2vDOkDrPNeYOioFW8GMLC8AG+\n",
       "O6NJGFV/YPCAAAAANgGf2WpF/wJMFXoiWb4b0bTXfFaX+XwAXOC+o42BMj+kkJts7rGD9JjdNm0R\n",
       "V+2fBfTpaUgB3QAAAVhBm95JqEFsmUwIT//98QAbofdxshWgAj2c2rfME2BhDL/71TAw2Eqw1vYq\n",
       "pAgrcwxUnSMdQaNvpdC3pR+rAKK8zNc38093eeBXeTmrAwxIgLqgNwhS6atK66V1O27UdUStWWX6\n",
       "tbaVF0rKeN1PgXudfHe4QgAxJewvuILP1M0pexTBYgpVm7XAEcuLczf23qnNC48mpWmrRc0DCPh7\n",
       "gFknm8CDZimiSFpJwyeCsgy6vTIw7vG6MCoE5/0w9iMWQ3XOfuN0mrzZofYL8U33Srr49WSSofjh\n",
       "IJtrSzY7tsiy1mBMTP8dh7R0VheR4Cu0Svv+yjmqKwlv4/yCRMyYIZv5VkcpxI+hi5x5QQUfpOH6\n",
       "IDhpGbFTHN7LkZVb3/ZkMbzd25PvnYrHwlDk1QKAfvLBiLtGjmUotQ7j2nFgUcqf1jYenq2sfjY1\n",
       "oDQm8wat4/ixrURsYwi7gAAAAFZBn/xFFSxvAcy6CXAj0OiQaVeVJ85qZsc4AAFWAJm5kXnEQaMR\n",
       "D7SWKRercloJHpv+AR6HM7J/ao3bX4qFIYE02/EsGQyZt5W4Y2yHZTOkPZvd/qAy4QAAADwBnht0\n",
       "Rf8CTJHkQAtc4mx6TwvKaqWu9VfobmAdBnKNyz4O7NXmNqs7wKfYK80ephTQ6peNr2F+zNqwAR8A\n",
       "AAAuAZ4dakX/Aks+lISh+i4XuXC7l3a+gBYcHLixen5FClL+x+6a2oI+9Q5ig2AH+AAAAWFBmgJJ\n",
       "qEFsmUwIT//98QAbofhDCJVoAHHo+dfjBNDUQI9gfME8GKYXleeVW1qDKjoFGhUMFC9vutQqAjKF\n",
       "15SGP4KUGn4DtecwmJt8N1KUqy7036o1Ch8OOSqmvDL8HGazGbE0AkNOzOg0rG3AM+4zJPAbgHvG\n",
       "MOnmQx0zr0+iNG6XiWl2UQwcuA16SPWwsA/rJXKJ3vwcSZoC46QiqjscXXG3OalvPycVd3FVJJhV\n",
       "+bRs1Ja5ccvlkAqA7QimL51zfqEphmLjvQeOqptgMXXMIXTpRXHdLOPGw7dlo/cdYBuPThC7Jg8f\n",
       "YhvAlxQD0C+cKZvEX/efFtdHaQG1zWlfyq7sGctjI6jHXLszjb3Zlw85XwC6ok/htBfHkeSAzeuN\n",
       "cz/UPOpeqZ/8Oga2Raz48Qfn26CVTKJG594vTdgT52jxaSoX2Yqk/rK8l8rGRJtNO68pIBUi3I86\n",
       "Lh03YgD0gAAAAERBniBFFSxvAco1muHaXRL9sVyx6uic0ORrVUbWGDE8xLvQkCxAoP5mxJQzXVGG\n",
       "z2qQi9gtgZLIFUKW0ArWKofmV8AVMQAAAC0Bnl90Rf8CSpGgGE9aQidQHMB5+Dr1XbH8hC4ATUPn\n",
       "NbtR/1Sx7FuM0rAA6YAAAAAhAZ5BakX/AEuYn3oSxr3ZkaADvcvp2ROoO/ahVAVfuAXdAAABF0Ga\n",
       "RkmoQWyZTAhP//3xABuh92ma9SlG1QAOPaBapyY8ilGQAt2/Q8xGFDZb+KWcKbE1cJ/xTmwBgeG0\n",
       "CMzxA/5ySI7F5dA527dChE9Qd5P3/dHqJRzTpllyHbcmzuyqbMIUlVaXIRQ9lMLZeeSztDGZKf0a\n",
       "wFj+YlOO4uaKVOyuKvbk8S3g9JpHcpoj7aDb0AbABOvDL4Ur9GaW60sqAeCqdyzQm5zqni+q8WkD\n",
       "LJ6bTr4LqAnmvvMLtSc/TsTBG4//Azo40VlwyP3L9nLLIzDui6vMi1m1qQ25NWUmljLgSaU+RDcn\n",
       "5ic6Nb2nIlHv+4SepcqO4zYxBULsJeVInve3RTWGIc8VC9XCboyRkk4wS20MUABWwAAAAE9BnmRF\n",
       "FSxvAcqpgokSc+S3VllWeL49i8n/rYUMDSvwdt3ErzMHTh6gA4M7F4iqfi3sbZqfIoWu0n79xHIz\n",
       "+dq1t0dKYd8i1zNZeKhTgCXhAAAANgGeg3RF/wCXDpT+sIYdpJXGbG8UAEqZmuPoDfPEp20JLB3r\n",
       "dKcomN3hIu/q0J76G7V7nruEzQAAAEsBnoVqRf8CWz2mXAAzaK/SbHiMv/wWvVgTr8UHCnAwHAmZ\n",
       "egbStqPpPGp5nk5EBlglS1eX/yvB/WKcXqJTPisYmyMiwmTCg4AA9oEAAAE2QZqKSahBbJlMCE//\n",
       "/fEAG6H4g7QAv5O9Cuu/c/q71oacE7u0M3WcO5R47H+JcvC+a1tP7Obdgz6nzw6vQhKFM3vWIt+e\n",
       "K7859jr6iJzzBQycKlD2PbkXytvJOpmAzDh04uFB3pD0fds/JV3a6SMDpxcR1br6Wz8V31TPgEZL\n",
       "Rvfmm/G6hi7oEm7tFA3RsnbDGSzIoww14NMPx+oYNfguwL8ht8QnyEW1WD/JKEaVV78p85IhRUkf\n",
       "U4iACrePGSVu6gY62O0MGtuxu+U3TmEBd4H9/cyyGsvZ3LM6wU7IQvuuytBBNRcOD+WW4LmIFUez\n",
       "shc7XxVDJsNJK4DLuidzIcZx60f0xzQ46vSfta2jhTq8Q+1+yzgXQJTj/3m1b3bw0AlSJusI098u\n",
       "aVpJ3OZ6Hzyx1WRdwQAAAFFBnqhFFSxvAcgPXUJHzUGoUxdQE8qIUk3yITtgkIAR4KI1pTOTAd1Q\n",
       "/TH2VP+HbMd+sH6TAU+EHR5s4ccnS9jFZWh+2dMXl1gt4Rw3sIAAZUAAAAA6AZ7HdEX/AkLhv5KA\n",
       "A4AW8/wPKlOzEQfs2zYEQPYuVwyHCT6Zi6ja2O2V3qjAqujSrdPNRM8rqwAeEAAAADgBnslqRf8E\n",
       "mVr7GcUOd1nuc8uf0QgBV8IJ+dqvBVKZBXcn2vi04K6124+TIgYMSNutNj6W2DAOOQAAARNBms5J\n",
       "qEFsmUwIT//98QAbofemGgB0iOXjfn0oKm+hf2sU6IdvdPdqG3gikYLbI4FNOGSItJWhDMJbHCgC\n",
       "uJF0CwAasIqoQxuTOmlsxRudx8fTh/qCc45C/G2xLlqQgAfH+ENpceNiIu7Ic/ByInh0ShXyS5vl\n",
       "xmmIsXGnuiA3O5s6Ba20myBIM/wDjwrI/w2klQYI5vWFcswplVtD5AXlgzR3OZ5mbXgffzpazpu4\n",
       "S8l3fuqrUDawOH+XUIiP9K6LN/UQPW5mWLCa61blUp8Z6ccv4++z9tg0ko4dCVPNWlZKqRpqK1QQ\n",
       "85EbIoaoTletP30po5PxJUE730M+f5cmyBOL8PIHkK+PR8o6RONnRkAMqAAAAFBBnuxFFSxvA44P\n",
       "HUzT27AEV/eqVpMMaIDe5b01/fsgkXxyXJ0wyscLLEJONhhxcgo/MUf7UGRu0AHyXY/sE7M9+wyG\n",
       "RLoQQ9pJCApgVAAG3AAAADEBnwt0Rf8EiDJsRemoazYGwU9rm7J3MAN2AAUZkIhYGP0XCaLv3jKe\n",
       "SLHzXHfMADUhAAAAMAGfDWpF/wEluQapp6GrRDOJgTrTLMjnv8ABbTTeTqn7MfMAD+kq5R09XMuq\n",
       "DgAu4QAAARRBmxJJqEFsmUwIT//98QAbhcW4A5fR23qo+KXynQedbQU5cBAfwDdALUo6jAvJI3hV\n",
       "wy8gFfq1I+qo/WoxxNorRoBcMqRrcfUtCKa4faMxIsdgJJNEUQo3Vu+cJMYCmCa4te3bPpzEExso\n",
       "uo61+Il/skXkurEoVct9nMZxwpNsaTYBhpq8/CX66nbLGbm49eK4nAvw8/kj2jRmLJZFqaagTSVs\n",
       "hg3Uke670eZHGzDaVLHyM8ke+1KUnHiVYHmvs681jMU81LxKsI/uxQp8MHTIWOJkWMttJOKwTDYi\n",
       "YjKxwzI2ivTnp/iaLXV3UqfVsphKTqTUb46e5XaWeVBqvg13SbdFLQWl6nZQ8mtnAZjPBUNfEXcA\n",
       "AABJQZ8wRRUsbwHKYC0hE+jbHUlxxh38NACKzdl8qgASquDepjJQ68W0alF8oUuxBXl14WI4X/sV\n",
       "AOXZc/JHWcRqlJ4nrrrcxQACTgAAADUBn090Rf8CXD6bYwA4vDEI6m++ubpK0b8lTGsCMWHuFAE4\n",
       "gpsDecJkJqjDO8mH4D4vmAAfMAAAADABn1FqRf8CSxdzADcTmE5DwITr0PO7+54AqzWnCBTVRijZ\n",
       "oy71JaH3KfgzGWGABqUAAAFsQZtWSahBbJlMCE///fEAN35OtA8Ta/8N8AUAlp3ld3hi/S0qTTr4\n",
       "5HjayqkNiWmFC8vfMMAf8AtZIhbo+VBy8fpaOs2N0ZoJdgii94eqmftf+3hxjYXSsCjr2EGnapxt\n",
       "5pGAF3Gs9hA7x7GRRE6iIYTsmdbQP8LX9zAhSmpFd+alKvM81Ot5Oo5OGE30IN65Wpu4utnwVINE\n",
       "8IAK6WBbpQinIr2i0NLy8s9T21isqOzWW6VTCLTnfHZ5Ga6vtJyHIN0dk4RM4PyrGqCqDO44R/1l\n",
       "TadBX6MFSVlkxS7t7ojPyPSaADOL4RqYH0k9fyicEb8FZBXfLq4b4WGtluGwvVSteYuU/qWiHYte\n",
       "8/rDk+GtxsP5w+q0DVBIbIbxb9PrmnxDKh514Wf8UCI7bHdjDF1LdH+bO8VNoPFyOA3ILiRAmX86\n",
       "J5Skh1HFuH6Y/9OTuu0/kWkv/SGIEPFesVGdIitVrE07tuvRUqWJwAAAAENBn3RFFSxvA44PHUzL\n",
       "qSgAwAIpaZimmy9gSKGKBSSGLq1lFrCNpHtKr4k1oFRXwOD+I8YRr2gNwals/c9ahdEeCALuAAAA\n",
       "LwGfk3RF/wBJbhdfFy1GJ0QAj9NtX+cDZywg2CZurL4hBaYRbCjvOyNLd1mjIAHNAAAALAGflWpF\n",
       "/wSIMnQzrowH2DQes5rb6Ea1awsvcS0WKkyjvYPCajIGLO31mBxwAAABF0GbmkmoQWyZTAhP//3x\n",
       "ABufSPuAkTTE4CwFZfjtnEgtO+f3JdRvom/oBQJsm+MX41RAbakYDZKMoChFUQIpUmtibbyH2b7d\n",
       "XPK1qJeMHu+yxAWGFxEJr9fSMP+UW6JRC87MHn02y2iwvHxCcrj1ZInaNLL8hLEjZ9a6FbMuZaNR\n",
       "GyNM4wM6ok/Ki2cb0vlf4fe6h1i3EVz2Ptov+RyGZht13urVYReE2xjmFwXWKV0D50K6RdKcAGFg\n",
       "Lu2f+K9LrAI/LjrcO9QvITRj/d8tBfPWHTPFNn3m4PCvD2JlF3MRNx7izTnFC2HTtrgz2C47ootE\n",
       "uDlSpV8/9TufKNKwI3vFwSymk8a5eydyvocKKBpiLxZxt24McQAAAEBBn7hFFSxvAdiTsLDfk9Ca\n",
       "OgB/sNzXpALpgv0kX2ibPnRSSNvKBhSO8mtiXGEUg4mQ01ddWTRJlkGfsjmAACyhAAAALgGf13RF\n",
       "/wS4fmJO8Upczuu6SQeRWAG3JciJ9R4vi9EuJWIIx1htrwkCYZiAu4AAAAAqAZ/ZakX/BLV3cEnC\n",
       "Caa2k4OvSteCABJJlaJtFVjsiIPbhTe+pIcUQA9JAAABOEGb3kmoQWyZTAhP//3xAA3Sbkys4Ard\n",
       "G5nrAPXPh0FV0vPIwq1+XlFOpkX3ePY9DqYsj++qLqBMmRrUUssYr6KyqoHpgPmt3WALELSMXWt5\n",
       "mo7ABcQOIByfs3xB6eXn4GY2qqx/pBpfGHnAx9JxNseeUgWsD0G7Z2kc9RH2hn3B0Z24MXe1+3hP\n",
       "sj3KOY0/0KANZ0lFwDadTvkfUMWSlIpNdRTouwpqA+xO7dUEGzvcPgi/oQatlG3ssLDRIaRs72CY\n",
       "zjBwW8EuSzDlFOUduh3+V/NXdxXL38Cwv9XUKfjkZSVNTGXQp/nl8pIasXgHB+cFQMJx6Rv0KG/5\n",
       "1S//Zzif9qox+u4xT7R5DJPi8lKX5GYu2TTljHK3KZH70b/8npIferSzmtsIYg1Sa81AKnBG+Ix6\n",
       "ZxO5MAAAAEVBn/xFFSxvAOy2+qej/HaZHvx7HevfNZDxCxAAQ/9wjT8u9MptL2LGDe2CQz6nCiuc\n",
       "lxNCW8gNauUmPqkttAP1wCsnyoEAAAAnAZ4bdEX/ASW4XUmBnoC1GYZACsM+89YD6tS9l/uO/2KE\n",
       "n8nfoAQNAAAALAGeHWpF/wEknZwLYmlddM+qQAArtw2w650bd8GEMQJtTsnpbLTdHvQrABLwAAAB\n",
       "GkGaAkmoQWyZTAhP//3xAA3Ga87iPMy/oAFp2G4KgAgAh20mYRh5NbTGooxNpM5xapoGeF3Tw0uc\n",
       "MIwNC6WgjwOjL7TAbSSDYpkU6Yn4s3RDQHLSnv80UzBIkiuELHLriMKGG1Yxb5jeJbvypZXIlJ5y\n",
       "ODfmBcW6FLTdY/U7y2AQxvAcVrT6VvCGOJcHWVO0/jOR+3EMz1Zj22zGixzZjc/4ru4eaIGZf7iv\n",
       "DPA/S7h+3v91s3Bnc5HUdBCvLgdUDwxC3QgRLjb3vXjAsq29KHiXphFNx7vVF9AfShUf/8h24QVw\n",
       "CFAgafO3kgEuZVZNAOhU4JpDGa7lJJHkmWQwlUhe80vYT6ZfSPvlHzTudZmjtVbmmls0n4HUiAAA\n",
       "AE9BniBFFSxvAOzLg1eNOUa/bynmJF+9+joEwqM9nBXeHeYWsxBoEe28aVjvlVlh3AAW0gpWfFkp\n",
       "jZfNyHiETPeRv+sXXg500R6BRMAJnjKhAAAAJwGeX3RF/wElSNYSeBeISnhDNd/DXS9q9arlYxD5\n",
       "XiTqSyOgAVpVRAAAADIBnkFqRf8Ak2iRAEP/c521bekcFnF/WvYWmkFamateTbn0cqpbOZ5UDdCR\n",
       "AvvPGQAqYQAAAQ5BmkZJqEFsmUwIT//98QANxu53pBK1AEVybuSEE1rBd3HZng0UmWPNCD2H6m/F\n",
       "Uf5pmMkPYlwE5XZRWOnLBKcn5rMysnDiW5cbn07fpPn9cTGO0gdcmG5+ARkeTznKw8gTAY2ELWJK\n",
       "Jus2tYx/UF7D0/VqwOylGhZTualKuMXo7ehGYhZNZNXad6NsSy8Vcb+VyaawfjrX8jQYWSgMFbgw\n",
       "iDh4iCaMif+EtN2mWxJRRKElHB07tQk53GGY28WLmsjMe8R4UtcQB7Zmoz1JiuN1yBT+qz0ww/WN\n",
       "x5VAQCZoGP9gLnNZOwKWn/7CK4KPkOhHZrjsPbb/y87y15wYE0qNWQ8CeCDndVUwLV96oqYAAABG\n",
       "QZ5kRRUsbwDseHZY0iNx68Fxg3pS2BNsVh67UAVAAl7gQ7xBhnloCg4Jz7hupAoZq9KoWjffEWJi\n",
       "z+2bEeHFi5aFPAAC7wAAADgBnoN0Rf8Al164AHEp7tRO8OKCS5pbJPGe0bU2l9SyKpknro5AbpTX\n",
       "TTTIcQ70wOG0CaCbEABbQQAAADQBnoVqRf8Als+Wc4snZEd18sgAFtNSFHRjp7NoSiK6ShN7Gzki\n",
       "Hzzrw8Ann2T/I0ZD2sP9AAABRUGaikmoQWyZTAhP//3xAA3ZVXq9ABuceaQIc7YYggYpC+Ms0iYq\n",
       "ODkzmBz4WRorfJ1PZi8PIXa5tHfzeGd7l8OecYjb1PL8dFUeCsQPYkexrKlhkLC+/9qADMvMG+Ba\n",
       "UHv56yYqJ7aOhj0xFkvOJRV0Roon9lFLrF1Rj2b4cCWcWlwZlcWPqL6UO9WDh/SsxW7J6B7tJ0Ve\n",
       "HPVLCpXoJG7ycOacfQigquUZWQYuA/Iu02Pt4RIQN0ENTcrY/p3bnLekgYc+4yn355QEe0UM7IX0\n",
       "agmpUR89vdEAKAYGovS2ebPPFlJWkKQnU5n2qzlyLMUFRcsEkpT3LM65ZPf9TUi8Sajz69LHXhgA\n",
       "cftH+fpviuZy4TlwXwGtRZlANrsVzErFn/BZPuLpm5rWDWsXy3fPTh1C4bEvpS28lREQPy2PFlLm\n",
       "FH0AAABOQZ6oRRUsbwDseHZY0iI7TuYGw8edy0pm9awMqn/gA4bR112V7jXeAZ84DcMOU1pC9SGm\n",
       "S1e8vJNqZjV/BdobtRBQs/PGlbTa1fOrAD5gAAAAOgGex3RF/wEmYaKSAGxYHzXhRIWADySJ1KZE\n",
       "tmxKwdGHPiudGuWvagpa/6xCoVl+r5XrBsqDp0vAIeAAAAAnAZ7JakX/AEln2RVGAr0gALPrrq5o\n",
       "W49wYVDL+eWNBvh9nUU08CHhAAABTkGazkmoQWyZTAhP//3xABsB+EhO2GcGgAIWwNxp8QG2wuma\n",
       "USxihUQ7EViwh0zqN1cJd6ug027qn5klkhkEtNIP+Jm9YaJkN24k3k6J3Bmh6vh5H31ESNyD64R8\n",
       "RJJlCLbU5yizHBw4By0pYrKDXxI0Z6swXTwas5ohXt4H+digEWjqcVNK0iddAby2oOwsrXjZlmcv\n",
       "tmRHHFrIkTyXe2/79hU9yP7jVcnYhbkN0fqhT77E8koPWbRsLipGaDtvQ7JiC6ZZsBOI1RMRM+0J\n",
       "2zlXyBWSHA82Dg2SyKkCRTvY+mvJHQiFisVNuBrcGxYNDzVpHZVm6UPyumfej5BXfVdPXR5H7Kv+\n",
       "r8ni/D8TyKBMSjirqgxIBaSJU2EHU1UXDBjEGc9d/Wvvirg7iEbAM0IxCdr39rvWdt9KAs4NYKpS\n",
       "Vz+mHs36FPWLR+j15bMAAABGQZ7sRRUsbwHOeVEhpVm/wn+5bQep74yp8PCxpqUNRm+OABN/wzAY\n",
       "+FSbK9i6a832Fdf0j6PWxWnPzeab64xqVplF+gAhYAAAADABnwt0Rf8AkyR5EAPj+TuU1OX+REhG\n",
       "5rmkYfq9AkEK9AXoqNecQ+Gcu/IduBEAAj8AAAAvAZ8NakX/ASW6+RoAbE2VqJi+GWvsuMtlNmtt\n",
       "v1ApISARbmdOGJTlWnSxlrgAEvEAAAFAQZsSSahBbJlMCE///fEAG6H4Q6uYSn+AMv6oyIKxYjtO\n",
       "sLwW9WFyu4bgXSsRgHsh8UfSfrmlPf2mqlQ8IiY9+0kr+bZaDM8FGadgpi/BQKA0vuu0kg7t9FX8\n",
       "ZTG61h3yaCzAldcpo6EXyiLonc7sRAX7MXkfhtbstMTWP1A2Qg3Z4NDeaTvWfxTZwrKmrgowZ9Jy\n",
       "RhUdy5AeB00amUN7QcfWJVCCgkDSkVrKpKHqSIaX30ZcaoVPK1u8dSO2QQeRXnDNYE0axBZ8XZan\n",
       "9aUNLKb4qIKAOa5nocon685QP+b8yanxBDm1Q0VqoR2rBNeOt4nsUWvwr3GaHEL0BDbVCrjLenFV\n",
       "BS7mwvU61P2G2kDLCbagvMz7aaoCZSkTR+kR8P4qNu754Vhly1kF4fKsTeGuFGoXKvIpULkUYnW+\n",
       "RbUAAABwQZ8wRRUsbwHL9u3KiQBPqHlW46zWWo0smvHBYKuNzZ3hmykbh49ZAFz1NNBd4XfaR5PT\n",
       "W2bdkhF5qld+SB0DSwgcfYNdHSefXuRK08OPhzkmASaeBWAuv1XG23N6S1k2Hj5OJ6iaRzgs5184\n",
       "YAA1IAAAAD0Bn090Rf8CXD5+XC30yd+/F+AFACzkAESUOsXpj3hyD1Xaso3WKQ62j+OP0YcUlvwJ\n",
       "n8i7CbpPVWhREA3oAAAASAGfUWpF/wJZMV7M9AC2ydEMn+fxD8sxGlL0ltG0YRXejw3FbnliDjZJ\n",
       "ttv/q/5j/m+M++XvyTV3XfsnU/znjVrL6Udu3gACywAAATBBm1ZJqEFsmUwIT//98QAbofhifAHK\n",
       "Z5GTCKo9oMtADbdW0NByzwHbtGu98CF0bjrOBNUc7/Toxr504TL/lvAAkKatcAjWQFlc5fggAbvl\n",
       "fuvcWDuL/nhVjF4XwvV3EHawHDf6/PBv3mn1jQP5hk/u87gjq8FwKxGmgvPaaak4ISNvQOHvEd23\n",
       "E+E1RhlNEBJUAbTn5n47DFiXZykgImL5nJZVmkIiluur1Ft24RDqMtFWCDCR2e/uf8JjBA/T6Akn\n",
       "BjpWFnfpzheyNQOHcOg5lTmqxj2sfFTTBm0fV21mp06eIim30Hq1PS2XCpOhjoyH2VaykRwhqJK0\n",
       "bIToHggpn+DUhEBrtw81qVew/3ovTPbrCG2QUWyGwYHO72RMExetDrqBQlpMlar/33fo5xOAAAAA\n",
       "TUGfdEUVLG8B15Esc/+dYwN/JFwRsfUQIAVIAArgn35+60JwgmrC6Lat2MN5Dgm/8Wu40F53ZVU9\n",
       "Mp3Ktpnu6Ij2IwxshVKfUncoAGLAAAAAMwGfk3RF/wS4fdMng/nTrDAAAK3A/d4c89YXQJmiY8rw\n",
       "laOaFwhF7nKtSxFUsLWvTwAO6QAAAC8Bn5VqRf8EtXf7iI4XP8icAACtwHFxDeoVkFq0c3MvY9hG\n",
       "Mro5auyB4jgIKEANSAAAAR5Bm5pJqEFsmUwIT//98QAbofeLSAH4jcIDAf9LDKuSAg74MKDgIdTP\n",
       "3Vj6DBUnOxAnB7zgZ+KXGl9OPB48SWihMkCTYtwTS1goHoGmwDaBwTA5FKdJtIFETpYY88w2rz8u\n",
       "nAT8un/3+f3iWMjOBwV1dtnHbdALmGNhWj/w/CYIEHWFBRl7CxXT/zta4SqI5zTt4OcMT/VVUQDX\n",
       "qP1g7bDtNq5TIrbWPnXHdhADWs89ZWb0VWJsIqL76EnOToPMZ7kp/Urjfdm56A8EqfXkCUWXRtaN\n",
       "JRg4tcwM4vlPMSFBAOdYlQSjHWhrB8/0TllxhuL5Gswti/mGqKaaGdzhrmYZvOIrzKZtC/PJUrT5\n",
       "1MzHlWP26ymSNUtqmmaRv8MdAAAAR0GfuEUVLG8B15EVNeWo9kWqhqVaIoZwX5/033Wd8uAteR6c\n",
       "waJutmO+4tV91C8tdTgwAJrEsZ/ZWDgoFXoNAccMmv0JxAMXAAAAMAGf13RF/wS4fZFP8WXsOAA3\n",
       "YCK3vmSRvHOl0gP9nGucA0KZhTGYYSA5RbZSk8C2gAAAACcBn9lqRf8EtXgBYd+tal3cx8HhxQDi\n",
       "tyQRrNuB2K39/FaUv0RABZUAAAF9QZveSahBbJlMCE///fEAG6H4YnwCT9T1sWmqn/jwalAmFYQT\n",
       "koKZynP54kIKyh7AoVcOxDvhfuLRFJgCGe3Iz0mFBhJmdVUp6DEoh2LfSrz2fqMqx0S5jqWSrLd4\n",
       "uxKSpDbuyBQ9WoG4swt6Uq7hnBG/5qj9vg6jH0kaRmurSROWym1Uc4Fh1Spsu03qzuqaarlrUDIu\n",
       "wKzNS4GNbn+8WhplTZLDbXTiBk4gr69e1X5Fywbdy6m3ZWWHo5lnhWDdCIY6wiCeCCR4JuLMpusF\n",
       "CmEdLkqf9z2i2yFu+cg7Nh2LAMWTBr+mqMcq9vKqojcR5ujExiVlMaoKoHHYj2BUVzTvxHG/BpOp\n",
       "AHHnXKUeTu1ZRCC9KweUJdpXtSXdeXPyJeQZO7ODBL9armiLrXNBsENX55siTY8FUxffFWG928k3\n",
       "xu1r4V/FwIlKZxlaDufNo/2qeYAn6a/BWP7bb0Fjf4CqpTEsKjD0+8KzoD8tyxKKM0Mf51yemal0\n",
       "boKmAAAAQ0Gf/EUVLG8B15Esc/6qdAg4bLp6exxwhBkxTrN2ehcJ6vtdyKqOntom7hT8qdEEzPSX\n",
       "1Dv44PFAb2EEX/ZWwAAAIOEAAAAlAZ4bdEX/BLh9kZOB4mZUzbvkIWRoICOACgAPAOUoGFJUsACp\n",
       "gQAAAC0Bnh1qRf8EtXegy3JgcAQz/0YG6LAxH2pUrWVZoAWbgB7wZq0td/JXP0AAfcAAAAE7QZoC\n",
       "SahBbJlMCE///fEAG6H3jMkAh/i5n1AKJR5cOx0DHYW/xBktzJLDvBxCjp3LSJuXEkPkNBjpX0+h\n",
       "tqYrUO1E43bOQhZ+W9GOgy5FFLbYxPm6ljqCg2Xz72/0G5bSEuLyxspmv9lXgqntcNc3XzmXVNE2\n",
       "9aYSAkznjAhvNMpEFQA1ckdDURdGgVdJ9/GPd0vL0HdTEA81zbqCJahtPSftjkjdlApyKaDHuLQD\n",
       "2RDiXYDfw7IjxQdaNbdKXQfspPKbAFfgtitEjXdkapiKdcdQqp2rJeA8v+xmsc46CUQ43l3AiOfo\n",
       "BqUhBAAYh9P8/uKqTsyY3ZpzjOcr19q+lyHaAa7hUOYshKAsVqiSBKfFzCDHVIZqFZJFbWEbO/hb\n",
       "ahTPlSKo1ec2NGNIV537KdibgHDzY63VCuZAAAAAVUGeIEUVLG8Djg8pKr0iZ4TDNnvX+BmDpVsq\n",
       "9JlkOMfWVdDtj2lwjAVelMlhHRqIAbm1Zn3lPUIS6qdX4yLAuwWJV3RW7mZgOvVHldwQbh2YC7uA\n",
       "AmcAAAA3AZ5fdEX/BLho6r2gYOAA3YBHxZKYvWU79mYPohRkIEAu74oTxtIoJ0B5omJK9e9xPgWq\n",
       "mgAH+AAAAC0BnkFqRf8EtWgKi+wS57eabpoAbFhGzyH1BKLNJLbUjVgE9pSBb0B+1aAAsoEAAAGL\n",
       "QZpGSahBbJlMCE///fEAG6JJJraANvBZC9DtJ5lWIlbl4y9+DluZJOSPkV2NQ5DRXZMVw3NCwQQP\n",
       "G67RM04sG/1EKeDKWTnOPwsNeThhR24k733GCTTdZUDjS3gLitSqGGhX/Dx9eWvqdnRvOtO0ae0V\n",
       "8MJ1PMaSb6aEMu5kaoPfFwkZ8QFYt4B4Xwx8lwvzmljLTA7TkFcE/4UvCLKusLENusNS6+bcM7EH\n",
       "MJG06O3z/OHAdBAUKvEr47GY0ffblGI5ybpgsB7VLn74lgMbbVkxx7oGYCxgKrUwvOpXtuI62oFM\n",
       "V6PJZXa8Z6PBYoXiTyJ0BL25TzU3MswcwfqOyB9STyHC2cO8AQBeG/RjrxNYgzujCcf0pLZRfFrp\n",
       "sYamC2VMD8nsrZG1X0kT3zDz30Fc7HWL8AquQmjvn+bEjOdM5dyiHnkzav0+27HTv/oRB1VmQNPw\n",
       "qBINkq0lLx36Y6aVJ6y67d3nZuvcQrQ5XjKno/jrtDtUzJd7asaKI2DytX8+HB+6TkkAg4AAAABf\n",
       "QZ5kRRUsbwOZ9v14A4q5mgOAA0XdIBDeNqaPMqLallvc9ZAuiPpDp6gr91JKyb9G9BIN+JAVCQJ+\n",
       "mflyI19vjhqNaXaTZ151JHRY9Q/i/mwKHibwn03uTFfHdaAAPGEAAAAxAZ6DdEX/AkqwnSTFLAmj\n",
       "BE3SrAv0JgAumC1lCx9V9l/v4NH/kE1G4knDC6ngJwAW0QAAAD8BnoVqRf8CTBVx76rnASe4ACsH\n",
       "n+AoB/TwxSBk39oUMXICHrMacQsa/9+mOAg4baEXu606y7A3rBMgDz3oAdMAAAFwQZqKSahBbJlM\n",
       "CE///fEAN35OtAXCs85AJ/J1KwAz1jzxnZYDA6Kn/xwbWrJ4fc+/9CmIw9/B+2kyd5M5kmYlyDSp\n",
       "s3obsbZ9baHsSdZkROHkZ/+qO0rR/ybHjFjTXNIQ7lqiIyHATYOahrGUkmRtaxYc/w+F0TiouJSA\n",
       "OX6tRbNeKzbVllGl0aCOMA8tWGdIAjPdpvHUpUEV4k+NPXHpRbiiCbuPfQOisQDMgMlQHvG7RQFE\n",
       "R5krl2tVNrrShrx09WJS9boJLcC9/hjHjq7u5rU1W2amxM8U3l99MyGXIbaif/RRQKHSG0zgaldk\n",
       "68h/FkSJZM1s/DGF8l/CFKV7m7Lxj+sz378YhlT4v+yjViwCNaYcvWIpDrXn1zR37p1UmBU2MqOW\n",
       "0U+omCUtgP/hbV/k+oz+UZ0+HlwxE2BcPTRmGhCLDEVJ4qUCJzzDWgTr51Onm0WwhJhIftHeO0TC\n",
       "LlUaxUhcOd6dsEoyC2LL7oEAAABlQZ6oRRUsbwOXOBvAeTBeGYjVTqLCvuF7mNSB5asD5XN84AH4\n",
       "AWhNYUUw42Z/uxgJoWaHD4a5rwtUyFabsy9Lbc5dgXSUOdz+wcJg6hQdcfLhWTKLnSklwQw5HTZa\n",
       "rK+4AJGBAb0AAAA7AZ7HdEX/BJaaKm0eDCUfoA6zqBWNKr7JIG8A8IRaWABbSDqjmGSrlJdkGvzY\n",
       "J0iMphk1nPdvf8GACkgAAAAxAZ7JakX/BJV17yD/xQAIr+5OVUON6Aa7IIHxqbo6Z/Nl+lsfck2i\n",
       "eODATM83+SQEHQAAAWFBms5JqEFsmUwIT//98QAbirRNAG311Xk0w19XylduIUg4rz3DmAOykeoc\n",
       "+uCVPUeeNO5pMt880XetCOUAym+4Hy8c52Xc5Xq3a/fegOZ9PA90WWZi71mE5aWg6Hl4XBz851W8\n",
       "s8K4l3BLx3V0eRdNEdWqnJfRyU0Dz97677gue01zZlaSplmctgSF1XOELTQBjOIRRf82wiND22IG\n",
       "dxVxbSSVp9gujhGn4Tnuw4EKr5agbPWa3BciAsQoCKe1YKx+X1Y7DvOt5jCMW4pnFYBHGQ23pu+S\n",
       "O13+Ifeux/FpiUN+MLD2sBehxWBInOUOgNV6ZJGtgUjd95A8V94h/nANvedrnyZAspQjCRCACTVG\n",
       "phP63heJJ4RkZ82bPRN3bY7lm7CbH7lfueKPkZ+nFg3ZoORVJwWYSVOja8gYL43lHn9//A5hGuiC\n",
       "pbNi7vvGmd86OfaUPf8XmBVwQrRiFUxJ8AAAAGhBnuxFFSxvAdL9mz7zijwQatQA4SbT9EmV0aTo\n",
       "f6rd8LpQ+K3k0P/9hl3dePWvcEZSl6dL0/gAevjD6yTpmXhnfXoqKBXTLOQN7r8/FWVR7p7r/qKt\n",
       "nABmNZ7Lir3IZ3DQgFXnBPgBMwAAAC8Bnwt0Rf8AS24WX+Pt/igAM273TSgzVq9H2fuQSZAhpnDy\n",
       "yRJNW9ITCVpIY8AKKQAAADcBnw1qRf8BLgq801G44hZAA3Zto6HRg2/dfhN2wtlSPqihCQcT7l3O\n",
       "IqGWMONtDZ6cnvOibAW1AAABxkGbEkmoQWyZTAhP//3xABuFzYQCknL4haujKchXa7b0MDWj6ywd\n",
       "SS/1FecvbpW7RJBUmP6UKaZjyuj6FcyYf1Zl5XGbgxhRbVnOnGoPjJeD73anNaxxRTrU1Rxx+hRm\n",
       "YGR0VK56lf/EdGfmhcr/o9L2i3jO2NHgJV7+4rQ7pJD89m4rd5+t53CYW/6MzEj/FwHodJIX9LsR\n",
       "uEL/c08TYkXrC8/AmshUwCQem9cfw07W78gEgfP3Wao7cUMA2OHf28NP4ozdJRYm5P228UV5zsB1\n",
       "KoX/GUkzh7K4PyDN3NkQakjHhutPjsftG/fiG+h5nt3z7nMxZ7dRY67MQQKKxLM9HVb/xMTcS4oW\n",
       "emX7W5ech9v3/463ESBcSJs7BX3SeLcj689bZtD9KUoDlOV//A8wqwhhovYmL2WT9I0N5THuAJpq\n",
       "4K+20zNbI3EgTg/5wRvosDRhvIva37HC8ETGD/v1k4v5rR1AIyae3K2KbCTvNf/oDulp0JL2JK1l\n",
       "UQnOTJMhsdafqgfPSXe0cUJv7nqdgKXl9gyKOUAn63Aq2+LDo++BZKcXeL0hD4xbElFw9C7Vd9wQ\n",
       "VVYXjICx7+cWLqmyFlpAIWEAAABxQZ8wRRUsbwHYmiXOCYWEQBFYA9AY5JulejxI0OZLu8d+dm1L\n",
       "G0jJDo34/PoFCX77a3BfVMdyhogJn9QsI3W9uEsANjolQ0yMSRfAcH7P6bTw5hsUJt4PxnPqRSj5\n",
       "ypsalLlKEWMs3Fncqf8aAF14AYMAAAA6AZ9PdEX/AJcii9QVtxRGLykagBmECvDk6CTA6+QqcUf1\n",
       "1gkk5PLHCKw/w64aZ1XUyco1eof0PwAV8AAAAEABn1FqRf8AkM0AXR0Xl4x+t5uROJy2XYh4RJSH\n",
       "K/QA4Xe5Am7b7o6AN2R+TZINKkUkagFGOkBbh8whnIlyAOCBAAABlUGbVkmoQWyZTAhP//3xAA3G\n",
       "aHu0tV1WiXAEYXIEss0Bo7TpLAxli6nWxSB+eibHe37AhSChS8M1tZrcs9DXiJAW9ZC1LMcpniAn\n",
       "HFYULUJEQkz8v4G4CR+E52q481lkTg45se/5VoqyyA7VHAUnFdWdK2skVdOycePy89jbO6RKydxE\n",
       "aXYbvQuetgq70U0BrIPxZdRQUU6LCnQoyo3XQQ4mhnaMypuOFUKF7qiXWImQOyz9uF8tV7/U2QJH\n",
       "M/Oitet/5rWle7qYuVn/nhs6XcyE5yz7FLrFRk4RKtPlP/xyqvatUnaTv6sX854WC9yq03B36o0u\n",
       "RQ4jchxmXFPu0ohPXyBnKAnXV4r6vn16ixXpkHB/14vZTs+fpNNZrSvKUQZINUsJ5OfzmncSXXqq\n",
       "OsHuY9ysCWuiYlmq6QM69XU3wBJe5K0++uJQwL1kdqkG5C7IgKM1NtuEEXd214Awg5eW5AmdnoZ7\n",
       "PNET3pFvQ1GfiPsEBPOvZGypGlEleEDC7XLJ8/DdNsacKlSo5HGPjC1StnAj4AAAAFpBn3RFFSxv\n",
       "AOy27jKN05iY4wB+0ItPWLWYCUIwF5sB3vQ4ANigCCB5Pdg1NXjg2Q5qZZTHumCbEeGN8D+VMdL2\n",
       "QZPi+hJpQo3EQpsVdEZ4kIqrGQId+u4AAdMAAAA2AZ+TdEX/AJKnZ5gBVr3Fc5nPE8pCI/KP5ZaG\n",
       "fm2CRNnRCfdxni49jdPn+H/gYhKH0W+VAL2BAAAANgGflWpF/wCW3GimmABc5cTXGUDerlNoECRD\n",
       "52xBlCbWmhCqBKfTptBIYJg5IOdzVoxQ1QDjgAAAAU5Bm5pJqEFsmUwIT//98QAN0m5KSxpqgAjY\n",
       "W6V+0fqJaVKLQv2imNojnMRZuM9vczQtEFoV6rm9nI4a0yOloobXN/pf5vG0EfVs66kr6mI5o5Fo\n",
       "fRmPW0vDfCFmAQtYMEyrRrR0e8/kFIMaD3wBD1PpvFZEZAG58qvyVWT84IzdHrKP1ZYvFFkiXvgx\n",
       "QLwE8rbkIcvA603ru7Z8Jx5hbdCZzCiC9Q2OtsMjv4Z8xng/rdZBUAP+jaUZenyt0D9BHo17hn+h\n",
       "OUNoSSE7OvrAHgblyrwT/iguJZejsZvGFQIRylEOm3lwxKuwMNW59FM2a0pcw3DeD155E8ueQre2\n",
       "Oyqj9Rpkri6Zu4V88BbxCDEhBSdcPAbqjyWq0hplgEaGkji0CDVFgDNjrmbkenZGL5adgBC9mLOB\n",
       "xVQzHj9U41KtCMQJHYRpr0KVTOTlQFbBAAAAUEGfuEUVLG8A7HuCa2ZUzllNHmuTwLQwAqY6AP2j\n",
       "Gk4gAFwvfwU+NuCGRLbH+35BIWqd7DJ1buvwB/jJCaq5VhndjwTVAGiPOxLziEgHgCXhAAAAOQGf\n",
       "13RF/wEuQ8B2ACPu25XJMABuwAChvOM2RXIJ1RsGF/dIzMZ5EeyKp8Ec9Jb+TF+rab09liACLgAA\n",
       "ADQBn9lqRf8AkzErWfAUDaA5YAzmyABbvP2okeWTl76fly+ryX1LC7eJgHMQa2cPR1xgAFVBAAAB\n",
       "t0Gb3kmoQWyZTAhP//3xAA3SulSIKAGxgEBnfH/kWRadS9jPZXPNLnydRh5WAfyOgpSMjXivaGCF\n",
       "WIcDMy94YQlqfJPPRe1Bn3lJOdciqg1rUSiypCkXebkX3WAL7GBUU/nbA1mugj5/nhV7RnhYsm/n\n",
       "17piIGg4CrqZyLKbnJHbWa4ySCXhuNusqWtI9j4sXV7rv/JlITTqoAFddrY/Bil0hdaxyC8qPba8\n",
       "lMAqkNBnyJPcKqOb/mk2enihLP89ra8wLmkALMlT7tcVy6K7DM3OcfcFCqWT8gvrn1AihrXYLjr9\n",
       "J1z3cl79wzSqw0Tz/0B4aHGKQRqLQsODd1jYiN8uyEqWNFJp3obOB3Y3JyIJWfJcQBYSxRi2RCml\n",
       "+Ec+T4w8tfz/EysxrBPbWsaGKS71vn0uqztrMgPdtZn90mz6jeLoTI/xeCidCcXA6BiP9gYbw5r4\n",
       "Wf2W7Cdh7++bXwKOjLVfAyXzdWnbI67L60kixra+/6bSG68jsPDlKz9EuGGEHatZl+C8AUFY4bSe\n",
       "4/weP7yxG8HF9dS1LtdcX37JOvwg6JAvsZ56fmiv8CJRyk3Usv5YEPAAAACMQZ/8RRUsbwDstvpD\n",
       "1aiNWtT+BWJla2n8dcelInM78TmFREAQtKYwNm0Kr526xBIboCWwK//RQkTNIFtFywdBbBecty4v\n",
       "Yl3qYw3Cn5MbGaQwYO0atQi9Eq7E3jfRLX5nb7t8GTwafk1GqdLLOzBVdYeY3nTAVMQ+ChnFOT+Q\n",
       "zV6sx9qItyGoRb7gBv0AAABDAZ4bdEX/AS5gsEADicMSp67WncBP6W8YxD7z1vuyN+hXUzaWVUiE\n",
       "Hcxz3xC0GtTHCFrXepeNkKYsM+HI0BjkRwAvIQAAAEcBnh1qRf8BLZ7TLgAcE/F1/69MsW/Z7i32\n",
       "Oc/tUdFAE6RuwiMcGhwlAU6ZlDyc+Gz6dCADauWU9It/RfAW8bymRmAgJkgQ8AAAAdJBmgJJqEFs\n",
       "mUwIT//98QAN0YN9XgCHCzVPnonJdKz+abDOIznBz4RgPsRbXNkvrYOXF2hclUjVlvo0FSDeD7Q/\n",
       "eTQSN4P2RXmtQJ9rJKfuvl8wMb11ldBQvbVvd30yKDhdfPQnDG2wZ17wNH72G9ZA3NHEDEjGTgh1\n",
       "UTWCiD/P8dsqL0oSr5izFzcjKPq77txs3A7tuxKezTPoy+Tm01yVfYwaQbxsZQMEW6qjgR7UlKjO\n",
       "LXVEnREVFnDmHETDBJmYq8CSxxn73ci1r/YUNFFsye9U3COMyptBa5Phz5ABViR/DnQZJ+qbwwwx\n",
       "uuvOS9c5uanjdzolqE2go415nD0Z26VCMqOAP7fte7yz8m34CpFeVYqgPb9jvxHPUhrGGuS++pIr\n",
       "Q5qXbdrPD8vYihiE/Y7U5ihZstoNkjoL5PEjB1tbzYdIg2aSbzDGeWwu4TErPhcoEJ44ptpbeUwF\n",
       "NQ4kppG/HjOVitfZUD/rINCngU63gJzlIjpw6qQS8cX32h8nuMJeovkIjNTVcYAyddwLWLC37RbO\n",
       "4vLLRZKw3VsN3Jj0IfJgpqnlEbKleTQjtvTakflaeTMee/ZDfQaSRjameS2+X/nrA4/vP0m7v1+3\n",
       "ALaAAAAAakGeIEUVLG8A7LbuYrFy6ld40SwQ6NtJzYjQWtpE45D0ysfkANiwTdZrOdnLB92QTOc5\n",
       "vUComabgp9GClp9pqkIVxiagmZW9QBEi5UiYfZsBq8xNSHSI3zsure5lT0wEWhPRGAVuIDYAK2EA\n",
       "AABIAZ5fdEX/AJYqEJpfQAAVg9w57ol0C9OclNlz3oLtXwfPHa70SRkV4Te18ehX24mz6pyySpSU\n",
       "iYuM7+z7rgG3dtAzis94ABlQAAAALwGeQWpF/wElqR9AAbsA1Ar6EVA1QHL2ig8KGZAkIpqG1V8X\n",
       "Qn2Ctf5bmn4YACJhAAABb0GaRkmoQWyZTAhP//3xAA3RhBKgAIIh0XzwiLDFzKKDG6+D27XfEHwB\n",
       "ldQK0o/HHNnt0tgOvByiEjRD76SZ0TF5BcP8CwKZstGriHNJHbP6hsy5Kld0k7BCtnM7vu9psohE\n",
       "7ZfVZ41oH5HEuQZRZRj2+uGEgfcX1FoXH+7vogEqN47rr0cbFZR99fqrYfkn+ZZmVS2ji/1XGNlg\n",
       "cWIblQLA3hVTj2Sxjqq5QAVVE8B2nWWghFPHP9jyLJkUir4l5QjuxvygwUcG+uI2O9nfxUunMdqQ\n",
       "+v2weriZfBkotBrjqPWJuptH4bZqnkb0vSoSOc1cEItv+2/Eq86Q9s9ZrThVpJgfjPkq7AikPNxR\n",
       "/sEQ2Xl97grUAfRQc4utmjnNu8az/ZjrgvoNYizdi/kYZKEPl8adMN8G2Wift3VHFbNMgr/s7coo\n",
       "jAUeJsVOFVLKBebj4qHMqZSgtXv+6K323NA43PR5Ie2dGbx11h2AUkAAAABhQZ5kRRUsbwDstvkZ\n",
       "85gAy7w4CMd+QT3mE917SenE1wpWLGPme7OylpA3LUJJSsSRpcPswL7yINGnz4MTgJpO/g9ZyA7v\n",
       "wLWkVQFNqGE3/EROQ8OxQcwupA0lGx3aDAA/wQAAAEsBnoN0Rf8BLkUfkw8wgDJdFs4xR/Cgd37d\n",
       "ACzkFiNbKF99qz8V6y1F/8IfoQYP4ggv8/GdtVSpFDhVYCKCgE3ETgkvQhWBCLwwEfEAAABYAZ6F\n",
       "akX/AElqRFgBaMIiGi1ZlUvWe8WKt9NJnkDPDq4vOyhauEOSihYckSqM86Uen0XEoRn/g/zxdOag\n",
       "zoEIyuo/zWCzKd4uOGihXyqs+9KUPfgy0LACywAAAXtBmopJqEFsmUwIT//98QAa3KY6EhRPnORK\n",
       "zg64/cIQYAROzuk53+4Dv+5VQyQKGeAjzRcchmKRtsoUtVT9UWQ/qgKBXUaJYXOmoc/JVzPpqlJB\n",
       "PMFyeM8lMJ6Q3O7FGi9ZNbT6CvCar8XfzLQmw6+q4uSdz4KRSugMj43og3qnvFSkE192DONXna3T\n",
       "76PjU4cPVqMU3pYpSgP7o1MSbGnl22Kw5lcjV1fs2/SmY5WdLV7BEFyP3ujIuL9jxV0nGAC11Las\n",
       "TFBluCkJYTlgghSDsNGcpOfuCm6+Eqb+phM2SL3KVOpcP8rFYSJVMf1owVAU0ekvIK5LsoFcGAmW\n",
       "v45VmRUYjvaHI8QhwzaL/KBbgwcQeYy3mGkoX6xWI8pBl6ab5sZH2jFv0a8Uv/+VEukKx5/nhJpa\n",
       "5L9ZtAC5hpmrwasCZt+WjJ1bWodn55NlW9emra/8WX86v0gqcp8TIdFhqV7+xV6ifAtG6eJOzUFY\n",
       "pJG/ryqIjjnsNjq5AAAATkGeqEUVLG8A7I8yiOe5VwQWPIbRD5dHtyQ07RWG5cZwNucdgAQMhPZY\n",
       "TPXXCzurDT2jdW8LrBLg7O3T4M+qkFyE5OBWMSK5SLJD2FwBJwAAADoBnsd0Rf8AlyKfZ4EL2lbH\n",
       "PXZaf6uqwgBJ4GiyJUPh2yOXbIBK+We2efDcjwm7I0KL9RsQk9SLADZgAAAAQQGeyWpF/wCVAvTf\n",
       "rks062oHdrMANthEyTNeTOSIg2mRieMyFaV+XQSbtVibgwB3E/GALCa4Q4+QxPKhZqNTACqhAAAB\n",
       "4kGazkmoQWyZTAhP//3xABulqIJAARi85obm8sfMWIwkdPgzKSeIWa6EExYa0SZEBm1z/rMBb2af\n",
       "1UmOVjDHTcmM7EmTGXZy+dcKrRDoPptntMtze6MjAORuQ5g/suZG25fuPJWYlibz7+qO7aQ2WIHY\n",
       "jNZCALKN5tyBpnOlNCYDNoYLo3GxWlYL8b7Frcj60Da/WO/ukAsEGRdCinghOWdNwDVnA0vyMm5U\n",
       "2YOqYjuG3c9CLlvQiWA3gGdVEvdHQKompAzSSRwzVPlMucjZQ23F6NdV++jfmRi+lEi5ty5bnMvM\n",
       "13DCL4zCSP0zULZsgY9jlkq3DWebMts1toUq017zC2CtXxJBbSXJJM7wIWMbPMSqPKPxwabQoqJK\n",
       "JkgV6PZC2q5aRsqoeJZ414tPIbLZ/lFoXQLcZ0lIfZITMxwL2SKNt12yX1CphACsuyVtj3IODMIC\n",
       "rm0zAyNNZLIdoKsjsm5kkhbm+tT6SYj1mX+GRDCpd6yK4/MGvcuX/nWnecWynoSI7iexcGzxQinA\n",
       "BgmGrTY1ECjjZiAFRXSGLiC01SZx5H5VlpI9M1718jV/F4444CnM0tdMxMBAAwBzX64hjmk7MiG4\n",
       "7Zy2jRLoqApiShol+MlVr1hreTsApRo2ngGVAAAAhUGe7EUVLG8B1vbrjrji+WGztmmg+r6p99io\n",
       "LBmaPpUBfGT0ELvNwAClC4AAN2aEa3tiXJvKDoUjyhC1vReUhQGBylEzzWbhJH2tggmbXn4bE/1O\n",
       "LQn8g28MdLHE0ilHfTb83wulHdJmgKhc/LTQGnc/N9g8sfdU0qgTX2G678q+a33AAb0AAAAzAZ8L\n",
       "dEX/ASVI41H3Fice0dXJSFZACr3BfaEdBsSpedCIHjKjWGXGnsbGYPIApoD+kAKDAAAAUQGfDWpF\n",
       "/wCTMStZ/rsNdxoxg1HlWQAq+Ey1Os6wbcBA2eMcaWlMN4aXW1gWJhKlDff54FmTAgCILg63P4Na\n",
       "qSIVOztb6Egvy1CGfN2GhQDKgQAAAW1BmxJJqEFsmUwIT//98QAbofhifAESM8d1hEJNns88ecrR\n",
       "No2HXZTiobUew2Al2zGQUD3nZIoDquXzPt+FHyA3cyigJrOSO3m+pWCT5HcK7VrZXh7krM3nelx5\n",
       "/ka3pXBIo2xgLWmcLOlvpwh/GpDkt++mf38F7dX8CpXRbOM8eGclTpUUZmJq5WNRW79tG/yj/IgJ\n",
       "N/TAD2/EILWoMsVZTqak7HPSdTNJ9mHCT+ST6mUmrmXfgQNOHHfsUlPnEkK3vqkBpEZbbmr3fMFi\n",
       "CtLAWr4LdKbkBAanQK1QI1pHhudbukcu8CXe3hwM1EWU/400FVc4KCryWTQwDVx4Ao6B8Br8v8ja\n",
       "um+FS7kgyOjhzQ+I/AVI9bPXdP7doMFR3rKQ0GMKmMTSvbKCq+Bcw+a/1DP5LEVP4d5/7k3S7JVl\n",
       "YSc5mpF3yhZpc2PoUweMCoSt6y8fX87vu/scwlbHSq9zn2J4/LxrnRbdw9QB6QAAAGZBnzBFFSxv\n",
       "AdeRLHP5hiWYC04vsniLIAkJ4bmggBubWNcYWyGm2ZiakBXziJRym3QHxU5DCuimN+Knf6bcht9Q\n",
       "GTPntjL6cKQnLSVvPa08avvCEEeCX0UqLyVoWBEvIDf6nimAqYAAAABOAZ9PdEX/AS5FCUFgqMgq\n",
       "AEYgAGnPr/GwMkhlmcSIZqWcB0N+Ab+Pvgvdcr209QwkKpQ3aks8LSp8rzPUYj0k36/mInAxSvFS\n",
       "l1DoAGpAAAAASwGfUWpF/wEu4JwAtd2SX8F80m8Cd+P7sv1jnkiWjwn7+j8yt/eL+Eh4QDDAqNmg\n",
       "tQg+0lv11n+zU6uHR7aNbz6tsiEfI3m/VQgDZwAAAXxBm1ZJqEFsmUwIT//98QAbofdxy71gEjQu\n",
       "TeDzfO3MCeSIM48s4UYabyh03uke0X268ksTQnjLVJFjuTtBX8gMksR7Ti2eaU30qE7+hSXOsuK+\n",
       "kyOvaiHgJWS2RREf8bxN/SB5w5HkyLQiadrGMHQuK8wcbJejB4kFfaEgdCPTW+gHmWh9TA23b+XR\n",
       "Lm3qMuyMD/yXN6GHIeUgnbVf+Pq0zx7JoNMZXCiUwBnqkfkf3jig/7EFN/eWHv6SaLf7C4UBD5rI\n",
       "PyRKx4t+O3nhFDAvhaml7U+S0DDU/9WMeivRuLL8A7wPLY4E+yfBMR/iXzeMtYl0VWDCLxPIAWFw\n",
       "raGcUlCGh7Lem08O13SLRpYYLmTce8xP2OvypN/oKLutgOK4XVavqa7TcMdc6LLSonohZn2lCIS9\n",
       "U+OBVzotw3DhbhjxHqFNQKjmJ/WRjOcOUb1gfvJyJwz1J95jNCFM/25lL6/+OTBWjBDI7GkY0XIf\n",
       "TxPimbiaKgxsIQBCwAAAAGNBn3RFFSxvAdb2pRYD/YAFK9ekXyYzvORJVqsbPKu1POLqFbTw3av4\n",
       "r9LE80e7AAWFnl9N+2zQzYBB2wrpZSRJ5YaADsgP5I/F/GGWHim1D+00qrSEHkcTuDAORegQn9f4\n",
       "ZUAAAABZAZ+TdEX/ASU9PMAQ/9xUsPKTrZ1wLaVKvrPh/z++SFkiMxaykygDyWIOeBGJsY6hFoKm\n",
       "e6uUl7O1qZcapuNeRdsAShgln8VOSB8zBaFSAKAgCJlCj+wAFTEAAABQAZ+VakX/AS2dRY8zpABt\n",
       "JAbf9EQ8ohlrpcBccPJc//Kz8jfGgR3AmLVVoHySlyTxisI3Epjn1jADGyVSPboxnGmuyNUSMaqL\n",
       "wy2YW8QABWwAAACMQZuZSahBbJlMCL/6WAFUMp+tmStNw9YeZW7d5jDeG3O+EvyjYhu6QBdBwVLN\n",
       "GeK1YVD/zbUsbZYPySa7KBXxzCn1PWLOK62dfpKfUeE6zydg8zsIRxOq6FKPY+OBnByJ59sbVNv1\n",
       "dLutagCdKHyQQJfnotb4Ly/SWqjO0ctSYhbZq88WRXrdB/gj7YEAAABRQZ+3RRUsXwJMGeiABESC\n",
       "xGmLt/+CX9q3Z1qP44v7dcHRmO49c/CIAn7mEf2M+fNxc0G++zQG9eooL7OflYoO7xez3sna4W72\n",
       "o/yD/n48AEvBAAAAWQGf2GpF/wEpkc7pJ8z2pl4VACPCDtXE2wsagi/BOGWFSi5HpFcwaL1RREjK\n",
       "rmbGZYwri4/TaoZMyBFr+AYPmNB/fF+2SgeSdgtcFvDJgq9ZL4AKs5ERAAoIAAAY/mWIggAM//72\n",
       "7L4FNf2f0JcRLMXaSnA+KqSAgHc0wAAAAwAAeB0oXug4SqvQwAAbcAB8I/4Gj/zAtUu/TGsOmvlU\n",
       "uRYwaeCSmi9/NbBHEVNsUn6DYanmwu1b60VMHQtzCYZoj1DfMr2rp0FXkQqlZUUiXLKk+FHp1He7\n",
       "fz0covrLPiR9cW03iqNr3CobcBCew5db4Q17J9PUcqDnNm8Rei4Uo8IVB/KL3/23Luor2pi1v4VW\n",
       "Oem2vI3dCvL31xhcu6qayR+6Exwf6q/sdSwmSMbIyr3vjNrToor4DGbBg9AAMHF8BJrX5B95vBE+\n",
       "nkY6wr3AGmyYiN3MSMgGfXXkQKHnXNDgE1fmvkud0+E8mEZpiib7A3lmjU15MdksXmG9ja0/WGxe\n",
       "5vZF+lqfIvK8Eoo1/aOlBuo+cqZs1DiQq1G8hxBq/tCsIrbeyg/xwiJ1/cRhyz5JoSVoSj/fPC4x\n",
       "wA406PQw/kZOjU/ZgJVYjUBV+NANYdMpOcft2mdJFdxLa0Cq/OFEpfrcAnwsxByTY9s/8NFUaFc7\n",
       "azhbVsE7TXT6Vh9bqBM2G6OqLwlno5+0P+/tWSGQmk0GDossXYFN7kD6vY/ppjdgFRkusugZN5lW\n",
       "7f3WwIlJpCQiqgXAHJkxNdjaMhmu31b9eRlqJ6OTqKjT7/SE8LOTfwMWUj+M1BPRr9kWIKmEbZLl\n",
       "huvk6AH5OXmlEBUfJ1g3Ft72NCQsk/lcR4hnDB+qDmYX9722KkyoRX8R1voBWOk+eudVOx8x8WcM\n",
       "HV64oCvDIRinbd0OWrqkJT8Vpv1Sh9CvYWRfiJD1nv0ce/9I8ibWGiYB4B1wLpJ+p8P8p0h4s2gG\n",
       "YnJXW/M2oLw/1MRdkTllQLZ8c2B94rwrjCO7nPUOZ/wpwkv0o/1vIkrHLbHMKI9q3HU5hcsjEXe+\n",
       "cTqC+zRH9WSny5QDkXyh5FYt4BmVJTAM/m2U962qnMf/4cCunO9T7iXWoQedXl+x8eGkVv/eTzut\n",
       "aMLJoo9AfIAeoem4UYm3QFZkOsRx8oH4ADaiZJM3kdQVD45Ej8vW1xcdrKwDsM5H91XZhuiVD6VR\n",
       "fYyWb5CetqplEnDzxzah0AGX5/fGa8jvpiMKiVufHlhByKWlnC4texFZIOouFJoUt0bhT55ec8V4\n",
       "IXlU2jdciVXuJ9Fxjop/5b8QW07OlFGNzizbcFp/bkqv0X++0eiwW2V7nhT32yZe5s/lHe78GwX0\n",
       "UqrOEgktc1irCBgF9BEEb7eq07w9wQX7koIpzU8mJkp94XuI/Qnf2o7vSXDAVxdMyWbuyGlgSRp9\n",
       "WAXZ3slsWfNoXSoUkQ7FN7oEGEPDEDvJ89Wpj8J/by8USIZwcHU1sgVK+AcUnetaTd4TUsFaZ1/U\n",
       "S5/eZof5BiSLFEfqaGE474bd2brTMjnclRAMibyFt7I3d1FRy3MCfWIT6NlNigFdbOV/dleaU0i8\n",
       "FHw5ksy+jUz3+R14VLTeyc44Wlbwrl+ykRaFf2xWsHxQs2/RxphMjDCTHzaenY3yc4GSbqYQFwsS\n",
       "BZ2zkXXd0TewTddig+4KBjO6fwxx3CBnF0U0tdryM2uOTCCnqfLDAU9OOSdbuVdrTvmWy1J8UM3s\n",
       "oQdOEt2d9GnaYnC9e5HfXE9QxOnIOXdzAnLljtpLkbt8Kxo1AASu9Rv73nHYv81FJyONkjCv0Zym\n",
       "XSEAbfBqXZPqWDWMT7U3b2pkvkGj1jIDhNBw/+TvjiYYDy1LtlQioe3wTE/4C2WOdWEwo0Vcx/rT\n",
       "MlGIZDeMhlyGhchys0LDaGJB57oPDcnzggl3IBbIBbZM9dneoJv7GdDGZE9H++frUTKnAi7tq3P6\n",
       "Yjbt+kfbAK7UtEYoFLVGPxm7oJdAJRRJtJ1S8rtNV9+BNFUfVqHd0xVj8Xo72m+FIORwQ7spTXaT\n",
       "ZRpxJ8iSbHor2elDb6zOZfIbeAi4TWFJdWmG/AoFwc3ebImCupNQ7hnZmGsCJ58bI0EoM8d/jGCE\n",
       "OactlRAG+knKZr/WlQa1Tc6JBpM0tWXjog+UiJOLcpijqg95Kpu8ew/vlP2Gx1WJ8CjjRNlupiCz\n",
       "kkVE548fH11vCNRP665AbRuzWdvrL+U1nEc+moLU/XfxHT8l0jp86tPV7gkm4N+oLUTSWh8Hv4GC\n",
       "WzcUrvySzqPzj5vzPD0pQtFqe8d84ny4LNJD0oRFlO0ncBACXq4dRA//cXLwvCA6cgRVUpEPedt/\n",
       "TRCFNeon5XiPYXJyE8eDQp9Mintw6IUuuqZGB7xclOpKxax1UK/2+UMZDczRN3oDhCyn+5Dor+8+\n",
       "WYpv2GgpgTpC134ydM6ceFxfkVZp1kzLeesCZ1dYUOnh33fn6Sy5pSNCXhmnXqotuUp5PShuLZnC\n",
       "fdniT8ymR/HY8BHKm7mxB48giziM/cQYtc3PbrA8lOiMBwWvewsMXk1lrUAaPhweap3B9wmiWXWQ\n",
       "TOIZjz1ew53OD+J8bfpbt+K8WGhg5wMBxYIVg8t2kNzF4sLPFNVCSkSm6ABA7K05bDPU6e3oWZdO\n",
       "kFG4J+Q18Gc6uI46/+lMXLNugw1BxjLhGVLVpCd1vrQf2j3gZN2/nQaEbGsL4TcokDJ5OgRKltEM\n",
       "CzTDJarGsvlmT/vdl5IkrjqUPfCAbh48Rk90NyOa62T8cSrJp0UneItHukWc2JqsihtWm2aSHHD6\n",
       "sBe1wz+PnbQXr4YnckH5itkwAChfR18JXA2APPZNb6eo23IS8C6/bagzybta94yq6mprirScM4L9\n",
       "5qvBK5u9Tn7vDrX+kGdGe3kvHEpkkX0sG7VXiFvpnX6QCqoTaJ9biye6OBya7ulqgvN3fFPrsQG8\n",
       "HNY91lY8SeBpltQbMX4nbk1F37F1hjrNGTi88zCylqp358QFuaBQ8evfqCyvoz48SPtGmcdpXpiQ\n",
       "4NHUtZRTlTDNsRwB8Kf20aw6nxVmnXhcVorClYQc7T8Of85XawrgLU8kXdoHspOeTOw/wf1Dt89w\n",
       "0GrBtrT8z1Vod/AOx+dTe3mDQMWp6ARlRudXEgIs2kzUGnQ1QLVb6oqeLkBfJDtiyxbAKatl6/1L\n",
       "YR0AnukuAA+u3awN65PSySvCHleeEJIS9rZkhqFXo89PhelOEow/Kp6QZzWHQ7CXbVOdrqfOySPo\n",
       "HDikkVI007oELCoRhMjSCiAk7K/k8RNHcGsjmrmafV3f6YNpd8GQ09Fs/ZcwvINXFprB16IG2p+v\n",
       "2Nwr7Lv2NFRPY1b/YJO7xOmnq0J6L2PIjzXbNgY708dQCURBmRZ+BQIStChseKAaMalJiTK2EP9m\n",
       "Ffyq34Y9StNcXPJqmbQCwFg0Lvo0B78/ZheSJz+uLqM6Y5X7DLj5Cjle9vt3VD4nzLpgT9bbrtRr\n",
       "YBrL/Ix3ElYBS7HrR9g2aCrqEz5L3lfjlxHTS5R2yrSswujA9hfFMcMBhxgQGBwwqgWCE5yG5mUQ\n",
       "sHPNKJ1+NA80PMpafGLXVblYEaFVnqXRZSX2XcZOtuuyt54FfJzrznr6dVUMacQ1zZj9QyipPgjA\n",
       "4v7cLqE0R9eP1ZUDkf6XryLAc8ANhFfi+uy0vekjXxhFAqVZ76g169YrlrK7jZWhg4msjc8GlWUF\n",
       "/GTJ2AQ6+MXa0VtCgE0kvmjRRP38aKWL90p3qZjD7GWoi+Tb0teWxYQpwiVuKoCoN6lg5A07GUvG\n",
       "lRqRco4ABScx5LW4qTDv7ZN+NzXz8LtrytSne88vHYyL7QXMdOXldd5HGy4JYexl5zUvGgRDgYrI\n",
       "h6tAFz/1avU7B2x10KDnemWo83+aBSi44N+Ta3BiIAnR71JpLwFu63NVy30ho2VLFfhUlXKON3y3\n",
       "tlzqZAZ4hbniv18nCQXrFqDDZfcw/Ohep0aKYfTsXkPvEI8go7NhIO7mNj6Gw4i9cqQKxdihL8RE\n",
       "8X3lKFgzMQqhaPkffgIJZfLZhtlSB3+P3AFdCCWQinXVUdW61CLiHbcsYY7mNCFBI2TGLqWY0hsm\n",
       "Yytth053OdlR3GuVwUuN8+pssN7lSpxkU0LiKUn2YQo4sCT/taCtWd65aVFdD0M6SHtV9ZjHq4OL\n",
       "QKgxm7wvuAFcKRij9qjfsXpKPuWybE0x9UUeM776rBMxVvR5qb1SUBZOJcYwx+orLNdE9eW6xI5f\n",
       "W8UH3UPeDA3u8y2lNCfTyT0WDWRa0dyAkAUwpbub2PB/VGeuO5WWJj3Uq8jQ9FYA1uC5zyNGWnQT\n",
       "/tApRBZjbxPqbvNCXCnJQizfG1ZmuTJ1PAKCx0iIMN9C0L6d7eNWsfuSEnv5ZhaT2xTYG45SU1JF\n",
       "FDiBZ2qs/TVf4WZ099LotgUjHukDf/e24Tq+GYjLtPhlNFrOqNqNgka8u5DcV6sZncxKNp5eGDib\n",
       "/43UYqYVCMDGnVdif8dvZ5XyZCZRxyDFdzHHzEz+VIt9hpTXcJxWhBEfp6cEQnil4ugICFaoiagl\n",
       "59NLfvyKII81WXOr17uyO/n6LQo86D8vKkacn1jrRbKuLSSAn8QPXH+Q+VQbrSOSA0aVrXVL23Pf\n",
       "bhbaLnaNYPUDW56d57StQ80sasg8nCAF6jNnw2Q60GqFQvYARejx8fbKYpr/vD5AOf80vCJvjLjN\n",
       "rrDf6LM+a0oNYJXD6lH7qgfiFCEsJnd5FsKjWtXMvNPLbbdHCPWA4quEe/j3DhkLgqFQrUx4GgOu\n",
       "0IVVjcXX+QnB9bjHHWFT+7C3OrDX5SyjhXMcmcDUPZBmtPxRJyazyfghDsJ2YsO5c0srl8+Xv/6J\n",
       "4vSA5COsyzEWjujtzsIxcPwyjagVuw8f6o3MViH5K2/mAHw8n5vwSjn/jf3+dK8b8BJt/pi/ON8T\n",
       "MdvI7a3rtcz+oSRkv32a53WTM5D8sqhbbKbN647v/0nEMBc9Y5C31nnZPr+8n51EhnR0BmmTmk4p\n",
       "kycEIY12vvF/ZrsjDZ1CHwfAxQKtTxpy5DOhOHZXMl2TdARPMJlCSMS/UoGZFY1O1z9+E9KQTro3\n",
       "FdQlu00SwBrIjJLgcwPQBOUpOp7wHjEoOKOmd0EP2JzwO/wKFGJcjxsG2KIRjDmrVtogAR0xNoWn\n",
       "ULdBhTd9um9lElHoEjevqHHzAkpmGfXiZ5cmyqzPcgIo0yGxDYEhulJNt/eOELAbLqtUeJ/g95Or\n",
       "zj8sqrOgMzYM3cx7lxwlG/ztVACW4Q7PeRyRN6Pc5q9WT9RLhNy4xOW3N7gc5sUxsxI4MD3aqjLd\n",
       "WGXtm85KN1vpGi535c87TlAkZSTT5Tt+MkM/aJNrtF9OPMPzhqsqBXS6FWnEDChF4mLWSj/tvsqf\n",
       "ftSdjZTgIvc6gw0hWI43XTbmW0+BCQ7SVwyrLtkC9rusjmG6dHkOdorZus/PtAYdLJDd5bacZV86\n",
       "VwmD+dWrP5qL4MI+UObiutDli39+TdPsEDwmOauffkfQlmZYpN578lLbsjXuSaooWA2gePUJ5i6V\n",
       "Yvyug7uzsf36Ez2IxbMrrbd1d4vk+wlIDPAarO82Hb0GBxcoMvKmj7x0XLqRAjSJwaF4vILD6+F7\n",
       "xZMrPTrKw5wOs9q/7ZhekFOuMNOOCn18AaWpS/5/o4H/Nl3WCBIvqTzZ3D6EbeSaSHeAq4FIwDpP\n",
       "1wZXuoWANS7Ob+etwaWYxc61Rn04g0zv2x9FkbBPbMZkvED3HP+uvAycSqc0xSl9KdH6U/bWoB9/\n",
       "TMLuOYlOKY3K7B/MlbffN7dJWpZKnvbAYEUoW+2oFH/Aj+NQ7EeFxtILMktzhAbRQ17j01KVA/YD\n",
       "kh/COYhgki9Mf+B8lTiNfCO6IQTfQZZT0KvctIdvLw3txK88JjTB//mZ7NfV2QjhzCEowLWqZ7X8\n",
       "E+S+rkpb9Zr28itZzw1W4heHaLvgMDxUEH+6NdeGqSAEBE+r3wg+Dcov/IY5Yo4vcW03Sw2999ep\n",
       "jAf6tf0G/RU/q3xu8BQdBotRYyPVqYQm7jQM2BvPGzIJCcIlAe9olmrLW4ApnFGBkOIh+d1XVWbr\n",
       "1PNpaf8o4LP99KHyYYX5kgP3FqGZL2unvtn97RIh/s5BYq+53apSOfWyg+VHeF0cUaWKJR0MJNh8\n",
       "ywMEyICZhbUZEp1p0O2LvcRAYut5LjIPynS71TZlGBRz8I6iU/d6/NCcbF4H7qmEPoIa5w5QVftK\n",
       "gCQGqbDl0LyoRk/Jf0vL1QmQULom8gqf8ljDteWEo8BcQFqEr88jFLSmDWX4j9/9WEfKSFYQuf7k\n",
       "D6Ij8WvFk6BCyG9qAS6vJEPA8fhyY8ebpqSM6TlHxRD40Bk10RC3WuxaJWHeJqYxDYey/lyAzuSx\n",
       "2eFvLaZtZB7zk/vEXww08nMxILoR1KxyBRFTPEs6KeQOb98hDmCU3Tq+74BDnfRRoLwu0iNbr5h9\n",
       "JZzhKejmmTgMg2Ykjc7tuLK/RBBrk1BPvYQMM0CIeuP2PQ1OEnr1Od/dpLBH6XMfV455FLfh+7Ya\n",
       "f036k1GuZkQqv8gwST3UjzZcz8uDQl20lxarpczowvCRg/kRuxDzEtdmoCDbmCeoAbve+VjdwNM3\n",
       "rKinBQnNKuxSmIfpJzGshuDzZqS+HQKSgbfvHF3+yfglky9ntGpbuyk2VnsSJ+T123iCRN/8vQzi\n",
       "qhr2cD6aVcrD2zt/zSHR6WXbh3ruk7gwWr6NaEzc/mkPuNmCMxXY7POzpILfzVwYfabxGw9F+gfB\n",
       "xDBA5q0K3vm3dzoFvilW1NSzuZ4qUcG9tXra4cNxJEVtg7OAFm4NSGQe31PZip+EJQK35d8TBWpg\n",
       "BfZleI9cFUMNI2vybhgNUe2XCUzcXnc54SvB7txOu0Qt/4Vv7+Ehq+mO4PLgZorlSXjoEe5TOxVW\n",
       "g8PmhaBbZmmw9nabwN4z09wBOWhI1w2fTy3rQNL7y/IhB61y532UHVrglFmKozwiD40XpmZFIZrl\n",
       "TdvbP0RAwx0gycOUXgotalKxbS41rzny9uc93bQsao5wDsGTTFMk5DxlYw1bt1Dqpi/8vL3MIxk/\n",
       "0ET/YkweqB7bPNAM1Q87O+PFfMEcEPk0vX6h9aT1HSxjRl0K3f4wJjur8QmbUdN/FgzONPdqBETW\n",
       "7Lvs0/ayA09wLI5nnHHTBN7mN2GNYflt2zfPRDGuG0TS6Joz0j1wQCa6uW7XkvH9t1CStnilDZxj\n",
       "1baHjnLJ2R6MduTxvo0lz4Z7iXl6nuKKY3vHIDnpJggUuEaopklrHwF+VU51T29WA5APyR1z2I8A\n",
       "9qnXG+dcdLzcAfU+m4WFRR5fyQHyqaW8H/1PFIDPOcfX4T2EfORSH+ELTgDREAMYyIR+SRVSElpp\n",
       "K/M/3w56cW2HuR01NUGsMUMy51jg2EASgzWwiOOShkUJ7xIbRgKs6itqrVih338OBVVo2xt3ck+e\n",
       "LCbp/z2waNsKPYPJKVMsg58GcjoTYl58/4TLBM5CHeWjT9NhMJrfTWqpeD0zy/Bfm1NMv2uDQhAa\n",
       "/glNTB1qgRjxdzMNgTUI5Wnv1icCGZvD2JMYMqaaZxXswcqkvRL4HxkJ5BVhkw3B+6ge/Ni1gnEE\n",
       "VYH56LNrkyYtph5JJ+wF4jvzLD/GadxOXmmutB5hnBxOAIT5VVjz5XQDvyE5o3q0s3Yrw5wreefr\n",
       "Zfpos+3mgtJB6WahLPvJvqbmI5zAGAJtX2V1LKpEe1WOG3N8GzZCOkD+ozCIQ5kLaT0pNIdEbG6F\n",
       "X1q6WyKcQNwXBICuWR9Lky1laSUbRilTQaYxbtfWAUpXgktpAmUdcxkRmEzvzPSN8F5ITuBNOIf3\n",
       "lnrmoqgNuhesGGJXMV/6MaH69Mn+46PHZcLgVp85KmI7roeK44c1U14Qw5+ESGe8ki91iHE7pG8g\n",
       "y1Ym6UFiJMWeOCadDt68Td4UOlrB7+UbbpUYhrSArfqWLAUBEEq/VIKEI6AUmXGTJwtHvMdMHGUj\n",
       "ErYX0GOEapp2t7xWglWt5Y4wn1ODltHrl9BuBRf7Qol1ehxYNaJqpkuCg/1TSMuB0+raIs905y9h\n",
       "bvKPhdr9JFzKqQHlwvg/TMrJYlFrIkturCIj9df0upWcdSiRII2vmGVi7ivA/1ezLaXrJXt5sKhm\n",
       "Oo1ZEq0N+qDgfFovjj74K9KPO2MHsJKu8OK9hpFl98hSqGgt9e3484NW+UPL/a4YZsXwRI1PghA1\n",
       "uwqV3Fltu00SfQYz+9lU1DBwl22eea2ba4mWaQLbMm+YJyP9DgRPlPUZU9lk+NhWIxJM9Ogx+Q23\n",
       "2NjADnH7Pwx2l2MThsXBTJU86/IEwg/M9lJTtxNXJERM79AAF6KPs76m/iczQRZpxIwogVMWD94h\n",
       "vVm/a3pHPAnkqSooWYEAweP9gihKula0nX4zP+HEDR5E50A4WH4UcBFtACIvd3N3/T4tJdXscRqZ\n",
       "URwvxekY6UUr7VaeEm12I5/lzwRpCoNdk8nr3h4Cs4fJ9ryJRyzkssMKVYkdvbXTETuw8ND7zd5H\n",
       "Vg0epP7j1LE/zIEqgWwM4XreMs5DfYdp6vqfFVbEUzhX1+EZ9l4s8xUws4UJw/faL+E5pCGrv+OF\n",
       "QsemRYt7nWqLuDIHyYscQBEkT3lu25xfAILMCuxM4HKStAagkr2z2bi2/yK6ITnwGD3aB+gAAAMA\n",
       "AAMAAA+pAAABw0GaJGxCf/3xABupM5CAAijpukOrl8/qqR1PYtHaY9ofYBtmqsd+m/Dj1sNjy3Rt\n",
       "d/YuyqQSrK6QrprWuLfkH1qgs0Iiqh1d7FV7YTHmaOeZBXZHr3gOpAoLPXO/wAtGk+NdJNv+auc0\n",
       "sNUcpKOFGvxFWB1Ak2N7KgB8fZrtEUyxM1BZFmUk8N4pv9OwOx4IlD1GYVwETZ0DxfxGbl1gOG3I\n",
       "pMp+sXls7Poo94cmVLsnh2C9BpM5VWsp4QNo4dgsV4f5NDbKRuVUdWa9In89GkkMi7mgnlrm7v9t\n",
       "LIcLorTCyXkj6ZTY+/wKIBlf9fIGG+GLCp3FUzhR/xhIkQZXsX7VRtdku4wFtsojl0BoCnMehptl\n",
       "A5ltWwb59uSarsCLcVPKyxp2kybfum+a1tWSw9YpyJ4BJDgOipyOQJEZ4ZXOYjxTheiX87ieqTq6\n",
       "jhWZCr7FqaVOCkIkgYdZnEO4Lb/9wFrwd4zevmAb+lahVww2PNe5IzJbL6Tr8Pec5abz54zfocoj\n",
       "pLRedi7Eecpsm0QwIqwkiszuSZvbJQ07zpAK2d1tlFvKghiFuTNjW5gwwduJiZUqGeVXdrPndEnH\n",
       "qG78EQQAAABQQZ5CeI3/AddPzFcMgLwIz/WNp1u/+aDdJIJl9y4AIDWhJsaCGn0cvZ0zcNMcfttH\n",
       "m0AjQKsri8oTllj0LT8i2KTu5+jHkuoUT5mqUgOWw2cAAABKAZ5hdEX/ASStkiyULF4oEVvd+/5G\n",
       "gAsYR+WquFdvgjwbYbMpIY0DLbgXQDdL4wSez6kjnPprtIW40BgRQwYoxVMETIDiV5QYVUEAAAA/\n",
       "AZ5jakX/ASW69lAArC7D+CKizyzbLwqgrzO8aHfYI3K1nw0qsI+DsexF/Ntu29sS9zcdPeGohXNe\n",
       "mopA5gMCAAABnEGaaEmoQWiZTAhP//3xABufYfqQADjeTB5U+27TkE1duhKY1JRTmSo8LfnUZs5Z\n",
       "p1lUzuzWoCuDHHuZ7SyIW2Dc1ftECQiX+koKxgzIg401OqigqwDRgX+Xj0ipjGds3c+u9C3GNQW5\n",
       "Am5q4kG98UjEd9Bud4vLUb1nPNcoAucC0XeLj0uyBkeVUXJ/60gztBFwAOuvc5cAeVEEuTqucuQ1\n",
       "U8SQHOxbS33WdR8WOFNaHQntMILBD1r3KPGDuVzUcsVjMYCXeGT3BE4uxOdtourKnHOd1j+A01vy\n",
       "Q9gbOaVRNIqPEoFHb/BXuklDV2t2n09eE8hyWKtL62FuIlBu7vAlwAzctqxOJbzaISQKD093hU39\n",
       "DqGQuTgbshA0Fuq3UeC2nu+Rl1dHS+PPfIHHVuqmGZB25X8VOQE6dxhlHmzhjg68D6cd8ckIwOSO\n",
       "nLbln7qSve52xFoblmMu2Ics6XLCGAyMCoVNq35mo+b44D37rgIi1L29jk/pqTnWvm6e/ORZS8TK\n",
       "q9LsRkXDwsqGfmt02StGPwwyqt89y8AAAAB4QZ6GRREsbwHS3V+D2sDACPVobK4bROcv/ffJ3KRw\n",
       "wDyi5SAoCV/ZlVyc04THYmiV4JPGpCHAeL3KhEn/CrVCfZ8zC0pLW7pDeFGV2FVbRVnslfVa0JbP\n",
       "p5yucUpfEdq8rBWr9oQPgjsKwVlIwqbpvtFzY+KOwy7hAAAAUAGepXRF/wEluGioAAr/fTN20fmX\n",
       "MhvQXcrXGOsMBGeTtKFstzBcemfB6RR5OJchiNtArD461Rh4U/v2StIJuJz7nvcHeht1nWo2tsaM\n",
       "AKmAAAAAQQGep2pF/wJIqfUmw762VogAXRCHrh0qCSEaGdT5YcUs4GB7atx5EwRCsJWo4b0iwFA2\n",
       "+Cmp69D2ZsNfJ6ZgWAHHAAABdUGarEmoQWyZTAhP//3xABuTCEpAALi94PDp7yXPz5FWJFMI1fJV\n",
       "BLZPCG2dOkaO7/kNWyZL+uuYQaG4Q+2+z5e4+A12TCCMLCZPp3TInh8f/cAgAyfrja2uG3uC/pWh\n",
       "AxS4KDiaSHceqlds6YpLzWu6n3V/NXPSzx5WOoWwGK3FEYt6Ot9iBuJ/3ecxYnwrdZASS5hkPmyo\n",
       "kVRtVSlI6ux0opnH26IPpvmqguQU3oe1SDKcP8ZPPHj8MSGSrpyOwVZ08a/o9skT+A5dMRLVb54W\n",
       "TP5B62wV/Q5NCH+jUTKp7dbsQLxmuuwojzasaMBnSDtZS/S4PFypwycfbGP+TzZdbZjJyKqqE2DB\n",
       "SLcgWc41hQ9hCxxeMDoUu8Mwh6cw0dKSYnoZ0Acu69hR/+WKG1Da7/IVkewKUtqyKmWSaQTv+Bum\n",
       "evn/3I9/MJHG8WwNBF5ccxmWmu9dCNWvOm2qcSdTgQqrmtjgL178Sr5DBzeiz/6p7KAAAABTQZ7K\n",
       "RRUsbwOY8qCbbiPuEE5llcJR1m3AAG83FVA1C1m/3VsNzHUaU48EipH/kR6wxD94QPzUyt5o7FyJ\n",
       "0jg1Wg28A48J+ou68wlxH+v1u7VQFlEAAABXAZ7pdEX/BJh9S2+ADgn4uxh50x51jvnXgLwWmgGB\n",
       "a4AKzU8Tbj0vGKu5EuCVE92sGFqZ5iU+UaG9Ea3whassT1GM4cn0CWZJeQ0wYI+SyBXn9ZvfMBix\n",
       "AAAARwGe62pF/wSZW6fjMABxOGIjrw1luxEVQPHfzho7m4bvBC88oHvToXBL0FgywUlkBH/oruqg\n",
       "E0h7x8R4bWaZLtH44n+AAMCBAAABsUGa8EmoQWyZTAhP//3xABuf9xCpSAA6BtSfpccKbMmjGyDq\n",
       "F1+4MT5Hx2wlT9bgziaZ3dl96sLrVELX2au4izehAHWpAtGwgmf1sPvpbhxPI5cVHHswcHGnTof8\n",
       "bXPjRjxDj1UNqUAYICWFJMViFCBkp76MzVt9KpCfVu/OAbZBfy/R3G1iu4XA4Z9chOtOSRVKpzPa\n",
       "xHbN05IHtftjLotOCoYzV9QS2x3oyLkcziRCAsXFJ1dj2R+MzyqANfkInYPsVKUksfoI0u7t2Yby\n",
       "+UD0taU7WigsIBg5IcR/Xw29uTijUZJwdO6PIzetJn3EQ6yyOR2uIxtZizoMqMud8FZ+2JwSqNT2\n",
       "m/Q12D5qdCcMR80oAAbFkSi7GNe0rYki9JebtRu7AupEmAgUi+jU7Vercot+Rwhbe7cOwkWrauPL\n",
       "UOAsPczC8Ft/vbVIIuTGlDHNW0+nW/RaVnL3cpFikppdhoDvt2a1SeqhzhK2xgbXjqQnzMZQAs6r\n",
       "ILpHOU8KvlwxeVCU1NGeebJHjRMFnLze7FQotRpyA742sNDKgdMVznUr4eyqfRhK/nZHGnDwM+EA\n",
       "AAB6QZ8ORRUsbwHW9vb5ABGL4FSt+tPiwLVmfGAaz921MXIFJycsWNNerCHzd9OWLnYw2WfUWu5Q\n",
       "+SYnKDPfNbqzqH25atPQAgs5jx/SHS6YCLdGx556k6XPllo+4tWDFXeD85MAUFuzZcyrwU454Zn3\n",
       "7B08kRoa7VCACXgAAABWAZ8tdEX/Al164AHE4YhnRUddDaL20L+j0ZuleosSYw2rGPMel5FJ2FOJ\n",
       "HETbxgKDQXjScTjQbjZr9CvI7ksv9YLBUTJmLJNDOTd0JS6EoVdgYsJAMWAAAABbAZ8vakX/AkwQ\n",
       "eEANx8H+IbdzANUJKlzhIuKBD/tqJtQKhlq+h+MVSGznk4znjnEI8GTfBE6lWRfdvFeYZ4V0L7Xh\n",
       "dF+H/jOJ4pxkZc+fRS9QbD5hGHBRGAAEvQAAAYFBmzRJqEFsmUwIT//98QAbofeLSAFvKNAfBMGC\n",
       "0qci7jYOac4te9weGC3TuBPSnNbU1cgqvEY0vYcbsCJj49mnPivKTo8rTucN7wcfTz9yM9vK8cvB\n",
       "dIFoYjJld5RXOGmKdc/Sdh/BwYSoPmFTOTeZEmOzy6tZLKW9bRT3II4yxhdsZAmVr8uq0PHq+C03\n",
       "Z1MAviYWdJXW+XdEucNGgO2nnOgoeaTraBD38rbOiNO4OA8EL4pBjm69u4uGyfQDNZNr3up7PRWw\n",
       "U8ASoZz54xROZzkMngAuBogGviNnSatki4gqmw1ZXPEFv3+oANOAdHaG3IQQXLlb/LdxHVLW9l6N\n",
       "b/9iv4d+lyuubN4fF6w2/H7KdRn9Bt3rqYYCtvHiDkGmSgaiN8iwX+vufS86AeM1eT3Exn+qPXJx\n",
       "Kfk2mem23U+QuYJHHMESP+g2MKPMnt2Jle30lCd9MJXMuTbb5vp9ui+CVsrByqYzSnOlGvHgVr3O\n",
       "WefS2+fYIpGzpbxdABWwAAAAbUGfUkUVLG8B1vaoRQAU49oLJstTB17knaJT8xCcQA6D90LyufG4\n",
       "IwjK12RWbEUrRi8JCAUbf5oroA2GvzuMlGeTFLMzKVzysskv41mNHmWJrNCl96fVkrtUSST86Rpb\n",
       "F+wdq6ZQ5xX6UngAKSAAAAA2AZ9xdEX/ASyAv1BhdFxDQFotzEC6uzakILQrfF0Q8ALaQO4lPFXU\n",
       "sG349CotEZbXFktuAHHBAAAANgGfc2pF/wEluPqXI0GdOin3WvdKtgO2kaNgBbvq2NZFHhjigtDY\n",
       "uH4iHTk4LgmwOs5X0AAM+QAAAY9Bm3hJqEFsmUwIT//98QAbofg56uhvmOhrcARHHY4xV/mK8KN7\n",
       "PDFUyFvKN0E0fatkjactuGGu2zXZdj1iLsuUwjVj8e0BRCqUN3Wr+qo2wcHKvsRN2eGrxhJu6+aQ\n",
       "X97iaFtRdZFecVl6MQPZJOtcC1LLoj1RPw8kBiiZZ1qUT5G9Dz42blxaJj7WqruNg44/6gy7Rpee\n",
       "q7u3A8q7pOSzPbHxegUXNUP7f07OmAOOKH4OqlrJQRzHl/Zm8pNKXMNi/hABWrEuvdKJ343gX9Gh\n",
       "kv/bHd/OI5VVVBrlxpvVVMZMUHHmmlOdn2rgodSf1wHODwH+AodL6F/rLThofG1oNo4WQwLWbVEc\n",
       "UZe+H6don//j/gmhlfgvXCHAr04lC/L+N87seWhN69hzSvY4R764/munIRGbDw4tQ2C2NU52PqH0\n",
       "Wu/LR/PLAk8FnKOgGN/k+HrGgFsqtAMz/S7o40OGTP0ThojwrB3cS9h1tpb6anIgY0UtTk3BjoZO\n",
       "rF2hBcxbxKnwznj/VzSrFRrwBB0AAABsQZ+WRRUsbwHW9uuYXL8Pht/+H4EABYU/hDBhzMR/pJnY\n",
       "nmuhIARaobtUIqERTq2TSj6pnnrXhglC+lLu36EO+LRud4jXgrshhmvnwDDtru4TyV9vekQhi9J6\n",
       "UtRYJxCDsIso+3NNxgBr/Qh4AAAAVAGftXRF/wEktrQCHXMABwNAQPkz6CBTnXlyoDquP1koHoWh\n",
       "n47M9cvjC72VUWoSRKY/zlOgNiHjUYurQHXeY/AV4mxwlChJjub+Nk7Zl+FMKAAMCAAAAD8Bn7dq\n",
       "Rf8BLH/9rzhDzsE3YbQCMeHX+J2NRGs7noAiQIHjycYYsiI6TrrNr8nr8og5l8mbw1YB9KIDpPwA\n",
       "DKkAAAGgQZu8SahBbJlMCE///fEAG5MHH9QAN6HZSaXRV3RV5py88fpCVhVYexLL8VTbIoFP3VvZ\n",
       "ErKBfnQsiLhpWzQXvvLzaXSo4+KNelwOKDcBZkKp24SwULCqC/dYMTUp91Sv4oPX1dHiJIFoJoyU\n",
       "eTULmSfd8AmIYFEvpw9WQ5wRGHQNjl2o1yGYqT3K2LkYYiTryBBRD0pq5lM7HfbJeYbKpcZTk1je\n",
       "+bKDsZwrVkpPOfqq6OJvBYXf/n4EmtWtLEnUK4QvHxyj3553KK2Ou8KR1tApRDa+kznwhV1Ac5Sm\n",
       "pIfFaxpN8+GmKwKr7TiN+LOhqt9Mg76wkTuMUojcYsTgk5uhrMXNMsdhdbO+NLNpUDaANb2mn0jU\n",
       "QHqHdq2obbRLwca3siTnRcqr2Ejzg5i6WBZyQ4JX/zwcADr3TAkBisQxdGSRUtNub21kYRvROko2\n",
       "JFodxjfNtnZsMWLiogems2Og90ty0ZZjBujbGxx1V3NsMEMHhvVDX1sqUKWh0b+zREEw/oOrTQ43\n",
       "T29kT9NNjWEsnK6boksM9fCWfXMQA+AAAABaQZ/aRRUsbwHXHmZVijh8SSMI96e4jmMouXiRsFdc\n",
       "N6aPjgARE0oVScId8JogiwHukO793QLfDxHFORDbJpY3ydrnSgGfGNya1wr32DV5MUL8Df0kDZDA\n",
       "ABAwAAAAQAGf+XRF/wEuQ6HhLo74vLALX+kkOQtUABdB/ErYgkpGGBhbr6iBqBu8LpAkjEgQaasS\n",
       "OOd9QZkzEPu3sA0AN6EAAABHAZ/7akX/Aks94p97BMAJXdzXCADfT3NVo2X50psxIrE/XGF66yj2\n",
       "wj+PFxQKi0XMB3E7+wI76K2AxRiikWdbXLHhfYAAd0AAAAIFQZvgSahBbJlMCE///fEAG5MHFwAB\n",
       "GdueK+or6HgBLlPnRGlnspBs7Y3kNiDDkRqhSI+8yy41eDaO1HbBoFtfrEoVv/MCO9+ciwLiSd6r\n",
       "mfzSSkHqFG/7j5kz+bcl4DCErWNum9/ofcdcxBaabyCopKiR0yeVP438s9z6K9nt4v5Qs1K7Snht\n",
       "ctPE5Ba5OO0s4bzlr3V4X2d6dZ3i4qo9PK/5P/lgy7jdHpyCkRq2cEIpEgXyl9XK7uiBv3TEuxNA\n",
       "XOVoV7/iaWuFOcvHodUnpDMO/+m+io0q5foMSAFt/EBrP+84UyIa6cXbNJ+wvRX0WatIrdNYPzM5\n",
       "plN9H/jC1yWHm5Lm/9G0aLd84vf7FmWkpz4LKgENa3tiVWCclFyGWxbZn+ujGxQvaJFGSqwKnUZf\n",
       "pErxcNrFT7DM46e1CB0zhIWWVQhOUdJOOMSlekyHA42XNaRdg4/niOAsfHqv++FrcA+r49MFKop/\n",
       "dpVGGNC+2kBTKaxsF6fMBccmZUItM/i5z8N0CK2erJLuoZPeV95pUeVhH+/1iiV/hDLTgl5pGjBQ\n",
       "qpDWdrtaVEKvhfS+t7ltMUW1ntVmCidxDwU4F/Qo6yYa3TNtjF/JDOWdNQvlZXCDVuQ3MgVxJ3V3\n",
       "jU3Y8c/OKk0pQTVPjA69XSG/iOU1zOVA0bNf9bCeAlWz4cQ17fnVgQAAAJNBnh5FFSxvAdceZueq\n",
       "wArnIz/BoC4rYsSMNBjFGqbcZsD8TEmIayPCEUN17NrzwyjVHiHjjvLZprCu5J2CbqwGvnuT/EFF\n",
       "kGgD75O41YKn17/z8JPfZ9BH5aPsaUn/xWlmSXmA/KbVVp8rL44gJitpzvcdHIJ4ktglBEp+BuFb\n",
       "MMHDAdTk5aV3Q847apt37DIApIEAAAA+AZ49dEX/ASQ64w9iXWzgl6bnnsgAFdgUH0ZyxBtgw6LZ\n",
       "m50yRNBD/QfPTBIwgoTGWw1N+/idR+7HNqCALuAAAABVAZ4/akX/ASZiVpTwi5ACxufMOLa7K9mp\n",
       "a3xZizTjgCs87cxMno5GlmaqmtZPAMKswyeGixGv+va9ZrZlAzvrqfEER/Bsvf0ePaF7LrKyhqvZ\n",
       "iAB9wQAAAdJBmiRJqEFsmUwIT//98QAbfL+KjGVqAGu9eKcPKq0auwqYP36BVWb3Q1MlvCA1kVuw\n",
       "natT0Ag0p4lM2sLA1HSMyFaPA2JTNucgCy3sfAsl807c8ukLxXptbBstJKkkNDe9nwTAX+yWjcQ1\n",
       "rn/eicRBSUURG87qNX2hvU0zYOSTSAH9xKaJJ0GGNj+yU2I4AoLvRXnjO+vHckanAEUyxbIre8kc\n",
       "pKoFDed/VfblPq5MAodWlCo1uhTLtYJ0m2Z3Yjm0f8aN3rzKrDy3+pW5E0fh4c9Z9H5HgM0u8tdP\n",
       "YIl8Io3Z4DtnDQuir95llz6leUiKqmUZe1Cs+uo/dmAFEuyIaryswsteqW1a6iWC38KpozklNJK3\n",
       "X4e8DBhhEPLQ5nxGe/9U5SA434D6latlDES0OY5xBGqXmitr6J4HvT6aOKkmYSwHBCPxvqxgAtJP\n",
       "WHw+hvtgLz+Ixp/0CbJuRWjoRX9f3fYX80XSfDcj73dac1BeKCs1rcVGVIZp2I2DAMm+Dn7DdU4L\n",
       "cw7boqdWEmr9qIrcZKxoeXTsSXcIgAY7s2hmvgGSz1024e46Olj/3QzRqp2SSYCDcpUBW8QxUreB\n",
       "EIh5LnITWRd1J1Sr6j/agJGAAAAAdkGeQkUVLG8DpA8Wbyrnx8nAAr3EmmV6hryYukKTAYWeXejv\n",
       "CbDG4V5Ady0kCK2N8AAFRVZxZG7kKOAQvIyYJg7NCK9jCCbfkTkI1H6gCIuiuh1KrncqosgU1d0j\n",
       "b3+bYi9QTftmhBnE5F/0AK8NeXGHWiUgVMEAAABkAZ5hdEX/AlyKfq2v+2EcKAA34ivfAQdlANQO\n",
       "TlfPZ8HspTLafK/utwddoTt8hS6mHhQfNPvmOOHPMt/+cyPsmpNpbFa78ahtHLUy9wQeGUTwMA5V\n",
       "d7aC92wWV5ypp0RAmdbLwQAAAGwBnmNqRf8CXcE4AWv0BtqtrXGSoX5xQb53iZR4jp8O3M+jUrmZ\n",
       "rrvWmpjATOjNZ57YZaMEN2TPafvAP3CU4gQ3IUSH2awbnnrdbk1DDBJqmEZR5QlhD9hZ3Ssu8wur\n",
       "V+JryxZbwrxUIWJAK2AAAAI/QZpoSahBbJlMCE///fEAOV4BtXiPeAAcd9z+WedhTKkDynqRLMUl\n",
       "HnddJbZWfZplH/sxEbwFCtbFvHhC7aSUWlPKzmhwGPLeR5kiSYDI7JC1eTUc2btM9mcQIoSOiAEQ\n",
       "wCSw3YVmTZ8Hn3h3hqKmgYBG3BA+qFQg0c4Ng0PRZIc+G/lpk/T5T0iTCAp2tfy58VfqW/KfYHJD\n",
       "rZEKYgrd1lVB+Vj7tNxxE6fAdpWpw7e5A0kP7cK3qUFByFcuLehNE6EUk1BtFHO41GWA16Tq1Ls/\n",
       "rX5Rb4Lsjl5K9nVNrnqmAWy2k4KFv4aIcRko1JLGgdjbRQiSjjhLock3QgbgFKstCTFbKpOSJrxF\n",
       "rSyFPVk31Dk/4HNOk+3F0EKrRLWwGO2o9ZftEuu2/NhEh51fDBq/lERkrnwo+Q2WY0Jw886vwvWv\n",
       "1c6Z6oB5uhf9awwOgovhUxTRzcvmPfeutfrm+Y0dKir0LdWF4cRFATxgJEpmZOFhs6SLhzcACUj9\n",
       "SPCWPu6XdU1od03/m70dztumQdK92HCldJP8y9owlk5PUnzbSK7Jruahq+m9iF9FU7+pbTPwR723\n",
       "ULiadbh1C9NQHDTuv+vtGfljwdTzwIJCBUb4b3Tyazwru3XSj3Wkpvitn1mm6QXmfteql2x36a4v\n",
       "QVeJyhlBALuiacpneSyaRwVrA0TtpF1ap8Y/v8f2Ro8QfbfPc7H4uEdDlNQDrbmZj+7paNQ/+jE8\n",
       "92bQJMiaAijDNMy6IQB4Ijb167JXnYAAAACCQZ6GRRUsbwOkDx2O2Pm/8QBQcXRiMHF1LnrheopX\n",
       "yJbPLoW6PIU7PvFLBBEs5vO2merFzNXbGClstY7NW7VBW0x91DveE35CBBYBlIRdcYI7ACAYZa25\n",
       "rCZZeChe1oIUyyfaeTbIuCHewI+/fQ35U56spOl03Sf2jcYbY6izRYCkgQAAAFYBnqV0Rf8CS+EK\n",
       "Z528FyAFjYHyK1mfKq1oYlUSzaxZ85uUJTK8c3CGIncElMV/yYRvEwqJ8IrAc6h166xhYcTdrR5y\n",
       "c6qiAPIxJpC8oMxiQUYeM6Am4AAAAE0BnqdqRf8CSbp0zdz5LhDs+eUOyABcTLXIYqTg4o9/74Pq\n",
       "m1DvqzzcvgaK2sCFRFCPG85AAgaWVseFxt9bxr4rAsM4gm33plXldagFbQAAAYpBmqxJqEFsmUwI\n",
       "T//98QAbofeLSADi/i9kFhPxdiyQ+QMumtLEa75v3CWhUv+wS1GnADpgmddaa/qDQfwvrlm7oMvr\n",
       "/VH7gle0y3qbLfKfmEdl2pgo98izPd+pNrhQcUQEpMFF/3R9tzTuh5IrLwbGHWh5Y4cOOgyhQFKc\n",
       "FhMaBZ/56oB8ErHHbPSxKvdf3dPzsjzOgRxUPrrijJnABYIJuNogmqrGSUCDoJLDfC7cvvYlvZ35\n",
       "fLLBF+LqJjgJBSCfSvXhoR4AxiRexV4+hJ3x/dzbfGVKlwvrREhSzmdZwRqGigiC3L61FMMzGF5S\n",
       "jTQb1hsi0VyS13vgUIakGedJMeppAg1COMoIisHx7vx+TfDRSFr7NYRFwZdGNNPM0R6TRu6P6ArW\n",
       "PF12+IMml1jeoKR/vKIn7xeDGGbOfImaH4VggEvc1NW+iCVOTH3Jf+GJdvUW1mvAMlw/Z12OkT42\n",
       "KukcE7K96SFm0hjv7+QY0K7UyAYrCpfsPgvbOpMGTTKOZZLVyfwxHdwIAAAAZ0GeykUVLG8B15EV\n",
       "FlfsP90cACrAAC14EdT57Xq+8A9ZLoZ3dg0kikpizVR1rCWJCpTyVrfqDnbHI4GBomoGvyzENgcY\n",
       "4fcVQhhEGfyTghFUYtfr+JE/SFOb1qpE66yHWKhBZbGQS8EAAAA/AZ7pdEX/AkqwnCltiO2QaKtp\n",
       "i4QReAnrT34opy5kAGimDkWtLRlbCcyXVHZXCq8j+IPxa15x5J23Phw8AK+BAAAAXAGe62pF/wJd\n",
       "euABc7Trr3SAiuBufaN9ag9L1howM0pd4r00McLh6qwXDmVoT/F433XRNMelhOizVQrStZb6Qllm\n",
       "fYsCfJ0MbQiqIB2Rk8E4iJZsFfNz5HWkoA45AAABjUGa8EmoQWyZTAhP//3xABuh+GJ8AQho3d9I\n",
       "lqT95xuM1eaBq4jRGczE4X7yZ4wAsG94Vhd/qQWwAQi6qx+UedfD7uwbXjs/7gmCV2nnhFfHRkWI\n",
       "oPUxr7JigMu1PJiOneoJNsIvC2crsE0PQLv1h3NF20Xx66+hCHsVjlnsUTAx482Es3ohPITAcpV0\n",
       "NmFmiPP/Rqw+MmlGfwwYw9dX/8S1MMXgzOGrg4BAcrKCdK/HfKOBx2Ht6dyJ/p1Xqq9kPDXu06tm\n",
       "Qb3VNeWNM+a9WTnJlCILfVDm6BQGNuf1Ve4hSz/9RvSb+QBrfxZet/PCJ7KEe4nk9U7BrjkULJI9\n",
       "32hFfsrd0OQcyhyd25K5CwpAJP46zFx8MH9VA8sPeKCnsK6wz2UDGMcH+NLsNz7IuqNne3uZIIV+\n",
       "letUXYysyMr6LlFddNh7/7qSwldEbnRMHqwBQMjJrg5q3YD8nZEk546N6cJiRW4AsWFBMU7QT/7g\n",
       "dc7mUi5EusixNXZjQHCfkJYonpjP8ZS11U7lhpkAAABkQZ8ORRUsbwHW9utHls01KT3YQAsbBN1Y\n",
       "sBDrD3TuGoWToHzRQDeTRMW6geyl9OIF4RWaPAiZoSVu6fue2DVZw/e46N/XyDRb8LkJBBqjo6Pd\n",
       "3/U72t6Zy3Y/GEE5L5D0TJgDwgAAAGQBny10Rf8CXIo4PWffMAGgzaQPOTPCHC9w0bPN2jWzKbeH\n",
       "D94YCxlNRhIq9zUmVKnIXfd+hylM+qDQOKgQVp1ekzZ+R4ScEOzsiukupE4yW9NP+1/HHm7R8jSq\n",
       "Z0o1HLJasAb0AAAAZwGfL2pF/wJLchXgl/dXADbGVtJt/A4pK+W+YwSvB7UcCaSZI0CZq1znxCjI\n",
       "ppt/CgOkBXyhey6+ZAZzfSBgdvH52uZ7RdsBG5X2sG21yQdw29RhdFECMAxjjXilPt//ZeC+l1GA\n",
       "FBEAAAGhQZs0SahBbJlMCE///fEAG5MISkABDsxCzrAByNUCMKGhUaf23DrIFsRXOK6tjQR846h3\n",
       "0tmOHpchGEN2UIYipQ6wslunxqflM9VBa9KyXTmSiu0TZEio7CaWvockwBPzO5L7NTnXN/aO3M4h\n",
       "lV4P73R9qJUJOU+jU0GolYVrBK+PTz+bebNuAgzsTkd5c9D5Hj7CALoyg7PN72QE/CJHVQN66hEV\n",
       "5nCEz+a8F5F2YyufaOYlLLe/XJatwLhVYCko4AXvqjlH81pA56aJqV8WbUziImlCvlxbx7SJTFa+\n",
       "q3Y0qJ/TK9Vc7AvpQCFLEm8SIKFU6LiCfu48jIi1iGxkq+0sngp7gS4kTaA89zOHDiPHHFNRTAn3\n",
       "0Fn01rNlH8TW+VElK14SJJ6XW5cw5oKz7CfPzaJInqx25Z8ad0JFxvjLzh20Cf984r22zly6Tl+u\n",
       "5wxQv7H1yg8gyualhmtQcJuyPRjM8Wt9Z87ZcRTtEV4y30i2EJXeFv9U4lay8Ja/AVzFx/XfuBh8\n",
       "XgWY9ib5Wo6vKtIrZAQAp7s40i1m7gQcAAAAeUGfUkUVLG8B1n8jjOZZEABbSABT7qhF1fp4tUp4\n",
       "EoZ+vlI5FAPXOsdkb9jAFBwBKZwBtTWJOgv9qxvh5Zc2Oqsd08KfiRttiYV2nGL9B3HyJHd9YUBo\n",
       "C0rOYocjjX8vlAzNh32jBN/TFOKB8nyeXsX3NFjx9arEKmAAAABDAZ9xdEX/AlyHb42m0ACV9JeK\n",
       "9d2j1MWY8jIBCdLPF89479oLu7SAEmOXV5y6cpooRHXWJz1MCen6lY0KUI8xu7ARsQAAADQBn3Nq\n",
       "Rf8CWzxgKkAJMoSW+co2Zuei/fC7fZ80FaHE8wktcamRo5q3KJK46LJNx0orrkEnAAABaUGbeEmo\n",
       "QWyZTAhP//3xABuq7JtrvQAWna20D7UgsI8F6S+V5JWuoGmxaGqSrnCnMmARYpExZtnv9lo0k7gD\n",
       "pOtgUsa4br5t7nswnzJGn517IVOCHdFAioqAbJH86YcaGe8sp4bbt3TRdKsmfh04L0w9M4ZpjVux\n",
       "uw8eAVMCbOTAe2irbFqkgmy33JZd6gOAQgE9VAx/bGZVoy0/ypo2UoXc5pHX3xH3Ea1pc64H2jNM\n",
       "iBXS4cAHlwI9u2CSWR6BMB4P3x8L5APvTAzClLLEhjwFphm3SdRKcI/93wP66kXlPuZi8+LdHDZD\n",
       "YlBjhE1Eyb1HjjJZ0szBOHLC14zKfjQBn15FAvsCMGXq6jCSQkVzcwJdJLWK6TyXH2VUUoBb2Hk9\n",
       "Ze8L7DG0oXu0orcIzGS4YcFlLibvlQ1aRiGyV6c3/CHZ55YMvv2zBYzU9vmO3HLYw7U5GlYGU9mh\n",
       "9/3bzhT4sJQOytJBwz8AAABcQZ+WRRUsbwOkDx4RJU2gAN2Jo9RtijeTRP72z06JEeLbjXOcmxH0\n",
       "15Rh+QUyAocwDa9VceQVGfrQb/U1RNPLWxL9bEtnVB144/JhsJDVbZgeDAjk5AVkg8nsQcAAAABV\n",
       "AZ+1dEX/ASRw1aOMb2QM3kt36AEmXQCRSxInjj0CngCLEXSZs9m8n+d7sHjipSHHwxRDxhXwUmsM\n",
       "uJZUKoWSVkAsvr42bYzLqh6fWfMSkR2qWADggAAAAGIBn7dqRf8BJakfQAGbS6fKOhH/eRWC8OnW\n",
       "yZ0eBAfhuUw/e1C5nmqFnfBdBrw/ve8/Ooiacv0cO8SyXVy6SINyY1dBoB5r5iee2l8EKkE6BckB\n",
       "q5gr6oWaD1W1TpvHgMAFlQAAAYdBm7xJqEFsmUwIT//98QAbfMQVSWQ0AG3a8P2faOrojTXOweGa\n",
       "ZByMwcgT4MYTheix1bn6AsvpCmeXEBggBTil4WvgRfP8cO3/NwK0nAxRp2caL56Xw0aLS3cP/hil\n",
       "GJPbMd0MBiYygS09v5ML6I5+KHDfQ7FIirHLbsT/GfsWihE/ebePM6nk873TEy+6m+mN2nOY4wJS\n",
       "bP/WUWueEwdTsPVh8vqQENwPRIViMd8QtJ3xU4IL8Q3q/HA3CJDpSXiPeE1uIWbsRMmiGL6nf+kj\n",
       "X+/bX4E9iQXklev+uIGuzYN4MO/76Gc/BqqtCN92bKS708ZwX0iv2dnyAKobaCyPXia4fJD7ai0E\n",
       "nZY+ZzVM7wvx8ckpLO/rW2sfGwwkWRHyIB3V49dSZZEnE3CQ9IbcYQWJY1T760C9/w4didAR1iRS\n",
       "7F6L5hIdWlW7GUMwbmf0jSRlzJdSVkavOC19RZMIi5jxlzxlBhk1EHdCFQjCTpl93BTViYXLQGS2\n",
       "fF2n2wIz/zqLAEvAAAAAcUGf2kUVLG8DpA8bA83bo4lrCrxjNwAIiQNW+bQrvYbBDhfJIf0sV9FU\n",
       "W2+hca0JBNzjmBVZAMDX+Fk214zYGOn3e8g2AsH/NaxlisB/fkVJeBZG6QWowdxeJaDukP7in51v\n",
       "oGPJv4/NaRqHuDA7eAi4AAAATQGf+XRF/wS0kmndFU/mTubfkcVqlyN+3LD9wKAEX2XVa4InAnn6\n",
       "GtuIBVI3seT+FsQtYXayrnzQlc4EYAc+IydeswyJhpaTDRRFAGFBAAAARAGf+2pF/wS30oJzvkw0\n",
       "yLyhHP94rO06JGlh/lQAWjEQzT7Q7iubgAE9G6PtdS1EbU9bPyNk+mT/jNgt6QjtK/lhAE7AAAAB\n",
       "6EGb4EmoQWyZTAhP//3xABuTBxcAAJUYv3rnwRUpgibgdrSyb4XY0dvkQBh2/xdgA8OkifDPtlK0\n",
       "/TwFNqQgAdyJPym0fCX22ypcKpey2/d0ns+zENZu6GWCR0J7VPWEMQjbrDQNzid3cpfbPrbiQULl\n",
       "c9HqIcrIN5ajuKQYWVXDG9r/dLgPw90TrlddYVwXxjWZb4QJ9WQOis1PyLXUEaYzVnL8mEM1kY4k\n",
       "UkxE/y96vIu0adNP9DjneTketkLRJhYKMkjRowxtNpdIX0tMr8QHz8PL2POxBh7dS1bgz2s+SISQ\n",
       "p2yjgDbWKghUAa5eo/lHaPyUZFj0BP533zfCPnH8T+WJxgkpreduzpFOci7EeXFHNgpoaUCIKpR5\n",
       "2PnYKJ7RSd+qLdmDtGqfXi1LADk+0VQu+cyYU/CzrJf/3vwicsNYwPT1JZxFh/FV547IMLv+MnsC\n",
       "8qpp7GvSDg/OBK4hsJQwRGh8BnUaA3PQYNh/gEKgFt+6sN3ItTpi0HKSDYVDvxg35mSVMDLP87VW\n",
       "b9qMZQAbIzqY1SE8sUpMIre5x2vwOgeMDOQQnge3/AeLDrPGMTJoGWq83u1hsw55AKQlQWoMa+bn\n",
       "VueqArahM42sSxLurmjnpKfvwoOYEhlgaA7Y8YiLQheBAAAAdEGeHkUVLG8Dr/AK1yZcnoIk1dHL\n",
       "ji4IAblBqcYUzljcmNUU/EQElm4jhF1JgAUnQeCXXKtTNk4hu11tNEE3TcJnQbiOB7P0stkzBEj3\n",
       "7RBbxj+7T+Io+IshLLhIe1RUT+QFkle4rblsqAz8MwsWWT8H40E3AAAAQAGePXRF/wS0hA5WzAAC\n",
       "wnWuAztCS2ZChaYp5pFohGSmp0/XtwqGmNfAaNRtzH5F4lFlIj+4/Y43aG1LW0mgCPgAAABAAZ4/\n",
       "akX/BLfKeZFL9KgFGvnHM1vsyCe19SAEWQa471dlxKaoJWcTIywEZ8cpMADdO2NsTmwb9IAa+E1S\n",
       "OlMBWwAAAetBmiRJqEFsmUwIT//98QA5XgGN5YsWRFfgBMugFX4seCCjppg+IPM9ok6yzBUR25NK\n",
       "4wjxvERj3NBIXEh04XB67UYbCQ62dc8lWLI94iIExW+DB5XJ03NXGDBay0fFJGVOGkqlx8p8joVs\n",
       "SxFnfYJUw7gwl53JtRyn1UAxz5sMc4day85LLAgr8Rz0bn3D4xmamxtJ63z/0AblzamqBrdQ+oVd\n",
       "uhNQzxROQgP8WIQ8B+zOszy/ublLGDxDZh0LJji+j69HjZi1T3+OZZHx8nsHHiuUI6sY5TsoddXc\n",
       "S3UH0p3A1GuUj4ORBIjCaYKtqAiEKD0WKOAQA5XmxYi1HjFVI70KgnShyj/CmlZ4YMMxgmQFW0QJ\n",
       "juHpvCOcNQiHAeDvQg6sgmB+4avZMVzQRui4sw9tx83sYWdjcSgZz0ApW/oD45NiUekeTQ00rehc\n",
       "GpsINwrlbhAn1IZlSE6GBfKlJZxMbJVkZBRn72yDSYXpPfjjcmajAxeOhVbscg/kHlgmBNrU60fD\n",
       "ROXEP7Z8TGmIyUoLTBEc2hBGmPcQwGZVq9K6craHguUOwH3BfMeyH/8fgXVQu03+BI4u5pV38qdt\n",
       "ZMjn4RcLfYrdUEfjmiSrikuAfkkuNEHEkNr0u6SSOoHUFO361AU44vAtgAAAAHNBnkJFFSxvA6/0\n",
       "/jZEFIAG+7ROJGCeJy75FbCjtV9zMssEO3SQoqTWlK5PMwsqTPjSKgbWkgr6Xsa7pi/SELgkOgqo\n",
       "R0x/rudrVoGiqkVKouLed6EHOoGhkdxIbUx01pRJA0d7OIIMD6DlLaCLdJLQaHtBAAAATwGeYXRF\n",
       "/wS2jIdSykGkAAliHDFGO7HVeo3Hpel76e5WDG8ots/MAQe15YsWfC/u/iZNwE11ufUjc/acDNbe\n",
       "VZbfiX1ohw5m2eGyXAXJgfMAAABsAZ5jakX/BLU079UYyhA1VtBSTYEZrsALXdkRsOv+eC7yH+Gh\n",
       "lPfemKUi7T/A3aFkV14xgNKGo8PSCZsNy04IpPRJxcJE1VQkpQHOxXfqAikX5cU3EdZlmrXrNkra\n",
       "LOs9cZFZmdzx00m4ARAwAAACHkGaaEmoQWyZTAhP//3xADd+TrQXWaNYPloAOIPxNFcXZuymuYfA\n",
       "e2R9KtfOiYwjL15gih2w+oYn6Z/bDbd1XVijau1OIHpOHaKR9ZeBrRzen4GAf9oCMLFyn5cbmKNf\n",
       "Dfg8hdev/p4zdmrGbrMG5DasuZHA5cw7TYwNf6HetBJ+FC5fUSYFuhO8+ojybD00FfB6NBm9jTRc\n",
       "JF9TlyV4bOEsLUJXytLfty7v2/XZZq5Kwjw5hjClzL2bzrbT+rnlW3ASk4YCUr/tWw7ZphjermGD\n",
       "CZiTL93bpz176KFgfPcvyQutHeyENBVp+suOqcliyRsaWTVEhs8HhvJGVZ/Vqt8c6d1ijTNnOGwB\n",
       "Ocbr+sHap9TRAW91+2qY/huIEEo7ZSKds69bMTcEeacKmWjPENaIJIRu1VZzyGtmsURVqAVn/dFj\n",
       "RjT3+WEdpMeSYcY3eBSzZ3c0r6tiB+PCFq/4u7hjE+QuJAnoVI9mu3MubdyKgxJy09FwFWWwIiv7\n",
       "VBoqaFHOzRIUlifC8aH2s2FMljjah8lYcWw6/Rgj4OeikKOenNjQlLj69Bn/G47CI3q2Gplooks5\n",
       "/v5UG36jYoswpK5mnZ2fsV8JZrT0e7aL6BeK/bM7tCxi0Q+lBEbLfJuYGNlaoCY5isJ5PjeZB1B0\n",
       "5aAsCEvOtdL3gQy2d7WptXYn5xZuxJbWfkftJBwthLmPIjkSajwI8LDmNeMhtMKYAAAAi0GehkUV\n",
       "LG8DlzgpgWGOuAESxtZu+N6ly3Y299UfGAR8Q8c/WhQVah0zroVC03mYvfxxLerNALs6gguQUOuX\n",
       "qndLGq6fgeEt1mL64tKd462UJRaa64p3vfo2x3RSqdqgi+/Jfy4LyM/69mzpqV4dOgGwqR2fglFV\n",
       "FmnXLL28tUBLgch5IXV83sp9sVMAAABVAZ6ldEX/BJSS5xXy7ukNXn1vheEXD7iACSTK0vKZCYrz\n",
       "h/CvZnbM6TnD4z5Y6/ZYDaUzyK0pUAm1DE6CoGF43D983BVUH1vBNTpmu1A1gxJAcADjgAAAAEcB\n",
       "nqdqRf8CWI6YzyiNd7Irb9ZybIABuxnhSaGjGPBJVjihLrnyQAs2uA8bgWAnB/Mm5Rh7emsWcyiI\n",
       "id7OkXwlmeEFYgAZUQAAAY5BmqxJqEFsmUwIT//98QAbk+iJ4aAC4vsSW+2YFR+q7/GifxpgR4Ct\n",
       "qwgAIojdeFfyXQR7xtWfHLN25PAKbRlJJnnoXpfwBJ/exer8dWiB/92XIxm4slONOjYgTWE0MOhu\n",
       "Z0sGONpuUHN4HLhYXJ7mJKRu+rDivfji0M9jW99DoW+GU13W+8gN5qMLiVRmJTwZHk6S7s3TxhM5\n",
       "1JUXtB5x3eFI70HLSgGuTveGdsyT0BtUEcSBqr7BZ5EBH3n5kwc8LoIGyDim95v+f19eZdDTQsRl\n",
       "GsSJW1zKCm6vgSaoCf6RHHaSPqT847KDduuYjNJGP7dI6Fg4Sl8ANO1m55jzdN4og50bab2S8v1W\n",
       "T1cAGDsabSbMFTmTG4/8810ZpI7IJj1q94Y+XB5KDjy6Qg5Xwanf/mNa5kbJjzlzzyQ0GqGT0SQw\n",
       "BGjuhuvohEesPl9noKNfO9BJ0AfaeL7w1cjm+ZDRJ9BlW3CgZoJ3sJ+0hf8IUHD8ZQknFgLXq1HC\n",
       "aFhHs30/rbp4o/ie44AKCAAAAGtBnspFFSxvAdrLkAFWT1qQTfFRsCoddszwSM07ZDfgV29Se8iC\n",
       "2bveWF3Br505J+cevk1eLfIcExAm01MLPIVUdRTU+DLdITFIVUENmXEDZhj9T7YoziqdRrdClJ9V\n",
       "/49c9j3o2egAzcEM+QAAAEEBnul0Rf8EmH5gLTPLy+sezZljGiPzl7PAAWFVNPHdihR0L5WnAFoR\n",
       "wAu57b3PxJRc6OJOeen3tv2b9pqCstwGhQAAAGkBnutqRf8ElXYMvGAEq5BAYUObe0z1q6lBiYWd\n",
       "uczXA2UE4xcY0r3H6yh5bWfsaB2dqVta/+9DO18eDYwA0r47plAm04fOdggm8Vw3al9TLwO1t/BG\n",
       "8+FQGOlqZZiGnw2gyDFd+iQATMEAAAHKQZrwSahBbJlMCE///fEAG6dkOqC+ACdsU3w4tsR2ezBg\n",
       "iQROTouf5IjX1YLL/y+pFbpdfk1PRuOfCLOGG5wQqsRZzZJH8Mx9LctJF9sk/QDUloRC4DT/un7X\n",
       "ysMQe9B16oNG6GruKePBz7tOUFXx6XDQFrGc4U5yVuYVipJCokHXn/NITAWB3XbK+9xxzrHEfZYD\n",
       "C7l8If3VlPDDocDtEoGluN5AlnDi2LXzWOzzb/MOYMzAF3LoPD9m90nAp1A4MZn5jKtbs2uiapmF\n",
       "TmHGhRfa1/+ruRii0X70x8yxOxLb2ImayjRn8YfMgfTdSjPWbUHNEMxa8aUIqoiJyQFEbzU5ZBG3\n",
       "vQ6FZm5ovhu8+iZi3ksPjCBgwb4P6bmc2Uc67TEQm3A8qJxCGyYKwJHWT7BODZE75AP+JmDFrTxH\n",
       "ISjDIP++vOYlpf3//qYtbC+DFRGrPUU9xibvGoLJxRyuFMrxECDOFM9L2eDz3oFc6lHAU5t3ZQaW\n",
       "6cFg4uDM5rZHyOy6HZwUNfPPGmTOqiiLtQTriDL70itLAnwynK4pB5yuIju4N3QgEGShfOX67ycG\n",
       "7G5uIL45PiD0wU2iM65sLxQM7taoEzgz44EAAABfQZ8ORRUsbwOkD1WxpG97GJNBudhDkLcikGbo\n",
       "DrkKQG44L6r4KSc0Gm4LgrV3uNOHOX3rTxAAiKLZFZX+HSgwbDX1YCG7CEDNMpULW943/0fuYu9z\n",
       "3H+HBVSaObqgD5gAAABYAZ8tdEX/ASHKCaqdn1UQOTU2S+k/mCkeaMAERIOqWfL5lv+mc8MbU5P3\n",
       "1FnW/utzjHYd3IPORlaHL4CZ5xuQX1959JwYxv61nWM2d5zprEtevk/QDQAqoAAAAFcBny9qRf8C\n",
       "WEMQTQBEsoiDFmgjQr3wIao/+xy05Pfx18+vbQ92lETh5GcKqg+6L5qtiuo31YUMVODrLXmSRa46\n",
       "lpUhMMUDgXb6+b7gTh7Kh/6EHnsYBL0AAAG5QZs0SahBbJlMCE///fEAG5/sSN49BEDm8brmrdHN\n",
       "9LIEqotZqa9cSf+HU4A1HaPDRRQWe0O9YdaVFLXFDGBoiRoRKv23wuJQw+dTMTaPTb2ZhKkoMzwo\n",
       "iyzYpDNY4eFeScYdqgZpdLlWlu75tLhsvT63YX8U12+ip7xg5C83/nWOtUFoPq+la3hSV+c4hZ7O\n",
       "RzRIaDhRqCutMLF6jrjYllfIRlk668GM5a+0Vd5aGou4FdV6rLVHhR33MrqEXIMJpoNmJekPwLGA\n",
       "B05DVuddfhQnHwXphadp/YMa4Uo+eZ4mFw43IDz8YQlu0MNlwrQJVPJ9bWLjXa3gBO1kkp4HH0Ec\n",
       "CFgFwaMnK1nOPqokevHNCU6P/XoP5+RZ57F5ZGtg2In44mgFqm/tgVq3HgBMbpXLc2YsQT5hna0r\n",
       "TlqFOJKatgIqMCGuPDh84XGLU2t87dz5OZRn3zeuzBDGGBiwQUHiAffcASMmKZGUg674fR2/rwq+\n",
       "2cWVVHW1ym9MlT4ATmD9EwEAhfB/YCVFdTor6S0EhHMy01IHZ4ECh/IQeBs7Cw/KvlpITTREtLgT\n",
       "C+0c0+VccHrbu+BcAAAAdkGfUkUVLG8B2INnZQ2q7oUeBVDpclGbvAPAf3FG78cACIkG9mXDA2zI\n",
       "VrNVPRbn4l7lAiNfVV0FZr8cnGsZ7o7t7j5dK3emsEnIMqCtWq22QRM0loZNOowRxMOPkHwZYEWp\n",
       "gpJdwWR7wJzAoPjIGzp6J2C5b0AAAABMAZ9xdEX/AltNcjgcACMD+LGsrxR6iHa3qAq391iOcprd\n",
       "3YEHVKbqqcTmgSb/aNTTmz8Efbpbgv8v5JV3aoXQ2ev9NpB4HZaMTGABFwAAACcBn3NqRf8AjzEr\n",
       "gb7XZ/LTNn7a9TNj2ROvSX7jMojHRNQySOAABvUAAAF6QZt4SahBbJlMCE///fEAGwWmzVoAUOOa\n",
       "fRqDQWNdk9Yzb8heu9xf4idgcacy6qxg5xEp6o94pYgv41ONxrLTjl4jriOUmGi4WQ4rHBsJXlN6\n",
       "qJ3eAH8op9TY2HXvaZvkXWQGTFb2M5atWobu9NRlkhF0crzulex06achU+YYCX+geYofbAruDq+F\n",
       "0EgKBiPM8QTLK30a4dA207IVDm+wxH+HQFPrN9n5AJ9rKTw9aPwLz3fS15nKh3bFhx7xBKAMD7PT\n",
       "7J3x2m57fjP1N3JIIayyFOH+iiA7HvFG+Dpmr908kdObiHSt//pU/az8u2/uJJ5oWw4c4yoFtG4h\n",
       "t3pHaajBOkUq+gODVyDCWHgAEqLxs4dcljwTf5kWFjt97oXGIJgKDCqqj+Pri1/WJQiynQbvRQuS\n",
       "I9+mZaSXgOZE6KxQt1mpzMKTHE+sm2yhQ5JXpz9mKlngYjKGya+nGz2Y7Bs4PP3KP4p6hLMNbwHT\n",
       "E3F31LYuEpUAtTBdAAAAb0GflkUVLG8ByA2fVbtJBoPmpdJuxKAKsmqgbsiV2gMn/BkR719UpAyE\n",
       "r40YEg8cOrxgds7iRs8ChCPUtQgbkdGx2AEP033XsoVSwjNZTv9xAetSHDhXorndRz6/zTq4VNhq\n",
       "AVg5BCSBsPvFrCYYEAAAAEABn7V0Rf8CTIpiUtXRVsdWHhYji9L46aAFXwmWnkHvlsx8JoEvnqrh\n",
       "7QGro2s2rrsnAHAS4DpVRC2gAWHVgFTAAAAAUgGft2pF/wJLSeQAEkmXGLa7Fi3v/5R7rXr220by\n",
       "GPqWcHS0599sNYPZ3hpL8ewZCU2PfBgsLmR3saH7k+NtslJTRACv9Z0O921PXUWqxgoAFBEAAAG6\n",
       "QZu8SahBbJlMCE///fEAGwH3k/QAcBhyzOZ0NJEGhS4ikJevdda4Mun3sTlPnlgLMmziGIOOL0bx\n",
       "GgRnUtxZlxOAjtCwJv2TypUI6E/mACCGErKzyT3Fj4qM2ZwsxImakjPPUOYE8Vk6IzjIVmJuoZYT\n",
       "QHVYWMKr8wlkhzAhXjrkfpwtXpeyqOM2LYRGkJvJT0lP73V0lF84w1QAYJuUXY1yzFw4RhrslcoO\n",
       "mpctgbmQ0KgwJA5kThVDujCZ5oYYVd6yCKMzpTYmoqwovQJ0G2nElnSWz+UAeoiwojcbgDfKa8QN\n",
       "hpQY+rkzghgVpqUNEwjv1jIbfVsRZFeFxMOEtuzGFRq/3W3STRwLZxGt6EYV549LQgsVnQ6VlPbC\n",
       "7YVW02UYJixeUfPRF7p6xEfTC7zurNJyoZ10KUvgneOWI6zustL/n+3Ir1JDD1tpD03+IuDeTW6h\n",
       "Xa+Up8LudcgpqHegctMPf1Z0D8jvGnkhQIKUqFrwSE6wwZm8tTgKIsB3mx2XXkvCFMcrHoUWdJWH\n",
       "Nvbz0UmisAM/mDsgJFctEJGWAqVW6ZdR3m9+uQYcM1D/wI4xHbUbMNv5nwAAAElBn9pFFSxvAcgN\n",
       "nzELCxteW41GfTUlKw0GtJ5p6kM1syTG5HwF8yglj+Zo00WFfsnHcW9TcBKxNlXY8h475Yk0CilD\n",
       "KUOaMDjgAAAAWgGf+XRF/wJKmJogBY2EZcMzZCPIWROT7JuvYQ8vmjscqNTvDiSPCgSBkG9fvegT\n",
       "SvIY81pgpUzUJ3nFis+9MG/Qbi/imb8a4BbLXUGLsUQbV0eN8BI5EMAm4QAAAFsBn/tqRf8BHZ9k\n",
       "5DgAfieyJpNT02rh4AAonGoaW0EygIQ7UlUQkLvMWT0T2HisFLlsWxL7E+cZOAwLKRO8jco3uam/\n",
       "o/ANjzo9rHhN78PO62O25ckAco75AFlAAAABekGb4EmoQWyZTAhP//3xABrnpeAAANm3dVoOYhDh\n",
       "n2uQmO6Tp9Ej+15h9ylrRuEIOlAjbxP9Ygds/iQiy2sleEoym5VortB49k+vmcCBPbgkpW5Dttxe\n",
       "7gzUesHgvO2gGqtd8KDxOIs+vy8c59rClA8pReCoTmjs8ZW2aghmEeTNIKq3XrX5th1c71bw93HE\n",
       "p4LtGxgRN965kOF5PELL0YJxbgNTZyDSWt2Nef35cMoTwlwNLUcQtGdrudFnN0uEFf3ej44tkYTQ\n",
       "DyRyU4UqCK7vo9dQD/3Fk3EuV1k0yG9G5ghKq1KxmRSTA2PGsLhu5hWXyycohOWBCENbixC1y7NR\n",
       "HrmU8CQFU7dkKuZG3bAzDu4qzcgEFaM3SgZ5i/P/+LdxPy2+IFIhCF9cuuIMzLUzGHXjyyzMCSvW\n",
       "752hhAZYBAI//Z0WmpDaIHF7BXRMjMpLTslt4dmQyjL1X6FV9pazzn+IS1WONvtqUTtEXkYUUJt/\n",
       "8szhEotCeQAAAItBnh5FFSxvAczc+xUTABuK1kDs9agGQ9tsSWhPO1TisZheykEkVMbXizUsxeUt\n",
       "4cJhkp/xxkg8oTWSBTPTWRJFDI/gwOko5y2Siz+MmHxdfF2xbp/pUL7badq8ZIQzefzUOofRFEV3\n",
       "B++cDOP5dVYkW9tD1VSZyRsflNPsegiBOBOCRTypVynRCQbNAAAAMgGePXRF/wEdSMBcX0gALd5+\n",
       "07hRHd+1ho7CuuGJ9fxAA4FQYhIXcqiyljDHPNTygMWAAAAAOwGeP2pF/wCOz7JajfrcDWax2BkA\n",
       "KvhonnMsoA38ayzlzvP7vuSHfxITu8adpk2APILjX333yGm80C2hAAABeUGaJEmoQWyZTAhP//3x\n",
       "ABr/ovT7SAALQfe0fFe/ROj+PxeaevdKosmF4UVGxyFqz4HmEzJq4tBkkPREMr1ydkXgNVJLklIn\n",
       "HSCad5/EX3/s6DrnnthbDZXqgrkI+2gPZaL826frXVNoZ4ghMqsr2hJvkjLcvfPq1Axb16i3CEiM\n",
       "/CqpGnrjt2ujUYOK/JjzJ1ZYidI/1Ultk3/FnV9m/PXpVOhqR89IDNp27/uEGhew3m+5gcg6utCG\n",
       "7BBUUd51W2wq/IrZOuTXHV7p0c2/ZA+Y11CqQz4N/EM/ZqJx5uBdtif7/ECVj6z3IiguHsJRROJG\n",
       "PmmXtBcK0h2L3ZH9buw3sfJ2VaYIzznsGUGClDDoOwiLLSniix1AH1nCwr+r0xqrCscpBYfx5ltJ\n",
       "fvH2P265AxUAey8Td2k/7lybl+WLYbNBD7kn5UzU5yaqeWo9z1qpf/Pw2dMUek8HqSMyW4/J64py\n",
       "wrk71Aj+9KHsa+GecraRjy+4dfmAAAAAY0GeQkUVLG8DmPFoWNvYxV97D7xR1yEC9TJ+FjL/UPs4\n",
       "JjSVxpyljnoAWN3Q0tZi1eHKKEWgEayAYeJKbG6Ax90+60I96eHhbPtLSgEwf5d6YpmcFTnfvYio\n",
       "nzGBYERcsFgiYQAAAFQBnmF0Rf8EmGjjicju4pQAsPBCp+aMt8nlCCK3ucazgHUX9/5Piyfe3n58\n",
       "nBrnjRP8flXJay6up9Q2EmAunIRJsSVgfBVs7+HV5awrHBKX/dcQBF0AAABuAZ5jakX/BJlbKtvg\n",
       "A4GaOK4kDruNnI/giUM+qR790Cd4fkpxrLnP3S7zhFY5qvStN/S0j6Iw7shUkDq9a9JmiFrTffCk\n",
       "iEvVWdBRa77+DF72iaXBOCHP9SHvGO//+kyAahKjvC1sZFT7+baABdwAAAGQQZpoSahBbJlMCE//\n",
       "/fEAN35Or4nbMztABc80of0jnvycwWH5ZacxSa+LlQdnepgsqJOd5E9sdqT3CLnmtBo37gcT8fqT\n",
       "GFTQmGtxlnNpIbgB81v/32Eyxl3+MKAAOqKkFL8i6U46smEawPTXRCb34hXYQOImMHOBCjAW1YZg\n",
       "zk/cQVIOvSDwN3Cny6M5tYI/CS1IqY+mlhog0OCYzk48GUuEj0vQgiZv1+14Zavg40MfaQzfdZpT\n",
       "sKZ70+2BQy5cwGjWPKUhw/4HEpTQVuMInf9ftt5QRz+yc5/k6WUp/Q76tINkQ8rNjdagHXw7bSP2\n",
       "SMNtnPrBh8Abkr008CM3vPN6RrZAu9PfXQHOr/qkKigY94A4VDBieRuelmxTothO7dMcf4JBS657\n",
       "EgmBH64Fk6QaWowARsqtWrnNKmD6qlaXedZiuS8jBI8kXXPr155udD1fwvqDEA6QfGYFEAAAyi0x\n",
       "vRC6Vuf7s4ExXGii+pkOos2swIV0TQBReTz8DLUXaEC7KkeyUkyL40R9fB3LEAAAAHtBnoZFFSxv\n",
       "A5cu+MDEM/ABruP/LlK1ov9D8qYBksPou1J5DvrlUVWKxNP2hUl2+CFL4oqnKRcUqv9bXpPs/CpS\n",
       "2jQs3X0tsWJLTEVfipA107dJ9Mdsn+8L4l+1sUIUJ1ipGUeqcW4gHLuKTs+iDTcyKz1WZPuEZQUA\n",
       "toEAAABAAZ6ldEX/BJSEDeQUX+jx7Ii7X/Lf9Y9AC1/sPqKVqfZg3sC2/9RhRGr+IHNFYPiZU7MI\n",
       "ZtGs7AH3ao5imoCDgAAAAFIBnqdqRf8Ed9Fsi/0gAFoxEMwKTN2OJSm/LZgkIa2aEjgWAJ7/4Im/\n",
       "PjVs6mbBQSCwgTjVGOh9EZdl6WGmh2uf2huyzgsKB2KrtKquq4iEcQc1AAABeEGarEmoQWyZTAhP\n",
       "//3xADXeTrT4ntK579AAlYsSG5iFrF1oITejZ6bTgTbrFgm29zWT44le+aYXTodIzsihFM/zmNmv\n",
       "gJ8+3BZ6FcJyUZYef0BBIddvbnOrFK+wp7k78qE+gGhWDGHZZDm7UrWiUdCC7Nj7iFcGaJKynd1j\n",
       "KuP4vaKa/kIVwy32cdchITyVNDl2vgAAGKBtquydtC2swVjnJLeqBu6YAR305DSFE/+0nlpaTXhx\n",
       "DhaeAhP8HC/acbOZomhm+r/LVYIWbw0m1LzU7uT6xfpkQOKdC/jJIhpMYYOsSSSk7+MHj/AW6cQZ\n",
       "FiYAk1CfsQAbaMBMOOQQgj+7UMWsYDYi6hkDjj3QsJtEpJkXGNwqZBR+FbZmp/wEuvPV9dzvc+qD\n",
       "8XLBpbJLrUNafk8NoUCtqad0J5ySoOlX0GMBvBlVp0FVBuS9z9rq5IHqsd7hZzEpGVGRHSmjQuvv\n",
       "0TzWnjjq7VpuGHbE//2QHrtTSDZKkZ8AAABgQZ7KRRUsbwOD9v7rZAEHbw84+dD6LTiA6ONX0H1h\n",
       "6xDiIMP/0vnN9aB3+fqCtUeX1wMNBmi38VV3XQaOjHp3pHSUBrpHdbuhU7qzRi+sg6XIg7BrqEmI\n",
       "uMqDwhOmwgTdAAAAPAGe6XRF/wRoMmijpPV5791+zADeipjmoN/ELzD144u4t7JLJ8UcReVYOxqF\n",
       "tevZuey9llTZCarvMADKgQAAAE8BnutqRf8EaDJ0R0ai8y6AG5jlrXLq8OeGBD25TjxGjQfuDai1\n",
       "/K9dq3lRIdqBjix6r8rL4BWiaQXWpodtNa2Be7MSGYwDPi8olqAYkAGLAAABakGa8EmoQWyZTAhP\n",
       "//3xABsPaqPoMyilLkARgHre9YnrVkAo1e/wXvBD2j9B7/roY/0ezeFv1KcjT/0SaGB0MD+0BQoT\n",
       "7GBtrMCeJGgS/RKLcZrgHkuO6CN0ozSaDVe8eAdzMGyN1gxsjjIkWckveg9EMBD37Crf6BEs6m/F\n",
       "LB+lhcsR0NbP/2uy76Wdvq7nxSffli4PvaO2GPrNi/V1fj2ANgY3cOrX+WgWOBZJe095xV8+9HVC\n",
       "A30j8CzP0pp3R5zab/NGbsLbl7KXRWBsqHjdgRLyNSmuiZrReMPjUKdV1BBrBIsDX2lL/4R87BKS\n",
       "DDtdEIpvt7S5nQyhuLXtwvvKFzXCVbdNVcAqOfhDIEUZ27VZym1bH6iYjd21cHKam7EAO2xBoMmT\n",
       "voAup5nlIyaD0TJOQL3BjK8318OJY8WKL6939iv3zs0MnfuvUkW5peYfQPUFaAqA1fHwa/9DK7j+\n",
       "j/7VJ06CyyA5AAAAW0GfDkUVLG8DgTgvNElaewAGxu9B/+2USfs11f7wNBGVBwQtlhsxbcfNSezo\n",
       "+bOsT9ikXbyBGglWmNbdkIiMtV8ZND9jnVbYNqLgH1/wcIRBV0SCAtbjEzIACLgAAABfAZ8tdEX/\n",
       "BHaansDfAFADcPxp4E0g0eTCC47iSOuFRHXmYcgdUlwf0YJsa6qACBUT3fNYWyhQlJsjr8bYVS88\n",
       "3SvXxCzyMlkVg61qs3tFNcew8oMI19wRZO6yjLaAB0wAAABUAZ8vakX/BHV4wk6x+XuFEaMANUxO\n",
       "jAAmtAZNHZv6YG/7F6z2z9A3JSFcPzZDjk6V6e/zhDFx9oIiUzfshhU2G3Lyu4ffrpbpgJvn1wek\n",
       "hhLIMAN7AAABmkGbNEmoQWyZTAhP//3xABph94zJAESABoZHYE6B1DuR+Krhsj4eQuJhY3Be9jqW\n",
       "0mN0nlaUxR4WjRBdS/FdoVIzP+7V40C08mZOQXHcXjepunPfmVyTqJm5zruzYjZjrBKlQxRkGKQ7\n",
       "9NR3Qt9PapozY43DbkbFPhJRMcwnppsxzhqcruGkuyuPoQRNB0ImEUEAisMn83Dc34xBQEJfJwUT\n",
       "a/Od3xuFsUzFRsMYsNK7XiRyCL2uBhpQoxKjsGm3MrN8RdcZJDAIHJUFwUs03fb0m6QTv81wFXPC\n",
       "5Pu2eR9OK/S2L5t8kadaukQMJre2xZCurrnw2JKl2925U1jmNFtN4Ugdk5k9VZhQiKACFNiYMN1C\n",
       "9ktxv+VPwLyYmJICEkClCPwYGletrk2ir28tpu4Vw8avUhTn5fyK7LUsbGy3tGgR4GaErQ5WtpTU\n",
       "cPMe4OXbIm+Hvm9Ro/LTNdMsH2c4PS75YpRrxLAfgMulc6aq2UmKDsp7oI7AJa5ty5edy47d9Duh\n",
       "jl1/LuCkXBmmJpPFI//PRT7W8n20AAAAaEGfUkUVLG8BwZEuTS42hFMQDYAAQtJgAAiJojUqBvOd\n",
       "kgch00mBXJzT1P3YIfVcFBt1/6YHcuPCN5V2HC4BQ9Ak8ticDERsnvRvXw3DTGkIgJNa8k7HrDjd\n",
       "4TCcOWyvlCm16748oALSAAAARQGfcXRF/wEduKkhyCmidPIBrTnf67FayuwAlkwUTbmfTlrGykms\n",
       "SQpE6yZ7mNmqLV6VAYtK6O3oLZCFsl2XYYYauQAMKQAAAE0Bn3NqRf8BJfAGs9mngADdjPCjocBN\n",
       "N6kJwQfnGp3AFBD8cDuS5ZptAOGQNR7LPyP5zNSK1xT7aDpwUYHwIYMdO+6Dmjyypfl7dAAVMQAA\n",
       "AYZBm3hJqEFsmUwIT//98QAaYfeLSADcVyBJVxxzq1ENmmf8PsCmS4pL67CmLQjmbpHVDtHFs4BM\n",
       "F30WMM+meC7txtFoYy5GPEKX/LOUxvQMnKc1ACajxINZSRhynBuBEPcr657cucA5WqvhW0/VTHIN\n",
       "JYFb6N+dud+TykS/rELWM/yCQU3R+MQTjru8/qbIZiFILhI8QlSggEaBZo5e1S67TkXIg+qt7HUZ\n",
       "CW6LUDZ51Kog9SzWWZggEqNyVJVckm1GM5JWDwmF0cqjw1Da1oHE55PhU3lhpx+H8S2UZXej697z\n",
       "4XG6AqDk1/n1jrtm+si9MDnuJs8s/egpO8nEicurDNvT4CaEPiNFmshbz9JcQccToNng7z8e+dfy\n",
       "jB5jOJXNNPC7kujaPPeCRRSIX4jqvgI8p4bIGuivHwEbCQYz6aTCZvF62FIMPDYShM964jCKO0SN\n",
       "SDaIVeZn86i10DgkFeYXeVLECxLVjfMoIGeNpihUbN7EY7piHD29E48arNiUXcLW3fEAAAB3QZ+W\n",
       "RRUsbwHA9u4Y76SVACwE/0sJP1CA1IrAMYzFkjRYEYvuPZ0+iac6jhoymHw1c5GpQVqc0ErryTJG\n",
       "V3/T2Cir6p0+VH+9bbNlJb+eHHxv4KlCJk9UR4VtazX/Y7ROsJzlUnQNLmepnAd1jFug49k5lvAg\n",
       "D0gAAABNAZ+1dEX/AR5gDn1TgAbk9J0fmLf2OA84WUs6H7IYBB0KWNYOz9KLwCZbfJa+OkERBeuO\n",
       "bwRybX2DYswbZB3U2l2vi1nX+iIAxN8AxYAAAABQAZ+3akX/AJMxP0uEf0MB25AA4R+Hw3BnGUwO\n",
       "by6xjzbk2FX1wAsEVKFk62rE1zDD7wPwuhfW1+sNyb3dtwVDmQqpt7N0nMWqJN9mDrWACgkAAAGV\n",
       "QZu8SahBbJlMCE///fEAGmH4YnwBCopwEUnBgO/wXprJ1vBIXNwYJBo6b/UpbvZiFie8P5n5eNWl\n",
       "L3UpfSZN/0qnWh4EuLSFH5JxDmxtrPCHB6orCnxBYImiOoptINEtagHoKaXu5SZKiujyNW9SXy5m\n",
       "MA68zSqfVLvxsay9wdZAmkstbh7XiGp9t7ge8R6kdzONE7/xUtQuwylCfQ8kbLgHeRP5EYfnX95E\n",
       "Qjc1fzeKxmStAVjdm5NeQrCuDfkqxvy2aimTILlhf6EsMQyQ1Jwel4sYjGnExlWdyiqMt/LFucpK\n",
       "KIc4K3l1wIl0gT1rnTaHfZEDToqi1irmlBJb6/WZ+w4LX9MHIqd920skyjHeBwtVagGEmufuVVme\n",
       "N1utklSiw0nYPMaz+E7XKyNJ9VRH1W7a1ed3BC0PR2o21BmwXsBd30Qbsjw+BZwnajrROLV3be/R\n",
       "GaiUWSLbz3A0M8BxquB8VKr5Kw59RGReVJB1Y6WSXLzIyI3VnT9mUBkmPhOvuc+mZFKYGwZfwGLv\n",
       "zB3ViR2kAAAAUUGf2kUVLG8BwZEuS4CYUbKoynw3s+KZCKt2uMivsWCo8mVp2j15FxmHWQBAfiTm\n",
       "YtsZScloarP6HYhj4WQ/paNiNv0IwPXo4DayoT+wLtgBZQAAAFoBn/l0Rf8AktxcoaAFnQhyUHVo\n",
       "jtXbcaxNIcfqlb25h+zvAIn12CTWr6+kJJa2XfqjRd1WDIszOI7kIkzAlQ/aeW7jJMUjF53W4Jr+\n",
       "Q20ndwOU2xvjxAAA2YEAAABWAZ/7akX/ASa9cAEV/PmdxLCIcAAUAcCF/sKPBbaXuLkIO9FUUebC\n",
       "XALPiiik0CNEoAqL54mGvR4zDMoSicOKA+zQJQOgcbJ+weTRteMdiWvmvkBgCXgAAAFWQZvgSahB\n",
       "bJlMCE///fEAGmH3n3gA4xHf2xnoxkkXYm1u1l4DJTn0KZkAELzDoBMHJfgVGXmVogHZ9oCZUtPB\n",
       "iqqRWkWVZ8G7hmHUoNF5DSN/VGb6I4FCFVVniZIyGka+fK7lSH8GWkLYGtVu7cpv0YSuDS88uew7\n",
       "DvBJkC2nqIiKFMqBGYRnCg2LJNvzyEFLtQEf/cJ6Muu8sbLB+5Z9Kbvj6WRW08OXl5r9+AYXqgnB\n",
       "I5l1Ca5fwlf7nvos7EYzYN8/9N7P4SqKZ9TOrWiAk0mX1Ra49a1+yRk2HQnUDksBXFOHikhYG6Ds\n",
       "BTF7IXEBG4xK9/lQfLyieCB4d+RXnsI2JRD32n+SVkXPAyWP4xikyfFdSkKcl5Z6tzOPcrBnLkj5\n",
       "95Sp8ttuHwLU7ZEli2fP/kzGabQQPTrI9hel67R4XkNKopyuB1prMF1hTOYw4L3f56H3AAAAV0Ge\n",
       "HkUVLG8BwboEaxhRs5RGqnYvO1nRr5ziD23DzqFucL5YALOn9iBXtB70UK88zryCj+MiRQbo3jFl\n",
       "dPuTMxBmuWOVuK7xrObnMPfIDwegAUPJCbAJeQAAAEgBnj10Rf8BJUg1jtoAAtpB1Sna09oxMWY8\n",
       "nIxBejsZ2YXz0fs/r8ZqvneofQYLGqd0iJh3Xkg1Q1UqBDRLLtLyjddbaIgAEPAAAAA5AZ4/akX/\n",
       "AR2fN7S4ETkAJMoJWrCxrM946RWxPoBjxS0QRAesZJPJ8cAasD6f+Qpo6CGuo32WANCBAAABnUGa\n",
       "JEmoQWyZTAhP//3xABo8xBwwenwAhhySO8edxGaaWAqN4PGiTM9ERGMc7OkeLj1em1k9JMHcBL2N\n",
       "Ex31Nm1KCpYlYBL6tcjzT/VrwIKipwqBXrhOzdAYMSzbK3axOGa/egOpHkf8X4ugBebM1Y0/B+Hm\n",
       "kAJYo/BuWmAqP4C+3y2gnptczymSJyniz+JxUzZgAJd9rksCoNHLXKdQxsNJY6XC2m2RxuFHjf0I\n",
       "IwSgAARcmWovxu0GYCVdV7P/T/qF7W9nf5gkNumH7LG86FV0591RnXkJiuVpCBQqku9IaDnnINfF\n",
       "8WaC1A3GaKRlOeCewyLwfUQkgeWIqe3yWouPqn7hN3Wc/UiQ9cge5B3GPeK2sGgci/6IIAKE+jc8\n",
       "KrgFl0VF8OCtWyRSb59QC89FwMYG1Y5Y7j7CbeCFnQDYefmCglLNGmckXagSrr47j/3SKGBK1NQD\n",
       "64zcWyVzHpPKkcfd0BRimROkxiJkOsIW8AeSN9K5Pb+KYr22aIHfjMRJpZCNh+GD8zFfZvTUAlcI\n",
       "hH0au2DgADvb9ntbAAAAaEGeQkUVLG8BwCHySq7k3MqdWPyc1Erw4b2NSs1H+i5Z9nae/dAAN2AN\n",
       "IjUGz0N1XR9gGnMutTOaO4ydAmGe7QBc7GgVFYZsJBpWtaFz6uulScW9MO1UIax8/Qa49/D2zm1T\n",
       "ostQxQJfAAAATAGeYXRF/wCTJe1iAFuBAeVGYBFdYIz/R/OYXlOoAnw33bQ/JgU+chhIZUBEepCh\n",
       "JQeMa08RbVDWTiJF5RN9CBz5VPsP+CrLNmrAF3EAAABgAZ5jakX/AjtyDU0gJUmIAbFhGL80TLNw\n",
       "wqFk59opgL3V7WHXx4kiRhfBktdnZ4Q7Z7f/MIXuSMIekkXJX3fdFEskgdP9jYYbfuJaAbdC01nj\n",
       "ny8FnpYn7oEagXK6AAK+AAABkEGaaEmoQWyZTAhP//3xABpTCFV8AGzfKjEpCkwt2vFF+oB52R0D\n",
       "RcqHOsGUZMGil/lznbS4/SgtgVGXqTMcRxvkQEpNLV2gB+Y1knBKGBlwidzTl1uR7mJAfRrcodmP\n",
       "fYQD+CbWyR72YHLngLdDf7rJOS6TsqO3y41K6XPiz1P4aya2yOccq9t8gwDxO3eELaZcetqwYpqg\n",
       "ZvJG8SMRw9QAj6As9KSP5rpMk1ehJSrLeWbXgXSm5mafdA+KnMjWV/4QFh3k0QGaGvGDzOiFauO7\n",
       "GZha4b0tsYdG91DapE//Y2Fa+k6XwQt1r7YkmryNqdHgBkqjLgrDwDnoQBbKp6M91mKRnmKncReF\n",
       "AbifZK0L61BOhl1Mricqn9KVH6D8PxtFgjFt92rjZBj7MIRy8jkEN+sE517ASHI/ocURuCXtL4h3\n",
       "+ggrmThmUpl4G4V1r8R7DEUrATLBeHnP7IQjwtJha8GbdhHjZTithmO6BaEhtcwCbEGvosW5RgUh\n",
       "ZbvSYrq0Q4OwZsEXibal3Q7IKHgAAABWQZ6GRRUsbwNtJPnrRQLcrLdZhCgUdYNzR5MkAMtNWuKx\n",
       "oWqJCWOBw1xidyEH9p0AIgWi+99r6a8NaB6Z99Ee9EVRsGyZJcfJSp4DAFVWGTdLJHf0BTUAAABh\n",
       "AZ6ldEX/AjyT04AWjCVT+wocjHVSLfNzA4VrnNaAy3ySMn1LWmYVONxSJwh1+B8e2mu9ZufS0Af1\n",
       "RQuSSUuM4iTMwT+kt2aCXPw+LN4zg1QJeiu7a/9yuyjZaqOfP0AMWAAAAIkBnqdqRf8EWVtolFRB\n",
       "ACrtzamwEvxUIvg1O3IAEZb0XV3txMbNGSarjZGWpQlOPFPzkmRQoBejwll4BZ4kXCuqmg+puD60\n",
       "Wo1zExwzFQeHsrM5/AhOzZ2Sb8s3wnVJXtl5D2E5CbsWaxSk3GuWRTPZm12a2n+DZL8OjemPNUjK\n",
       "IDhufQNzTUArYQAAAXtBmqxJqEFsmUwIT//98QAaauybacAAOMR9Ko0tjFfYd/T6+SfrOdXPKnHR\n",
       "D+jDkBEmx/1aNGO1hNV2hT+er2gHNjzNdut9Wils2GNezydR8HdbW3n4WSXPe8xs3ZKWP8zINJ62\n",
       "hsLojR7bgUsc355FGv8M5VK69kvMqXbat/y+hwIKMhKHB8HICteYvy0SD7tMnw0eGB6GXXAYvAVw\n",
       "cwW/Z3n2sHCO31OVSZOXX9b7DzuzMREniw8tbbSjCSi29miqKAT2AF5jYaAEEu7Cc6/c+IWy2hn2\n",
       "9oulbD71QYApt6e99+leZdb7xau6hMdHLFpJ4xHG00cjAO54ZXRpCO67MLlhfkgvmBSCj/hOkMLo\n",
       "UF1HFpfKuQvMZk51TX90mS4vEaboedZQaHUdLpoUrn79a1AkoystmUi2hT1D3BVvhiL3iB73DUuc\n",
       "/mI3mz/wgnZSVaaRzVe+Y9TG+6+y992vlcQ2bJ1O57b2Jp4Uqhaw1/sJaH2jlGydxAN6AAAAckGe\n",
       "ykUVLG8DeA8D/IUS5YSS1NVSvuiGonVLGf1ytWeAAVhJgDvULC3XmQPumtrXtXO/NZk+xWWknowk\n",
       "YG4w9qSBSGtUM7SiMW4KFjuOG0LMSDE2EXhKhYl4ORdfsFCAuMWszAthuZbK1F/kRgLiDQBbQQAA\n",
       "AFEBnul0Rf8EdJOYjyrGUTTwZ44IAbF+58DcHZptdb2gP4LMxnFNnrymQj/zox6msJCx70QghKua\n",
       "mXw86rNKvqAqTOFZj4sbMO3AmvDO3hCACpkAAABQAZ7rakX/BHfRzV8OAN6D4bHPluUpasAArbP1\n",
       "ew9Z1GCiF8K95NBICYzQUTY//UDqlgTXfDSVH+f70ugkgOggnxmp8Csew4NmELslFo0AHTEAAAFd\n",
       "QZrwSahBbJlMCEf//eEAKgzhzF8ACOyzV65qu87Uf3+xL2DgQwFuah8EbOrxzI6c9w8/gAddB1rI\n",
       "3K7kiP2FhO1W01ybOu8IYLL6y64z/KQwV2c0PJJ6yCzneNnftJRsQIsiElvrc5LOAvTDIUdAEsHB\n",
       "Obhe6k9d0cAmbJBrWeGNTJd5+BP+BC7DlqnfUpIQ7doSnnUpGwCm2Vm02ji1oTwUUxLbYU7fjorn\n",
       "vb3P+YetEaix5OgIcvMG4m3X2BlWoK2pDyB6Q18YKLYTT525DfJRk65xN2xYzkhL/atOoxPilO3/\n",
       "wEhtDhDg6Boy/q8/mf/kSeh4fv7jLQJeoWdV/qwaq6zeKgYCcq0TZ3HcVRTOOy+Kw5uU8SrA/Ikh\n",
       "sYazV1+xDZUmmHITVAdt1jVTcs44u+VGsHlkPQ1TIcXOL93W017ugYGE2Tfyl4Zazki6uGMTC7KK\n",
       "G+pCiPoEXQAAAHxBnw5FFSxvA3gPHhCXCYCLUHI0LbJkAPYAtCHVBMVt8pkq6A1Td2IBkSJ35LW7\n",
       "rUuLinFeaeWQgtPgKRD9UWbSR9ZM7Zq9H5fQMqduyBL+rrZl8xrXdmoJuPItHdTIwEauLjqjsn9m\n",
       "48/chEudRupPkIzWW2PZN2m8gAwIAAAAfAGfLXRF/wRUkyhHngcAC4/qbh1X1B6ruavtDtz7/+Kg\n",
       "nspBADfDDKX2uyvdML4v/qq1u/gRc/X1aDx0+2V9UtSj6jSsnlZQfy45D4PrkzXBOQk7ZrqaUvqF\n",
       "yhKUyaOCd2LAkl94LvwD+4HWcEgbUIese/X8+FDsH+cAB0wAAABbAZ8vakX/AJLPeQGR66mZrSzA\n",
       "Dcr18eRClkn+bWhrlOePlriDd8h1HiRZAbsI8ypHMPWNCVMXxmNcBvPnfQ/IgoSNmvGjOduEbF72\n",
       "NpIGFl5W69WOrf/qxAAqoQAAANtBmzRJqEFsmUwI3/pYAUCaSYwAcEAiwZYcaO+mpA4bzEey2N9D\n",
       "YBDQ09iOPqiulx62ZAzRH7sd6TubQBqAJHhPoAd0mL6H8wnh30svBMolRkNdiqJA5K4EL4m4GGcN\n",
       "SiaCibJaui3pQReAUE7Uoij/C9duCX0l9w/izqwM6QZE7xeIxBS001Zs1huILAguYLdSlLGTjWaA\n",
       "czKHliBQR7b2Z367VukQashE4KinR4fqZy3CY1WDFhBLtsdfhClI8J3F0sWaVf+L0wKDJ7WSLvaH\n",
       "FDn5SQTBZOuruTQAAABzQZ9SRRUsbwHDHQkTEHCCrHjQTwAcFMhAyoczfSU+ljaxCMG2rPHz7dx/\n",
       "fF+/y95TvtvFN4QPLwBU39DckWpj9jCQpzhTWsQUBRkMbxhRbi2tc9N3DoZNRcMTrHPXLQxzonOF\n",
       "IQy9o9npVXiIMn8dJRA/wAAAAHABn3F0Rf8BJDrjGUsABuwACiNeyAMZ8NI91XbsSqtfaRouav49\n",
       "i/Eoc8/DAuTxkQb9NMt/SKxMHqlwUjm6nimj0CZBX7RngEs5Q3ohXmCfduSJPZu+djbmlDHy+PMW\n",
       "Oey+itYbfXT+B5cfgs9MAHTBAAAAVAGfc2pF/wI7PhlZiQAGbATcmuQMTM7WFjFu/sXytzwfzoZD\n",
       "+MmQo8ULiEiilp9AO5kZkDSEUjsXkYbbTJOuuLr5WPhotna2wYqQiCV8wsHRSQA7oQAAAE1Bm3VJ\n",
       "qEFsmUwIv/pYAUI3nh9AAaLupHNXrYBXpIwUFM/eSy4xmPCM+OB0Fj0fbJ7DDGcTMd6K0c3lla6T\n",
       "/6wA2UcSZG1itirp/KBLwQAAFeltb292AAAAbG12aGQAAAAAAAAAAAAAAAAAAAPoAAAH0AABAAAB\n",
       "AAAAAAAAAAAAAAAAAQAAAAAAAAAAAAAAAAAAAAEAAAAAAAAAAAAAAAAAAEAAAAAAAAAAAAAAAAAA\n",
       "AAAAAAAAAAAAAAAAAAAAAAACAAAVE3RyYWsAAABcdGtoZAAAAAMAAAAAAAAAAAAAAAEAAAAAAAAH\n",
       "0AAAAAAAAAAAAAAAAAAAAAAAAQAAAAAAAAAAAAAAAAAAAAEAAAAAAAAAAAAAAAAAAEAAAAABsAAA\n",
       "AbAAAAAAACRlZHRzAAAAHGVsc3QAAAAAAAAAAQAAB9AAAACAAAEAAAAAFIttZGlhAAAAIG1kaGQA\n",
       "AAAAAAAAAAAAAAAAADIAAABkAFXEAAAAAAAtaGRscgAAAAAAAAAAdmlkZQAAAAAAAAAAAAAAAFZp\n",
       "ZGVvSGFuZGxlcgAAABQ2bWluZgAAABR2bWhkAAAAAQAAAAAAAAAAAAAAJGRpbmYAAAAcZHJlZgAA\n",
       "AAAAAAABAAAADHVybCAAAAABAAAT9nN0YmwAAACyc3RzZAAAAAAAAAABAAAAomF2YzEAAAAAAAAA\n",
       "AQAAAAAAAAAAAAAAAAAAAAABsAGwAEgAAABIAAAAAAAAAAEAAAAAAAAAAAAAAAAAAAAAAAAAAAAA\n",
       "AAAAAAAAAAAAAAAY//8AAAAwYXZjQwFkACD/4QAXZ2QAIKzZQbDehAAAAwAEAAAGQDxgxlgBAAZo\n",
       "6+PLIsAAAAAcdXVpZGtoQPJfJE/FujmlG88DI/MAAAAAAAAAGHN0dHMAAAAAAAAAAQAAAZAAAABA\n",
       "AAAAGHN0c3MAAAAAAAAAAgAAAAEAAAD7AAAMiGN0dHMAAAAAAAABjwAAAAEAAACAAAAAAQAAAUAA\n",
       "AAABAAAAgAAAAAEAAAAAAAAAAQAAAEAAAAABAAABQAAAAAEAAACAAAAAAQAAAAAAAAABAAAAQAAA\n",
       "AAEAAAFAAAAAAQAAAIAAAAABAAAAAAAAAAEAAABAAAAAAQAAAUAAAAABAAAAgAAAAAEAAAAAAAAA\n",
       "AQAAAEAAAAABAAABQAAAAAEAAACAAAAAAQAAAAAAAAABAAAAQAAAAAEAAAFAAAAAAQAAAIAAAAAB\n",
       "AAAAAAAAAAEAAABAAAAAAQAAAUAAAAABAAAAgAAAAAEAAAAAAAAAAQAAAEAAAAABAAABQAAAAAEA\n",
       "AACAAAAAAQAAAAAAAAABAAAAQAAAAAEAAAFAAAAAAQAAAIAAAAABAAAAAAAAAAEAAABAAAAAAQAA\n",
       "AUAAAAABAAAAgAAAAAEAAAAAAAAAAQAAAEAAAAABAAABQAAAAAEAAACAAAAAAQAAAAAAAAABAAAA\n",
       "QAAAAAEAAAFAAAAAAQAAAIAAAAABAAAAAAAAAAEAAABAAAAAAQAAAUAAAAABAAAAgAAAAAEAAAAA\n",
       "AAAAAQAAAEAAAAABAAABQAAAAAEAAACAAAAAAQAAAAAAAAABAAAAQAAAAAEAAAFAAAAAAQAAAIAA\n",
       "AAABAAAAAAAAAAEAAABAAAAAAQAAAMAAAAABAAAAQAAAAAEAAAFAAAAAAQAAAIAAAAABAAAAAAAA\n",
       "AAEAAABAAAAAAQAAAUAAAAABAAAAgAAAAAEAAAAAAAAAAQAAAEAAAAABAAABQAAAAAEAAACAAAAA\n",
       "AQAAAAAAAAABAAAAQAAAAAEAAAFAAAAAAQAAAIAAAAABAAAAAAAAAAEAAABAAAAAAQAAAUAAAAAB\n",
       "AAAAgAAAAAEAAAAAAAAAAQAAAEAAAAABAAABQAAAAAEAAACAAAAAAQAAAAAAAAABAAAAQAAAAAEA\n",
       "AAFAAAAAAQAAAIAAAAABAAAAAAAAAAEAAABAAAAAAQAAAUAAAAABAAAAgAAAAAEAAAAAAAAAAQAA\n",
       "AEAAAAABAAABQAAAAAEAAACAAAAAAQAAAAAAAAABAAAAQAAAAAEAAAFAAAAAAQAAAIAAAAABAAAA\n",
       "AAAAAAEAAABAAAAAAQAAAUAAAAABAAAAgAAAAAEAAAAAAAAAAQAAAEAAAAABAAABQAAAAAEAAACA\n",
       "AAAAAQAAAAAAAAABAAAAQAAAAAEAAAFAAAAAAQAAAIAAAAABAAAAAAAAAAEAAABAAAAAAQAAAUAA\n",
       "AAABAAAAgAAAAAEAAAAAAAAAAQAAAEAAAAABAAABQAAAAAEAAACAAAAAAQAAAAAAAAABAAAAQAAA\n",
       "AAEAAAFAAAAAAQAAAIAAAAABAAAAAAAAAAEAAABAAAAAAQAAAUAAAAABAAAAgAAAAAEAAAAAAAAA\n",
       "AQAAAEAAAAABAAABQAAAAAEAAACAAAAAAQAAAAAAAAABAAAAQAAAAAEAAAFAAAAAAQAAAIAAAAAB\n",
       "AAAAAAAAAAEAAABAAAAAAQAAAUAAAAABAAAAgAAAAAEAAAAAAAAAAQAAAEAAAAABAAABQAAAAAEA\n",
       "AACAAAAAAQAAAAAAAAABAAAAQAAAAAEAAAFAAAAAAQAAAIAAAAABAAAAAAAAAAEAAABAAAAAAQAA\n",
       "AUAAAAABAAAAgAAAAAEAAAAAAAAAAQAAAEAAAAABAAABQAAAAAEAAACAAAAAAQAAAAAAAAABAAAA\n",
       "QAAAAAEAAAFAAAAAAQAAAIAAAAABAAAAAAAAAAEAAABAAAAAAQAAAUAAAAABAAAAgAAAAAEAAAAA\n",
       "AAAAAQAAAEAAAAABAAABQAAAAAEAAACAAAAAAQAAAAAAAAABAAAAQAAAAAEAAAFAAAAAAQAAAIAA\n",
       "AAABAAAAAAAAAAEAAABAAAAAAQAAAUAAAAABAAAAgAAAAAEAAAAAAAAAAQAAAEAAAAABAAABQAAA\n",
       "AAEAAACAAAAAAQAAAAAAAAABAAAAQAAAAAEAAAFAAAAAAQAAAIAAAAABAAAAAAAAAAEAAABAAAAA\n",
       "AQAAAUAAAAABAAAAgAAAAAEAAAAAAAAAAQAAAEAAAAABAAABQAAAAAEAAACAAAAAAQAAAAAAAAAB\n",
       "AAAAQAAAAAEAAAFAAAAAAQAAAIAAAAABAAAAAAAAAAEAAABAAAAAAQAAAUAAAAABAAAAgAAAAAEA\n",
       "AAAAAAAAAQAAAEAAAAABAAABQAAAAAEAAACAAAAAAQAAAAAAAAABAAAAQAAAAAEAAAFAAAAAAQAA\n",
       "AIAAAAABAAAAAAAAAAEAAABAAAAAAQAAAUAAAAABAAAAgAAAAAEAAAAAAAAAAQAAAEAAAAABAAAB\n",
       "QAAAAAEAAACAAAAAAQAAAAAAAAABAAAAQAAAAAEAAAFAAAAAAQAAAIAAAAABAAAAAAAAAAEAAABA\n",
       "AAAAAQAAAUAAAAABAAAAgAAAAAEAAAAAAAAAAQAAAEAAAAABAAABQAAAAAEAAACAAAAAAQAAAAAA\n",
       "AAABAAAAQAAAAAEAAAFAAAAAAQAAAIAAAAABAAAAAAAAAAEAAABAAAAAAQAAAUAAAAABAAAAgAAA\n",
       "AAEAAAAAAAAAAQAAAEAAAAABAAABQAAAAAEAAACAAAAAAQAAAAAAAAABAAAAQAAAAAEAAAFAAAAA\n",
       "AQAAAIAAAAABAAAAAAAAAAEAAABAAAAAAQAAAQAAAAACAAAAQAAAAAEAAACAAAAAAQAAAUAAAAAB\n",
       "AAAAgAAAAAEAAAAAAAAAAQAAAEAAAAABAAABQAAAAAEAAACAAAAAAQAAAAAAAAABAAAAQAAAAAEA\n",
       "AAFAAAAAAQAAAIAAAAABAAAAAAAAAAEAAABAAAAAAQAAAUAAAAABAAAAgAAAAAEAAAAAAAAAAQAA\n",
       "AEAAAAABAAABQAAAAAEAAACAAAAAAQAAAAAAAAABAAAAQAAAAAEAAAFAAAAAAQAAAIAAAAABAAAA\n",
       "AAAAAAEAAABAAAAAAQAAAUAAAAABAAAAgAAAAAEAAAAAAAAAAQAAAEAAAAABAAABQAAAAAEAAACA\n",
       "AAAAAQAAAAAAAAABAAAAQAAAAAEAAAFAAAAAAQAAAIAAAAABAAAAAAAAAAEAAABAAAAAAQAAAUAA\n",
       "AAABAAAAgAAAAAEAAAAAAAAAAQAAAEAAAAABAAABQAAAAAEAAACAAAAAAQAAAAAAAAABAAAAQAAA\n",
       "AAEAAAFAAAAAAQAAAIAAAAABAAAAAAAAAAEAAABAAAAAAQAAAUAAAAABAAAAgAAAAAEAAAAAAAAA\n",
       "AQAAAEAAAAABAAABQAAAAAEAAACAAAAAAQAAAAAAAAABAAAAQAAAAAEAAAFAAAAAAQAAAIAAAAAB\n",
       "AAAAAAAAAAEAAABAAAAAAQAAAUAAAAABAAAAgAAAAAEAAAAAAAAAAQAAAEAAAAABAAABQAAAAAEA\n",
       "AACAAAAAAQAAAAAAAAABAAAAQAAAAAEAAAFAAAAAAQAAAIAAAAABAAAAAAAAAAEAAABAAAAAAQAA\n",
       "AUAAAAABAAAAgAAAAAEAAAAAAAAAAQAAAEAAAAABAAABQAAAAAEAAACAAAAAAQAAAAAAAAABAAAA\n",
       "QAAAAAEAAAFAAAAAAQAAAIAAAAABAAAAAAAAAAEAAABAAAAAAQAAAUAAAAABAAAAgAAAAAEAAAAA\n",
       "AAAAAQAAAEAAAAABAAABQAAAAAEAAACAAAAAAQAAAAAAAAABAAAAQAAAAAEAAAFAAAAAAQAAAIAA\n",
       "AAABAAAAAAAAAAEAAABAAAAAAQAAAUAAAAABAAAAgAAAAAEAAAAAAAAAAQAAAEAAAAABAAABQAAA\n",
       "AAEAAACAAAAAAQAAAAAAAAABAAAAQAAAAAEAAAFAAAAAAQAAAIAAAAABAAAAAAAAAAEAAABAAAAA\n",
       "AQAAAUAAAAABAAAAgAAAAAEAAAAAAAAAAQAAAEAAAAABAAABQAAAAAEAAACAAAAAAQAAAAAAAAAB\n",
       "AAAAQAAAAAEAAAFAAAAAAQAAAIAAAAABAAAAAAAAAAEAAABAAAAAAQAAAUAAAAABAAAAgAAAAAEA\n",
       "AAAAAAAAAQAAAEAAAAABAAABQAAAAAEAAACAAAAAAQAAAAAAAAABAAAAQAAAAAEAAAFAAAAAAQAA\n",
       "AIAAAAABAAAAAAAAAAEAAABAAAAAAQAAAUAAAAABAAAAgAAAAAEAAAAAAAAAAQAAAEAAAAABAAAB\n",
       "QAAAAAEAAACAAAAAAQAAAAAAAAABAAAAQAAAAAEAAAFAAAAAAQAAAIAAAAABAAAAAAAAAAEAAABA\n",
       "AAAAAQAAAUAAAAABAAAAgAAAAAEAAAAAAAAAAQAAAEAAAAABAAAAgAAAABxzdHNjAAAAAAAAAAEA\n",
       "AAABAAABkAAAAAEAAAZUc3RzegAAAAAAAAAAAAABkAAAFugAAAGAAAAAYQAAAEUAAAA6AAABMwAA\n",
       "AFMAAAAzAAAAJwAAAQMAAABDAAAAKAAAACoAAAE2AAAAPgAAADgAAAAzAAABPQAAAEYAAAAwAAAA\n",
       "HAAAARIAAABLAAAAIwAAACwAAAEIAAAAQgAAADYAAAA6AAAA3wAAAD4AAAAcAAAAJQAAAXIAAABl\n",
       "AAAAKgAAADAAAAEDAAAAPwAAADAAAAA1AAAA/wAAAFQAAAAoAAAALAAAAOAAAAA/AAAALwAAAEYA\n",
       "AAEiAAAATQAAAEUAAAAsAAABAQAAAEcAAAApAAAANgAAAP0AAAA9AAAASwAAADwAAAERAAAAMAAA\n",
       "AR0AAABaAAAAMQAAADsAAAEaAAAATQAAACMAAAAsAAABBQAAAFgAAABIAAAAMgAAASkAAABMAAAA\n",
       "KgAAADYAAAFhAAAAYAAAAD0AAAA+AAABKwAAAGMAAAAzAAAAMQAAATcAAABLAAAAIwAAAC8AAAEF\n",
       "AAAAQgAAACkAAAAnAAABFgAAAFIAAAAuAAAAKQAAARkAAABNAAAALwAAADkAAAFDAAAARgAAAEEA\n",
       "AAA3AAAA+AAAAD8AAAAhAAAALgAAAUsAAABRAAAAPgAAAD0AAAEtAAAAQQAAACcAAAAiAAABMwAA\n",
       "AFMAAAApAAAAOgAAAVwAAABaAAAAQAAAADIAAAFlAAAASAAAADEAAAAlAAABGwAAAFMAAAA6AAAA\n",
       "TwAAAToAAABVAAAAPgAAADwAAAEXAAAAVAAAADUAAAA0AAABGAAAAE0AAAA5AAAANAAAAXAAAABH\n",
       "AAAAMwAAADAAAAEbAAAARAAAADIAAAAuAAABPAAAAEkAAAArAAAAMAAAAR4AAABTAAAAKwAAADYA\n",
       "AAESAAAASgAAADwAAAA4AAABSQAAAFIAAAA+AAAAKwAAAVIAAABKAAAANAAAADMAAAFEAAAAdAAA\n",
       "AEEAAABMAAABNAAAAFEAAAA3AAAAMwAAASIAAABLAAAANAAAACsAAAGBAAAARwAAACkAAAAxAAAB\n",
       "PwAAAFkAAAA7AAAAMQAAAY8AAABjAAAANQAAAEMAAAF0AAAAaQAAAD8AAAA1AAABZQAAAGwAAAAz\n",
       "AAAAOwAAAcoAAAB1AAAAPgAAAEQAAAGZAAAAXgAAADoAAAA6AAABUgAAAFQAAAA9AAAAOAAAAbsA\n",
       "AACQAAAARwAAAEsAAAHWAAAAbgAAAEwAAAAzAAABcwAAAGUAAABPAAAAXAAAAX8AAABSAAAAPgAA\n",
       "AEUAAAHmAAAAiQAAADcAAABVAAABcQAAAGoAAABSAAAATwAAAYAAAABnAAAAXQAAAFQAAACQAAAA\n",
       "VQAAAF0AABkCAAABxwAAAFQAAABOAAAAQwAAAaAAAAB8AAAAVAAAAEUAAAF5AAAAVwAAAFsAAABL\n",
       "AAABtQAAAH4AAABaAAAAXwAAAYUAAABxAAAAOgAAADoAAAGTAAAAcAAAAFgAAABDAAABpAAAAF4A\n",
       "AABEAAAASwAAAgkAAACXAAAAQgAAAFkAAAHWAAAAegAAAGgAAABwAAACQwAAAIYAAABaAAAAUQAA\n",
       "AY4AAABrAAAAQwAAAGAAAAGRAAAAaAAAAGgAAABrAAABpQAAAH0AAABHAAAAOAAAAW0AAABgAAAA\n",
       "WQAAAGYAAAGLAAAAdQAAAFEAAABIAAAB7AAAAHgAAABEAAAARAAAAe8AAAB3AAAAUwAAAHAAAAIi\n",
       "AAAAjwAAAFkAAABLAAABkgAAAG8AAABFAAAAbQAAAc4AAABjAAAAXAAAAFsAAAG9AAAAegAAAFAA\n",
       "AAArAAABfgAAAHMAAABEAAAAVgAAAb4AAABNAAAAXgAAAF8AAAF+AAAAjwAAADYAAAA/AAABfQAA\n",
       "AGcAAABYAAAAcgAAAZQAAAB/AAAARAAAAFYAAAF8AAAAZAAAAEAAAABTAAABbgAAAF8AAABjAAAA\n",
       "WAAAAZ4AAABsAAAASQAAAFEAAAGKAAAAewAAAFEAAABUAAABmQAAAFUAAABeAAAAWgAAAVoAAABb\n",
       "AAAATAAAAD0AAAGhAAAAbAAAAFAAAABkAAABlAAAAFoAAABlAAAAjQAAAX8AAAB2AAAAVQAAAFQA\n",
       "AAFhAAAAgAAAAIAAAABfAAAA3wAAAHcAAAB0AAAAWAAAAFEAAAAUc3RjbwAAAAAAAAABAAAALAAA\n",
       "AGJ1ZHRhAAAAWm1ldGEAAAAAAAAAIWhkbHIAAAAAAAAAAG1kaXJhcHBsAAAAAAAAAAAAAAAALWls\n",
       "c3QAAAAlqXRvbwAAAB1kYXRhAAAAAQAAAABMYXZmNTcuODMuMTAw\n",
       "\">\n",
       "  Your browser does not support the video tag.\n",
       "</video>"
      ],
      "text/plain": [
       "<IPython.core.display.HTML object>"
      ]
     },
     "execution_count": 10,
     "metadata": {
      "tags": []
     },
     "output_type": "execute_result"
    }
   ],
   "source": [
    "with pm.Model() as logistic_model:\n",
    "    # Again define Bayesian logistic regression model on the following features: sex, age, age_squared, educ, hours\n",
    "    \n",
    "    #### YOUR CODE HERE ####\n",
    "    pm.glm.GLM.from_formula('income_more_50K ~ age + educ + age*age + sex + hours', data = data, family = pm.families.Binomial())\n",
    "    map_estimate = pm.find_MAP()\n",
    "    \n",
    "    ### END OF YOUR CODE ###\n",
    "    step = pm.Metropolis()\n",
    "    iter_sample = pm.iter_sample(2 * samples, step, start=map_estimate)\n",
    "anim = animation.FuncAnimation(fig, animate, init_func=init,\n",
    "                               frames=samples, interval=5, blit=True)\n",
    "HTML(anim.to_html5_video())\n",
    "# Note that generating the video may take a while."
   ]
  },
  {
   "cell_type": "markdown",
   "metadata": {
    "colab_type": "text",
    "id": "LSO7sWCeUU_n"
   },
   "source": [
    "## Animating NUTS\n",
    "Now rerun the animation providing the NUTS sampling method as the step argument."
   ]
  },
  {
   "cell_type": "code",
   "execution_count": 0,
   "metadata": {
    "colab": {},
    "colab_type": "code",
    "id": "7frHwfKJUU_p"
   },
   "outputs": [],
   "source": []
  }
 ],
 "metadata": {
  "colab": {
   "collapsed_sections": [],
   "name": "Copy of mcmc_assignment.ipynb",
   "provenance": [],
   "version": "0.3.2"
  },
  "kernelspec": {
   "display_name": "Python 3",
   "language": "python",
   "name": "python3"
  },
  "language_info": {
   "codemirror_mode": {
    "name": "ipython",
    "version": 3
   },
   "file_extension": ".py",
   "mimetype": "text/x-python",
   "name": "python",
   "nbconvert_exporter": "python",
   "pygments_lexer": "ipython3",
   "version": "3.6.8"
  }
 },
 "nbformat": 4,
 "nbformat_minor": 1
}
