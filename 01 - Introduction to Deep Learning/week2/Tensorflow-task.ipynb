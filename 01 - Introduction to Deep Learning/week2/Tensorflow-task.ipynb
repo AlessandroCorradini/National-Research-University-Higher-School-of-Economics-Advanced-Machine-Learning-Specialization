{
 "cells": [
  {
   "cell_type": "markdown",
   "metadata": {
    "slideshow": {
     "slide_type": "slide"
    }
   },
   "source": [
    "# Going deeper with Tensorflow\n",
    "\n",
    "In this video, we're going to study the tools you'll use to build deep learning models. Namely, [Tensorflow](https://www.tensorflow.org/).\n",
    "\n",
    "If you're running this notebook outside the course environment, you'll need to install tensorflow:\n",
    "* `pip install tensorflow` should install cpu-only TF on Linux & Mac OS\n",
    "* If you want GPU support from offset, see [TF install page](https://www.tensorflow.org/install/)"
   ]
  },
  {
   "cell_type": "code",
   "execution_count": 1,
   "metadata": {
    "collapsed": true
   },
   "outputs": [],
   "source": [
    "import sys\n",
    "sys.path.append(\"..\")\n",
    "import grading"
   ]
  },
  {
   "cell_type": "markdown",
   "metadata": {},
   "source": [
    "# Visualization"
   ]
  },
  {
   "cell_type": "markdown",
   "metadata": {},
   "source": [
    "Plase note that if you are running on the Coursera platform, you won't be able to access the tensorboard instance due to the network setup there. If you run the notebook locally, you should be able to access TensorBoard on http://127.0.0.1:7007/"
   ]
  },
  {
   "cell_type": "code",
   "execution_count": 2,
   "metadata": {},
   "outputs": [
    {
     "name": "stdout",
     "output_type": "stream",
     "text": [
      "/bin/sh: 1: killall: not found\r\n"
     ]
    }
   ],
   "source": [
    "! killall tensorboard\n",
    "import os\n",
    "os.system(\"tensorboard --logdir=/tmp/tboard --port=7007 &\");"
   ]
  },
  {
   "cell_type": "code",
   "execution_count": 3,
   "metadata": {
    "collapsed": true
   },
   "outputs": [],
   "source": [
    "import tensorflow as tf\n",
    "s = tf.InteractiveSession()"
   ]
  },
  {
   "cell_type": "markdown",
   "metadata": {},
   "source": [
    "# Warming up\n",
    "For starters, let's implement a python function that computes the sum of squares of numbers from 0 to N-1."
   ]
  },
  {
   "cell_type": "code",
   "execution_count": 4,
   "metadata": {
    "collapsed": true
   },
   "outputs": [],
   "source": [
    "import numpy as np\n",
    "def sum_sin(N):\n",
    "    return np.sum(np.arange(N)**2)"
   ]
  },
  {
   "cell_type": "code",
   "execution_count": 4,
   "metadata": {},
   "outputs": [
    {
     "name": "stdout",
     "output_type": "stream",
     "text": [
      "CPU times: user 272 ms, sys: 2.03 s, total: 2.3 s\n",
      "Wall time: 3.42 s\n"
     ]
    },
    {
     "data": {
      "text/plain": [
       "662921401752298880"
      ]
     },
     "execution_count": 4,
     "metadata": {},
     "output_type": "execute_result"
    }
   ],
   "source": [
    "%%time\n",
    "sum_sin(10**8)"
   ]
  },
  {
   "cell_type": "markdown",
   "metadata": {},
   "source": [
    "# Tensoflow teaser\n",
    "\n",
    "Doing the very same thing"
   ]
  },
  {
   "cell_type": "code",
   "execution_count": 5,
   "metadata": {
    "collapsed": true
   },
   "outputs": [],
   "source": [
    "# An integer parameter\n",
    "N = tf.placeholder('int64', name=\"input_to_your_function\")\n",
    "\n",
    "# A recipe on how to produce the same result\n",
    "result = tf.reduce_sum(tf.range(N)**2)"
   ]
  },
  {
   "cell_type": "code",
   "execution_count": 6,
   "metadata": {},
   "outputs": [
    {
     "data": {
      "text/plain": [
       "<tf.Tensor 'Sum:0' shape=() dtype=int64>"
      ]
     },
     "execution_count": 6,
     "metadata": {},
     "output_type": "execute_result"
    }
   ],
   "source": [
    "result"
   ]
  },
  {
   "cell_type": "code",
   "execution_count": 7,
   "metadata": {},
   "outputs": [
    {
     "name": "stdout",
     "output_type": "stream",
     "text": [
      "CPU times: user 464 ms, sys: 664 ms, total: 1.13 s\n",
      "Wall time: 1.15 s\n"
     ]
    },
    {
     "data": {
      "text/plain": [
       "662921401752298880"
      ]
     },
     "execution_count": 7,
     "metadata": {},
     "output_type": "execute_result"
    }
   ],
   "source": [
    "%%time\n",
    "result.eval({N: 10**8})"
   ]
  },
  {
   "cell_type": "code",
   "execution_count": 8,
   "metadata": {
    "collapsed": true
   },
   "outputs": [],
   "source": [
    "writer = tf.summary.FileWriter(\"/tmp/tboard\", graph=s.graph)"
   ]
  },
  {
   "cell_type": "markdown",
   "metadata": {},
   "source": [
    "# How does it work?\n",
    "1. Define placeholders where you'll send inputs\n",
    "2. Make symbolic graph: a recipe for mathematical transformation of those placeholders\n",
    "3. Compute outputs of your graph with particular values for each placeholder\n",
    "  * `output.eval({placeholder:value})`\n",
    "  * `s.run(output, {placeholder:value})`\n",
    "\n",
    "So far there are two main entities: \"placeholder\" and \"transformation\"\n",
    "* Both can be numbers, vectors, matrices, tensors, etc.\n",
    "* Both can be int32/64, floats, booleans (uint8) of various size.\n",
    "\n",
    "* You can define new transformations as an arbitrary operation on placeholders and other transformations\n",
    " * `tf.reduce_sum(tf.arange(N)**2)` are 3 sequential transformations of placeholder `N`\n",
    " * There's a tensorflow symbolic version for every numpy function\n",
    "   * `a+b, a/b, a**b, ...` behave just like in numpy\n",
    "   * `np.mean` -> `tf.reduce_mean`\n",
    "   * `np.arange` -> `tf.range`\n",
    "   * `np.cumsum` -> `tf.cumsum`\n",
    "   * If if you can't find the op you need, see the [docs](https://www.tensorflow.org/api_docs/python).\n",
    "   \n",
    "`tf.contrib` has many high-level features, may be worth a look."
   ]
  },
  {
   "cell_type": "code",
   "execution_count": 9,
   "metadata": {
    "collapsed": true
   },
   "outputs": [],
   "source": [
    "with tf.name_scope(\"Placeholders_examples\"):\n",
    "    # Default placeholder that can be arbitrary float32\n",
    "    # scalar, vertor, matrix, etc.\n",
    "    arbitrary_input = tf.placeholder('float32')\n",
    "\n",
    "    # Input vector of arbitrary length\n",
    "    input_vector = tf.placeholder('float32', shape=(None,))\n",
    "\n",
    "    # Input vector that _must_ have 10 elements and integer type\n",
    "    fixed_vector = tf.placeholder('int32', shape=(10,))\n",
    "\n",
    "    # Matrix of arbitrary n_rows and 15 columns\n",
    "    # (e.g. a minibatch your data table)\n",
    "    input_matrix = tf.placeholder('float32', shape=(None, 15))\n",
    "    \n",
    "    # You can generally use None whenever you don't need a specific shape\n",
    "    input1 = tf.placeholder('float64', shape=(None, 100, None))\n",
    "    input2 = tf.placeholder('int32', shape=(None, None, 3, 224, 224))\n",
    "\n",
    "    # elementwise multiplication\n",
    "    double_the_vector = input_vector*2\n",
    "\n",
    "    # elementwise cosine\n",
    "    elementwise_cosine = tf.cos(input_vector)\n",
    "\n",
    "    # difference between squared vector and vector itself plus one\n",
    "    vector_squares = input_vector**2 - input_vector + 1"
   ]
  },
  {
   "cell_type": "code",
   "execution_count": 10,
   "metadata": {
    "collapsed": true
   },
   "outputs": [],
   "source": [
    "my_vector =  tf.placeholder('float32', shape=(None,), name=\"VECTOR_1\")\n",
    "my_vector2 = tf.placeholder('float32', shape=(None,))\n",
    "my_transformation = my_vector * my_vector2 / (tf.sin(my_vector) + 1)"
   ]
  },
  {
   "cell_type": "code",
   "execution_count": 11,
   "metadata": {},
   "outputs": [
    {
     "name": "stdout",
     "output_type": "stream",
     "text": [
      "Tensor(\"truediv:0\", shape=(?,), dtype=float32)\n"
     ]
    }
   ],
   "source": [
    "print(my_transformation)"
   ]
  },
  {
   "cell_type": "code",
   "execution_count": 12,
   "metadata": {},
   "outputs": [
    {
     "name": "stdout",
     "output_type": "stream",
     "text": [
      "[ 0.  1.  2.  3.  4.]\n"
     ]
    },
    {
     "data": {
      "text/plain": [
       "array([ 0.        ,  1.62913239,  2.09501147,  2.62899613,  0.        ], dtype=float32)"
      ]
     },
     "execution_count": 12,
     "metadata": {},
     "output_type": "execute_result"
    }
   ],
   "source": [
    "dummy = np.arange(5).astype('float32')\n",
    "print(dummy)\n",
    "my_transformation.eval({my_vector:dummy, my_vector2:dummy[::-1]})"
   ]
  },
  {
   "cell_type": "code",
   "execution_count": 13,
   "metadata": {
    "collapsed": true
   },
   "outputs": [],
   "source": [
    "writer.add_graph(my_transformation.graph)\n",
    "writer.flush()"
   ]
  },
  {
   "cell_type": "markdown",
   "metadata": {},
   "source": [
    "TensorBoard allows writing scalars, images, audio, histogram. You can read more on tensorboard usage [here](https://www.tensorflow.org/get_started/graph_viz)."
   ]
  },
  {
   "cell_type": "markdown",
   "metadata": {},
   "source": [
    "# Summary\n",
    "* Tensorflow is based on computation graphs\n",
    "* The graphs consist of placehlders and transformations"
   ]
  },
  {
   "cell_type": "markdown",
   "metadata": {},
   "source": [
    "# Mean squared error\n",
    "\n",
    "Your assignment is to implement mean squared error in tensorflow."
   ]
  },
  {
   "cell_type": "code",
   "execution_count": 22,
   "metadata": {
    "collapsed": true
   },
   "outputs": [],
   "source": [
    "with tf.name_scope(\"MSE\"):\n",
    "    y_true = tf.placeholder(\"float32\", shape=(None,), name=\"y_true\")\n",
    "    y_predicted = tf.placeholder(\"float32\", shape=(None,), name=\"y_predicted\")\n",
    "    # Your code goes here\n",
    "    mse = tf.reduce_mean((y_predicted - y_true)**2)\n",
    "    \n",
    "def compute_mse(vector1, vector2):\n",
    "    return mse.eval({y_true: vector1, y_predicted: vector2})"
   ]
  },
  {
   "cell_type": "code",
   "execution_count": 19,
   "metadata": {
    "collapsed": true
   },
   "outputs": [],
   "source": [
    "writer.add_graph(mse.graph)\n",
    "writer.flush()"
   ]
  },
  {
   "cell_type": "markdown",
   "metadata": {},
   "source": [
    "Tests and result submission. Please use the credentials obtained from the Coursera assignment page."
   ]
  },
  {
   "cell_type": "code",
   "execution_count": 20,
   "metadata": {
    "collapsed": true
   },
   "outputs": [],
   "source": [
    "import submit"
   ]
  },
  {
   "cell_type": "code",
   "execution_count": 21,
   "metadata": {},
   "outputs": [
    {
     "name": "stdout",
     "output_type": "stream",
     "text": [
      "Submitted to Coursera platform. See results on assignment page!\n"
     ]
    }
   ],
   "source": [
    "submit.submit_mse(compute_mse, <email>, <token>)"
   ]
  },
  {
   "cell_type": "markdown",
   "metadata": {},
   "source": [
    "# Variables\n",
    "\n",
    "The inputs and transformations have no value outside function call. This isn't too comfortable if you want your model to have parameters (e.g. network weights) that are always present, but can change their value over time.\n",
    "\n",
    "Tensorflow solves this with `tf.Variable` objects.\n",
    "* You can assign variable a value at any time in your graph\n",
    "* Unlike placeholders, there's no need to explicitly pass values to variables when `s.run(...)`-ing\n",
    "* You can use variables the same way you use transformations \n",
    " "
   ]
  },
  {
   "cell_type": "code",
   "execution_count": 23,
   "metadata": {
    "collapsed": true
   },
   "outputs": [],
   "source": [
    "# Creating a shared variable\n",
    "shared_vector_1 = tf.Variable(initial_value=np.ones(5),\n",
    "                              name=\"example_variable\")"
   ]
  },
  {
   "cell_type": "code",
   "execution_count": 24,
   "metadata": {},
   "outputs": [
    {
     "name": "stdout",
     "output_type": "stream",
     "text": [
      "Initial value [ 1.  1.  1.  1.  1.]\n"
     ]
    }
   ],
   "source": [
    "# Initialize variable(s) with initial values\n",
    "s.run(tf.global_variables_initializer())\n",
    "\n",
    "# Evaluating shared variable (outside symbolicd graph)\n",
    "print(\"Initial value\", s.run(shared_vector_1))\n",
    "\n",
    "# Within symbolic graph you use them just\n",
    "# as any other inout or transformation, not \"get value\" needed"
   ]
  },
  {
   "cell_type": "code",
   "execution_count": 25,
   "metadata": {},
   "outputs": [
    {
     "name": "stdout",
     "output_type": "stream",
     "text": [
      "New value [ 0.  1.  2.  3.  4.]\n"
     ]
    }
   ],
   "source": [
    "# Setting a new value\n",
    "s.run(shared_vector_1.assign(np.arange(5)))\n",
    "\n",
    "# Getting that new value\n",
    "print(\"New value\", s.run(shared_vector_1))"
   ]
  },
  {
   "cell_type": "markdown",
   "metadata": {},
   "source": [
    "# tf.gradients - why graphs matter\n",
    "* Tensorflow can compute derivatives and gradients automatically using the computation graph\n",
    "* True to its name it can manage matrix derivatives\n",
    "* Gradients are computed as a product of elementary derivatives via the chain rule:\n",
    "\n",
    "$$ {\\partial f(g(x)) \\over \\partial x} = {\\partial f(g(x)) \\over \\partial g(x)}\\cdot {\\partial g(x) \\over \\partial x} $$\n",
    "\n",
    "It can get you the derivative of any graph as long as it knows how to differentiate elementary operations"
   ]
  },
  {
   "cell_type": "code",
   "execution_count": 8,
   "metadata": {
    "collapsed": true
   },
   "outputs": [],
   "source": [
    "my_scalar = tf.placeholder('float32')\n",
    "\n",
    "scalar_squared = my_scalar**2\n",
    "\n",
    "# A derivative of scalar_squared by my_scalar\n",
    "derivative = tf.gradients(scalar_squared, [my_scalar, ])"
   ]
  },
  {
   "cell_type": "code",
   "execution_count": 27,
   "metadata": {},
   "outputs": [
    {
     "data": {
      "text/plain": [
       "[<tf.Tensor 'gradients/pow_1_grad/Reshape:0' shape=<unknown> dtype=float32>]"
      ]
     },
     "execution_count": 27,
     "metadata": {},
     "output_type": "execute_result"
    }
   ],
   "source": [
    "derivative"
   ]
  },
  {
   "cell_type": "code",
   "execution_count": 9,
   "metadata": {},
   "outputs": [
    {
     "data": {
      "image/png": "[encoded data removed]",
      "text/plain": [
       "<matplotlib.figure.Figure at 0x7f1465dcc2e8>"
      ]
     },
     "metadata": {},
     "output_type": "display_data"
    }
   ],
   "source": [
    "import matplotlib.pyplot as plt\n",
    "%matplotlib inline\n",
    "\n",
    "x = np.linspace(-3, 3)\n",
    "x_squared, x_squared_der = s.run([scalar_squared, derivative[0]],\n",
    "                                 {my_scalar:x})\n",
    "\n",
    "plt.plot(x, x_squared,label=\"$x^2$\")\n",
    "plt.plot(x, x_squared_der, label=r\"$\\frac{dx^2}{dx}$\")\n",
    "plt.legend();"
   ]
  },
  {
   "cell_type": "markdown",
   "metadata": {},
   "source": [
    "# Why that rocks"
   ]
  },
  {
   "cell_type": "code",
   "execution_count": 29,
   "metadata": {
    "collapsed": true
   },
   "outputs": [],
   "source": [
    "my_vector = tf.placeholder('float32', [None])\n",
    "# Compute the gradient of the next weird function over my_scalar and my_vector\n",
    "# Warning! Trying to understand the meaning of that function may result in permanent brain damage\n",
    "weird_psychotic_function = tf.reduce_mean(\n",
    "    (my_vector+my_scalar)**(1+tf.nn.moments(my_vector,[0])[1]) + \n",
    "    1./ tf.atan(my_scalar))/(my_scalar**2 + 1) + 0.01*tf.sin(\n",
    "    2*my_scalar**1.5)*(tf.reduce_sum(my_vector)* my_scalar**2\n",
    "                      )*tf.exp((my_scalar-4)**2)/(\n",
    "    1+tf.exp((my_scalar-4)**2))*(1.-(tf.exp(-(my_scalar-4)**2)\n",
    "                                    )/(1+tf.exp(-(my_scalar-4)**2)))**2\n",
    "\n",
    "der_by_scalar = tf.gradients(weird_psychotic_function, my_scalar)\n",
    "der_by_vector = tf.gradients(weird_psychotic_function, my_vector)"
   ]
  },
  {
   "cell_type": "code",
   "execution_count": 24,
   "metadata": {},
   "outputs": [
    {
     "data": {
      "image/png": "[encoded data removed]",
      "text/plain": [
       "<matplotlib.figure.Figure at 0x7f5bfcdea1d0>"
      ]
     },
     "metadata": {},
     "output_type": "display_data"
    }
   ],
   "source": [
    "# Plotting the derivative\n",
    "scalar_space = np.linspace(1, 7, 100)\n",
    "\n",
    "y = [s.run(weird_psychotic_function, {my_scalar:x, my_vector:[1, 2, 3]})\n",
    "     for x in scalar_space]\n",
    "\n",
    "plt.plot(scalar_space, y, label='function')\n",
    "\n",
    "y_der_by_scalar = [s.run(der_by_scalar,\n",
    "                         {my_scalar:x, my_vector:[1, 2, 3]})\n",
    "                   for x in scalar_space]\n",
    "\n",
    "plt.plot(scalar_space, y_der_by_scalar, label='derivative')\n",
    "plt.grid()\n",
    "plt.legend();"
   ]
  },
  {
   "cell_type": "markdown",
   "metadata": {},
   "source": [
    "# Almost done - optimizers\n",
    "\n",
    "While you can perform gradient descent by hand with automatic grads from above, tensorflow also has some optimization methods implemented for you. Recall momentum & rmsprop?"
   ]
  },
  {
   "cell_type": "code",
   "execution_count": 30,
   "metadata": {
    "collapsed": true
   },
   "outputs": [],
   "source": [
    "y_guess = tf.Variable(np.zeros(2, dtype='float32'))\n",
    "y_true = tf.range(1, 3, dtype='float32')\n",
    "loss = tf.reduce_mean((y_guess - y_true + tf.random_normal([2]))**2) \n",
    "#loss = tf.reduce_mean((y_guess - y_true)**2) \n",
    "optimizer = tf.train.MomentumOptimizer(0.01, 0.5).minimize(\n",
    "    loss, var_list=y_guess)"
   ]
  },
  {
   "cell_type": "code",
   "execution_count": 31,
   "metadata": {},
   "outputs": [
    {
     "data": {
      "image/png": "[encoded data removed]",
      "text/plain": [
       "<matplotlib.figure.Figure at 0x7fa385833908>"
      ]
     },
     "metadata": {},
     "output_type": "display_data"
    }
   ],
   "source": [
    "from matplotlib import animation, rc\n",
    "import matplotlib_utils\n",
    "from IPython.display import HTML, display_html\n",
    "\n",
    "fig, ax = plt.subplots()\n",
    "y_true_value = s.run(y_true)\n",
    "level_x = np.arange(0, 2, 0.02)\n",
    "level_y = np.arange(0, 3, 0.02)\n",
    "X, Y = np.meshgrid(level_x, level_y)\n",
    "Z = (X - y_true_value[0])**2 + (Y - y_true_value[1])**2\n",
    "ax.set_xlim(-0.02, 2)\n",
    "ax.set_ylim(-0.02, 3)\n",
    "s.run(tf.global_variables_initializer())\n",
    "ax.scatter(*s.run(y_true), c='red')\n",
    "contour = ax.contour(X, Y, Z, 10)\n",
    "ax.clabel(contour, inline=1, fontsize=10)\n",
    "line, = ax.plot([], [], lw=2)\n",
    "\n",
    "def init():\n",
    "    line.set_data([], [])\n",
    "    return (line,)\n",
    "\n",
    "guesses = [s.run(y_guess)]\n",
    "\n",
    "def animate(i):\n",
    "    s.run(optimizer)\n",
    "    guesses.append(s.run(y_guess))\n",
    "    line.set_data(*zip(*guesses))\n",
    "    return (line,)\n",
    "\n",
    "anim = animation.FuncAnimation(fig, animate, init_func=init,\n",
    "                               frames=400, interval=20, blit=True)"
   ]
  },
  {
   "cell_type": "code",
   "execution_count": null,
   "metadata": {},
   "outputs": [
    {
     "data": {
      "text/html": [
       "<img src=\"data:image/jpeg;base64,/9j/4AAQSkZJRgABAQAAAQABAAD/2wBDAAIBAQEBAQIBAQECAgICAgQDAgICAgUEBAMEBgUGBgYFBgYGBwkIBgcJBwYGCAsICQoKCgoKBggLDAsKDAkKCgr/2wBDAQICAgICAgUDAwUKBwYHCgoKCgoKCgoKCgoKCgoKCgoKCgoKCgoKCgoKCgoKCgoKCgoKCgoKCgoKCgoKCgoKCgr/wAARCAEgAbADASIAAhEBAxEB/8QAHwAAAQUBAQEBAQEAAAAAAAAAAAECAwQFBgcICQoL/8QAtRAAAgEDAwIEAwUFBAQAAAF9AQIDAAQRBRIhMUEGE1FhByJxFDKBkaEII0KxwRVS0fAkM2JyggkKFhcYGRolJicoKSo0NTY3ODk6Q0RFRkdISUpTVFVWV1hZWmNkZWZnaGlqc3R1dnd4eXqDhIWGh4iJipKTlJWWl5iZmqKjpKWmp6ipqrKztLW2t7i5usLDxMXGx8jJytLT1NXW19jZ2uHi4%2BTl5ufo6erx8vP09fb3%2BPn6/8QAHwEAAwEBAQEBAQEBAQAAAAAAAAECAwQFBgcICQoL/8QAtREAAgECBAQDBAcFBAQAAQJ3AAECAxEEBSExBhJBUQdhcRMiMoEIFEKRobHBCSMzUvAVYnLRChYkNOEl8RcYGRomJygpKjU2Nzg5OkNERUZHSElKU1RVVldYWVpjZGVmZ2hpanN0dXZ3eHl6goOEhYaHiImKkpOUlZaXmJmaoqOkpaanqKmqsrO0tba3uLm6wsPExcbHyMnK0tPU1dbX2Nna4uPk5ebn6Onq8vP09fb3%2BPn6/9oADAMBAAIRAxEAPwD9/KKKKACiiigAooooAKKKKACiiigAooooAKKKKACiiigAooooAKKKKACiiigAooooAKKKKACiiigAooooAKKKKACiiigAooooAKKKKACiiigAooooAKKKKACiiigAooooAKKKKACiiigAooooAKKKKACiiigAorj/AAR%2B0J8A/iZ431n4Z/Dj44eD/EHiTw5JJH4h8P6J4ltbu%2B0t0kMTrcQRSNJAVkBQh1GGG088VZtfjb8Gb74p3PwLsvi54Ym8b2dgL288HRa/btqsFqQpE72gfzljIdPnK7fmXnkUAdPRRRQAUUUUAFFFFABRRRQAUUUUAFFFFABRRRQAUUUUAFFFFABRRRQAUUUUAFFFFABRRRQAUUUUAFFFFABRRRQAUUUUAFFFFABRRRQAUUUUAFFFFABRRRQAUUUUAFFFFABRRRQAUUUUAfIz%2BIrvxH/wUT0j40aVp3xZ1nw/4Z8I6/pWr2XiP4WX%2Bn6b4Ukmn0yMNpUo06CbVWu5bUtJiS%2BRUQyxvbxjbLy/g74f/EGL9qTw98N5fhR4oh17Qf2nfEnj3WvGcvhq6TSpvDt5oWp29tImpmP7NPIVvbDT/sqyGZPszMYxHCr19w0UAeIftr%2BO/wBp34WeFtF8bfAPx94D022ufF/hzw/qFj4v8B3uqyO%2Bq67Y6X9ojlttVsxGIkvDJ5ZR95jA3oDkWf8AhB/%2BChf/AEdB8Gf/AAw%2Brf8AzUUft4f8kQ0P/ss3w4/9TXRK9moA8Z/4Qf8A4KF/9HQfBn/ww%2Brf/NRVbWdA/bz8OaRdeIPEP7W3wQsLCyt3nvb29%2BB2qRQ28SAs0ju3ikKigAkkkAAZrtvhz8ddL%2BIPxC8S/DO58F65oGp%2BHTHIkWuxQx/2nZvJNEt5biOVy0JlglTLBW4UlQHUnwnxj4Y%2BMnh7SfE/w8%2BNujX%2BsaZ8RPFEvhqz8ZS%2BM3nuFS8eQ2EkOlRwrDawQsyQuY2EpCNOwKqSOulhHOfLN2emnVp9tbOyu/6dsZ1Uo3Svv/X3lHxB8b/27NYt/Cy/AD9pj4A%2BOLnxXqV3bWWPhRqtnboLWBp58y/8JHKfNCqAsRUFtwJKoC47H4Paz%2B3j8Zfh1p3xD0P9pT4RWkd4JYrqwvPgJqyz2V1DK8FxbSj/AISjiSKaOSNscbkOOKzfC3wc%2BK/xk%2BI914s8Z%2BCNU8Aatplhpl2de32sscviW1M0TXVtHHI3m272k8sT7wm%2BO5ZPvLlPb/gn8K5vhL4RuNG1LxGNX1PUtYvNV1nU0sVtUuLu5lMkjJCpYRoMgBdzHC5LMSSdcTTwtKlyxfvffvfqtNrbWflrpNKVWUrvb%2BvmeEeBx/wWR8RfFHWNF8XeKPgJ4e8H2FxPDpniCf4dapc32qbWxHMlnF4gKRRuAW/eThxkZTOcegf8IP8A8FC/%2BjoPgz/4YfVv/mor2aiuKclN3UUvS/6tm0U0tXc8Z/4Qf/goX/0dB8Gf/DD6t/8ANRR/wg//AAUL/wCjoPgz/wCGH1b/AOaivZqw/iF8T/ht8JPDsni/4qfEDRPDWlQ/63Ute1SGzgXjODJKyrn8amMZSdoq7K3PNf8AhB/%2BChf/AEdB8Gf/AAw%2Brf8AzUUf8IP/AMFC/wDo6D4M/wDhh9W/%2BaiuQn/4Kh/BjxncPpn7Lfwu%2BInxlulcx/afAPhOX%2BzEkzgB9SvDBaBf9pZH78HFNHiv/gqv8XOfD3wo%2BFXwe0%2BX5Wl8V65ceJtVjH98QWQgtVb2M7jPr1rs/s/ER/i2h/iaT%2B7WX/kpfJLrodj/AMIP/wAFC/8Ao6D4M/8Ahh9W/wDmorK8XH9tXwBpZ1vx5%2B2j8BNEsl%2B9eav8F9Stoh/wOTxUB%2BtYn/DB3xr%2BIH779or/AIKJfFfXc8PpvgZ7TwnYsvdStjGbgj63BODyTWt4R/4JZ/sB%2BE9UGv3H7NOh%2BItT6vqnjiWfX7h267i%2BoyTHOeeMY7Yo9lgYfHVcv8Mf1k1%2BQWgup4x4q/4KMP4T1I6Kf%2BCo37O2tXwyBZeD/gRrmuzE%2BgTTvEs5J7YxWb/w3d%2B3rr//ACSnwjrXi1H/AOPe8tP2O9a022l9CJdT8W2w2%2B/P0r7m8K%2BCvBvgTTRovgjwlpmjWa/dtNKsI7eIf8BjUD9K06Pa4CPw0pP1lb8Ix/ULw7HwPH8av%2BDgjxA4bwj%2BzN8I7OBz8k3jHRfsJx6lLTxNeMv0IzXffCy1/wCC7ev%2BI7T/AIW94p/ZT8N6I%2B77ZLo/hPxHqd9F8jbdsTalBE3z7QcyjAJPJAB%2BuqKieIpSjaNKK/8AAm/xl%2BgnJdjxn/hB/wDgoX/0dB8Gf/DD6t/81FH/AAg//BQv/o6D4M/%2BGH1b/wCaivZqK5STxn/hB/8AgoX/ANHQfBn/AMMPq3/zUUf8IP8A8FC/%2BjoPgz/4YfVv/mor2aigDxn/AIQf/goX/wBHQfBn/wAMPq3/AM1FH/CD/wDBQv8A6Og%2BDP8A4YfVv/mor2aigDxn/hB/%2BChf/R0HwZ/8MPq3/wA1FH/CD/8ABQvt%2B1B8Gf8Aww%2Brf/NRXs1FAHxJ4k1P/g4i8P7pdK0j9kfX0H3E0%2Bw8RW8jD3E96qg/8CNYI/aJ/wCC63hg%2Bd8Sv2XvBot1/wBZP4J8CQ6wf%2BAxyeMLaRv%2B%2BRX3zRXZHE0bWlRi/wDwJflJ/kVzLsfK/wCz98Sv%2BChPx%2B0zUr9/GnhvwRNpk8cU1j8Qf2YtX06WYspO6EjxY6TKMYLIxAJA71pfEvxF/wAFBvh74t8EeC7f9oL4M6he%2BNvEj6Xbr/wpTVYRaxRWNzeTXJ/4qZt4VLbbs%2BXLSKNwr6Wrzbx/%2BzPoHjv4y6D8dU%2BI/jDSdb8O288NhbafrKyaeVmiaKQtZ3EcsIYqeXRVf5R83XMU5Yd13Jq0bOy1lrZ27PfW/QFy3PBf2g/jh/wUO%2BCWpXmmaH8V/hH4kfQPDMniXxhJD8GdStk0nR42kDT5fxOTNKfJmKQqAWELfMOM60Hxz/aoufinb/CGL9rP4VnUrm7SyS7/AOGbde%2BwrfvaC8Wxa6/4SXyluTbETeUWB2%2B4xXb/ABj/AGSvHXxJ8U31xpHxXtLTR/Fvh6w0bx8l1ope9u7e1mkk3WsiSpHCZlkeGRWjZQrFkw2c8PqP7PH7SK6v4g8LaD4b06z0/TfFeu%2BL9B8S/wBqKf7Sv5bcppVsIBmSLySyrK78MLddmRIQnXTo4GpSScrO3e333XR9F038qSg0dT4Q179rv4gavqvh/wACftzfs%2Ba1qGhXAg1ux0r4O6hcTafISQEnRPFZaIkq2AwGcH0rf/4Qf/goX/0dB8Gf/DD6t/8ANRXF/sZeCtWfxvoXiLRPBHiDw54Z8GfCDTvCaQeJdBm0271HUzMJrl3imVXkEIiTE2NjyXc5RnBLH0f4l/ttfsqfBj4q2/wW%2BMHxs0fwr4gu7OO5s4vEbPZW1wjlgoS7mVbdnypygk3jIyBuGeethJKu6dFOVlfRXfntfyfW1yXHWyMz/hB/%2BChf/R0HwZ/8MPq3/wA1FH/CD/8ABQv/AKOg%2BDP/AIYfVv8A5qK9f0vVdM1zTodX0XUoLy0uYxJb3VrMskcqHoyspIYH1FT1x7EnjP8Awg//AAUL/wCjoPgz/wCGH1b/AOaivP8AwGP%2BCyGo/FLVfB/xL8UfATSfDkFvLNo3i/R/h1ql9HeYlVUhltpPEEMsEpRi5wHjGxhvPy5%2BpqKuM1FNOKd/XTzWv53Jaba1Pmf48eIv%2BCh/wV%2BHFx41sPjv8F9d1F7q3sdG0I/BrV7RtRvriVYbeBZB4jl2lpHUE7DhdzHhTV/4ieI/2wPhBo9pr3xY/ba%2BAnh2zvb2Ozgu9W%2BCmqQwtcPnam9/FIAzg8nA47V6B8VvgFqvxB%2BJ3hf4raX8TdStJfCt2bq28M30Edzo93N9nuIVmki2rKkyi5YrIkgA2qSjEDHC/tNQ/EnxB4m8NL4X%2BFfixvF2g3kEnhzWNKeCbQLk3Pl29/HeCQsUiSCSfJliRyozCxc7R10aVCqoQv3bezXZa6WVt9d3poZTnUhzO3a39I2bTwl/wUAv7WK/sP2qvgrPBPGskM0PwK1VkkQjIZSPFOCCDkEVJ/wg/wDwUL/6Og%2BDP/hh9W/%2BaivNdS%2BMuueHtf0z4uRfEy50Hw1a%2BK9StLHwjZ20MenQeGNKW4TULuaLZv377d3VwRtCRqnDkN7F8G/j74n%2BIXjWbwN47%2BFzeFr2Xw3a6/pVrLq4uZ3sppHj23MYjX7NOrpgx5cfNw5KsqzVwVWnHmWq/L/O11e2g4V4SdjjNS8Y/tm/CX40/Crw18Ufi38MPEvh/wAeeNbvQdTtNA%2BF2o6ReW4j8P6vqcc0VxNrl2gPm6dGjK0JysjYKkA19A14z%2B1B/wAlv/Zx/wCyzX3/AKhXiivZq4zYKKKKACiiigAooooAKKKKACiiigDxn9vD/kiGh/8AZZvhx/6muiV0/gH9pT4cfFD4t%2BIvhB4Dg1jUbnwoGj17Wo9HlXS7a8V1VrEXTAJJcru3MibtoByQRiuY/bw/5Ihof/ZZvhx/6muiV7KiJGCI0CgkkgDHJ5Jq4umovmV301tb/P00Jak2rM8u%2BLvwe%2BKHi/41eDviZ8MfGOkeHP7Ds72013Ubqwe8ub%2BynMTGzSHckajfEsgmdm2OgxGwZs9XafB34fJ4nsPHus%2BHrbV/EemWrW9l4i1W2jlvIUZmLBH2gR53EHYFyMA8AV09FW69VxUb2sraaaeb3e//AABKnFNvuFVtY1nSPD2lXOva/qttY2NnA015e3k6xRQRqMs7uxAVQASSTgAVT8bjxq3hHUV%2BHEulprptWGlPrUUj2izY%2BUyrGyuyDuFZSemR1rxI634q/ae/ZI8b/C/4i32k6V430d7vw94oxGYLAalAUeGULIzMltcxtbTKCzER3O3cWXNOlR9ouZvS6T7q/W3b9TRK50PxC/a50a2t/C6/s/aJp3xJufFUeoXGm/2P4khjtpYLKBZpglwFkR52EkYjh%2BXduLFkVGYeLeI/2k/G2seIvHnx48DfE3XI38H2eka/o3gW/mt4dP1fwsSseoRLGU3C/W5ttShLl2MU0duufLlUHV8I/Br4i/Gf40%2BIfGll4M1/4Z3UA0vV5dQ1PTY2iTxVbyPb3Eluqybby2ubGOGOZl2hl2bX3l9nr/gL9kj4Z6b4G0zw78X/AA5oHjjU7DXb3WhqeqeG4hFDfXVzJcubaGQym3iV5SI497lAifMSoNelfA4RWau9L7N66vvHbTRp63NPcid/418PXXjjwNqfhfTfFeqaDNqumy28GtaQUjvLBpEKrPF5qMqyoSGG9CARyp6V4z8Pf%2BCZ37IngzxFH498YeA7r4ieK05bxb8UtVl8QX5bsym7LRwkdvJjjA7CvfaK82nicRRg405OKe9tPxWvyvbyM1KSWgy3t4LSBLW1gSOKNAsccahVVQMAADoBT6KKwEFFFc/8SPiv8Lfg34bk8ZfF34k6B4V0iLPm6p4j1iCxt04zzJMyqPzpqMpOyV2NJydktToKK%2BVbz/gsN%2Byj4lvJdI/Zo8N/Eb4330LlJYvhD4AvNTtUYcfNfyrDYgZ4z5%2BB37UwftEf8FW/iv8Au/hN/wAE/PB3w9tZPmg1f4x/FJJZdnYtY6NDclWxztadT2OOtdX1HEr40o/4mo/g3f8AA6fqWIXxpR/xNL8G7/gfVtFfKY/Z0/4KwfEX/S/iR/wUZ8HeBkk4l0v4VfByGTYO4W61i5ujn38ketL/AMOsh4k/efF//goR%2B0x4saTm5th8UTo1rJ6jydIgtcL/ALJJ%2BtH1fDx%2BKsvkpP8ASKD2FCPxVV8lJ/okfVTukal3YKoGSScACuR8S/tBfAXwYzJ4w%2BN3hDSSn3xqXiW1gK/XfIMV4Kn/AARR/wCCal2wm8Xfs%2BXXimbOZJ/GfjjWtZaRvUi8vJF/IAV13hr/AIJX/wDBNPwkqjRP2BvhAGT7st18PdPuJB/wOWJm/WjlwC%2B1J/8AbsV%2BcmHLgl9qT%2BSX5yZtar/wUO/YB0Jimt/ty/B6zK/eF18TNKjI/wC%2BrgVjzf8ABUv/AIJoQNtf/goJ8Fyf9j4m6W38p67DSv2Nf2QdCULon7Knw2swv3Ra%2BBtPjx/3zCK2If2d/wBn%2B3XZB8DPByD0TwzaD%2BUdF8v7T/8AJP8AIP8AYe0//Jf8jzq2/wCCon/BNS7YJD/wUE%2BCuT0D/FDSl/8AQrgVvaN%2B3p%2Bwz4iYJ4f/AGz/AIT3xb7os/iLpkuf%2B%2BZzXSXX7N/7O96uy9%2BAnguYHqJfC1ow/WOsHWP2HP2KfEKlNf8A2PvhbfBvvC8%2BH%2Bmy5/76hNH/AAn/AN//AMkD/Yf7/wD5Kdn4X%2BK3wu8blV8F/EnQNXLfdGl6xBcZ%2Bnlsa36%2BdPFH/BIn/gl74vDDVv2B/hVFu6nS/BtrYn8DbIhFYB/4Iv8A7BGknz/hr4P8beBrkf6u68DfFnxDphj/AN1Ir7yx/wB8UcmAe05L1in%2BUg5cE9pyXrFP8pH1VRXyp/w7X%2BLPg7/Svgj/AMFR/wBojQrhf9VD4n1/TvE9qvplNTspZG/GWk/4Vb/wWO%2BGf/Im/tY/Bf4oQdfI%2BIPw3vNBuSPT7Rpd1LGD/tfZ8f7NP6tRl8FaPzUo/mmvxD6vRl8NVfNSj%2Baa/E%2BrKK%2BUT%2B2h%2B338Kv8Ak4f/AIJda/qljD8s%2Bu/BXx3p/iFXP95bK7%2BxXQHsFc8dzgVreB/%2BCvP7BfiXxDD4G8efF24%2BGfiWY7T4Z%2BL2gXnhe7V%2BmwHUY4opGyQP3bvycUngcVa8Y8y/utS/Jt/gDweJteMeZf3Wpfk2/wAD6YoqtpGsaR4g0yDW9B1W2vrK5jEltd2c6yxSoejK6khh7g1Zrk2OXYKzfFng3wh4%2B0Kfwt468K6brWmXK4udO1axjuYJR6NHICrfiK0qKabi7oD5r1P/AIJe/A3wrqVx4o/ZU8aeMPglrM8hmkk%2BHGuNDps8nUedpdwJbKRAf4REv1FV28af8FL/ANnH/kffh14Z%2BPfhuD7%2BseCGXQPEiRjlnfT7l2tLlsdFhmiJ7L2P05RXasfWnpWSqL%2B9q/8AwJWl%2BLL5299Txv4E/t6/s0fH/wARv8PNA8ZT6B40gH%2Bm/D/xrp8mka5btjJH2S5CtKB3eLzE/wBqvZK4T48fsxfAD9p3w4nhb48/CjSPEltCd1nLfW%2BLmyf/AJ6W9whWW3f/AG43VvevFn%2BCH7cf7JP%2Bn/syfFR/i/4Og5b4a/FHVNmr28Y/g0/W9uWPQLHeK6gDHmjrR7LCYj%2BFLkl2lt8p/wDySXqFoy20PqSivHP2eP24fgz%2B0D4hufhkU1Twd8QdNi36x8N/Gtl9g1i1UdZEjYlbqHjImgaSMgg5GcV7HXLVo1aE%2BSorP%2BvvXmm15ktNOzPOPHX7K3wb8WeG/GGmaH4K0nQNT8a2jRazrul6TCtxNIWDrLJ8uJT5gV2DcOR82au/CL4O6j4C1zXPH3jbxmfEfirxILWPVdXWw%2ByQrb2yOsFtBAHfyokaWeTBdiXnkJY547qiqeIrOm4OV0/%2BB13totPJGfs4KV7HjH7TrF/jb%2BzkShX/AIvPfjB9vBXijmvZ68Z/ag/5Lf8As4/9lmvv/UK8UV7NWJYUUUUAFFFFABRRRQAUUUUAeD%2BFPjN%2B0Fof7Z9v%2Bzp8QvEHgjxJpes%2BEdV8RLF4V8OXlje%2BFbaC9toLFb6Wa9uI7oXQmuFR1jtSXsZiiSKshiwvhX%2B1P8Xdd/bS8V/A34seJtE8M6Lb%2BJ7nTfAGgX/wn1u0ufE9tFpdvdm4tdenuxp93IrtdlreCBpBHauSAEZx0Xwm/YlvPg58QvG/xG8OftZfE27uvH2uT6rrcGrW3h2cLO7IIljm/sgXHlW8KLbwxPK6RxcBS3z1v337LUHiL45aL8a/Hvxv8a%2BIofC2tXOr%2BEfB2pHTI9J0W%2Bms7iyaeL7NZRXUxW2u7qNBc3EyqJ2IG5UZQDjP%2BChfxc%2BFHhrwf4M%2BFHiP4neHtP8AFPiD4w/D2XQfDV7rUEWoakkfjPRmka3t2cSTBVVixRSAFJOMGvoevGf28P8AkiGh/wDZZvhx/wCprolezUAFcT8ff2h/hD%2BzH8PZviZ8Z/F8OlaakqwWsexpbm/uX4jtraFAXuJnPCxoCx5PQEjH/an/AGpPBn7LXge11zV9Ivde8Ra7fLpvgvwXowD6h4h1Fx8ltAvYD7zyt8kaAs3YHhP2dv2RfGep/EGD9rX9tPVbLxL8UXiYaDpFsS%2Bj%2BBbZ%2BtppyNw05GBLeN%2B8kIwpVOG7KOHgqftq7tDolvJ9l2S6yei2V3oqUVa72PRP2afih8YvjD4JuvHvxb%2BBs3w%2BjvdRZvDWhanqaz6kdO2J5ct9Gi7LWdm3kwB3KKVViGBFJo37LXwo0z40678ftSt9Q1bxJrwgSWTVdQaS1tYoVVYo4bVdsClduRKyNNyQZCOK9GorF1pKcnT91S0sr7dtdenz/AV9dAooorEQUUV4H%2B1B/wAFAfh78BfGlt8Bfhr4M1b4o/F/VbYTaR8L/BpRrtIjgC6v53Pk6ZaZK5nnIyD8iuQRWlKlUrT5YK7/AK1fRLzdkaU6VStLlgrv%2Bt%2By82e9SyxQRNNNIqIilndjgKB1JPYV8w%2BP/wDgqp8FLjxfe/CX9kbwN4l%2BP3jayk8m70n4YWyT6bpsx6LfavKyWNoM5BBlZ1I5SsC0/YK%2BP/7YEi%2BKf%2BCnXxm%2B3aJMwktvgR8Nr%2Bew8M2y9Vj1G6UpdazIMKWDtHb7gcRFTX1L8Pfhx8PvhL4Qsvh/8LfA%2BkeHNC06Ly7DR9D06O0tbdfRIolVV/AV08uEofE%2BeXZaR%2B/d/JJeZvy4Wh8T532Wkfv3fySXmfMq/CH/AIKp/tN/6R8Z/wBofwz8AvDVx97wp8IrJdZ19om6xzazqEfkQyD%2B9bWp9nrovht/wSX/AGGvAviSP4g%2BMfhTN8S/Fy8yeMvi7q8/ifUXfOd6tftJHCfTyUjA7CvpKipljcRblg%2BRdo6fe1q/nITxle1oPlXaOn4rV/NkVlZWWm2cWn6daRW9vCgSGCCMIkagYCqo4AA7CpaKK5DlCiiigAooooAKKKKACiiigAooooAKKKKACsjxx8PvAXxO8OzeEPiV4I0jxDpNwMXGl65psV3by/70cqsrfiK16Kabi7oabTuj5W1n/gkN%2BzT4Z1OfxV%2ByV4t8cfAPXJpDK9x8JPE0llp88nUedpUwlsJUz1XyFyO44Ipv4k/4K0/stjd4r8JeDf2lvC0H%2Bs1DwwE8K%2BLI4%2BpdrSZ30%2B8YD%2BGOW3Zj0XkCvrWiutY2tLSraa/vav8A8C0l%2BLOlYyrLSraa/vav79Jfizwn9nX/AIKOfst/tH%2BLX%2BFWk%2BKdQ8I/EG3TN98MviJpUmieILfgk4tLjBuFwM%2BZA0seP4q92rzr9o79kr9nD9rfwmngv9or4QaP4otIH8ywnvYCl3p8uQRLa3MZWa1kBA%2BeJ0b3rwGb4c/8FBP2BR/afwV8Wap%2B0Z8LLUZuPAfjDUI08aaNAOT/AGfqb7Y9VVRki3u9sxCqqzMTT9lhq/8ACfLLtJ6fKWn3SS9R%2Bzw9f%2BG%2BV9pPT5S/%2BSS9T7DorzL9lz9r/wCA/wC2F4MuPF/wU8WvcTaZc/ZPEfh7VLR7PVtBvBndaX1nKBLbSqQwwww20lSy816bXLOnOlNxmrNdGc04TpycZKzQUUUVBJ5z%2B0Z%2Byj8Dv2p/D1tonxd8ICe702Xz9B8Q6dcNaarotwMFZ7O7iIlgcEA/Kdp2gMGHFeKj42/tJfsAzppH7W9/efEf4So4js/jJp2n/wDE18Px5wq65aQjEsQHH26BccZljUtur6wplxb293bva3UCSxSoUkjkUMrqRggg8EEdq66OLcIeyqrmh2fTzi94v8H1T3KUrKz2KvhvxL4d8Y6BZeK/CWu2eqaXqNslxp%2Bo6fcrNBcwuMrJG6Eq6kEEEEg1dr5I8Y/CT4if8E5NevfjV%2Byv4bvtf%2BEF3cveePvg5YL5kuhhjum1TQkP3ccvLYjCONxj2tgD6a%2BGPxN8A/GbwBpPxT%2BF3im01vw/rlkl1pWqWUm6OeJu47gg5BUgMrAqQCCKWIw6pxVSm%2BaD2fVPtJdH%2BDWqdtiUbarY82/ag/5Lf%2Bzj/wBlmvv/AFCvFFezV4z%2B1B/yW/8AZx/7LNff%2BoV4or2auUkKKKKACiiigAooooAKKKKACiiigDxn9vD/AJIhof8A2Wb4cf8Aqa6JXoXxh%2BLfgP4D/C7XvjH8T9cTTtA8OabLfapduMlY0GdqjqzscKqjlmZVHJFee/t4f8kQ0P8A7LN8OP8A1NdErg/2h7YftXfts%2BDv2S5P3/gz4c2Nv4%2B%2BJUA5ivrzzmj0XTpexXzYp7x42BDC2iz1rpwtGNar7%2BkUm5ei3t5vRLzfkVFXepe/Y4%2BC3jz4i%2BNLj9vT9qPQXtvHXiayMPgrwrd/Mvgbw%2B53RWaKeBeTLtkuZcBizCIbVQg/SlFFTiK8sRU5notklsktkvJfjq3q2KTcmFFFFYCCiivnH/goV%2B0B8UPCGmeE/wBlX9mPUYrb4t/GPUZtL8MalJF5ieG9OhQPqWuyp0ZbWFhsUn555YVw2SK1o0pV6ihHr9yW7b8ktTSlSlWqKC/4ZdW/JLU539oD9qD42/tFfGTVf2I/%2BCf2r21hq2iMsPxY%2BMdzai5sPA6uM/YrWM/JeauyHIiJ8uAENLydo9e/ZT/Y7%2BCH7HXgq48KfCXRLmW/1a5%2B2eKfFuuXRvNZ8R3xyXu7%2B7f57iViWPOFXcQiqvFaX7L/AOzR8Lf2Rvgro/wM%2BEemSxaZpaM9ze3kvm3eqXkh33F9dSnma4mkLO7nqTgYAAHoFbVq8eX2VHSH4yfd/otl5u7Nq1ePL7KlpD8Zeb/RbLzd2FFFFchyhRRRQAUUUUAFFFFABRVXXNb0nwzol54j1/UI7Sw0%2B1kub26mbCQwxqWd2PYBQSfpXlmpft8fsYaR4e0rxTqP7THhCOx1pC2my/2ujNKA21iUGWTDcNuA2kEHGDXRRwuKxP8ACpyl00Teu/RPpqc9fF4TDfxqkY9dZJaXtfVrroeu0VleDPHfgj4j6DF4p%2BHvjDS9d0yYkRajo%2BoR3MDnjIDxsVJ5HfvXkv7cv7Y7fse%2BB9D1bS/hvP4m1nxTrsej6FZnUIrO1W6kBKG4uJDiJTg4OMHaclQCwrD4PE4rFLDU4%2B%2B3az073ve1rWd79icTjsLhMJLE1Ze4le6100Sta97tpK3c9vor83fAP/Bar4%2B/Df4u6z8Jf2uv2dtLvb2wWNPs/wALplup7SXq6yf6XcRTfKw4WRCjKVYEt8n3P%2Bzd%2B0J4O/ai%2BEmn/GXwHomt6fpuovKkVr4g077NcqY3KHKhmVhkcMjMp6ZyCB35nkGaZTBVMRBcjtaSalF3V1Zp/oeblfEWU5xN08PN86veMouMlZ2d013/ALzO7ooorxj3AooooAKKKKACiiigAooooA%2BeP2sP2C9O%2BL/jKD9pX9nfxs/wy%2BOGi23l6P4%2B0u3DRarCuCNO1e2GF1CybaBtf95FgNGykYNv9jT9tC/%2BO%2Bq658BPjz4GTwH8avA8UZ8Z%2BCWuTJBc27HbFq2mStg3WnzEfK4%2BaJj5cgDAFvfK%2Bef2%2Bv2UfFvxl0DR/j7%2Bzne2%2BjfG74YSSal8Otbk%2BWO/BH%2BkaLeHI8yyvEBicEjY5SRSChz20qsa8VRrP/DL%2BXyf93uvs7rqn2Uqsa0VSqv0l/L5P%2B75dN11T%2BhqK82/ZE/aY8I/tffs8eG/j94P0%2B409NatWXU9FvRi50jUIXaG7sZwQCJYJ45ImyBnZkcEV6TXJOE6c3CSs1ozlnCVObjJWa0CiiipJCvkfxXYf8O1vj6vxN8PL9n%2BBHxO1%2BODxlpa8W/gnxDcuEi1SIdIrK6kKxzrwscrJICAzLX1xWD8UPhp4M%2BMnw51z4UfEXRY9R0LxFpc2n6rZSjiWCVCjAH%2BFsHIYcggEcgV1YWuqM3GavCWkl5d15rdPvps2VF2eux5v%2B1B/wAlu/Zx/wCyzX3/AKhXiivZq%2BX5/hp4%2B%2BDdr%2ByX8KfiZ8Rh4t1fw98VL2wk8RG0ML3sMXgzxUsDSKWYmUQiNXfPzurNgbsD6grCpGMJuMXdJ79/P5iejCiiioEFFFFABRRRQAUUUUAch4F/aD%2BAfxQ8Zaz8Ovhp8b/CHiLxD4ddk8QaFoXiW1u7zTGVzGy3EEUjPCQ4KkOBhgR1qxa/G34M33xTufgXZfFzwxN43s7AXt54Oi1%2B3bVYLUhSJ3tA/nLGQ6fOV2/MvPIr5r%2BGvxX0z4sftv6t8U/Fnwk%2BIvhLSfhZpOteF/Aum3Hwa8Qw/wBtfaryzOo6s10LD7O8EktpAlrBFIzPGs1y4O%2BMQ8z4O%2BH/AMQYv2pPD3w3l%2BFHiiHXtB/ad8SePda8Zy%2BGrpNKm8O3mhanb20iamY/s08hW9sNP%2ByrIZk%2BzMxjEcKvQB73%2B3h/yRDQ/wDss3w4/wDU10SuQ/4J3Rf8Jt4h%2BOf7RV%2BPNu/GXxp1WwtLr%2B9pmjhNKtUH%2ByDbTuPeU1e/4KF6b8V5/B/gzUfDnjTw9a%2BFofjD8PRr2jXvhie41C8c%2BM9G8tre8W9jjtgrbSwe2mLAEApkEV/%2BCWM0cX7L%2Bo%2BHXtkhvNF%2BKXjKw1KJCx23CeIL5mzuJO4h1Y89%2BABgV20dMDWa6uC%2BV5P80i18D%2BR9H0UUVxEBRRRQAV8l/si2bfHX/gol%2B0P%2B1NrLC4tvBF9p/wAKfBG8c2cNpbQ6jqxX/rre3sSlupFoozxgfWlfKn/BLdlsNQ/aS8KXfy3%2BnftS%2BKpbuNuG2XSWd5A5HoYZ48H/AGfauzD%2B7hq0lvaK%2BTlr%2BSR1UPdw9WS3sl8nLX8kj6rooorjOUKKKKACiiigAooooAKKKKAPIf28IPjNqX7J/jPwz8A/Az%2BIPEuuaU%2BlW1lHcxxNHDc/uZpgXZQWSJ3YDPXB7GvgL9n3/gnZ%2B1v8SNVk%2BGPiv4AeBvgs%2Bi%2BHorS/8fxeG21S91WOSDySsRku5bfz2Uu0ksJidWbAK521%2BrdeHf8ABQn9rHxD%2Bxr%2Bzpd/Fvwp8P5fEGoyX0dhaRlH%2BzWTyK5FzclASIlKYxldzOi7l3ZH1GQ5xmOHp/2fg6cXOpLSTvfmaSW8lFpJPSSa1vZux8nxDkuW4mp/aOOqTUKUdYq1uVNt7Rc022tYtPS10r28s%2BHf/BH/AMF/CLRIPDHwm/av%2BKfhe3urNE8XJ4e1yO2Osyh2Im4Qi3OGaMbQfkVQSW3M0/xR/wCCLX7GnjP4canoukadrOm%2BJrmHfB43v/EF3e3Ucy8h5Ell8qRTyGXauQTgqQGHzT8IPGngzwpfar%2B1P4N/4KxaFovxF8R2Dy/EXTvFXgppYpZRIX%2Bz28EwWZVh4jRY0Ytt%2BUKpCDi/227v9tH9sf8AZ7g8WfAL9qJ/j7oOla6bfxN4T8G%2BBJtKuNOlKI8E72QVbi9jJLAMUKoyZXJDlPUzfEZ3k9KePrY2ahTs5yVKrzN31XLGkuddI3nZq2y0WfB%2BSZNxlnGHyLC4SlGriG4wVTEUI00rNpupUrctLZc1opqV7c0rX%2BoP%2BCcfxe1j4H/FHSv2CvFXwb%2BHemXx8P3V/L4o%2BH3iSK7GpzQMFEtzEu6RJGjzkysGJT5UVSFX7nr4V/4IhfsO%2BJ/gD8EP%2BFyftBfC99F%2BJGr3V3b2Ul48sV3b6JJ9ndILiDcESQzxyvlk80KyKSAAo%2B6q%2BRx%2Ba4PO6kMbh6coe0inJTVpczvdtc07X005tOy2X2NbhnGcG4/E5JiMTSxDw9SUI1KMuelKMeVLknyw5knzLm5dWnq92UUUVwiCiiigAooooAKKKKACiiigAooooA%2BTf2YLVfgB/wAFMvjr%2BzXp48rQPiBoWlfFbw9ZR/6u2vLiSXTdYx7yXFrazkf3rhj/ABV9ZV8qTsuqf8FvbT7Cd39ifsr3K6mV/hN74ktzbhvcixuSB9a%2Bq67MZrOEnu4Rb9bNfkkdWL1lCT3cYt/c1%2BSQUUUVxnKFFFFAHjP7UH/Jb/2cf%2ByzX3/qFeKK9mrxn9qD/kt/7OP/AGWa%2B/8AUK8UV7NQAUUUUAFFFFABRRRQAUUUUAFFFFAHjP7eH/JEND/7LN8OP/U10SuM/ZOmHwb/AGz/AI7fsyaj%2B6h1/WLb4l%2BEw/W5tdRiS21Db7R39qxI/wCnpT/FXZ/t4f8AJEND/wCyzfDj/wBTXRK5f9v3wJ408JHwp%2B298G9Bn1LxX8Ibme41XRbNf3uv%2BGrhVXU7BR/HKERLmEHOJbcAAl67cE1OUqEnbnVl/iTvH8dP%2B3i4a6dz6OorE%2BG3xG8F/F7wBo/xR%2BHPiCDVdC1/Tor7StQtmyk8Eihlb1BwcEHkEEEAgituuOUZRk4tWaI2CiiikAV8i31%2BP2P/APgqnLq%2BtN9n8EftP6LaWkN9JxFZ%2BNdIgaOOBjwqG900KEzy8mn7RksK%2Buq82/az/Zh8Bftf/AzV/gh4%2BubqyS8MV1o2u6bJ5d7oepQOJbTULWQcxzwyqrqQecFTlWYHpw1WFObjP4ZKz/z%2BTSf3rqdGHqQhNxn8MlZ/5/JpP7%2B56TRXzT%2BxN%2B1z471/xTffsX/tiwWujfHLwbZCS6aJPKsvG2lqdkevaZnAeOTA86Ffmt5dyMqjbX0tWdajOhU5Zf8AAa6Nd0/61ulnVpToz5Zf8Bro15P%2BuqCiiisjMKKKKACiiigAoor5D/4KL%2BE/%2BCkHxL8R2XgL9mfQYh4Ae1STWrjw94rh0vWL6T5/MtzcTn9xGQFA8tW3ZO5iDtXuy7BRx%2BKVGVSNNdZSdkrfm%2By0v3RwZljpZfhHWjSlUa0UYK7d/wAl3etuzPTfjb/wUS/ZP%2BB00miaj8S4PEniEXEtvD4S8F41TU5LiPIaAxQkiFwQRiVkGQRniuOt/wBs79tPxzCt98Jf%2BCZ3iaSxmUNFdeNPGljosoBGQWt5VZx9M5Fcz/wTw1z4L/Dj4pah%2Bzc/7GS/CDx1b%2BG4dUVtV1iHUr3WrVpCkji7xvkCuM7QSPvHau3FfY1epjY5flNb2Kw7m7J81SWjT2cY0ny2f%2BOT79UeTgZZlm9H2zxKpq7XLThqmt1KVWPNddVyRXbSzPhX49fAj/gpX%2B1BoWq31x8DPgR4PmksgtvDrFvFq%2BqvIDktHdPbyxI5UBASBjdkFThl%2BYfgL/wTt/4Kl/st63Z/Fz4U/B8QeJbe/t5hHB43sBG9mnm%2BfZXMAnCXEcxMLcSZUR8fMwKfsRRXZhOMcdg8NLDwo0vZy3jyytbaz99tr1OPGcFZfjcVHE1K9X2kdpc0b3ve6tBJP0PjX9mH4g/8FaP2hfi1pPjn4ueFfDfwu8AaRqVwmr6BPojfbNaiDFfLCztJKpUj5ZlaFGzvCyrha%2ByqKK8DMMbHHVlKFKFOKVlGCsvm225Pzb8tj6HLsBPAUXCdadWTd3Kbu/kkkoryS89wooorgPQCiiigAooooAKKKKACiiigAqDVdU0zQ9Mudb1rUILSzs4Hnu7u5lCRwxIpZndjwqgAkk8ACp6%2BK/j9431j/gp98VtT/Ye%2BA%2BsXMfwe8N6kLf8AaA%2BImnTFItUZCGbwpp8y/wCskk4F5KhxDETFu3yFa3w9B1pau0Vq32X%2Bb2S6v523oUXWlq7RWrfZf59Eur%2Bduh/4JlQ6l8dvE/xU/wCCjWu2M0Fv8ZNft7X4ewXURR4/CGlJJbadNtYbozdSPd3hXutxGemK%2Bs6q6FoWi%2BF9Es/DXhzSrew07TrSO1sLG0hEcVvDGoRI0VeFVVAAA4AAFWqWIq%2B3rOaVlsl2S0S%2B5ffcVer7aq5JWXRdktEvuX5hRRRWJiFFFeRftp/tJ3P7NfwdbVPB%2BjrrPjnxLfR6F8OfDSnL6rrVxlYEI7RR8zSsSAsUTkkcVpRpTr1VTgtX/X3dW%2BiTY0m3ZFb9qD/kt/7OP/ZZr7/1CvFFezV8vT/CjxJ8D7X9kv4X%2BM/iDqXivW9L%2BKl6Nb8RateSTzX97J4M8VSzyBpCWWPzXcInRIwiDAUV9Q0qkYxm1F3Se/fz%2BYPRhRRRUCCiiigAooooAKKKKACivF/2Ofi78cPiVdfFLwd8fr3wpd6z8P8A4mN4etr7wfotzYWtxato2lakhaK5urlzIrag8ZcOFcRqwRMkVyX7E/7U/wAXfjR8QvEfgj49%2BJtE0fXbW51iXSfh%2BfhPrfh/UE0211aS0hv477UbuSHV4Gh%2Bys8tpCsavdR5Zd6qQDr/ANvD/kiGh/8AZZvhx/6muiV7NXzx/wAFC/i58KPDXg/wZ8KPEfxO8Paf4p8QfGH4ey6D4avdagi1DUkj8Z6M0jW9uziSYKqsWKKQApJxg19D0AfIV/Jef8Eufinea8LaV/2cvG%2BstcagIYyy/DbWbiT55to%2B5pVzI2Wx8tvM5OFR%2BfriyvbPUrOHUdOu4ri3uIlkgngkDpIjDKsrDgggggjgg1HrWi6P4k0e68PeIdKtr%2BwvrZ7e9sryBZYbiJ1KvG6MCGVlJBBGCDivk5vC/wAY/wDgmPdyX/wy0DWfH/7PjStJd%2BE7MPd638PlJJaSxUkvfaauSWt8mWAfMm9Qy16Pu5gtXar%2BE/n0n66S7qXxX8fr%2Bf8AwT66ornfhT8W/hp8cvAWn/FD4Q%2BNtO8Q%2BH9Vh8yx1TTLgSRyDuD3VgeGRgGUghgCCK6KuCUZQk4yVmiNgoooqQPJP2uf2Nvhd%2B2B4R0/TfF13qOg%2BJvDd4dQ8DePvDdx9n1jwzf4wLi1mA4BAAkibMcq/K6nAI8c8D/t0/Fj9kjxLY/An/gqRYWOkC5uFs/Cvx80a1MXhbxKScRpfdRot8w%2B9FKfIdg5ikxha%2BvqzvFvhHwp4%2B8M33gvx14Z0/WdH1O2a31LStVs0uLa6iYYaOSOQFXU9wQQa6qWISh7KquaPTuv8L/NPR%2BT1OmnXSh7OquaP4r0f5p6Pyepdtbq1vrWO9srmOaGaMPDNE4ZXUjIYEcEEcgipK%2BQpP2Cv2hf2QrmTxB/wTI%2BNtvpvh8SGWf4F/E2a4vvDLZOWXTrpS13o5OWIRDLBuYfugBWn4S/4Kr/AA18G%2BIbT4a/t3/C3xB%2Bz34rupRBbv452TeHdRl/6ctdgzZyjpxK0MnPKCqeDc1zUHzrsviXrHf5rmRTwrmr0Hzrt9pesd/mro%2BqqKr6Tq%2Bk6/plvrehanb3tldRLLa3dpOskUyEZDI6khlI5BBwa8O%2BOP8AwUI%2BFfwQ%2BLs/wLk%2BF/xE8WeJ7bTIr%2BbTvBPhNr9hBIcK331yM4BI4BOM5yKjC4PFY2o6dCDlJK7Stolu3dpL5s8vF4zC4Cn7TETUVe2t9300Td9HpY95or5iP7d/7R3iv5fhP/wTV%2BJ94zf6v/hL7u00EH6mZn21neMPjD/wVV8beE9T8L%2BFf2K/DvhG/wBTsJbay8QXHxNtLo6ZJIhVbgRpH87Rk7gMEEr0I4PfHI8ZzJVJU4f4qlNW87KUnoedLPsFyt041J/4aVR38ruMVr93c%2BrqK%2BTPAnj7/grR8IvCdl4O8efs1%2BEPiheWEZhk8SaV4%2Bh06W9AY7ZHWeJRnbtBIRS2MkZJq/qn7QH/AAVLisJdR07/AIJ/%2BGCyL8lififavMxPAIOFQ46kZGQCBzinLJK/O1GrSa6P2sEn97TXzSFHPcPyJzo1U%2Bq9lNteV0mn8mypYa5afET/AIK9X2l%2BLdVt9Jk%2BHfw4ji8JaZMpSbXWvgJLm5jZuHSEZjKrzuGc/K4H1fXyv8L/ANmP9qX41fHfwX%2B1R%2B2drvhfRrrwbb3EvhnwN4NtXL2ctzEEYXd6zlpCo4aNGaIsMhtpIb6oozmVDnowpzUuSnGL5XeKacr2lZc178zdrJtpNpJhkca/s61SpBxU6kpLmVpNNRteN3y2typXu0k2k20FFFFeMe2FFFFABRRRQAUUUUAFFFFABRRXN/Fb4x/CX4E%2BDrj4hfGn4l6F4T0K1H7/AFbxDqsVnbqcZ275WUFjjhRyewNOMZSdoq7Goyk7JXZ0lc78Vvi58MPgX4C1H4pfGTx9pPhnw7pUJl1DWdavkt7eFewLOQCxPAUZLEgAEkCvmeb/AIKJfGr9p8nQ/wDgmh%2BzJf8Ai2xmOxfi98SobjQfCMA/56wCRBe6qAQRi3iVDwfNxzWx8MP%2BCaek69490749/t3/ABYvfjj4/wBNm%2B0aNHrlilr4a8Ny9jpmjoTDG68D7RMZZztDb1Ndn1WNHXES5f7q1l920f8At5/9unV9WjS1rvl8lrL7tl/28/kcbfeNP2nv%2BCqCnw/8Ik8SfBz9nq641Lx5eW72Pirx5bHrFpcDgPpdjIvW8lAnkVl8tEBZq%2Brvg58Gvhd%2Bz58M9H%2BDnwX8EWHhzwzoNoLbStI02LZFCgJJPcu7MSzOxLOzMzEsST01FZVsQ6kVCK5YLZfq31fm/RJIzq13UioRXLFdP1b6vz%2B5JBRRRXOYBRRXmX7TH7Wnwk/ZY8P2d547vLvUNc1qY23hXwZoFsbvWNfuu0FpbL8znONznCJkFmUVdOlUrTUIK7fQaTbsjofjh8cPhh%2Bzl8MNV%2BMHxg8Uw6RoWkQ77m5lyzyMThIYkHzSyuxCpGoLMxAA5rxX9ln4QfE740/Fk/t5ftT%2BGJtH1yawksvhZ4AvSGbwbo8uN8sw6DUroBTMw5jQLCDwwpvwd/Zk%2BLXx1%2BJml/tWft3W1ouraRMbn4efCixuhcaX4OJHy3M7j5b7U9pwZ8eXESREOjD6YrtnOnhKbpU3eb0lJbJfyxfX%2B9LrstLuVNqKstzxn9qD/kt/7OP/AGWa%2B/8AUK8UV7NXjP7UH/Jb/wBnH/ss19/6hXiivZq88gKKKKACiiigAooooAKKKKAPF/gT%2Bx5rHwJ8aeL/ABraftZfErxHJ448Vw%2BINesfENp4dED3aWtvZkJ9k0iB0je3tLaJgHziEMpV2dm1Ph/%2By1B4T%2BNC/Hnxt8b/ABr4616y0O%2B0bw7/AMJUdMjg0SxvLi2uLqG3j0%2Bytd5keyswZLgzSBbdQHG59/qlFAHjP7eH/JEND/7LN8OP/U10SvZq8Z/bw/5Ihof/AGWb4cf%2Bprolanhn9sD4Na18adR/Z58RXt/4W8YWl3JHpukeK7I2R1yFTgXOnyMfLu4m5wEYuMHci4rSFKpVTcFe2rt0Xf8Ar52JlOMbXdrnqVFFFZlHzj8UP2HPEPg7x7qH7QP7Cfj%2B1%2BHHjbUZvtHiHw9dWrTeGPFknc39mhBhmbp9rt9soyxYSZqX4X/8FBPDlv4ztPgh%2B1/4Duvg78Qbp/KsLLxBdLJo2vOON2mamAIbjOV/cuY5gWCmMkZr6JrA%2BJnwr%2BG3xn8G3fw8%2BLXgTSvEeh36bbvStZsUuIJPQ7XBAYdQwwQeQQa7o4uFWKhiVzW2kviXz2kvKXyki%2BZPSRv0V8ur%2ByB%2B01%2By7/pn7CPx6F54ch5X4R/Fi5n1DTIkH/LOw1EFrywAAwqOZ48nlQBV7Qv%2BClPgfwPq1v4K/bW%2BFniD4Ha7PKIYbzxYq3Hh68kPa21m3zbMMc4mMLjPKih4GVRXw8vaLstJL1i9f/AeZByX%2BHU%2BlKKq6JrmieJtJt9f8N6xa6hYXcQktb2xuFlhmQ9GR1JVgfUHFWq4WmnZkBWT460PwX4j8Halo/xF8P2Gq6HNZv8A2pp%2Bp2C3VvPCBlleJlYSDA%2B7g59K1qKadmmF2ttz8zPh74u/4Jt/Dv4pWPxQ/wCCf8fx90WOz1tLrWPBXwX0m%2Bbw5rjBgzwT6XdqbaMMpxmBYHAbIIzz0XxW8S/Hn4sftGH9pm7%2BFPjL4SeG/E%2Bh6H8M7HVdfMdlqsSXmuRz3N0I0YvbHyQ8QdsBTIpVt2MehftB/Dz4kfsDeJPG37Sn7LfxX8C6VoGuW8mu%2BJ/hh4ygMUFzcQRjzJtOaAq6yyAEbOFLuMkjaE97%2BA/j/SP2zf2atP8AFvxZ%2BAsulWHiW0I1Hwh4w05LiKaMNw3lypiaF8B0Z0G4YOOhP2mLr4fDYX63hafNTmuRzlNuauk5RcXGKvppK81Zbq9j5fBYvMMwzanRzWs3Uov2ijGEVGSi5KMue85Ne8nyy5XfTVI8r%2BCHjP4meGP2Qviz4k%2BAzeIPGSaLrmtp8Ikv9Sm1e5vreKFBBHFPeSs9zGtyJUTzJTkIV3YAAs/Dn9rb4p2/w08L6NY6zovxR8d%2BJ/EN5o1jZXWhz%2BDf7OmsrWSe%2BGrJI989q0Xlqp8uIkm4h2xFW317P4s/Z%2B8CeIfC1x4W8P3ms%2BE0mS0SG78GaxLpstotsCsKwiIhERVJUpt2MvDKwAx5X4s/YHvNH0vQrj9nr4yT%2BG9f0w6//afiHxPpba1PqkmsrF9tvXAngCXoeGN4pPmhjG5PIZCFX5uNXC1G%2Bfdu%2Bq8urXS%2Brtu79D7iNXDVG%2Bfq76ry6tdL66db9C7o3/BRf4LXPhTwn4g17QPENrP4g0Sz1PXbey0t7uLwrBc3D2scmozJhYIzcRTxB8H/AFEjEKqkj3%2Bvjrxb%2BwZ8R7DWvE3wO%2BHmi6a3w5%2BINt4XtNd8U3mvMuoabpek7FudN%2BzCHE32lUmIlDgB7%2B4LKAFz9KfHbRfjprvw3u9O/Zx8d%2BHvDniszxPY6n4p0GXUrJUDgyI8EU8LncuVDBxtJzg4xWVenhuaPsnv3ey6X007ddr9TKvTw94%2Bze/d7evbt12udjRXyr9t/wCC23hz5ptA/Ze8Wxp977PqPiHQ5ZB7K0d6oP1bFSWv7R3/AAVa0mQ23iT/AIJmeC9TCRuxu/Dfx/hxIwUkKI7rTYiMkADLY55wBS%2Bpzfwzg/8At5frYX1ST2nF/wDby/Wx9TUV8q/8No/8FC7E/wDE5/4I8eM2UdX0r4veFrgfgHvI2/Sl/wCG9/2wIRi7/wCCQfxiVu4h8WeF5B%2BY1Oj6jiOnL/4FD/5IPqdfy/8AAo//ACR9U0V8rf8ADeP7Zlx8unf8EgPi4zdhc%2BNPC0I/M6kaT/hsX/go9ff8gr/gj74ghB%2B62s/Gvw1APx8maYj8qPqNfry/%2BBw/%2BSD6nX62/wDAo/8AyR9VUV8qn47/APBXnxP%2B58P/APBPX4WeGSeFn8U/HiW6A9yllpLfkGNH9k/8Fs/FH7i98afsx%2BDYn%2B/Lp2ieINdmjH%2ByZZrNCfqtH1OS%2BKcF/wBvJ/kmH1Rr4pxX/byf5Jn1VRXyn/wxj/wUL8Z/ufiv/wAFafENrayf6%2Bz%2BGvwo0XRSB6JPdreyrj13e%2BKD/wAEff2bvFvP7Q3xc%2BNPxbH/AD7/ABD%2BL2qS2uf%2BvSzktrfB/u%2BXt9qfsMLH4qt/8MZP8%2BVB7HDR%2BKr90W/z5UeofHP9vn9if9miOb/he/7VPgTwzcQff07UfElv9tJ7hbZWMzn2VDXlf/D1G3%2BKI%2By/sY/sX/GT4ttNxZa6nhQ%2BG9BlPqdQ1o2wK%2B8ccnsDkZ9d%2BCP7Dv7HH7NnlSfAb9l3wH4UuIh8t/o3he2hum92uAnmufdmJr1OjnwNP4YOX%2BJ2X3R1/wDJh8%2BDh8MHL1dl90dfxPk0%2BCf%2BCvH7Q5z41%2BLfw3/Z80Gf5jp3gXTn8VeIQh4Mb318kNlC2P4o7aXHUH06H4V/8EqP2SPAvjG3%2BK3xM0XW/i545tuYvG/xj1uTxBewnOQYI5/9GtMHp9nhjx0HQV9I0UpY2vblhaC7RVvve7%2BchPF1rcsLRX91W%2B97v5sRVVVCqAABgAdqWiiuQ5Qorzjxd%2B1n8APCmg%2BMdXg%2BJOl6zc%2BBNPmu/EmjaFqENze2wiA3IYw42uCyqdxUKzrvK5zXnXjD9qf4i%2BM9Z8M/CLwpYSfDLxZrHi46Prp8U6ZBqbaZnTbu%2BthGILgQy/aRaSIkgdlBjkTbvKV008HiKnSy89Ol/Xbsn07lKLZ9GVS8R%2BJPDvg/QrvxR4t16y0vTLCBpr7UdRukggt4x1d5HIVFHckgVyH7N/xa1j4x/DIeIPFejW%2Bm6/pmsahoviPTrVy0UF/ZXctrKYy3PluYhLHkkmOVDk5zXn3iX/gn94A%2BMHxXvPif%2B1H8QfEHxNs49Va68L%2BB/EMscXh7Q492Y1FhAqx3cig7fOufNJGOAeaIUaUaso15ctuyu35LZfNu1u%2BwJK%2BpzGo/tp/GD9qe8m8Gf8E6PAMOpaX5jQah8a/GNpLD4cssHa5sIvlm1eZcMB5e2AMF3SkHFd9%2Bzd%2BxT8P/AIC%2BILz4r%2BJvEWp%2BPfibrMAj1/4k%2BKysl/OnU29uqjy7G1BJ228IVQMbi5ANew2VlZ6bZxadp1pFb28EaxwQQRhEjRRgKqjgAAYAHSpaupi7QdOjHki9%2Brf%2BKX6K0fJg5aWWgUUUy5ubayt5Ly8uEihiQvLLK4VUUDJJJ4AA71xknjn7UH/Jb/2cf%2ByzX3/qFeKK9mrwr48eKvDHjf4ofs0eK/BniKx1bS734x372eo6ZdpPBOv/AAhfikbkkQlWGQRkHtXutNpp2YJphRRRSAKKKKACiiigAooooAKK5n4WfGn4OfHPRLvxN8E/iz4Z8Y6bYalJp19qHhbXrfUILe8jCtJbySQO6pKodC0ZIYB1JHIpPB3xt%2BDPxE8X678Pfh/8XPDGu6/4WnEPibQ9H1%2B3urzSJCWAS6hjdnt2JVgBIFOVPoaAOA/bw/5Ihof/AGWb4cf%2Bproldz8ZvgR8IP2hfB8ngP4z/D/TvEGmO2%2BOG9i%2Be3k7SwyKQ8Mg7SRsrDsa4b9vD/kiGh/9lm%2BHH/qa6JXs1VCc6clKLs11QmlJWa0Pmxfhf%2B2p%2Byp%2B9%2BBnjT/hcXguH7vgjx5qYt9eso/7lnqpGy5A7R3a5woHnV2Hwb/bm%2BBHxb8Tj4Z6nf6h4K8cqB5/gPx5YnTNUBP/ADySQ7LpTjIeB5FI5zXsdcl8YvgN8Gf2gvDB8HfGr4aaR4l08EtFDqlmrtAx/jik%2B/C/%2B2hVh612fWaNf%2BPHX%2BaNk/mvhf8A5K/Mx9nOH8N6dnt8nuvxR1tFfOK/srftOfAX9/8AsiftNz32kxf6r4f/ABd83VrFV6CO31BCL22UDhQxnUf3ccU8ft6618Jj9h/bN/Zu8V/DlY%2BJPFWmQnXvDzDoHN5ZqZLcHrieGPA6ngml9SlU1oSU/JaS/wDAXr9zkP2yj/EXL%2BX3r9bH0XVXW9D0TxLpNxoHiPR7XULC7iMd1ZXtussMyHqrowKsD6EYrH%2BGfxe%2BFXxn8Pr4r%2BEnxH0TxLprY/03Q9Tiuo1J/hYxsdrf7JwR3FdFXJKM6crNNNfJ/oappq6Pm3Wv%2BCZPwh8L6vceL/2TPiD4t%2BB%2BtTyGaQfDzUwmkXMvYz6TcLJZSKPRY0P%2B1VY%2BLP8AgqH8BVKeK/hz4D%2BOeiQDH9p%2BFdQ/4RjXSg5MklpdtJZytjsk8WfQd/Zfjx%2B0V8Gv2aPBUvj340eOrLRbFVb7NHNJme8cDPlQRD55n6cKDjOTgc185%2BIdR/4KAft6eBLzw74c8FaN8Gfhx4ntXgl1LxFLLdeI7zT5PlLJbx7Y7YyR5BRyGAbhiOT72Dp4zF01VxLj7K9nOp%2BKi1acml0i5dLtXPPxmcUsNP2MIurVtdQirvycnooJvrJrrZOxwXj/AP4Ln%2BEdXm0zwx8GPhvD4e1C/vHtL7xD8X9Wt9M0XS50%2B9E89tNKkzdPuyKMEEEjOPSfB3wl/bZ/ag0OLxR4t/4KIeGtN0C6GTafA7S4ZIZM/wDPPUpWaVcDpgHrmvoz4efBP4X/AAv%2BFdh8FfCPg2wh8N6fYrax6ZJao8cyAfM0oIxI7nLMzAlmJJ5NeUeMf%2BCXX7EfiXW5PF/hj4PDwLr78rr/AMM9WuvDl0j/AN/OnyRI7dT86tyc9a1/tTK6TcMJS9nbaUoxqyfm%2Bb4fSKdu7er54ZVUxUebH1puT3jCThTXklG0pW2vKd3vZXss7Qv%2BCT37GEMct58RfBmsePdYuZUkvPEfjbxJdXl9cMhyNzq6LjPUBQGHDZHFfSEUUcMawwxqiIoVEUYCgdAB2r5r/wCGPf2wvhxx8BP%2BCj/iua1j%2BZNI%2BK/haw8Rxuf7puYxa3QHbJkY%2BuTS/wDCf/8ABVr4c8%2BKf2ePhF8Srcceb4K8bXmg3RHqYNQgmiz7efj3FcWKniswac8SqltlKTjb0Ukor5NI9DCZbgMCmsNTjC%2B9lZv1e736tvzPpWivmv8A4eD%2BN/CP%2Bj/Gv/gnz8dPDkyf8fFzonhq28RWaDuRLpdzM5A9fLHFTWH/AAVp/wCCf8l2mmeJ/j2vhW8c7Ws/G/h3UdEdG/un7dbxLx7Ej3rk/s7HfZpt/wCG0v8A0lyOzkn2Po6ivPfBn7W/7KnxGCH4f/tMfD/XC/3V0nxjZXBPtiOUnPtXf29zb3kC3NpcJLG4ykkbhlYeoI61yzp1KbtOLXqmvzSJaa3H0UUVAgooooAKKKKACiiigAoqprGvaH4dtDqHiDWrSxgXrPeXKxIPxYgV5l42/bx/Yl%2BHIceN/wBrj4b6dIn3refxpZed%2BEYlLn8BWlOjWqu1OLfom/yTGk3sesUV82N/wVl/Yv1gm3%2BF3ibxZ4/uj/q7XwB8OtZ1Uyf7skNqYj/33SH9uH9ozxr8vwR/4JpfFS/H/P1471DS/DMH1xPcyT4/7Y7v9mun%2Bzsavihy/wCJqP8A6U1%2BRXJLsfSlFfNW/wD4Kz/En7tv8EfhZZT93fUvFGo24%2BgFlblv%2B%2BgfakP7A3xZ%2BIX7z9pH/goN8WfEytxLpXhC5tfCmnyL3Rk06MXDL25uCcdSaPqlKH8StFel5P8ABJfiHKluz6UEsbSNEsillALKDyM9M/lXi3wr8V/ED4XfHvxf8H/jR8WLzxDY32jQeKfCmtazaWlqILYSG1vbIGCKKMRwP9kcFgXIvPmZjXUfs%2BfsqfAP9ljSdR0f4FfD9NFTWLhJ9XuJNQuLu5vpUUqsk09zJJLKwBIyzHrWh4k/Z4%2BCXjP4p6d8a/Gfw203WPE%2BjWhttF1XVojcnTUJJY2ySlkt3bPzSRqrsAAzEAARGeHhKcdXFrR2V76W6u2t767CTirnzRbfBLxN4n8U%2BEvg5cfDvVL/AE6z8R%2BIZJfHFnsbS9R8Jaut1PKpuUJAuWuPsT%2BXtO6SLfjaSw9I8B/sc%2BLtbn1Of9pPxrpuuSnw/pGkaPe%2BG4Lixukk055JItWaUyFor0ySA/uzsTyxjO9hX0F06UVrUzGvJWjp%2Be9736X7LQbmznfhd8L/AAt8IPCEXgzwkb6S3W4mubi71TUZbu6u7iaRpJZ5ppWZ5Hd2ZiScDOAAAAOiorzz41/tY/s4fs6xqPjL8YtE0S6lx9n0qS582/uM9BFaRBp5SfREPUVyxjWxFS0U5SfbV/gZynGKvJ2PQ6jurq2sbaS9vbiOGGJC8ssrhVRQMliTwAB3r53b9qL9qv44D7L%2Byt%2Byjd6Rp0vEfjf4xyPpFoB2eLTo917cKRyN4gB9R1p1t%2BwPc/Fa5j1v9tn46698UZFcSL4VjH9keGoGByoGn2zZuNp43XMkuR1Aro%2BqRpa15qPkvel9ydl85fIx9s5fw4389l%2BOr%2BSLPin/AIKA%2BD/EevXPw8/ZE8Aap8Y/E1tIYrpvDEqxaJp0n/T3q0n%2Bjx9/ljMsnGNmaz4P2OPix%2B0TcR69%2B3p8V49a07eJIfhV4Jeay8OwkHIF1ISLjUyCAf3pSLIP7rBr6C8MeFfDHgnQbbwr4M8OWGkaZZRiOz07TLNIIIE/upGgCqPYCr9P63Gjpho8v956y%2B/aP/bqv/eD2Tn/ABHfy2X/AAfn9x4Z8fvDnh7wh8Uv2Z/DHhPQrPTNNsfjBew2Wn6fbJDBbxjwT4owiIgCqo9AAK9zrxn9qD/kt/7OP/ZZr7/1CvFFezVxNtu7N9gooopAFFFFABRRRQAUUUUAfKv7C3xS8NQ/Fn47adD8L/iLoVp4g%2BMtvfeG31v4PeIdJtbqybw7olis0cl1YRRiMXFjcoTkBBGGbCOjNxH7Cnw/%2BIOl/GH4U%2BGNW%2BFHijQ9Q%2BE/wz8Y6D8Ste1nw1dWVnqep3%2Bs6XNC1rdSxrFqa3L2d3fedbvKsYceYUkmK19w0UAfPH/BQvTfivP4P8Gaj4c8aeHrXwtD8Yfh6Ne0a98MT3GoXjnxno3ltb3i3scdsFbaWD20xYAgFMgja8cp%2B3P8MvGOpeLPh/L4X%2BJ3he7u3nh8I6gBouradGTxDbXa7oLhVH/PdUY9N/ep/wBvD/kiGh/9lm%2BHH/qa6JXs1aUqns3smn0a/wCGa%2BTMa9H20UlJxa2adv8ANP0aaPEvBv7fPwK1PX4fAvxYOrfDHxPMdqaB8RrA6aZm6fuLliba4BPAMcrE%2Bgziva4ZobiFbi3lV43UMjo2QwPQgjqKzfGPgjwZ8Q9Bm8K%2BPvCWma3plwMT6dq9jHcwSf7ySAqfyrxaX9gnQ/AEz6l%2Byj8afF3wrn3F10nSr3%2B0dEZz1Ladeb41B/6ZGL2Ira2Eq7Nwfn7y%2B9e8vuZzXzChulUXl7svud4v5OJ77QQCMEZB6ivAR8Q/2%2BvhB%2B7%2BIXwS8M/FHS4uusfD3VP7M1IIOrPYXzGN3I5xHcfQdqv%2BG/8AgoX%2BzJfavF4W%2BIniXUfh1rkpwNF%2BJWjzaLLn0WS4Agkz22SNnt1FDwddq8FzL%2B67/gtfwGsxwqdqjcH2muX8X7r%2BUix8Sv8Agn9%2Byt8SfEDeOYfhyfC3ig5KeLfAd/NompK5/jM1m0fmn/roHHtxXCfEPwj%2B17%2ByR4J1H4j%2BHP219A8R%2BE9EtjNdWPxs0IeZDEOw1PTRHK7k4VQ8ErMzAAMSBX01pWraVrunxatomp295azpugubWZZI5F9VZSQR9K%2BV/wBoTQtO/at/4KB%2BEf2ZPFDSah4J8A%2BFm8X%2BK9Fz/ot5qLzCGyhuR/GFUmURnhlZs5BIr0MtnWxNZwryvThFyldKVox3S5tm21FapXfkc%2BZVVhcOpUYp1JyUY62TlLZu3RJOT0bstN7nzn4m/aW%2BMn7Xfxp%2BEf7SPiT9iTxXpXhj4da3Jdaj4w8MaJea6NRt2GSlvbyW0LvA5jXMgjZ4txIII%2Bb9MdA1uy8S6DZeI9NSdbfULSO5t1urZ4ZQjqGUPG4DI2CMqwBB4IBFWkRIkEcaBVUYVVGAB6Uy7hluLWW3gungd42VJ41UtGSMBgGBBI68gj1BrLM8ypY9U4U6Xs4U01Fczlo3fW/W7b006JIrLcungHUnUqc86jUpOyjqkoqyWySVur6ttnAfBT4mfEDxz41%2BIXhfxlpejJb%2BEvFSaZpl9o8kuLiN7OC72yrJ0lRbiNWKnaTnAGMVF4D/AGlvDnjdtb1OfwP4g0TQNDk1AS%2BLtajtU0y4SymeK4lSWOd2RFaOTmVI%2BEY4wKqfBP4HfE74KW2vQSfFq08VNrviC71i5utY8PJa3TzzRKoV5LZ1iIDRxjIhBCDbjgGvKvGP7MPxcl8OePtc0r4WeEvD6eINHsbe98FeBdSMsOuzJqAuL29dpba1T7RJbtLCiMvzMzb5cMCIjSwdSrJcyS92zvbsno%2B%2Bu%2Bi6nW5VoxWne/42PfvBPxt%2BFXxD8LXXjXwp41tJdMsbk299dXIa2%2BzSjadsizBGjJDoRuA3B1IyCCeoiliniWaGRXR1DI6nIYHoQe4r5F8b2MkHjzSvjL%2B0R4Iu9H8EeJfGl5qGsaBqmm/azm10w2mmJewwCRS0uZZcHcqtDbITu2ge5fsk%2BGvFXgf9mvwtovjnS30%2B/h0555NKMfOmxSSySxWYUdPIieOEL28rFZ4nC06VNTi93to/VXW7T36aoqnVlOXK1/X/AAT0qob/AE%2Bw1S0ew1OxhuYJBiSGeIOjD0IPBrwOL/gqN%2BxRaSLa%2BMvihqHhO5zh7bxl4Q1TSih9C1zbIn5Ma7fwn%2B2d%2ByH47Cjwd%2B1F8PtRd%2BkNr4wsmkHsU8zcD7EVnLBY2mrypyXyf5pP8ylXoyekl96IfGf7EP7GfxELv46/ZP8Ahvq0j/envvBVjJLn1DmLcD7g1wNx/wAEjf8Agna8z3Olfs2WWjSOcl/DWu6jpRz7fY7iLH4V9C6Trei69ai90PV7W9hPSa0uFkU/ipIq1ThjcdSVo1ZL/t6X5X/Q3U5W0Z82/wDDrn4Gabx4G%2BMvxu8MKPupoXxt11FX6CW5f9aP%2BHct/bcaP/wUC/aSswOg/wCFjQXOP/Aqzlz%2BNfSVFV/aOO6zv6qL/OLHzz7nzb/wwZ8ZrTjSP%2BCmvx2QDp9tn0K4P5tpgzR/wxN%2B02nEH/BUT4tAf9NNB8PMfz/s6vpKij%2B0MV3X/gMP/kA55f1b/I%2Bbf%2BGI/wBpSXi7/wCCoXxdYd/J0Xw9GfzGnUf8MBfFK9GNb/4KX/tAyeosdV0S2z/3zpZxX0lRR/aGL6Nf%2BAw/%2BQDnl/Vv8j5tP/BN6C6/5Df7dn7SV6D94f8AC1ntc/8AgJDFj8MUf8Oqf2XdU/5HzxL8VfFWfvf8JF8Z/EMob6hLxAa%2BkqKP7Rx3So16WX5RQc8%2B5876P/wSb/4Jy6Pdi/b9krwvqU4/5beIEm1Nj9TdySZ/GvTfBP7Ln7M3w0ZG%2BHP7O3gXQDH/AKttF8JWdqV%2BhiiWu7rL8R%2BOfBPg%2BIz%2BLfGGlaWgGS%2Bo6hHAMfV2FRPF42vpKpKXleT/AAv%2BhLnK2rNQAKAqgAAcAUV5F4u/b%2B/Yg8DBh4l/a0%2BHsMifft4PFdrPKP8AtnE7P%2Blcwf8Agpz%2By3rH7v4ZDxz45m/hh8F/DXWL7d9JBbCM/g9EcDjZq6pyt6NL73ZfiYuvQTs5L7/%2BHPoSivnv/hsj9oDxbx8I/wDgnb8TLwf8/HjPUdL8PxfXE1zJLj/tnn2pDq//AAVE8dfPYeDfgz8PbaXgjU9W1HxDeQj12wx2kJI/3yPaq%2Bo1Y/HKMfWUfyXMxe3g/hTfon%2Btj6Fql4g8SeHfCelya54q16y0yyhGZrzULpIYkHu7kAfia8H/AOGRf2mvHHHxq/4KFeNpYDybD4eaBp/h2MHuPNCT3GP%2B2oPoRVzQP%2BCaH7G2n6pH4i8Y/CyXxxqyHLat8Rtau9fmdv7xF9LJGD/uoBR7HBw%2BOrf/AAxf5y5V%2BAc9aW0ber/yuL4l/wCClX7H%2Bl6rJ4Z8EfEifx9rScLonw10a51%2Bd2/u7rJHjU/7zqKzz%2B0L%2B3F8Vj5XwP8A2MIfCllL/qfEHxh8TR2hUep06w8%2Bcn2d4/w7e8%2BG/C3hnwdpMeg%2BEPDlhpVjCMRWWm2aQRJ9EQAD8BV%2Bn7fCU/4dK/nJ3/CPKvxYclWXxSt6L9Xdnzsf2RP2jfiv%2B%2B/ab/bY8SS2knzSeF/hbYp4bsRn70bXCtLezJjj/XJn0659C%2BCv7If7NH7PEjXnwf8Ag1oukX8uftGtG3NxqE5PUyXcxeeTPP3nPU%2Btej155f8Axv1/RPilp3gjxJ8J9Q0/R9a1iTStH8Qz6jbN9qu1t5bj/j3Ri6xMkEu1ydxKHKKMGk8Ti68XBO0eytFfcrX%2BdyJLD0GpS3btd3f462/A9DrK8YeN/C/gLw1f%2BLvFeqi2sNNjD3sqRPKyAkAAJGGdmJYAKoJJIABzXhvxD%2BLXxK8KfEjxZ41HxAnh0vwd4l0izu/CUttB9lm0i8it0kuw4j87zRLP5gfzNqrCybOpPl3hj4bnUo7X4HfDfbpHjsaTfR%2BMIzbGJX1LTLxbrTdXuwoAkM9wFPn4PnJLKuTtwLp4JNc05aaf5u/ya113OKtmbjJwpwu9Vr1eqVu%2Bqejadl93174B%2BIvhH4m6I2v%2BDtSeeGOdoLmKe1kt57aZQC0M0MqrJDIAyko6hhkZHNeb/E79qzxFo3ji/wDhL8D/ANnjxd488TacyJfSJa/2Zo9k7osiibUboLGTsdWxCspwcYzxWp8CPDnjuPx/46%2BJHi7wPdeGIvE95p8keiXWpW9yWuLe0FvLdhoHZVEipBGASGK26syqWKj0%2BsH7GjVd1zL16%2Bdt7baNHUvrGIw6tLkd3d21tdrRS2vo9U7dtjwH4w3Hjy68efsw3PxP0zS7PX3%2BL16dUtdEu5J7WKX/AIQrxT8sckiIzDGOSo5zXv1eM/tQf8lv/Zx/7LNff%2BoV4or2asG7u51xXLFK9wooopDCiiigAooooAKKKKACiiigDxn9vD/kiGh/9lm%2BHH/qa6JU3jK1/bY8EeK9Q8R/D/U/Bvjvw/cXTzW/hjWIZNH1CziJ4ghu4/NilwP4pY1J7t6w/t4f8kQ0P/ss3w4/9TXRK9kjlilBMUittYqdpzgjqPrVwnyPZP1ObFYZYmKXPKDWqcXZ/k015NNHiMP7dPgfwjKunftG/DXxd8MbrcEa68SaQZ9Md/RNQtPNgI93ZPp0r1rwb488D/ETR08Q%2BAPGOl65YSfcvdI1CO5iP/A42IrUmhiuImgniV0dSro65DA9QQeoryXxj%2Bw1%2BzP4r1h/FWl/D/8A4RbXWyV1/wAD302jXit/eL2jIHP%2B%2BGq70Jbpx/FfjZ/izi5M5w/wyhVX95ezl98eaD%2BcYnrlUfEfhfwz4x0iXQPF3h2x1WwnGJrLUrRJ4ZB/tI4Kn8RXjn/CkP2u/hx83wi/aui8RWcf%2Bp0X4o%2BHkuyR6G%2BszBN%2BLK/494vjrdftQ%2BIf2KfiLHrGnaP4U8cwaDfLpdz4Z8QvNDMiQq/mxTSxxNbu48xFDcoQrbxnjWjh1VrwhGolzNK%2BqtdpXa30v0B5jUVKftcPNOMZO1oyi7Juykm43drJNK/Y8Y/ap%2BHv7JH7P/jqy8Afs5/DPx1ZfFbxBA91p3hn4IeIZtKkEIOPPu41Y2lvBnje8LZwflKgkL%2By1%2Byj/wAFIfhRq/in4/ax8UPA1x4y8by2i6xoPja0lvpPstpD5dssl/YmFUlVWZW8uF0barEkkgZ//BPfw/8AA97PwX8V/wBkK58TS654pSFficNdAukjt4Y5VuDcXE0ZdHa4VREsUgD/AHvL2qxX6Z8S/GjxxY/tFW3wi0az0GLT20y3nL639rt5b6R2mMiWsyxvC7RxxbmjPzfOvIHNe9jsXPBKeBpRu9pyqK8nyvVWu%2BWN0rK8m7JtrY%2BawMMLjJRx9Z8i5kqcaT9xOcdJcytzSs2pNxiotuKTZy4/aQ/a38A/L8YP2HdS1K3i4l1b4ZeKrTVVf/aW1ufs04HsAx/lUtp/wUf/AGWLO5TTPiX4j13wBfuwU2PxB8J32kFT7yzxCE/g5rsPDn7S3hDXvEk2l3ehalpmlmDUZtN8S6g0C2V8lhL5V2ykSGSMI2WDSIodAWUkA46HwP8AEj4e/GLSLyTwxdPe29vKIL221DS5rdlLIrruiuI0YqyMrK2CrA5BIrw5Ojb36VvOLa/B8y/E%2BjpVpVJKNDEqTd7KUU27b7ckn62emqbH%2BBfi/wDCb4oW4u/hp8T/AA94hiK7hJoetQXYx65idq6KvJ/HX7Cn7HPxIuDfeK/2bfCL3Zbcb%2Bx0eOzuSfXzrcJJn33Vzv8Aw7%2B8DaB8vwn%2BPnxe8FRL/qrTRPiJdXNsh/643/2hMfhUcmDltNr1jf8AGL/Q6vaZjD4qcZf4ZNfhKP6nvVFeDD4A/tseGefBf7eC6nFH/qrTxr8N7G63D0aaze2f8cE0fb/%2BCmPhz57nw58FPFcSdVs9S1XR5pB7CSO5QH/gWKPq0X8NSL%2BbX5r9Q%2Buzj8dGa9Epf%2Bky/Q93lijmjaGaNXRhhlYZBHoRXEeLP2Yv2a/HpY%2BOf2e/A%2Bsl/vnVfCdncE/jJGa8/wD%2BGiv2zNF58Vf8E%2B765jX/AFk3hb4k6XefiEuPszn6Yo/4bm1DTvk8WfsW/HPTWX/WND4Ij1BB9DZXExI/Crhh8XB3pv8A8Bkv0khPMME1791/ihJfnBhq3/BMD9gHVrk3v/DLXhmxmPSXRIpdPYfQ2rx4/Cqv/Dsr9mXTufBmp/Ebw2R0Og/FrXodv0DXbAfgKt/8PH/2Z7D5PF6%2BOfDr949e%2BGGtwbfqRaMo/E1Ja/8ABS/9hG6mFvL%2B0t4ftJD/AMs9T860YfUTRqRXRz52lvN/e/8A5Iy%2Bt5Nf44L5pfnylAf8E%2BrS140X9s79oKyA%2B6B8UJbnH/gVFL%2BtH/DD/wATrH/kB/8ABRD44Regvr/R7rH/AH3pwrr9N/bn/Yt1cD7D%2B1n8OCT0WTxpZRsfweUGtuy/af8A2atSAOnftDeBp89PJ8W2bZ/KWoeIzNfEn84L9aZtGpl0vhnH5TX/AMmebf8ADI/7T9vxp3/BSf4iqB0%2B0%2BFvD8387EUn/DLP7Yy8Rf8ABTLxgB/t/Dvw43/tnXrkHxt%2BDF0M2vxd8MSD/pnr9sf5PVhfit8LnGV%2BJOgH6axB/wDFVH1vGLeK/wDAI/8AyBoo4V7S/wDJv/tjxv8A4ZW/bBk4uP8Agpj4zI/6Z/D/AMOp/Kzpf%2BGP/wBpC641T/gpH8TnB6/ZNB0GD%2BVgcV7E/wAWvhXEMyfEzw%2Bo9W1mAf8As9VLn47/AAPswTefGXwpEB1MniK2X%2Bb0LFY17RX/AIBH/wCQBrCreX/k3/2x5P8A8MK%2BOLz5tb/4KDfHmc91tdf0u1U/9%2BtOBH50f8O8fDV5x4g/aw%2BPupqfvRz/ABbvYUb6rbeUK9Evv2rv2W9LBOpftJ%2BALcDr5/jGxTH5y1hap%2B31%2BxFpAJu/2s/h62OotvFlrMf/ACG7Var5pL4U/lBfpTMpVcth8VSPzmv/AJM5j/h19%2Bx/ffP4r8N%2BLfEEh%2B8/iD4l67dbvqrXmw/981qeHP8Agmv%2BwN4XlE2nfsj%2BBZ3Bzv1TQY75ifUm4D5NV3/4KafsMFzHYftAWGosDjbo%2Bl3t6fwEEL5pv/DxP4Halx4I8C/FHxMT93%2BwvhRrL7voZLZBVuWdNWbml6tfrEyWLydPScH6Wf5KR6n4R%2BCvwb8AFT4D%2BEvhnRCn3DpGg29tt%2BnloMV01eDH9tTx1rH7rwR%2Bwn8Z7%2BQ/cbVNGsNLiP1a6vFYfitH/C8P27td/deHv2F9L0jf9248VfFS0XZ7tHZQXGfoGrmlhsTJ3m185L/5Js1WYYRK0FJ%2BkJv/ANtSPeaK8G/s3/gph4l/dXfij4LeE4n6vY6ZqmsTxj2MklshP1Wk/wCGXv2pPFH7r4k/8FA/FXkN9%2B38E%2BEdL0fH%2B7I8dxKP%2B%2BzU/V6a%2BKrFel3%2BS/Uf1yrL4KE368sfzlf8D3quE%2BIn7UP7N3wkEg%2BJnx48I6HJHndbaj4gt45ifQRl97H2AJrgP%2BHc/wAAtc%2Bf4seJPiB4%2Bf8A6nP4h6lcx/8AfmOWOHHtsx7V3fw7/ZT/AGZvhKY5Phr8AfB%2BizR423Vh4et0nyO5l2b2PuSaOXBx3lKXokvzb/IOfMp7QjH1k5P7opL8Tgz/AMFE/gx4j%2BT4K%2BAfiL8R26CTwZ4EvHt89s3NysMGP9rzMe9H/C2/2%2BviF%2B7%2BH/7KfhjwVbtzHqXxH8aC4k2%2BptNNSTB9jMvocV73RR7ahH4Ka/7ebf4e6g%2BrYup/ErP0ilH8XzM4b4I%2BFvj74es9Quvj78WdF8S3t7LG9nbaB4ZOnW2mqA2%2BNC00skwYkHc5BG3pzWV8TvhX8X/GPxu8N%2BOvCvjLw5pui%2BH9LuEjj1LRp7y6F3PIiyyxhZ4o1P2dDGrtv2%2BbIdhyK7Dxz8VPhj8MbP8AtD4kfEXQ9Ag27hLrOrQ2qkexkYZry%2Bf9v34FaxK1n8ItN8W/EW5RirReBPCd1eRA%2B9yypbge5kxSg68pupGO/lp28l%2BJhicTleFgqFesk007Od5uzvsuab/8BO71j4C/DfxZrGl%2BJ/HejDW9X0iXzLTVLzEchxIJUV1gCJKiOqsqurBSoPXmuzrw8/E39uT4h/J4B/Zz8N%2BCLVuU1H4h%2BJvtU5U9/senhsN7NOvvikP7LPxn8f8A7z49ftf%2BK76FuW0XwLbReHrPB6ozxb7mRe3Mwz%2BlKUG0vaTWnz/BafiZwx7k39Uw05X6tKmn6udpP/wBnofxS%2BPvwT%2BCdn9t%2BLPxT0PQAV3Rw6jqKJNL/wBc4s75D7KpNedf8NfeNviN%2B4/Zo/Zl8WeKIn/1XiHxJF/YGklT0kWS7Xz5l9o4Tn19Ow%2BF37J37OXwZvP7W%2BHnwh0e01ItufWbmA3V%2B7dy11OXmJ%2Br16HU81COyb9dPwX%2BZfsc4xH8SrGku0FzS/8AA56L5QPBPjRJ43l%2BIP7McnxItdLg11vi/enU4tEmkktEl/4QrxTkRNKquy4xywBr3uvGf2oP%2BS3/ALOP/ZZr7/1CvFFezVk3d3PUhHkgo3bt1e79dtfkFFFFIoKKKKACiiigAooooA%2BXfgN%2B2N8bfiB8YvC0njbTPCy%2BA/iZrXi7TPBVnpem3MWq6XJot3LFDJeXD3LxXS3dvbXMxWOGA27eXHmfJkF34V/tT/F3Xf20vFfwN%2BLHibRPDOi2/ie503wBoF/8J9btLnxPbRaXb3ZuLXXp7safdyK7XZa3ggaQR2rkgBGcdF4O/YM8DeAviTN8RvC/xd8bwC2utZuvCmhPPp0th4Wn1a9W81KWxR7IuzTyhx/pLziFJpY4BCr4rfvv2WoPEXxy0X41%2BPfjf418RQ%2BFtaudX8I%2BDtSOmR6Tot9NZ3Fk08X2ayiupittd3UaC5uJlUTsQNyoygHGf8FC/i58KPDXg/wZ8KPEfxO8Paf4p8QfGH4ey6D4avdagi1DUkj8Z6M0jW9uziSYKqsWKKQApJxg12vi/wDZD%2BFPiHxLe%2BOvC9/4h8H%2BINQnaa%2B1rwfr81lJcSHktJHloZST13xnPesv9vD/AJIhof8A2Wb4cf8Aqa6JXTeIvit8T/B%2Bu3cWs/APVdR0aOdhaar4a1CG7lePPys9sxjkU46hd/41lWr06CTne3km/vsnb7jzcypZdVpRWMp80U9HyyfK7b3j70dOqa7XOc/4Qv8AbQ%2BH3PhL4veGPHdmvSz8ZaO2n3YUfwi6ssoze7Q/X1o/4ah8feDv3fxq/Za8Z6Mq/f1Lw2keu2Sr3YtanzlH%2B9CPeui0T9qP4HaverpF/wCNo9E1A8Np3iW2k06ZT6YuFQE/Qmu9tLy01C2S8sLqOeGQZjlhcMrD1BHBpUsRQrq9Oal6NP8A4K%2BaRwUMLCor5fjZadHKNWK9VP31/wCBo888J/te/sz%2BNUmGg/GfRPPgRmm0%2B9uDa3ahRk/6POElyPTbmvnf4afDzxX/AMFSrl/jp8dfEGo2HwWXVpV8CfDexmNuNcigkMf2/UXRt7hpEbbDkbdvBAyZPq/xz8J/hf8AE61%2BxfEb4d6Jrse3aF1bS4rjaPYupK/UV8EW/wAJNO/4J2fErVfA/wAUfEnxF8M/CzWdaefwT8S/BfiCf7Po4mO7%2Bz9StcSRgK5OyYxnfnJzk%2BX9Jk3tPY1vqv8AvGnJ/Ny68/Jf7e1re9y83LqeVnU81oSpPHRhVw93zcrlTTenK6nNzrk30vyOVudpWPtfwf8AswfBX4bSTyfCzwpJ4UFwm2W38NajPZ2zHCjebaNxAXAUAOULAcZwTT/EXwU1Lxd4807xJ4m%2BJ2q3ujaTrCarp/hySztVjhu0VljImSNZWjXezBGJO7b82Bg8X4X8NftN3Hh%2B18X/AAa/a48M%2BOdGvIhJpz%2BJvDMUsU8R6FbvTpI9/wDvbD756Vof8LR/bA8KfuvF/wCzDpHiBE5kvfBXjSMEj1EF9HCfw3k140qlZTfO3zdb7%2Be%2Bt/xPRjisDGko1cJUpx0fuw5od96MpJrr8NutjkNa/ZV%2BK1z8LbzwlrGo6ZqS6J4efS/DljpszJLqkb3IlunneUIkM08C%2BRtBKKZHYvggL6f8G/DfiyXxj4u%2BLPjLQbnR5/Et1aQ6fot5PFJNaWdrCUTzTC7x%2BY8sk74R2AVkG44rn/8Ahs/wZov/ACUv4S/Efwkq/wCsuNY8FXE0Cn/rrZiZD9c1s%2BFv2wP2XPGUgg0L49eFzMTgW15q0drNn08uYo%2BfbFOVec4tMzwlbhyliYuniUpL7MpKLbSaWk1CWibSVrerV3V%2BI3x8%2BKvw58ZXmlj9k3xj4i8Pw%2BX9k8Q%2BFr/T7lrjMas/%2BiyXEcqbWLL0OduR1rD/AOG/fgjo/wAvxJ8MeP8AwY3/AFNHw81KFB/20jhkjx77se9ezabqul6zarf6PqVvdwP92a2mWRD9CpIqxSU6VrOH3N/8E9aWHzFyc6OJ0eqUoRkvROMou3bf1Z5d4W/bb/ZB8ZMI9B/aU8GNIxwsF1r8FvKT6bJmVs/hXoWheKfDHiiD7V4a8R2GoxYz5ljeJMuPqhIql4p%2BGHw18cBl8a/DzQ9YDDDDVNJhuM/XzFNee67%2BwJ%2Bxh4gn%2B1XX7NvhW1lzkS6TpwsWB9QbYoR%2BFP8A2d919z/yJvnkOlKfzqQf5TR69RXiQ/YC%2BBumc%2BB/EvxC8MHt/wAI/wDEvV4gPoHuHA%2BmMUf8MdeKdO%2Bfwv8Ato/GOzYfdW81%2BzvkH1FzaOx/76o5KL2n96f6Nh9azaPxYVP/AA1Y/wDt0Ys9tqK7srO/iNvfWkU0Z6pLGGH5GvF/%2BGfv2s7D5dG/b11Z0H3V1j4faTcY%2BpjSIn86P%2BFY/t5aZzYftW%2BCtTx0Gp/DB4s/Uw3/APSj2UOk1%2BP%2BQf2jil8WEqfL2b/Koj0nUvg58ItZJOr/AAr8N3RPX7Todu%2Bf%2B%2BkNYl7%2Byj%2By3qRJ1H9mzwBcE9fO8HWL5/OKuR/sv/gozafLF40%2BC98B0abw7q0DH/vm7cfpR5//AAUch/5hfwSuP%2B3/AFiHP/kJ60XtY7VV/wCBMxljaEvjwlT/AMFRf/tzNyf9iD9jC5O6b9kj4ZknqR4F08H9Iart%2BwZ%2BxK5yf2Sfhz%2BHg6zH8o6y/wC2/wDgovD/AKz4cfBqb/rl4u1Vf/QrGj/hKf8AgoYvB%2BDfwnb3XxxqA/nYVfPil/y%2B/wDJ3/mZvEZc98HP/wAEGrH%2Bwf8AsTRnK/sk/Dg/73gyyP8AOOrdt%2BxT%2BxvZnda/smfDSMj%2BJfAmng/n5Nc//wAJP/wUOfhfg/8ACVPd/G%2Bon%2BVhR/a3/BRmb7ngP4LQf9dPFOrOf0sh/OhzxT3rf%2BTv/MFiMvW2Dn/4IR2lj%2BzD%2BzVpZB039nnwNb46eR4Ss0x%2BUVbumfDH4baIQdG%2BHuh2hHQ2ukwx4/75UV5du/4KOzf8sfglbf8AbXWJ8f8AjqUf2D/wUTv/AJbn4mfB7Twf4rPwjqc7D/v5eqD%2BVQ1Ul8VRf%2BBNmscbRj8GEqf%2BC4r/ANvR7YkaRII40CqBgKowBS14l/wqP9ubUPmv/wBsfw1YZ6ppfwrRsfRpr1v5Uf8ADOH7TOp/J4l/b28VGM9U0bwfo1n%2BTG3kYfmaz9lDrNfj/ka/2hi38OEqfN01%2Bc2e20V4kf2Lbi958Sftd/GrUC33lXxslkp%2Bgs4IiB%2BNU4f2FP2SNY1ebQ/E7654n1O3jWS6ttf%2BI2qXkyI3Rnia6wAfUrzRyUFvP7l/myXi81dksPGN/wCarH/22DPXfE3xN%2BG/gpWbxl8QdD0kL946nq0MGPrvYV55r37ff7Gnh65%2BxXH7Rfhq9nzgQaJeHUXJ9AtqJCT7Cq3wu/Zd/YIvYZr34W/Bb4b6sLK4MM91a6ZaX7QygAlTIwcq2D65r1nQfCvhfwrbfY/C/huw02HGPKsLNIV/JABR/s67v7l/mKnPOcRBShKik%2Bq56n43jFnkH/DdXgnWefhv8D/iv4tRv9XcaP8AD26ghb/treiBB%2BJo/wCF5fth%2BKPl8EfsVjS4pP8AVXvjbx7Z220erQ2i3L/hkGvbqzfEXjHwh4Qt/tfizxVpulxYz5uo30cC4%2BrkCj2lJbQ%2B9t/5Dnhcdy81fFuK/uxpwX3y53%2BJ5F/wiH/BQPxiNmvfGb4ceCojzjwx4VudVnHt5l5NGn4%2BV%2BBo/wCGMtU8UfvPjF%2B1X8UfE5f/AI%2BLK219NGs5R6eTp0cJx7FzW3rf7bv7KWiXf9nj426RqVz2tvD5k1ORj6BbRZCapf8ADWt/r/7v4Z/sz/EzXmf/AFFzP4fXS7Z/fzb6SI49wpo9vUXw2Xol/wAFnlSq8NOXLUxDrPt7SdX/AMlp3X4Gh4H/AGKP2UPh3ef2p4a%2BA3h5r7du/tLVLP7fdbvXz7oySZ991enwww28SwW8SoiKFREXAUDoAB0ryD/hLv24PFv/ACAfg54G8IRf89PE3iebUpsevlWcSJn2838aT/hRH7Rni3/kpP7XeqWsD8yWHgbw7a6YF9hPMJ5ce4IrOU5zd5Nv1OzD4ujQhyYDBTt5QjSj983F/wDkrZ65qGpadpFnJqOq38NrbxLmWe4lCIg9SxIArzHxD%2B2p%2BzZomotoWl/EeLxFqY4XSvCFpNq07N/dxaLIFP8AvEVRsf2L/wBmePWYX8c6Pc%2BMNYKmRJvHHiC41SWQDqwiuJGjx9EAru/h9rPwohmufBXw2h02z/s9iJdP06wFtGu1ijFAFVXAYbSUyAeCQaydSCkk2rs0dbOqslFulRvort1Jell7OF7epwf/AAvT9ovx0Nnwm/ZWv7CCTiPVviJrEWmIh9TbQ%2BdOR7FUP8qD8Fv2mviB8/xY/aabRbWT/WaP8N9HSyx7fbLkyzH6qE/w9V1/xN4b8K2R1LxR4gsdNth1uL%2B7SFB/wJyBXCXP7Vnwou53sfAf9seL7pGw0HhPRprxR9ZQBCB7l6yq4rDUHapNJ9r6/dq/wMK%2BFwlN2zDFym39nmUE/SFK0n98jkPjh4Ws/BXxH/Zl8KafqF/dw2PxgvY0udUvnubiT/iivFB3SSyEs7HPUmveK8L%2BPerXuu/FD9mjWNR0C60ue4%2BMN88mn3rIZYD/AMIV4o%2BVtjMufoTXulbxkpRTXU9%2BkqcaUVTVo2Vt9rab67d9e4UUUUzQKKKKACiiigAooooAKKKKAPGf28P%2BSIaH/wBlm%2BHH/qa6JXqVl438Hajqs2hWPinT5b63lMU9ml2nmo4OCCmc/pXlv7eH/JEND/7LN8OP/U10SvTfEvw78CeMAf8AhKPCGnXzEf624tFLj6PjcPwNcWN/tFQTwfI3fVT5kmvJwu079WmvImXN0Lut%2BHtA8TWTaZ4j0Oz1C2b71vfWySofqrAiuDu/2Uvg3HcvqHhDStQ8LXbnP2rwpq89gR/2zjYRn8UNXrr4OaH4dt3vfC3j/X/DsUQ3bIdXMtsnuY7jeoH0xXz/APEL9s/43zfE%2B5/Z0/Y/k0n4s%2BLbYFNZ1SXSjb6X4cOSN13dRSiNnBB/dIMkqy8MNh4sHHH5pjVhq%2BA95JNyjOlOMIt255NunUhC91dx3VlzP3Tyszll1KnGpjKSbbtHTmk32ja0m/JPRatpam1%2B038a/Ev7G1hp1tZ/tC6t4n17WpDF4V8AX3haLVNS1eUEDajWxhkCgkZkbjsMtgHz/wCIHhX/AIKr/tR%2BFY9G%2BKXhvSPAPgzU4THrnhrwRqFu2uXlsw%2BaJ7i6kaKHcD/AcjkMDyK7z9mn9nvx/wDArxrqfx2/aH8M678QPiVrcHkah4xtLm3uIrO2ySLWytsobaEZ5AGW9gdte4R/H74awuINfv73RZicGLW9Lntsf8CdNv613/6zcLZK3SwtfkqLepWU4pNP/l1GvFQS7SblKW6UVY8enlNbHQk8RWqUYS2pqb0X9%2BUua7fWMZKKWl5O7PMP2edU%2BB/7I3wxtPhH4d%2BCvj3wfo9nK8ss%2Br6JPfLLO%2BPMlee3MyksQOm0DHCgDFem%2BHP2kfgJ4rcQ6L8XNBaYnAt7jUEglz6eXKVb9K6TRfGXhHxIAfD3inTr7PT7HepJ/wCgk0zxH4E8EeMIzF4t8HaVqikYK6jp8c4x/wADU1CxONxreIhiI1uZ3cnrd9%2BaEmmezQwuOwlGNPD1IOEVZJw5bJdLwlb8DRtbu1vYFurK5jmicZWSJwyn6EdayvFPw6%2BH3jiMw%2BNfAmjawhGCuqaXFcAj0xIprkbr9kr4AvO15pPgU6POxyJ9A1K4sGU%2BoEEij8xUf/DPOu6V%2B88H/tEePbBl%2B5He6nDqEQ/4DcxOx/76p%2B1x0fipJ/4ZL8pJfmVUnjpQ5a2HjNeU4tfdOKKOpfsMfsoX921/afBqw0q4b/lv4euZ9NYfQ2skeKg/4Y%2BsdM/5Ev8AaI%2BK2hqv%2Bqgg8ZvdxJ7BLxJhj2rV/wCEI/ah0b59I%2BOug6vjpFrvg/y8/V7adP0UUf21%2B1tpHz3vgPwLrSjtp2vXVm7fhLA4H/fRo%2BuNfHSmvlf/ANJk/wAjy3gMmTvLASg%2B8YW/GjUj%2BRlf8KS/aj0n5fDf7Zt1PGv3IvEXgWwuuPQvB5DH65o/sz9vPSP3dt4s%2BFOtovR7zR9RsJG%2BpjmmUfgtav8AwuD416d83iD9lvWNg%2B8%2Bj%2BIrC7/JWkjY/lS/8NK29t/yGvgd8R7ED7zP4UadV/G3eQUf2hhV8Ta9YyX/ALaL2WUw%2BGvWp/8Ab9Zf%2BlwmjJ/4T79tjRfl1T9nTwZrOOr6L8QJIM/QXFmP1Io/4X5%2B0Vp/za/%2BxP4iCDq%2Bk%2BLNKuvyBmjY/kK1v%2BGt/gbB8ur65qumv3TU/DF/Bj6loMfrVmx/au/Zu1A7YfjT4fQ%2BlzfrDj6%2BZjFNZhgG7e1j/wCBJfm0NTw17U8za8pSov8A9KhFmB/w1lq9r8usfsm/Fy2I%2B8YvDdtcr%2BBguXJ/Kl/4bO8E2/8AyGvhB8U9OHc3nw21HA/FI2B/Cu3sfjd8GNTwdO%2BLvhi4z08nX7dv5PWtaeM/B9/g2PivTZs9PKvo2z%2BRreNehP4Zp%2BjT/JnVCGPn/Dx8Zf8AcOk//SaiPMv%2BG6f2dYeNT1bxLYt3W88A6wmPx%2BykUf8ADen7KC/6/wCKbQ/9fOgX8X/ocAr12KeGdd8EyuPVGBp1am3sM96Yim/%2B4T/SqeP/APDfX7Hw%2B/8AHXSk/wCusM6/zjFKP2%2Bf2OD/AM3BaB%2BMrj/2WvX6Qqp6gH60B7HP/wDn9S/8Fz/%2BWnkJ/b6/Y4HT9oHQT7LJIf5LR/w3x%2ByEf9X8btOk/wCuVpcP/wCgxmvXwAOgooD2Of8A/P6l/wCC5/8Ay08g/wCG8/2Vm/1HxIup/wDr28MalL/6Bbmj/huT4DT/APIIXxfqB7Cy%2BHurtn/vq2Fev1FcX1laDN1eRRD1kkC/zobS3B0M9triaa9KT/Wqc38LPi1o3xb0661TRPDHiPTYrWYRkeI/D1xp7S5Gd0azqpdfccZ4riPjlZXvhf4leGviHpGpSQxDW7SDWPL8TXRnkWRvJWCKwJNuytvBdhtf5SQCea9JvPiB4D0/P2/xtpEGOvnalEuPzauT1f4h/sqQeJY/Gmt%2BNfAH9tQIEh1SfULI3aKM4VZCd4AyeAe59axliMPD4pperS/UzxsY1cFGlVrw500%2BZtQ2d7pKT9LXs9btXPNP2hL7w8fHGsa7qdzbS6zJpOnP8NbqJ1aWWeO6/fwWb9TM7EK6odzI5ByoOIJvCd5qXjy98Dafot1beLJ/EOutd6mLKRQ%2Bm3do5SUz42mPeY0Rd2VaMAABcj0x/wBq/wDZl0tVs7X4saKwQYSHTy02B7CJT%2BlJ/wANYfCO6%2BXQIvEurt2XTPB2oSZ%2BhMIB/OsXmOA/5%2Bx%2BTT/K541XC5TVxEqk8XDV3aVm9d9U2%2BbpGVrqOmpjfAbT/Ed34%2Bg1u48KanpEOm%2BArHRdZj1DTZLZJdQglb/U7lAmRV3jzEypDJg%2BnVfFP4UeNviLq1tNonx88TeFNPitvLuLDw7b2Yad9xPmedNBI6nBAwOOM4zms7/hovULz5dC/Z5%2BI12x%2B6ZtCjtVP1NxMhH5Un/C0f2hNQ/5A/7MMkCt92TWfGFpDj3KwiU/hS%2Bv4Z/C2/SMn/7aj0aP9mRwX1aUp1E3d8saivt/Io2WiulKz1b3ssr/AIYt8A6p8vjz4pfEnxOh%2B9DrPj69WI/8AtmiUfgBWj4e/Yt/ZS8MT/a9P%2BAnhuefOftGqWAvZM%2Bu%2B43tn3zmpPtH7XuqfNFpvw80ZG6Ca5vb6RfwVYVJ/Gj/AIVr%2B0Zqvza5%2B0lDZK334dA8IW8eB6B7h5T%2BOBR9bnL4KM38lH/0qX6EQwOUqXNTy9yfeUI3%2B%2BrObO/0Tw74f8NWgsPDmhWenwDpDZWqRIPwUAVb3Lu2bhuIyBnnFea/8M02Wo/8jf8AGX4gayrf6yGbxM9tE/tstViGK3/h/wDA34V/C7Upta8D%2BEktL25g8m4vZLmWeaSPcG2tJK7MRkA9e1XCpi5zXNTUV5yu/uSt%2BJ7FCpjXJR9jGEP8abS8lGNvxRS%2BNfiD4geEdKj8TeELxpIbcjztPh0Q3JkIyzNLIHzFEEByVQtnGCchag%2BKPh/X/Fdxonivw3f2t1pdtbzSXlpc%2BI7mwtplYI0cpMAIlwV4D4XDHmrnxWl03U9Q0jwdqN9q8UOpTtHdjS7wQgxNiMCU4LFWZguFIOT1xWZ4607R7NrnSIPBuj3umaJp0Oo3Nhq1kbgOq7owIt7bYtqRsc7TkjGBnNeNjsxwtJ1%2BaTai4ppXbUrOe3blTct9E1ZvQwxGHq1alVN%2B6%2BW2r0ktdLJ2Xddexxt9rFrr%2Bsx%2BOU8OXcWs%2BIDomp%2BFZHs3eVNy%2BVNbeYB8qxruaRSQCJC2DurpfA3gnxfpHi3w9odzoF1Db%2BFZdTQ6y0sZgvLKdj5ESgNvL/6ktlcAwnk7hWlH4h8UpfzXtjrRET6vJpVvpvkRrFADEGgdQF3bhkM2SQQTgACnfCvUF/tSxt9M1CaaHUPDqXmpQT3bzPb3gZFbcXJKltzgjgZiPFebhs0w1THwpcsrylv7qv7zs7K97yi29VKEbXTV7Y0ctjGqpym27p6JK%2Bt9d95K990rLY6jxN8PfAnjW8s9Q8YeDtM1WbTt5sX1GySbyC%2B3cV3g4J2rz7CtSGG00%2B1EMEUcEMS4VEUKqKPYcAVi%2BMNC8Q%2BIp7ey0D4gz6KqKxu47O1hklmBxtIaQHy8c8gHOR0xzkJ8BfA924m8W3WreIZAchtc1WWZR/2zBWP/AMdr26%2BKzFYmcMHhVLo5yqQjFuy6RU6jttqo/dZnrezUKjlGCTe70V/XS7%2BZxf7TFxb3fxo/ZvubWdJY3%2BMt8UkjYMrD/hCvFHQjrXtNeJftHaZpujfGD9m3S9IsIbW2g%2BMl8sNvbxBEQf8ACFeKOAo4Fe2169P2ns17S3NZXte1%2Btr62vtfXubK4UUUVYBRRRQAUUUUAFFFFAHMeHPjb8GPGPxB1n4SeEfi74Y1XxX4cRX8Q%2BGdN1%2B2n1DS1bG1ri2RzJADuXBdRnI9aLX42/Bm%2B%2BKdz8C7L4ueGJvG9nYC9vPB0Wv27arBakKRO9oH85YyHT5yu35l55FfHH7PHh7xn4L%2BNXgPQ/EHwg8a6dqXwx8T/Em/8f8AiY%2BB9Ra11K21jWJJLQWtykBXUjevPa3rJbmUwi0bzxE8YWrvg74f/EGL9qTw98N5fhR4oh17Qf2nfEnj3WvGcvhq6TSpvDt5oWp29tImpmP7NPIVvbDT/sqyGZPszMYxHCr0Ae9/t4f8kQ0P/ss3w4/9TXRK9F8San4K%2BF%2Bn6l8SPGXjFdJ0q2gaXUbrVdT2WkC5BLnedqHsMeuAOa8w/bZ%2BD/7T/wAYfCui6Z8AfFPgJbbSfGHhvXtQ8OeMNNvYX1VtL16x1Mxx6pbSyCxDJaFcmxutzED5A25flD4L/swftSftKSXPxn%2BOvwp8M/E06b4213S7bRvHP7RmqJpltcaXq13psjR2Nv4Y8sxmW0kZQxIdCpZFJZBdPL8pxtWFXHSt7J80bRblezT5fejFaaPmutfhdtOTF4jMKMOXCU1Jy0bclGK9dHJ%2BkVfTdHtsfxr%2BJn7fOoSW/wABtC8QeHvhlpt/ET44u4Rbt4mKuVkgtYnUyLCSQTNgcK6nBJU%2ByeEfg18IPgX8ONP8AfC7QNJ0XTLBnuTp7qd9/KFKtI7kh5ZSed7ZJIHbFYVj4q/b90uyh03TP2U/gpb21vEsdvbwfHTVUSJFGFVVHhbCgAAADgVI/jT/AIKDyACT9lv4LsAcjd8d9WOD/wCEtXzud5DRzB4xYWThDEKCcJtzScHdSurSbvZ8rvTVuWMVGUr9GAjPD%2BzqYh89SN/eSS0e6itVFdNPee8m2lbv7jUb4zNLZXU1uto9rDBZ7gQ7OAzK%2BcknawHXjGas6dr1/qF9bG6EL2eotOIIPKO5UTOHLE4IYDpj%2BIV5fJ4g/b3l1FdWk/ZR%2BCxuUGFlPx31bI4I/wChX64J596g03Vf2/NLujdw/sx/B9yFZYUk%2BPerFYVY5KoP%2BEW4BIHr0Arw6OR8RYfHxlGvem53dpNLlTVm4tNawvT9nC0E%2BWTvZW9OVfDSptOOtu36%2But3ruj1PWvhB8LfELGTV/h/pMrnrMtkiSf99KA361m/8KJ8LWX/ACLPiLxHow7JpviCfZ/3xIzr%2BGK8Ym%2BOX7dnjL4y638Drb9mj4Z2Oq%2BGPDGk67dXlr8ftUjglg1K41K3hRT/AMIwSzq2lTlgygASR4LEsF6/TPFn/BRCwsY7Of8AZu%2BD90yA5nn%2BPGq735J5x4WA9unavVnkuXYnMpxq5dBRtdVU4Jyel01BU6kXvq5NO3mjglRoOCldX7Wa/HY7j/hX3xQ07jQ/jfdug%2B7Hq%2BjW9x%2BbII2/Wjb%2B0Lp/Ak8Iamq92W5tHb8vMGa47/hOP%2BChf/Rr/wAGf/D8at/8y9H/AAnH/BQv/o1/4M/%2BH41b/wCZeuj/AFew0P4FatT/AMNabX3T9ojL2a6N/f8A8Odj/wAJx8XrL/kJfBIzAfefTPEMEmfcLKIzR/wuWS241f4T%2BMbUj7zLo4nUfjC71x3/AAnH/BQv/o1/4M/%2BH41b/wCZeuX1b9o79u3R/jPoHwOuP2UPhI2qeIvC%2Br67Z3KfHXVPIjg065023mRyfDG4OzapAVAUghJMlSFDH9l5tT/hY%2Bf/AG/Toz/JU2HLPpL8j1r/AIaC%2BF0Xy6nq17YN3XUNGuocfUtHj9a2vCnxE8DeOWlTwh4ps9QaFQ0yW0wZkB6EjqK8z/4Tj/goX/0a/wDBn/w/Grf/ADL0xPF//BQKKVp4/wBlf4LK7j5nX466qCfqf%2BEWrfDUc9p117evTnDranKMvk1UlH70NKonq193/BPQ/HvjbUvDskFj4f0%2BO6uDNAbvzQ2yGGSURgnH8TEkKPbnioPiDrkNrcNYW/hSw1OSCwkvb0X%2BAqQJkYX5Gy5wcA4HHJFeT%2BLtL/bY8azRXmt/sh/BB7mOaJ/tf/C8NU81ljcMELHwtnacYI9CcVB4lg/4KL%2BICJIvgH8G7eSaxksb%2BRfjbqjGe2c52r/xTACMASA3ONx4NedjaXEXNiXTd1Jx5OVq6SUrq01ZNvkbbck1zWtZJxOM5Jp6r%2Bu5395pfwn1rVo4rj4H%2BHrqwa4t7e5vbrTbcuksyBkAQxkMo3KGO4EE8A8mqWj/AAp/Zw8W6pFZzfs9%2BG7eC%2Bill0u7XR7ZRdpGwDkKigp94HnqDXknxe%2BJP7eXwXsLTxxrf7Nfwil0W%2B8b%2BHdP/syy%2BNeqNN9tv9Qs9Jtm8xvDaqIVmuYZZBtLYRyueEPU%2BF7X/god4eu9Nln/AGd/gvcQ6PYTWmnRL8btXRlSRkJLt/wjJ3MBGoyAvc9%2BOWlhc8lio%2B2pxcObW8aVrXs7aXUOXWP2ufR6HLLA4Wo/fpQfrGH/AMieiS/shfs0ytv/AOFO6Qh9YY2j/wDQWFN/4ZB/Z2H%2Bq%2BHnl/8AXHVrtP8A0GUVxfi67/4KIeLIoI4fgZ8MdJMDMd%2BkftA6pGZM44bd4UbIGOPqaw/%2BEc/4KTR/6jwX4IH/AF0/aAvW/n4Pr0MVSnRruNLLo1I/zKVGN/8At2STVttyJZTll9MND/wGK/RHqH/DIvwCH3PCmoJ/1z8Uaiv8rij/AIZG%2BBPbw/rA%2BnjDVP8A5Jry/wDsb/gp0v8Aq/CHw9H%2B98c7tv8A3UK5f42/EL/gpN8B/gx4u%2BOPinwJ4DutL8GeGL/XdStbD403DXE1vaW0lxIkYfwmqlysZChmUZIyQOa5%2Bav/ANCp/wDgdD/5JE/2Vlv/AEDR%2B6J7x/wyN8CO/h3Vz9fF%2BqH/ANuaP%2BGRPgB0fwfev/108S6g38568v8A7K/4Khn73hP4c/h8bbof%2B6jR/Yn/AAU2b/W%2BD/h%2Bf9z463a/%2B6hRzV3tlT/8Dof/ACTD%2Byst/wCgaP3RPUP%2BGQP2cm/1vw0hl/676hcyf%2BhSmpbf9kj9mm1OY/gxobH/AKa2u/8A9CJryr/hGf8AgpC/M/gjwU3sn7Qt8n8vCFH/AAiP/BQt/wDX/DXwa/8A3crqyf8AoHhQUL650yqPzqUP/kGNZVlq2wsP/AYf/Is9ms/2cv2frDBtvgj4UBHRm8P27H8yhNa9j8MPhppeP7M%2BHmhW%2BOnkaRCmPyWvAv8AhBv265P%2BP34IeBbn1E/7UHiD%2BnhkVy/wRvf2m/j38GPCHxy0H9jv4aDTfGfhfT9d0631n9pPX2nit7u2juI0lVfDzIHCyAMFLDIOCRzW0ZZyv4eApR9asf8A2ygzeGEw9P4KMF6KK/KB9dImlaPDtRbe1jHYBUX%2BlUL34geA9Nz/AGj420i3x18/Uokx%2BbV8/wAHw2/ajgfzB%2Bw18CJG9bj46avKf/H/AAwa07LRv2v9OwbD9hz9n2EjvH8Y9QB/P/hFa2U%2BJ5bU6EPWdWX5QgdK9olZJL7z1a8%2BPXwasm2SfEjSpD2FvciUn6bM5qA/HzwBccaNFrWpN2XT/D13Jn6HywD%2BdcPZ%2BJv2%2BdPXbYfsn/BKAekPxz1Vf5eFqn/4Tj/goX/0a/8ABn/w/Grf/MvR9X4lqfFiKUf8NKUvxnVX4oLVe6%2B7/gnY/wDC3NavPk0T4M%2BLJ2PQ3VrDaqfxllBH5Uf8JZ8bdQ%2BTT/hHYWWekmqeI1OPqsMb/wA68m8A/tHft2/ETxX438IaP%2Byh8JIbjwH4oi0LVZLn466oEnnk0rT9TDxbfDBJTydRhUlgp3o4xgBm6j/hOP8AgoX/ANGv/Bn/AMPxq3/zL0f2VmdT%2BLj6n/bkKUP/AGyb/EOST3l%2BR2P9n/tA6l8l14l8LaUp72emz3Tj8ZJEB/Ktfwj4a8YaNdy3fin4iXGs%2BZHtSBtOht44jnO4BBuJ7csa83/4Tj/goX/0a/8ABn/w/Grf/MvR/wAJx/wUL/6Nf%2BDP/h%2BNW/8AmXrfD5Lh6FaNaVWrOS256s2v/AVywfzixqCTvd/ed743%2BGMfi%2B7fUofEuo2c7C3wkFxti/cyF0JCgNkFmxhhgnNRfEDwl/aOnvdG/n%2B2TRvaKlrtQXMDEkwSBg%2BVC7iWGG%2B8QRk159e%2BKf8Agojd3NvPH%2Bzl8IIFgcs8UPx41TbN7NnwqTj6Y61yw%2BOn7bfjL4x658Cbn9kn4StqXhrw1pGv3Ny/x51Zbd4NRuNTtoUQr4Z3F1bTJy4KhcSR4LEsF83M8kWLwuMhh6KhUqWSk56SdviSXNyuPNJK8dXrZxbT2pwoRqRlPVdVr/mvwse16r4UsL1tO8YaFpUy3bNC8htXXcUMe0NtkPllwpChyNwXgGoLn%2ByTdSalau1k5spZDIMRu9zDJhzJswJG7c5GOnWvPNP1L9v3TtKTRrf9mb4QLAibVWL4%2B6vGRyTkFPCwIPOOtTx67%2B3pFaJY/wDDJ3wUeKN96LL8dtWfDZzuy3hcknPfrXiV%2BF8zxy53yU5TjBzV24%2B1jFJuPJyyim3KUpJpycYaaM7KdfDUX7qvZu2iTs%2B976209LnoMQkGqo0lsU1GXVIp43ERy9uyLvBbH3VG8YJ6qK6bVLO6v7B7S01OW0kbGLiFVLKM843AjkcfjXkX/Ccf8FCh0/Ze%2BDP/AIfjVv8A5l6P%2BE4/4KF/9Gv/AAZ/8Pxq3/zL19FlXD1PLsPXozqOcau9rwe0rtuMk%2Bd8zvNOLdo9Y3eNXEupKMkrW%2Bf59NNtepD%2B0jaNY/GL9m20e7muDH8ZL4GadgXf/iivFHJIAGfwr2yvlf4n%2BJf2rdX/AGk/2dLX41/Bf4e%2BH9HHxc1Fo77wt8Tr7WLkz/8ACF%2BJtqGCfRbJQhBYl/NJBAGw5JX6or3qVKFGlGnBWUUkt3olZattv1bb7tvU523J3YUUUVoIKKKKACiiigAooooAKo%2BKPENh4S8Naj4r1UObXTLGa7uREuW8uNC7YHc4U1eqO7tLW/tZbG9t0mhmjaOaKVQyupGCpB4II4xQB83/ALGv7Uvx8%2BKnjDRvCvx/03wkj%2BN/hPp3xA8Lr4T0%2B5t/7Lt7iUJPpl009xMLqSETWm27jECyl5f3EWwbvK7D/go98Zfh18MD8afEvw/8GXXhvx38L/Ffjr4Z6BoWnXFjc2Utje2gt7TUrh55UuXvF1OGeSeKGDyXSZSk25Xr3n4AfsL%2BEP2dNVt9X8J/GXx1qcunaLp2gaGNfudOuBpXh%2ByeV4NGhK2SE2%2BZfnmkL3kgii33LeWuMbSf%2BCZ3wGtrTxB4e8SeKvFuv%2BHtW8Ja54Y0Pwxq2o2y2nhbSdXuEuL%2B105re3inQPJDblHnlnkhW2iSJ41XaQDpv2ZPi58Y/Efj7x/8C/j/AHfhnUPE3gW60yZdc8IaPcadY6hY39p5sTfZri5uXhlSWK5iYec4ZY45Bs3mNPYq87%2BAH7OelfAY%2BIdYuPiR4m8aeIvFeow3fiDxZ4wkszfXfkW0dtBFtsra2t44o4owFWOJcs8jtueR2b0SgAr5d%2BA37Y3xt%2BIHxi8LSeNtM8LL4D%2BJmteLtM8FWel6bcxarpcmi3csUMl5cPcvFdLd29tczFY4YDbt5ceZ8mQfUVeGeDv2DPA3gL4kzfEbwv8AF3xvALa61m68KaE8%2BnS2HhafVr1bzUpbFHsi7NPKHH%2BkvOIUmljgEKvigCnrnxU%2BOPw8/bU8I/DPWtR8A67pXxEbU0XSND8L3Vtrug6PYWs08Wo3d695LHdW4unitSgt4As2qR7GbD7sj/gnD%2B1P8Xf2j/AvnftF%2BJ9EsvHf/CM6Rqus/Dy3%2BE%2Bt%2BFL7w411HKZFkXV7uZ9RgMqPFHdQJHEWtpeXJwnW%2BBv2NP8AhAf2lPFn7S%2BnftKfEK7vfGk6nWfD2pRaHNYrbxW7w2tlDL/ZgvYLW3MjzRwpchfOeSR95ll8zY%2BDf7L9t8LfiLqnxf8AFvxp8ZfEHxTqWiW%2BjJrfjI6bG9np8Mskwt4YtNsrSBQ0srO7tG0jEIC%2B1FUAHqNFFFAHy7%2B01%2B2N8bfhX8U/GL/DzTPCzeDfhNovhvU/HdtrOm3M2o6xHql9cRTR2M0dzHHaNbWtv54aSK4E8koixCFMhm/bI/aV%2BJnwK/aF8HWdtq/h7wl4Gk8I6leeJfiL4j%2BEWs%2BIrbTZFvbBFtJb2wu7eDSIZI2llee7byv9GUnhK7b4z/sQ/Dj43fFI/EzXPHPirS4tRtdItfF/hrRrq1TTvFMGl3sl7YxXyy28kwWOaaXP2eWAyxyGKYyxhUE/x0/ZJuv2hPBMvwx8eftLfEOLwxqmj3Gk%2BLtB0xdFhi8SWU5cTQ3Mv9mmeENE7QFrSS3byz13/PQB55qX7Y3xttf2gLuWDTPC3/CsdP8AjNZ/DS5sH025Oty3lxpsE41Nbr7T5CxLeXMVt9lNuWMavP54OIa%2Boq8XuP2HfhrP8e/%2BF4Dxt4pjtH8Uw%2BKJ/AcdzaDQ5tei05dOi1Nk%2BzfafNW2SMCIXAt/MiSYwmUeZXtFABXz1%2B15%2B0T%2B0B4D%2BIEHwu/ZwtfCK6np/wANdd8b6zceMtNubqG6gsJLWKHTYRb3EBgkuHuJM3TGVYBCP3Exkwv0LXkf7S/7Hng/9pnULLWtR%2BJPi/wjqFv4f1Pw/faj4NvLWGbUtF1DyDeafMbm2nCxyNbQsJYhHcRFCYpo977gDmv2nPjv4yg/Yr/4a6%2BF/izwnoejab4LHjK8s/GvgO415rqFLVL22ggit9SsjHc%2BYECHMhMmwKobBrhr39rH9q34ffHXwH8NP2htc8H%2BCNIu/h94QvPFuu/8Kh17UdL1HxLqF7e22o6Vb6tFfrZ6QFaC0SD7YZmL3sf%2Bt4Q%2B4%2BPP2YfBfxH%2BGll8H/E/iTWW8Oad4o0nV7TSrUWkMaw6beW93a6YQluN1kJLWIMjZkdAUaQqxFVPjp%2By1B%2B0Frlsnjb43%2BNbfwks1jNqfw90w6ZHpWqyWtytzGZ5WsmvgGkSPekV1GjrGFK4Zw4B6pRRRQB4v/wUF%2BLvxw/Z%2B/ZH8afHr4BXvhSPWPBOhXeuXUHjDRbm%2Btru0tbaWZ7dEtrq2ZJXZEUSFyqAsSj8Crv7YPxP8XeBPB3hrwL8PdM0G4174j%2BMrXwppsvirTZL3TLVZ4Z7i5mubaOWFrlFtLW5xCJY/McopdQSRqftY/s42X7WnwI179n3Wvir4p8I6T4nspbHXL/wgunfa7mylieKa23X9pdRojq/LIiyAqNrrznO8b/srSfEr4dWfgjx5%2B0F461HU9J1PTtU0DxiYtHg1PSdSsySt5CINOS2Z5AzrIksEkLJI6eWFYqQDwST9u79q3xlof8Awhnwz0bwBbeNvCeheOtS8cXOs6RezabqT%2BHNYGlR21lHHdpJaC%2BbdOJpJLj7IoCGO5J3D62%2BF/j3TPip8NPDvxP0S2lhsvEmhWmqWkM%2BN6RXEKSorY7gOAfevEPEP/BNL4T6x4F0nwfo3xc%2BIGg3lnpviHTtd8T6LqViupeJLTXbtb3WIr15bN4wbm6UTeZbRwSwNkW7wKSp%2BgtD0TSPDOiWfhvw/p8VpYafax21laQLtSGGNQqIo7AKAAPQUAWq5r4xSfE2H4ZaxP8ABzWtB07xLFa79MvfE2lTX1jEVYFzLBBPbySjyw%2BFWWP5iuWxmulrC%2BJng7VPiD4D1PwXo3xB1nwrcajb%2BSniDw/DZyXlmCQWaJb23uLckgFT5kLjDHABwQAcF8BPij8YP2hv2I/h/wDGvw/c%2BGtH8a%2BOPhxomuNLeaVcXGl2d5eWUFxKfsy3CTSRKZH2x%2BerEBQZOrV4Be/tmftRaD8HNPXwHpHhW6g0f453fgTUPHng74Na7r%2BjyaFZ6JdXL6jaaJpt611GsWowppLkXMsSSwStnaVC%2BxeEv2Gp/Bn7JafseaT%2B1v8AFddBtfBCeFdK1%2BGfRLbWNNsY0SKJ4Li20uNVmSBBCspQnaS5zLiUaPg/9kbxN8PfghpPwN8A/tefEbRLXQrhF0nV9L0TwrDcWtglusEempCuifY1tk2h1It/ODHHm7MIAD0L4O%2BN9N%2BJXwn8NfEDSPHGkeJrfWdDtbtPEPh%2B0a3sdSLxKxuIInllaGNySyxtJIyAhWdiCT0lcv8ABX4Q%2BDfgH8KdB%2BDnw/iuV0jw9p6Wlm19ctNPKBktLLI3LyOxZ2buzE4HSuooAK8X/Y5%2BLvxw%2BJV18UvB3x%2BvfCl3rPw/%2BJjeHra%2B8H6Lc2FrcWraNpWpIWiubq5cyK2oPGXDhXEasETJFe0V4v8AAn9jzWPgT408X%2BNbT9rL4leI5PHHiuHxBr1j4htPDoge7S1t7MhPsmkQOkb29pbRMA%2BcQhlKuzswB4Z4I/b/APir4N%2BG/wAYviJ8XoPDVt4u8NaX4g1jRPhg3wo1rwzfX8dlfvp9leNqV/dSRatbyRrp6yXNrDsi%2B0xcgbEPvP7Mnxc%2BMfiPx94/%2BBfx/u/DOoeJvAt1pky654Q0e406x1Cxv7TzYm%2BzXFzcvDKksVzEw85wyxxyDZvMaZmufsEeBviJqviDVfj18YPHPxDOueCdX8JWkHiSfTrZNF0nU5IHvYbT%2BzbK1PmObS0xPMZZk%2BzJtdSXLdj8AP2c9K%2BAx8Q6xcfEjxN408ReK9Rhu/EHizxhJZm%2Bu/Ito7aCLbZW1tbxxRxRgKscS5Z5Hbc8jswB6JRRRQB4v8Ffi78cNa/a4%2BLPwF%2BKl74UutH8MaF4e1zwhP4f0W5tbmK01K51mH7PePNdTLcSoumRN5kaQLmVxsOAa5/xJ8RP2lvCv7fngv4QaZ4q%2BHOq%2BHPF2kaxrHiGzg%2BH15b6zpeg6ciRW%2B/Uf7VeKWQ6hqNuqq1oqsjXRVVKk10Gi/seaxoH7RfjD9pLTv2sviUNQ8Z6VZaZe6E9p4dOn2dpZz3U1pFAP7I88eUb26UNJNIzLMd5cqhXtNL%2BBfhXS/jh4l/aBTVtTm1/xJ4Y03QG8%2BaMw6dZWUt3Mi2yiMFGeW9leRmL7ykQ4EagAHjv/BOH9qf4u/tH%2BBfO/aL8T6JZeO/%2BEZ0jVdZ%2BHlv8J9b8KX3hxrqOUyLIur3cz6jAZUeKO6gSOItbS8uThPpavLvg3%2By/bfC34i6p8X/Fvxp8ZfEHxTqWiW%2BjJrfjI6bG9np8Mskwt4YtNsrSBQ0srO7tG0jEIC%2B1FUeo0AFeD/ta/Gb9oL4DeJPC/i7wZ4g8EXvh7WvF2heHbbwLfeHLyTXNcub2%2BWG5a0vY71YoTBatJdbGtJh5dpMzvGgLx%2B8V4z8Sf2OV%2BIn7TuiftTW/7R3xA0LVfD%2BhjStM0DTIdEuNLggebzblo0vtMuJoZbkCOOaWKVHaOGNFZAOQDhf22P2ofjN8LfGXiCz%2BDXhzwddJ8J/hTdfErxMPFmlT3M2owq11DFp9hJFcQixnlhtdQU3bidU3Rr5Lq7kVY/22fjFqHxrOvaVp3hc/CuL4vWHw6exl0u5/tyW5u9Mt7hdUW5%2B0%2BSkS3l1FbG1NuWMavN54OIa7j46fsI%2BCv2g2im8bfGDxxbTXfhe78MeL59IuNOgbxXoVzMJZNMvh9iKrF99Fkthbzok0oWUeY5Nqf9hz4aTfHr/hd6%2BNfFEVo3imHxRP4CiubQaHNr0OnLp0Wpsn2b7SJVtkjAiFwLfzIkmMJlHmUAe0UUUUAFFFFABRRRQAUUUUAFFFFABRRRQAUUUUAFFFFABRRRQAUUUUAFFFFABRRRQAUUUUAFFFFABRRRQAUUUUAFFFFABRRRQAUUUUAFFFFABRRRQAUUUUAFFFFABRRRQAUUUUAFFFFABRRRQAUUUUAFFFFAH/2Q%3D%3D\">"
      ]
     },
     "metadata": {},
     "output_type": "display_data"
    }
   ],
   "source": [
    "try:\n",
    "    display_html(HTML(anim.to_html5_video()))\n",
    "# In case the build-in renderers are unaviable, fall back to\n",
    "# a custom one, that doesn't require external libraries\n",
    "except RuntimeError:\n",
    "    anim.save(None, writer=matplotlib_utils.SimpleMovieWriter(0.001))"
   ]
  },
  {
   "cell_type": "markdown",
   "metadata": {},
   "source": [
    "# Logistic regression\n",
    "Your assignment is to implement the logistic regression\n",
    "\n",
    "Plan:\n",
    "* Use a shared variable for weights\n",
    "* Use a matrix placeholder for `X`\n",
    " \n",
    "We shall train on a two-class MNIST dataset\n",
    "* please note that target `y` are `{0,1}` and not `{-1,1}` as in some formulae"
   ]
  },
  {
   "cell_type": "code",
   "execution_count": 5,
   "metadata": {},
   "outputs": [
    {
     "name": "stdout",
     "output_type": "stream",
     "text": [
      "y [shape - (360,)]: [0 1 0 1 0 1 0 0 1 1]\n",
      "X [shape - (360, 64)]:\n"
     ]
    }
   ],
   "source": [
    "from sklearn.datasets import load_digits\n",
    "mnist = load_digits(2)\n",
    "\n",
    "X, y = mnist.data, mnist.target\n",
    "\n",
    "print(\"y [shape - %s]:\" % (str(y.shape)), y[:10])\n",
    "print(\"X [shape - %s]:\" % (str(X.shape)))"
   ]
  },
  {
   "cell_type": "code",
   "execution_count": 10,
   "metadata": {},
   "outputs": [
    {
     "name": "stdout",
     "output_type": "stream",
     "text": [
      "X:\n",
      " [[  0.   0.   5.  13.   9.   1.   0.   0.   0.   0.]\n",
      " [  0.   0.   0.  12.  13.   5.   0.   0.   0.   0.]\n",
      " [  0.   0.   1.   9.  15.  11.   0.   0.   0.   0.]]\n",
      "y:\n",
      " [0 1 0 1 0 1 0 0 1 1]\n"
     ]
    },
    {
     "data": {
      "image/png": "[encoded data removed]",
      "text/plain": [
       "<matplotlib.figure.Figure at 0x7f146496ab70>"
      ]
     },
     "metadata": {},
     "output_type": "display_data"
    }
   ],
   "source": [
    "print('X:\\n',X[:3,:10])\n",
    "print('y:\\n',y[:10])\n",
    "plt.imshow(X[0].reshape([8,8]));"
   ]
  },
  {
   "cell_type": "markdown",
   "metadata": {},
   "source": [
    "It's your turn now!\n",
    "Just a small reminder of the relevant math:\n",
    "\n",
    "$$\n",
    "P(y=1|X) = \\sigma(X \\cdot W + b)\n",
    "$$\n",
    "$$\n",
    "\\text{loss} = -\\log\\left(P\\left(y_\\text{predicted} = 1\\right)\\right)\\cdot y_\\text{true} - \\log\\left(1 - P\\left(y_\\text{predicted} = 1\\right)\\right)\\cdot\\left(1 - y_\\text{true}\\right)\n",
    "$$\n",
    "\n",
    "$\\sigma(x)$ is available via `tf.nn.sigmoid` and matrix multiplication via `tf.matmul`"
   ]
  },
  {
   "cell_type": "code",
   "execution_count": 11,
   "metadata": {
    "collapsed": true
   },
   "outputs": [],
   "source": [
    "from sklearn.model_selection import train_test_split\n",
    "X_train, X_test, y_train, y_test = train_test_split(\n",
    "    X, y, random_state=42)"
   ]
  },
  {
   "cell_type": "markdown",
   "metadata": {},
   "source": [
    "__Your code goes here.__ For the training and testing scaffolding to work, please stick to the names in comments."
   ]
  },
  {
   "cell_type": "code",
   "execution_count": 50,
   "metadata": {
    "collapsed": true
   },
   "outputs": [],
   "source": [
    "# Model parameters - weights and bias\n",
    "# weights = tf.Variable(...) shape should be (X.shape[1], 1)\n",
    "# b = tf.Variable(...)\n",
    "weights = tf.Variable(np.zeros(shape=(X.shape[1], 1)), dtype=tf.float32) # shape should be (X.shape[1], 1)\n",
    "b = tf.Variable(0.0, dtype=tf.float32)\n",
    "s.run(tf.global_variables_initializer())"
   ]
  },
  {
   "cell_type": "code",
   "execution_count": 51,
   "metadata": {},
   "outputs": [],
   "source": [
    "# Placeholders for the input data\n",
    "# input_X = tf.placeholder(...)\n",
    "# input_y = tf.placeholder(...)\n",
    "input_X = tf.placeholder(tf.float32, (None, None))\n",
    "input_y = tf.placeholder(tf.float32, (None,))"
   ]
  },
  {
   "cell_type": "code",
   "execution_count": 52,
   "metadata": {},
   "outputs": [],
   "source": [
    "# The model code\n",
    "\n",
    "# Compute a vector of predictions, resulting shape should be [input_X.shape[0],]\n",
    "# This is 1D, if you have extra dimensions, you can  get rid of them with tf.squeeze .\n",
    "# Don't forget the sigmoid.\n",
    "# predicted_y = <predicted probabilities for input_X>\n",
    "predicted_y = tf.squeeze(tf.nn.sigmoid(tf.matmul(input_X, weights) + b))\n",
    "\n",
    "# Loss. Should be a scalar number - average loss over all the objects\n",
    "# tf.reduce_mean is your friend here\n",
    "#loss = <logistic loss (scalar, mean over sample)>\n",
    "loss = - tf.reduce_mean(input_y * tf.log(predicted_y) + (1-input_y) * tf.log(1-predicted_y))\n",
    "\n",
    "# See above for an example. tf.train.*Optimizer\n",
    "# optimizer = <optimizer that minimizes loss>\n",
    "optimizer = tf.train.AdamOptimizer(0.01).minimize(loss)"
   ]
  },
  {
   "cell_type": "markdown",
   "metadata": {},
   "source": [
    "A test to help with the debugging"
   ]
  },
  {
   "cell_type": "code",
   "execution_count": 53,
   "metadata": {},
   "outputs": [],
   "source": [
    "validation_weights = 1e-3 * np.fromiter(map(lambda x:\n",
    "        s.run(weird_psychotic_function, {my_scalar:x, my_vector:[1, 0.1, 2]}),\n",
    "                                   0.15 * np.arange(1, X.shape[1] + 1)),\n",
    "                                   count=X.shape[1], dtype=np.float32)[:, np.newaxis]\n",
    "# Compute predictions for given weights and bias\n",
    "prediction_validation = s.run(\n",
    "    predicted_y, {\n",
    "    input_X: X,\n",
    "    weights: validation_weights,\n",
    "    b: 1e-1})\n",
    "\n",
    "# Load the reference values for the predictions\n",
    "validation_true_values = np.loadtxt(\"validation_predictons.txt\")\n",
    "\n",
    "assert prediction_validation.shape == (X.shape[0],),\\\n",
    "       \"Predictions must be a 1D array with length equal to the number \" \\\n",
    "       \"of examples in input_X\"\n",
    "assert np.allclose(validation_true_values, prediction_validation)\n",
    "loss_validation = s.run(\n",
    "        loss, {\n",
    "            input_X: X[:100],\n",
    "            input_y: y[-100:],\n",
    "            weights: validation_weights+1.21e-3,\n",
    "            b: -1e-1})\n",
    "assert np.allclose(loss_validation, 0.728689)"
   ]
  },
  {
   "cell_type": "code",
   "execution_count": 54,
   "metadata": {},
   "outputs": [
    {
     "name": "stdout",
     "output_type": "stream",
     "text": [
      "loss at iter 0:0.3334\n",
      "train auc: 1.0\n",
      "test auc: 1.0\n",
      "loss at iter 1:0.1579\n",
      "train auc: 1.0\n",
      "test auc: 1.0\n",
      "loss at iter 2:0.0975\n",
      "train auc: 1.0\n",
      "test auc: 1.0\n",
      "loss at iter 3:0.0577\n",
      "train auc: 1.0\n",
      "test auc: 1.0\n",
      "loss at iter 4:0.0374\n",
      "train auc: 1.0\n",
      "test auc: 1.0\n"
     ]
    }
   ],
   "source": [
    "from sklearn.metrics import roc_auc_score\n",
    "s.run(tf.global_variables_initializer())\n",
    "for i in range(5):\n",
    "    s.run(optimizer, {input_X: X_train, input_y: y_train})\n",
    "    loss_i = s.run(loss, {input_X: X_train, input_y: y_train})\n",
    "    print(\"loss at iter %i:%.4f\" % (i, loss_i))\n",
    "    print(\"train auc:\", roc_auc_score(y_train, s.run(predicted_y, {input_X:X_train})))\n",
    "    print(\"test auc:\", roc_auc_score(y_test, s.run(predicted_y, {input_X:X_test})))"
   ]
  },
  {
   "cell_type": "markdown",
   "metadata": {},
   "source": [
    "### Coursera submission"
   ]
  },
  {
   "cell_type": "code",
   "execution_count": 55,
   "metadata": {
    "collapsed": true
   },
   "outputs": [],
   "source": [
    "grade_submitter = grading.Grader(\"\")"
   ]
  },
  {
   "cell_type": "code",
   "execution_count": 56,
   "metadata": {
    "collapsed": true
   },
   "outputs": [],
   "source": [
    "test_weights = 1e-3 * np.fromiter(map(lambda x:\n",
    "    s.run(weird_psychotic_function, {my_scalar:x, my_vector:[1, 2, 3]}),\n",
    "                               0.1 * np.arange(1, X.shape[1] + 1)),\n",
    "                               count=X.shape[1], dtype=np.float32)[:, np.newaxis]"
   ]
  },
  {
   "cell_type": "markdown",
   "metadata": {},
   "source": [
    "First, test prediction and loss computation. This part doesn't require a fitted model."
   ]
  },
  {
   "cell_type": "code",
   "execution_count": 57,
   "metadata": {
    "collapsed": true
   },
   "outputs": [],
   "source": [
    "prediction_test = s.run(\n",
    "    predicted_y, {\n",
    "    input_X: X,\n",
    "    weights: test_weights,\n",
    "    b: 1e-1})"
   ]
  },
  {
   "cell_type": "code",
   "execution_count": 58,
   "metadata": {
    "collapsed": true
   },
   "outputs": [],
   "source": [
    "assert prediction_test.shape == (X.shape[0],),\\\n",
    "       \"Predictions must be a 1D array with length equal to the number \" \\\n",
    "       \"of examples in X_test\""
   ]
  },
  {
   "cell_type": "code",
   "execution_count": 59,
   "metadata": {
    "collapsed": true
   },
   "outputs": [],
   "source": [
    "grade_submitter.set_answer(\"0ENlN\", prediction_test)"
   ]
  },
  {
   "cell_type": "code",
   "execution_count": 60,
   "metadata": {
    "collapsed": true
   },
   "outputs": [],
   "source": [
    "loss_test = s.run(\n",
    "    loss, {\n",
    "        input_X: X[:100],\n",
    "        input_y: y[-100:],\n",
    "        weights: test_weights+1.21e-3,\n",
    "        b: -1e-1})\n",
    "# Yes, the X/y indices mistmach is intentional"
   ]
  },
  {
   "cell_type": "code",
   "execution_count": 61,
   "metadata": {
    "collapsed": true
   },
   "outputs": [],
   "source": [
    "grade_submitter.set_answer(\"mMVpM\", loss_test)"
   ]
  },
  {
   "cell_type": "code",
   "execution_count": 62,
   "metadata": {
    "collapsed": true
   },
   "outputs": [],
   "source": [
    "grade_submitter.set_answer(\"D16Rc\", roc_auc_score(y_test, s.run(predicted_y, {input_X:X_test})))"
   ]
  },
  {
   "cell_type": "markdown",
   "metadata": {},
   "source": [
    "Please use the credentials obtained from the Coursera assignment page."
   ]
  },
  {
   "cell_type": "code",
   "execution_count": 63,
   "metadata": {},
   "outputs": [
    {
     "name": "stdout",
     "output_type": "stream",
     "text": [
      "Submitted to Coursera platform. See results on assignment page!\n"
     ]
    }
   ],
   "source": [
    "grade_submitter.submit(<email>, <token>)"
   ]
  }
 ],
 "metadata": {
  "kernelspec": {
   "display_name": "Python 3",
   "language": "python",
   "name": "python3"
  },
  "language_info": {
   "codemirror_mode": {
    "name": "ipython",
    "version": 3
   },
   "file_extension": ".py",
   "mimetype": "text/x-python",
   "name": "python",
   "nbconvert_exporter": "python",
   "pygments_lexer": "ipython3",
   "version": "3.6.8"
  }
 },
 "nbformat": 4,
 "nbformat_minor": 1
}
