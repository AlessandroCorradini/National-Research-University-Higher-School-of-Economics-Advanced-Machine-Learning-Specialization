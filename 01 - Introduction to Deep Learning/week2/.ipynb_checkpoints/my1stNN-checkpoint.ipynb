{
 "cells": [
  {
   "cell_type": "markdown",
   "metadata": {},
   "source": [
    "## Goals:\n",
    "\n",
    "1. Code a deep (with at least 1 hidden layer) neural network in tensorflow\n",
    "2. Fit it on the train dataset, estimate quality on the test dataset\n",
    "3. Plot the train loss and test loss as a function of the training iteration number\n",
    "\n",
    "## Long description\n",
    "\n",
    "Your ultimate task for this part is to build your first neural network [almost] from scratch and pure tensorflow. This time you will have the same digit recognition problem as for the logistic regression assignment, but at a larger scale:\n",
    "\n",
    "- images are now 28x28\n",
    "- 10 different digits\n",
    "- 50k samples\n",
    "\n",
    "Note that you are not required to build 152-layer monsters here. A 2-layer (one hidden, one output) NN should already have an edge over logistic regression.\n",
    "\n",
    "**[bonus score]**\n",
    "If you've already beaten logistic regression with a two-layer net, but enthusiasm still ain't gone, you can try improving the test accuracy even further! The milestones would be 95%/97.5%/98.5% accuracy on the test set."
   ]
  },
  {
   "cell_type": "code",
   "execution_count": 1,
   "metadata": {},
   "outputs": [
    {
     "name": "stderr",
     "output_type": "stream",
     "text": [
      "Using TensorFlow backend.\n"
     ]
    },
    {
     "name": "stdout",
     "output_type": "stream",
     "text": [
      "(50000, 28, 28) (50000,)\n"
     ]
    },
    {
     "data": {
      "image/png": "[encoded data removed]",
      "text/plain": [
       "<matplotlib.figure.Figure at 0x7f31934dceb8>"
      ]
     },
     "metadata": {},
     "output_type": "display_data"
    }
   ],
   "source": [
    "from preprocessed_mnist import load_dataset\n",
    "X_train, y_train, X_val, y_val, X_test, y_test = load_dataset()\n",
    "print(X_train.shape, y_train.shape)\n",
    "import matplotlib.pyplot as plt\n",
    "%matplotlib inline\n",
    "plt.imshow(X_train[0], cmap=\"Greys\");"
   ]
  },
  {
   "cell_type": "markdown",
   "metadata": {
    "collapsed": true
   },
   "source": [
    "## SPOILERS!\n",
    "\n",
    "### Recommended pipeline:\n",
    "\n",
    "- Begin with logistic regression from the previous assignment to classify some number against others (e.g. zero vs nonzero)\n",
    "- Generalize it to multiclass logistic regression. Either try to remember the week 1 lectures or google it.\n",
    "- Instead of a weights vector you'll have to use a matrix with `shape=(features, classes)`\n",
    "- softmax (exp over sum of exps) can implemented manually or as `tf.nn.softmax`\n",
    "- probably better to use STOCHASTIC gradient descent (minibatch)\n",
    "- in which case sample should probably be shuffled (or use random subsamples on each iteration)\n",
    "- Add a hidden layer. Now your logistic regression uses hidden neurons instead of inputs.\n",
    "- Hidden layer uses the same math as output layer (ex-logistic regression), but uses some nonlinearity (sigmoid) instead of softmax\n",
    "- You need to train both layers, not just output layer :)\n",
    "- Do not initialize layers with zeros (due to symmetry effects). A gaussian noize with small sigma will do.\n",
    "- 50 hidden neurons and a sigmoid nonlinearity will do for a start. Many ways to improve here.\n",
    "- In an ideal case this totals to 2 .dot's, 1 softmax and 1 sigmoid\n",
    "\n",
    "### Review criteria\n",
    "1. The solution runs in the course environment. This is a must, for sake of the fellow learner, make you work not require additional effort to assess.\n",
    "2. The solution runs in less than 5 minutes on the Coursera server (or a single CPU). There is no need to overengineer.\n",
    "3. You correctly implement an MLP in tensorflow. Usage of external high-level libraries such as keras is forbidden.\n",
    "4. The solution has a clear training part and an evaluation part where the accuracy on the test dataset is assessed.\n",
    "5. You don't use the test dataset for training in any way. Do not use any datasets other than the one provided via week2/mnist.py\n",
    "6. You have a plot with train loss and test losses as a function of the iteration number\n",
    "7. To pass, the accuracy must be at least 95%, to get the full points, 98%"
   ]
  },
  {
   "cell_type": "code",
   "execution_count": 2,
   "metadata": {
    "collapsed": true
   },
   "outputs": [],
   "source": [
    "import tensorflow as tf\n",
    "import numpy as np\n",
    "\n",
    "tf.set_random_seed(123)"
   ]
  },
  {
   "cell_type": "markdown",
   "metadata": {},
   "source": [
    "## Flatten the samples"
   ]
  },
  {
   "cell_type": "code",
   "execution_count": 3,
   "metadata": {},
   "outputs": [],
   "source": [
    "X_train_flatten = X_train.reshape(X_train.shape[0], -1)\n",
    "X_test_flatten = X_test.reshape(X_test.shape[0], -1)\n",
    "\n",
    "(m, n_x) = X_train_flatten.shape\n",
    "n_y = 10 # 10 classes\n",
    "\n",
    "y_train = np.eye(n_y)[y_train]\n",
    "y_test = np.eye(n_y)[y_test]"
   ]
  },
  {
   "cell_type": "markdown",
   "metadata": {},
   "source": [
    "## Create Placeholders and Variables"
   ]
  },
  {
   "cell_type": "code",
   "execution_count": 4,
   "metadata": {},
   "outputs": [],
   "source": [
    "X = tf.placeholder(tf.float32, shape=(None, n_x))\n",
    "Y = tf.placeholder(tf.float32, shape=(None, n_y))\n",
    "\n",
    "W1 = tf.get_variable(\"W1\",  [n_x, 128], initializer=tf.contrib.layers.xavier_initializer())\n",
    "b1 = tf.get_variable(\"b1\",  [128], initializer=tf.zeros_initializer())\n",
    "W2 = tf.get_variable(\"W2\",  [128, 128], initializer=tf.contrib.layers.xavier_initializer())\n",
    "b2 = tf.get_variable(\"b2\",  [128], initializer=tf.zeros_initializer())\n",
    "W3 = tf.get_variable(\"W3\", [128, n_y], initializer=tf.contrib.layers.xavier_initializer())\n",
    "b3 = tf.get_variable(\"b3\",  [n_y], initializer=tf.zeros_initializer())"
   ]
  },
  {
   "cell_type": "markdown",
   "metadata": {},
   "source": [
    "## Build Neural Network "
   ]
  },
  {
   "cell_type": "code",
   "execution_count": 5,
   "metadata": {},
   "outputs": [],
   "source": [
    "Z1 = tf.matmul(X, W1) + b1\n",
    "A1 = tf.nn.relu(Z1)\n",
    "Z2 = tf.matmul(A1, W2) + b2\n",
    "A2 = tf.nn.relu(Z2)\n",
    "Z3 = tf.matmul(A2, W3) + b3\n",
    "A3 = tf.nn.sigmoid(Z3)"
   ]
  },
  {
   "cell_type": "markdown",
   "metadata": {},
   "source": [
    "## Cost Function with Adam Optimizer"
   ]
  },
  {
   "cell_type": "code",
   "execution_count": 6,
   "metadata": {
    "collapsed": true
   },
   "outputs": [],
   "source": [
    "cost = tf.reduce_mean(tf.nn.softmax_cross_entropy_with_logits(labels=Y, logits=A3))\n",
    "optimizer = tf.train.AdamOptimizer().minimize(cost)"
   ]
  },
  {
   "cell_type": "markdown",
   "metadata": {},
   "source": [
    "## Model Training and Evaluation"
   ]
  },
  {
   "cell_type": "code",
   "execution_count": 7,
   "metadata": {},
   "outputs": [
    {
     "name": "stdout",
     "output_type": "stream",
     "text": [
      "Test cost after 10 epochs: 1.48785\n",
      "Test cost after 20 epochs: 1.47719\n",
      "Test cost after 30 epochs: 1.4711\n",
      "Test cost after 40 epochs: 1.4696\n",
      "Test cost after 50 epochs: 1.4694\n",
      "Test cost after 60 epochs: 1.46611\n",
      "Test cost after 70 epochs: 1.466\n",
      "Test cost after 80 epochs: 1.46528\n",
      "Test cost after 90 epochs: 1.46535\n",
      "Test cost after 100 epochs: 1.46466\n"
     ]
    },
    {
     "data": {
      "image/png": "[encoded data removed]",
      "text/plain": [
       "<matplotlib.figure.Figure at 0x7f31852f8b38>"
      ]
     },
     "metadata": {},
     "output_type": "display_data"
    },
    {
     "name": "stdout",
     "output_type": "stream",
     "text": [
      "Train Accuracy: 0.9959\n",
      "Test Accuracy: 0.9796\n"
     ]
    }
   ],
   "source": [
    "num_epochs = 100\n",
    "batch_size = 500\n",
    "init = tf.global_variables_initializer()\n",
    "\n",
    "with tf.Session() as sess:\n",
    "    sess.run(init)\n",
    "    \n",
    "    train_costs = []\n",
    "    test_costs = []\n",
    "    \n",
    "    for epoch in range(num_epochs):\n",
    "        for i in range(0, 50000, batch_size):\n",
    "            sess.run(optimizer, feed_dict={X:X_train_flatten[i:i+batch_size], Y:y_train[i: i+batch_size]})\n",
    "        train_costs.append(sess.run(cost, feed_dict={X:X_train_flatten, Y:y_train}))\n",
    "        test_costs.append(sess.run(cost, feed_dict={X:X_test_flatten, Y:y_test}))\n",
    "        if epoch%10 == 9:\n",
    "            print(\"Test cost after \" + str(epoch+1)+ \" epochs: \"+ str(train_costs[-1]))\n",
    "    \n",
    "    iterations = list(range(num_epochs))\n",
    "    train_plot, = plt.plot(iterations, train_costs, label='Train')\n",
    "    test_plot, = plt.plot(iterations, test_costs, label='Test')\n",
    "    plt.ylabel('Train cost')\n",
    "    plt.xlabel('Iterations')\n",
    "    plt.legend([train_plot, test_plot],['Training', 'Testing'])\n",
    "    plt.show()\n",
    "    \n",
    "    # Calculate the correct predictions\n",
    "    predict_op = tf.argmax(Z3, 1)\n",
    "    correct_prediction = tf.equal(predict_op, tf.argmax(Y, 1))\n",
    "\n",
    "    # Calculate accuracy on the test set\n",
    "    accuracy = tf.reduce_mean(tf.cast(correct_prediction, \"float\"))\n",
    "\n",
    "    print (\"Train Accuracy:\", accuracy.eval({X: X_train_flatten, Y: y_train}))\n",
    "    print (\"Test Accuracy:\", accuracy.eval({X: X_test_flatten, Y: y_test}))"
   ]
  },
  {
   "cell_type": "code",
   "execution_count": null,
   "metadata": {
    "collapsed": true
   },
   "outputs": [],
   "source": []
  }
 ],
 "metadata": {
  "kernelspec": {
   "display_name": "Python 3",
   "language": "python",
   "name": "python3"
  },
  "language_info": {
   "codemirror_mode": {
    "name": "ipython",
    "version": 3
   },
   "file_extension": ".py",
   "mimetype": "text/x-python",
   "name": "python",
   "nbconvert_exporter": "python",
   "pygments_lexer": "ipython3",
   "version": "3.7.1"
  }
 },
 "nbformat": 4,
 "nbformat_minor": 2
}
