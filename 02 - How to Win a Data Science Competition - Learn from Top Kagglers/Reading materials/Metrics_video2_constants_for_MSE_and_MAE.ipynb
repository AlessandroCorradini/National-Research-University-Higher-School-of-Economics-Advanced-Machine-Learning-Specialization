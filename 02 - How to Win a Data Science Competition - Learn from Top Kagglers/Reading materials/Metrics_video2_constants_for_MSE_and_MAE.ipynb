{
 "cells": [
  {
   "cell_type": "markdown",
   "metadata": {},
   "source": [
    "This document briefly explains why target mean value minimizes MSE error and why target median minimizes MAE."
   ]
  },
  {
   "cell_type": "markdown",
   "metadata": {},
   "source": [
    "Suppose we have a dataset \n",
    "$$\n",
    "\\{(x_i,y_i)\\}_{i=1}^N\n",
    "$$ \n",
    "\n",
    "Basically, we are given pairs: features $x_i$ and corresponding target value $y_i \\in \\mathbb{R}$.  \n",
    "\n",
    "We will denote vector of targets as $y \\in \\mathbb{R}^N$, such that $y_i$ is target for object $x_i$. Similarly,  $\\hat y \\in \\mathbb{R}$ denotes predictions for the objects: $\\hat y_i$ for object $x_i$.    "
   ]
  },
  {
   "cell_type": "markdown",
   "metadata": {},
   "source": [
    "# MSE"
   ]
  },
  {
   "cell_type": "markdown",
   "metadata": {},
   "source": [
    "Let's start with MSE loss. It is defined as follows: \n",
    "\n",
    "$$ \n",
    "MSE(y, \\hat y) = \\frac{1}{N} \\sum_{i=1}^N (\\hat y_i - y_i)^2\n",
    "$$\n",
    "\n",
    "Now, the question is: if predictions for all the objects were the same and equal to $\\alpha$:  $\\hat y_i = \\alpha$, what value of $\\alpha$ would minimize MSE error? \n",
    "\n",
    "$$ \n",
    "\\min_{\\alpha} f(\\alpha) = \\frac{1}{N} \\sum_{i=1}^N (\\alpha - y_i)^2\n",
    "$$\n",
    "\n",
    "The function $f(\\alpha)$, that we want to minimize is smooth with respect to $\\alpha$. A required condition for $\\alpha^*$ to be a local optima is \n",
    "$$\n",
    "\\frac{d f}{d \\alpha}\\bigg|_{\\alpha=\\alpha^*} = 0\\, .\n",
    "$$"
   ]
  },
  {
   "cell_type": "markdown",
   "metadata": {},
   "source": [
    "Let's find the points, that satisfy the condition:\n",
    "\n",
    "$$\n",
    "\\frac{d f}{d \\alpha}\\bigg|_{\\alpha=\\alpha^*} = \\frac{2}{N} \\sum_{i=1}^N (\\alpha^* - y_i) = 0\n",
    "$$\n",
    "\n",
    "$$\n",
    "\\frac{2}{N} \\sum_{i=1}^N \\alpha^* - \\frac{2}{N} \\sum_{i=1}^N y_i = 0\n",
    "$$\n",
    "\n",
    "$$\n",
    " \\alpha^* - \\frac{1}{N} \\sum_{i=1}^N y_i = 0\n",
    "$$\n",
    "\n",
    "And finally:\n",
    "$$\n",
    " \\alpha^* =  \\frac{1}{N} \\sum_{i=1}^N y_i\n",
    "$$\n",
    "\n",
    "Since second derivative $\\frac{d^2 f}{d \\alpha^2}$ is positive at point $\\alpha^*$, then what we found is local minima.\n",
    "\n",
    "So, that is how it is possible to find, that optial constan for MSE metric is target mean value."
   ]
  },
  {
   "cell_type": "markdown",
   "metadata": {},
   "source": [
    "# MAE"
   ]
  },
  {
   "cell_type": "markdown",
   "metadata": {},
   "source": [
    "Similarly to the way we found optimal constant for MSE loss, we can find it for MAE."
   ]
  },
  {
   "cell_type": "markdown",
   "metadata": {},
   "source": [
    "$$ \n",
    "MAE(y, \\hat y) = \\frac{1}{N} \\sum_{i=1}^N |\\hat y_i - y_i|\n",
    "$$"
   ]
  },
  {
   "cell_type": "markdown",
   "metadata": {},
   "source": [
    "$$ \n",
    "\\min_{\\alpha} f(\\alpha) = \\frac{1}{N} \\sum_{i=1}^N |\\alpha - y_i|\n",
    "$$"
   ]
  },
  {
   "cell_type": "markdown",
   "metadata": {},
   "source": [
    "Recall that $ \\frac{\\partial |x|}{dx} = sign(x)$, where $sign$ stands for [signum function](https://en.wikipedia.org/wiki/Sign_function) . Thus\n",
    "\n",
    "\n",
    "$$\n",
    "\\frac{d f}{d \\alpha}\\bigg|_{\\alpha=\\alpha^*} = \\frac{1}{N} \\sum_{i=1}^N sign(\\alpha^* - y_i) = 0\n",
    "$$"
   ]
  },
  {
   "cell_type": "markdown",
   "metadata": {},
   "source": [
    "So we need to find such $\\alpha^*$ that\n",
    "\n",
    "$$\n",
    "g(\\alpha^*) = \\sum_{i=1}^N sign(\\alpha^* - y_i) = 0\n",
    "$$\n",
    "\n",
    "Note that $g(\\alpha^*)$ is piecewise-constant non-decreasing function. $g(\\alpha^*)=-1$ for all calues of $\\alpha$ less then mimimum $y_i$ and $g(\\alpha^*)=1$ for $\\alpha > \\max_i y_i$. The function \"jumps\" by $\\frac{2}{N}$ at every point $y_i$. Here is an example, how this function looks like for $y = [-0.5, 0, 1, 3, 3.4]$:"
   ]
  },
  {
   "cell_type": "markdown",
   "metadata": {},
   "source": [
    "<img src=\"data:image/png;base64,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\">"
   ]
  },
  {
   "cell_type": "markdown",
   "metadata": {},
   "source": [
    "Basically there are $N$ jumps of the same size, starting from $-1$ and ending at $1$. It is clear, that you need to do about $\\frac{N}{2}$ jumps to hit zero. And that happens exactly at median value of the target vector $g(median(y))=0$. We should be careful and separate two cases: when there are even number of points and odd, but the intuition remains the same. "
   ]
  }
 ],
 "metadata": {
  "kernelspec": {
   "display_name": "Python 3",
   "language": "python",
   "name": "python3"
  },
  "language_info": {
   "codemirror_mode": {
    "name": "ipython",
    "version": 3
   },
   "file_extension": ".py",
   "mimetype": "text/x-python",
   "name": "python",
   "nbconvert_exporter": "python",
   "pygments_lexer": "ipython3",
   "version": "3.6.0"
  }
 },
 "nbformat": 4,
 "nbformat_minor": 2
}
