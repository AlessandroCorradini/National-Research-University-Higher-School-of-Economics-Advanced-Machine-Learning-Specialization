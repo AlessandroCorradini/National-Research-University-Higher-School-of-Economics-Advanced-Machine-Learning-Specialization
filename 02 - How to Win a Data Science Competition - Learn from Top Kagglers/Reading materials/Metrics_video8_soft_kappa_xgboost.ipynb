{
 "cells": [
  {
   "cell_type": "markdown",
   "metadata": {},
   "source": [
    "# Soft Kappa objective"
   ]
  },
  {
   "cell_type": "markdown",
   "metadata": {},
   "source": [
    "In this notebook you can find an implementation for \"soft kappa\" loss and objective from [this paper](https://arxiv.org/abs/1509.07107). "
   ]
  },
  {
   "cell_type": "code",
   "execution_count": 1,
   "metadata": {
    "collapsed": true
   },
   "outputs": [],
   "source": [
    "def soft_kappa_grad_hess(y, p):\n",
    "    '''\n",
    "        Returns first and second derivatives of the objective with respect to predictions `p`. \n",
    "        `y` is a vector of corresponding target labels.  \n",
    "    '''\n",
    "    norm = p.dot(p) + y.dot(y)\n",
    "    \n",
    "    grad = -2 * y / norm + 4 * p * np.dot(y, p) / (norm ** 2)\n",
    "    hess = 8 * p * y / (norm ** 2) + 4 * np.dot(y, p) / (norm ** 2)  - (16 * p ** 2 * np.dot(y, p)) / (norm ** 3)\n",
    "    return grad, hess"
   ]
  },
  {
   "cell_type": "code",
   "execution_count": 2,
   "metadata": {
    "collapsed": true
   },
   "outputs": [],
   "source": [
    "def soft_kappa(preds, dtrain):\n",
    "    '''\n",
    "        Having predictions `preds` and targets `dtrain.get_label()` this function coumputes soft kappa loss.\n",
    "        NOTE, that it assumes `mean(target) = 0`.\n",
    "        \n",
    "    '''\n",
    "    target = dtrain.get_label()\n",
    "    return 'kappa' ,  -2 * target.dot(preds) / (target.dot(target) + preds.dot(preds))"
   ]
  }
 ],
 "metadata": {
  "kernelspec": {
   "display_name": "Python 3",
   "language": "python",
   "name": "python3"
  },
  "language_info": {
   "codemirror_mode": {
    "name": "ipython",
    "version": 3
   },
   "file_extension": ".py",
   "mimetype": "text/x-python",
   "name": "python",
   "nbconvert_exporter": "python",
   "pygments_lexer": "ipython3",
   "version": "3.6.0"
  }
 },
 "nbformat": 4,
 "nbformat_minor": 1
}
